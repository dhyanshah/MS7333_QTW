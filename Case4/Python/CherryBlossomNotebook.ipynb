{
 "cells": [
  {
   "cell_type": "code",
   "execution_count": 210,
   "metadata": {},
   "outputs": [],
   "source": [
    "%matplotlib inline\n",
    "\n",
    "import csv\n",
    "import os\n",
    "import requests\n",
    "import warnings\n",
    "import matplotlib.pyplot as plt\n",
    "import numpy as np\n",
    "import pandas as pd\n",
    "import seaborn as sns\n",
    "from bs4 import BeautifulSoup\n",
    "from datetime import datetime\n",
    "from requests import get\n",
    "from urllib.request import urlopen\n",
    "\n",
    "sns.set(color_codes=True)"
   ]
  },
  {
   "cell_type": "code",
   "execution_count": 211,
   "metadata": {},
   "outputs": [
    {
     "data": {
      "text/plain": [
       "'C:\\\\Users\\\\Akuma2099\\\\MachineLearning\\\\QTW_Project_2'"
      ]
     },
     "execution_count": 211,
     "metadata": {},
     "output_type": "execute_result"
    }
   ],
   "source": [
    "os.getcwd()"
   ]
  },
  {
   "cell_type": "markdown",
   "metadata": {},
   "source": [
    "# Introduction\n",
    "\n",
    "The Credit Union Cherry Blossom Ten Mile Run is an annual run held in Washington, D.C. that brings together credit unions from across the country with a shared vision of fund raising and helping children. The proceeds from donations, registration fees, and merchandise sales from the event support Children’s Hospitals that belong to the non-profit Children's Miracle Network.\n",
    "\n",
    "Since the innuagural run in 1973, hundreds of thousands of runners from around the world have participated in the event. The registration of each runners name, age, hometown, and race times provide an enormous trove of information regarding potential trends in the age and performance of runners over the years. The organizations website http://www.cherryblossom.org/ provides records of this data going back to 1999. This analysis will use web scraping to collect data from the website, inspect and clean the data, convert the data into a clean data frame, conduct exploratory data analysis and determine if ...        \n",
    "\n",
    "    "
   ]
  },
  {
   "cell_type": "markdown",
   "metadata": {},
   "source": [
    "# Data\n",
    "Data for this analysis was taken from the Credit Union Cherry Blossom Ten Mile Run sites searcheable results web page using the URL http://www.cballtimeresults.org/performances?division=Overall+Women&page=1&section=10M&sex=W&utf8=%E2%9C%93&year=1999 as our initial reference for our web scraping function.\n",
    "\n",
    "![title](CherryBlossom10M.png)"
   ]
  },
  {
   "cell_type": "markdown",
   "metadata": {},
   "source": [
    "Each page yielded only 20 runners and the number of female runners per year varied from 2,166 to 11,042, however from page to page the URL remained consistant making it relatively simple to iteratively cycle through the **page=** and **year=** variables of the URL. After an examination of the page source it was determined that the values: *\"Year\",\"Name\", \"Age\", \"Time\",\"Pace\",\"PiS/TiS\", \"Division\", \"PiD/TiD\", and \"Hometown\"* could be obtained for each runner. A CSV file was the created with the appropriate headers to store the scraped data."
   ]
  },
  {
   "cell_type": "code",
   "execution_count": 109,
   "metadata": {},
   "outputs": [],
   "source": [
    "#create outputfile\n",
    "outputFile = \"CherryBlossomWomens10M.csv\"\n",
    "\n",
    "#create headers\n",
    "file = open(\"CherryBlossomWomens10M.csv\", \"w\",encoding='utf8' )\n",
    "writer = csv.DictWriter(\n",
    "    file, fieldnames=[\"Year\",\"Name\", \"Age\", \"Time\",\"Pace\",\"PiS/TiS\", \"Division\", \"PiD/TiD\", \"Hometown\", 'State','Blank1','Blank2',])\n",
    "writer.writeheader()\n",
    "file.close()"
   ]
  },
  {
   "cell_type": "code",
   "execution_count": 108,
   "metadata": {},
   "outputs": [],
   "source": [
    "#split the marathon url into two parts to format page number and year\n",
    "websiteURLpart1 = \"http://www.cballtimeresults.org/performances?division=Overall+Women&page=\"\n",
    "websiteURLpart2 = \"&section=10M&sex=W&utf8=%E2%9C%93&year=\""
   ]
  },
  {
   "cell_type": "markdown",
   "metadata": {},
   "source": [
    "Through an examination of the page source it was determined that 'tr class='print-link-color' indicated entries for a new runner and two functions where created. The first function would update the URL **page=** and **year=** and the second function would parse the URL calling the first function to update the URL when no more 'tr class='print-link-color' entries where found on the page and update the year when the end page was reached.   "
   ]
  },
  {
   "cell_type": "code",
   "execution_count": 110,
   "metadata": {},
   "outputs": [],
   "source": [
    "#create url function to format the url that is then passed to requests to get the html page\n",
    "def createURL(url1, url2, pageNum, year):\n",
    "    return(url1 + str(pageNum) + url2 + str(year))\n",
    "\n",
    "#create parsing function that uses createURL to iterate through pages\n",
    "def getRunners(url1, url2):\n",
    "    year = 1999\n",
    "    #iterate through all years from 1999 to 2018\n",
    "    while(year < 2019):\n",
    "        pageNum = 1\n",
    "        morePages = True\n",
    "        #iterate through all pages in each year\n",
    "        while(morePages):\n",
    "            websiteURL = createURL(url1, url2, pageNum, year)\n",
    "            with open(outputFile, \"a\", encoding='utf8') as f:\n",
    "                #requests return the html of the page in a raw object\n",
    "                page = requests.get(websiteURL)\n",
    "                #Beautiful Soup parses the requests object into a better formatted html object\n",
    "                soup = BeautifulSoup(page.content, \"html.parser\")\n",
    "                newLine = \"\"\n",
    "                contents = soup.find_all(\"tr\", class_=\"print-link-color\")\n",
    "                #check if the table is empty, if so, go to the next year\n",
    "                if not contents:\n",
    "                    morePages = False\n",
    "                    year += 1\n",
    "                #if the table has content\n",
    "                else:\n",
    "                    #iterate through all of the table rows that have class=print-link-color\n",
    "                    for tr in soup.find_all(\"tr\", class_=\"print-link-color\"):\n",
    "                        #add the previously parsed line to the file\n",
    "                        if(newLine != \"\"):\n",
    "                            f.write(newLine.rstrip(\",\"))\n",
    "                        newLine = \"\"\n",
    "                        f.write(\"\\n\")\n",
    "                        firsta = True\n",
    "                        for a in tr.select(\"td a\"):\n",
    "                            if(firsta):    \n",
    "                                f.write(a.getText().split()[0])\n",
    "                                firsta = False\n",
    "                            else:\n",
    "                                f.write(a.getText())\n",
    "                            f.write(\",\")\n",
    "                    #once all of the table rows for this page are parsed, go to the next page\n",
    "                    pageNum += 1\n",
    "                    f.close()                              \n",
    "    return(True)"
   ]
  },
  {
   "cell_type": "code",
   "execution_count": 111,
   "metadata": {},
   "outputs": [
    {
     "data": {
      "text/plain": [
       "True"
      ]
     },
     "execution_count": 111,
     "metadata": {},
     "output_type": "execute_result"
    }
   ],
   "source": [
    "#run getRunners function to scrape website\n",
    "getRunners(websiteURLpart1, websiteURLpart2)"
   ]
  },
  {
   "cell_type": "markdown",
   "metadata": {},
   "source": [
    "# Data Preperation\n"
   ]
  },
  {
   "cell_type": "code",
   "execution_count": 112,
   "metadata": {},
   "outputs": [],
   "source": [
    "df = pd.read_csv('CherryBlossomWomens10M.csv', header=0)"
   ]
  },
  {
   "cell_type": "code",
   "execution_count": 113,
   "metadata": {},
   "outputs": [
    {
     "data": {
      "text/plain": [
       "(138265, 12)"
      ]
     },
     "execution_count": 113,
     "metadata": {},
     "output_type": "execute_result"
    }
   ],
   "source": [
    "df.shape"
   ]
  },
  {
   "cell_type": "code",
   "execution_count": 213,
   "metadata": {},
   "outputs": [
    {
     "data": {
      "text/html": [
       "<div>\n",
       "<style scoped>\n",
       "    .dataframe tbody tr th:only-of-type {\n",
       "        vertical-align: middle;\n",
       "    }\n",
       "\n",
       "    .dataframe tbody tr th {\n",
       "        vertical-align: top;\n",
       "    }\n",
       "\n",
       "    .dataframe thead th {\n",
       "        text-align: right;\n",
       "    }\n",
       "</style>\n",
       "<table border=\"1\" class=\"dataframe\">\n",
       "  <thead>\n",
       "    <tr style=\"text-align: right;\">\n",
       "      <th></th>\n",
       "      <th>Year</th>\n",
       "      <th>Name</th>\n",
       "      <th>Age</th>\n",
       "      <th>Time</th>\n",
       "      <th>Pace</th>\n",
       "      <th>PiS/TiS</th>\n",
       "      <th>Division</th>\n",
       "      <th>PiD/TiD</th>\n",
       "      <th>Hometown</th>\n",
       "      <th>State</th>\n",
       "      <th>Blank1</th>\n",
       "      <th>Blank2</th>\n",
       "    </tr>\n",
       "  </thead>\n",
       "  <tbody>\n",
       "    <tr>\n",
       "      <th>0</th>\n",
       "      <td>1999</td>\n",
       "      <td>Jane Omoro (W)</td>\n",
       "      <td>26</td>\n",
       "      <td>0:53:37</td>\n",
       "      <td>5:22</td>\n",
       "      <td>1/2358</td>\n",
       "      <td>W2529</td>\n",
       "      <td>1/559</td>\n",
       "      <td>Kenya</td>\n",
       "      <td>NaN</td>\n",
       "      <td>NaN</td>\n",
       "      <td>NaN</td>\n",
       "    </tr>\n",
       "    <tr>\n",
       "      <th>1</th>\n",
       "      <td>1999</td>\n",
       "      <td>Jane Ngotho (W)</td>\n",
       "      <td>29</td>\n",
       "      <td>0:53:38</td>\n",
       "      <td>5:22</td>\n",
       "      <td>2/2358</td>\n",
       "      <td>W2529</td>\n",
       "      <td>2/559</td>\n",
       "      <td>Kenya</td>\n",
       "      <td>NaN</td>\n",
       "      <td>NaN</td>\n",
       "      <td>NaN</td>\n",
       "    </tr>\n",
       "    <tr>\n",
       "      <th>2</th>\n",
       "      <td>1999</td>\n",
       "      <td>Lidiya Grigoryeva (W)</td>\n",
       "      <td>NR</td>\n",
       "      <td>0:53:40</td>\n",
       "      <td>5:22</td>\n",
       "      <td>3/2358</td>\n",
       "      <td>NR</td>\n",
       "      <td>NR</td>\n",
       "      <td>Russia</td>\n",
       "      <td>NaN</td>\n",
       "      <td>NaN</td>\n",
       "      <td>NaN</td>\n",
       "    </tr>\n",
       "    <tr>\n",
       "      <th>3</th>\n",
       "      <td>1999</td>\n",
       "      <td>Eunice Sagero (W)</td>\n",
       "      <td>20</td>\n",
       "      <td>0:53:55</td>\n",
       "      <td>5:24</td>\n",
       "      <td>4/2358</td>\n",
       "      <td>W2024</td>\n",
       "      <td>1/196</td>\n",
       "      <td>Kenya</td>\n",
       "      <td>NaN</td>\n",
       "      <td>NaN</td>\n",
       "      <td>NaN</td>\n",
       "    </tr>\n",
       "    <tr>\n",
       "      <th>4</th>\n",
       "      <td>1999</td>\n",
       "      <td>Alla Zhilyayeva (W)</td>\n",
       "      <td>29</td>\n",
       "      <td>0:54:08</td>\n",
       "      <td>5:25</td>\n",
       "      <td>5/2358</td>\n",
       "      <td>W2529</td>\n",
       "      <td>3/559</td>\n",
       "      <td>Russia</td>\n",
       "      <td>NaN</td>\n",
       "      <td>NaN</td>\n",
       "      <td>NaN</td>\n",
       "    </tr>\n",
       "  </tbody>\n",
       "</table>\n",
       "</div>"
      ],
      "text/plain": [
       "   Year                   Name Age     Time  Pace PiS/TiS Division PiD/TiD  \\\n",
       "0  1999         Jane Omoro (W)  26  0:53:37  5:22  1/2358    W2529   1/559   \n",
       "1  1999        Jane Ngotho (W)  29  0:53:38  5:22  2/2358    W2529   2/559   \n",
       "2  1999  Lidiya Grigoryeva (W)  NR  0:53:40  5:22  3/2358       NR      NR   \n",
       "3  1999      Eunice Sagero (W)  20  0:53:55  5:24  4/2358    W2024   1/196   \n",
       "4  1999    Alla Zhilyayeva (W)  29  0:54:08  5:25  5/2358    W2529   3/559   \n",
       "\n",
       "  Hometown State Blank1  Blank2  \n",
       "0    Kenya   NaN    NaN     NaN  \n",
       "1    Kenya   NaN    NaN     NaN  \n",
       "2   Russia   NaN    NaN     NaN  \n",
       "3    Kenya   NaN    NaN     NaN  \n",
       "4   Russia   NaN    NaN     NaN  "
      ]
     },
     "execution_count": 213,
     "metadata": {},
     "output_type": "execute_result"
    }
   ],
   "source": [
    "df.head(5)"
   ]
  },
  {
   "cell_type": "code",
   "execution_count": 214,
   "metadata": {},
   "outputs": [],
   "source": [
    "df1 = df.drop(['PiS/TiS', 'Division', 'PiD/TiD', 'Hometown', 'State','Blank1','Blank2'], axis=1)"
   ]
  },
  {
   "cell_type": "code",
   "execution_count": 215,
   "metadata": {},
   "outputs": [
    {
     "data": {
      "text/plain": [
       "(138265, 5)"
      ]
     },
     "execution_count": 215,
     "metadata": {},
     "output_type": "execute_result"
    }
   ],
   "source": [
    "df1.shape"
   ]
  },
  {
   "cell_type": "code",
   "execution_count": 216,
   "metadata": {},
   "outputs": [
    {
     "data": {
      "text/plain": [
       "20"
      ]
     },
     "execution_count": 216,
     "metadata": {},
     "output_type": "execute_result"
    }
   ],
   "source": [
    "df1['Age'].value_counts()['NR']"
   ]
  },
  {
   "cell_type": "code",
   "execution_count": 217,
   "metadata": {},
   "outputs": [],
   "source": [
    "df1 = df1[df1.Age != \"NR\"]"
   ]
  },
  {
   "cell_type": "code",
   "execution_count": 218,
   "metadata": {},
   "outputs": [
    {
     "data": {
      "text/plain": [
       "(138245, 5)"
      ]
     },
     "execution_count": 218,
     "metadata": {},
     "output_type": "execute_result"
    }
   ],
   "source": [
    "df1.shape"
   ]
  },
  {
   "cell_type": "code",
   "execution_count": 219,
   "metadata": {},
   "outputs": [
    {
     "data": {
      "text/html": [
       "<div>\n",
       "<style scoped>\n",
       "    .dataframe tbody tr th:only-of-type {\n",
       "        vertical-align: middle;\n",
       "    }\n",
       "\n",
       "    .dataframe tbody tr th {\n",
       "        vertical-align: top;\n",
       "    }\n",
       "\n",
       "    .dataframe thead th {\n",
       "        text-align: right;\n",
       "    }\n",
       "</style>\n",
       "<table border=\"1\" class=\"dataframe\">\n",
       "  <thead>\n",
       "    <tr style=\"text-align: right;\">\n",
       "      <th></th>\n",
       "      <th>Year</th>\n",
       "      <th>Name</th>\n",
       "      <th>Age</th>\n",
       "      <th>Time</th>\n",
       "      <th>Pace</th>\n",
       "    </tr>\n",
       "  </thead>\n",
       "  <tbody>\n",
       "    <tr>\n",
       "      <th>0</th>\n",
       "      <td>1999</td>\n",
       "      <td>Jane Omoro (W)</td>\n",
       "      <td>26</td>\n",
       "      <td>0:53:37</td>\n",
       "      <td>5:22</td>\n",
       "    </tr>\n",
       "    <tr>\n",
       "      <th>1</th>\n",
       "      <td>1999</td>\n",
       "      <td>Jane Ngotho (W)</td>\n",
       "      <td>29</td>\n",
       "      <td>0:53:38</td>\n",
       "      <td>5:22</td>\n",
       "    </tr>\n",
       "    <tr>\n",
       "      <th>3</th>\n",
       "      <td>1999</td>\n",
       "      <td>Eunice Sagero (W)</td>\n",
       "      <td>20</td>\n",
       "      <td>0:53:55</td>\n",
       "      <td>5:24</td>\n",
       "    </tr>\n",
       "    <tr>\n",
       "      <th>4</th>\n",
       "      <td>1999</td>\n",
       "      <td>Alla Zhilyayeva (W)</td>\n",
       "      <td>29</td>\n",
       "      <td>0:54:08</td>\n",
       "      <td>5:25</td>\n",
       "    </tr>\n",
       "    <tr>\n",
       "      <th>5</th>\n",
       "      <td>1999</td>\n",
       "      <td>Teresa Wanjiku (W)</td>\n",
       "      <td>24</td>\n",
       "      <td>0:54:10</td>\n",
       "      <td>5:25</td>\n",
       "    </tr>\n",
       "  </tbody>\n",
       "</table>\n",
       "</div>"
      ],
      "text/plain": [
       "   Year                 Name Age     Time  Pace\n",
       "0  1999       Jane Omoro (W)  26  0:53:37  5:22\n",
       "1  1999      Jane Ngotho (W)  29  0:53:38  5:22\n",
       "3  1999    Eunice Sagero (W)  20  0:53:55  5:24\n",
       "4  1999  Alla Zhilyayeva (W)  29  0:54:08  5:25\n",
       "5  1999   Teresa Wanjiku (W)  24  0:54:10  5:25"
      ]
     },
     "execution_count": 219,
     "metadata": {},
     "output_type": "execute_result"
    }
   ],
   "source": [
    "df1.head(5)"
   ]
  },
  {
   "cell_type": "code",
   "execution_count": 220,
   "metadata": {},
   "outputs": [
    {
     "name": "stdout",
     "output_type": "stream",
     "text": [
      "Year    0\n",
      "Name    0\n",
      "Age     0\n",
      "Time    0\n",
      "Pace    0\n",
      "dtype: int64\n"
     ]
    }
   ],
   "source": [
    "print(df1.isnull().sum())"
   ]
  },
  {
   "cell_type": "code",
   "execution_count": 221,
   "metadata": {},
   "outputs": [
    {
     "data": {
      "text/plain": [
       "Year     int64\n",
       "Name    object\n",
       "Age     object\n",
       "Time    object\n",
       "Pace    object\n",
       "dtype: object"
      ]
     },
     "execution_count": 221,
     "metadata": {},
     "output_type": "execute_result"
    }
   ],
   "source": [
    "df1.dtypes"
   ]
  },
  {
   "cell_type": "code",
   "execution_count": 222,
   "metadata": {},
   "outputs": [],
   "source": [
    "df1['Age'] = df1['Age'].astype(str).astype(int)\n",
    "df1['Pace'] = pd.to_datetime(df1['Pace'], format='%M:%S').dt.time\n",
    "#df1['Time'] = pd.to_datetime(df1['Time'], format='%H:%M:%S').dt.time"
   ]
  },
  {
   "cell_type": "code",
   "execution_count": 223,
   "metadata": {},
   "outputs": [
    {
     "data": {
      "text/html": [
       "<div>\n",
       "<style scoped>\n",
       "    .dataframe tbody tr th:only-of-type {\n",
       "        vertical-align: middle;\n",
       "    }\n",
       "\n",
       "    .dataframe tbody tr th {\n",
       "        vertical-align: top;\n",
       "    }\n",
       "\n",
       "    .dataframe thead th {\n",
       "        text-align: right;\n",
       "    }\n",
       "</style>\n",
       "<table border=\"1\" class=\"dataframe\">\n",
       "  <thead>\n",
       "    <tr style=\"text-align: right;\">\n",
       "      <th></th>\n",
       "      <th>Year</th>\n",
       "      <th>Name</th>\n",
       "      <th>Age</th>\n",
       "      <th>Time</th>\n",
       "      <th>Pace</th>\n",
       "    </tr>\n",
       "  </thead>\n",
       "  <tbody>\n",
       "    <tr>\n",
       "      <th>0</th>\n",
       "      <td>1999</td>\n",
       "      <td>Jane Omoro (W)</td>\n",
       "      <td>26</td>\n",
       "      <td>0:53:37</td>\n",
       "      <td>00:05:22</td>\n",
       "    </tr>\n",
       "    <tr>\n",
       "      <th>1</th>\n",
       "      <td>1999</td>\n",
       "      <td>Jane Ngotho (W)</td>\n",
       "      <td>29</td>\n",
       "      <td>0:53:38</td>\n",
       "      <td>00:05:22</td>\n",
       "    </tr>\n",
       "    <tr>\n",
       "      <th>3</th>\n",
       "      <td>1999</td>\n",
       "      <td>Eunice Sagero (W)</td>\n",
       "      <td>20</td>\n",
       "      <td>0:53:55</td>\n",
       "      <td>00:05:24</td>\n",
       "    </tr>\n",
       "    <tr>\n",
       "      <th>4</th>\n",
       "      <td>1999</td>\n",
       "      <td>Alla Zhilyayeva (W)</td>\n",
       "      <td>29</td>\n",
       "      <td>0:54:08</td>\n",
       "      <td>00:05:25</td>\n",
       "    </tr>\n",
       "    <tr>\n",
       "      <th>5</th>\n",
       "      <td>1999</td>\n",
       "      <td>Teresa Wanjiku (W)</td>\n",
       "      <td>24</td>\n",
       "      <td>0:54:10</td>\n",
       "      <td>00:05:25</td>\n",
       "    </tr>\n",
       "  </tbody>\n",
       "</table>\n",
       "</div>"
      ],
      "text/plain": [
       "   Year                 Name  Age     Time      Pace\n",
       "0  1999       Jane Omoro (W)   26  0:53:37  00:05:22\n",
       "1  1999      Jane Ngotho (W)   29  0:53:38  00:05:22\n",
       "3  1999    Eunice Sagero (W)   20  0:53:55  00:05:24\n",
       "4  1999  Alla Zhilyayeva (W)   29  0:54:08  00:05:25\n",
       "5  1999   Teresa Wanjiku (W)   24  0:54:10  00:05:25"
      ]
     },
     "execution_count": 223,
     "metadata": {},
     "output_type": "execute_result"
    }
   ],
   "source": [
    "df1.head(5)"
   ]
  },
  {
   "cell_type": "code",
   "execution_count": 224,
   "metadata": {},
   "outputs": [],
   "source": [
    "df1.to_csv ('CherryBlossomWomens10MTidy.csv', index = False, header=True)"
   ]
  },
  {
   "cell_type": "markdown",
   "metadata": {},
   "source": [
    "# Exploratory Data Analysis"
   ]
  },
  {
   "cell_type": "code",
   "execution_count": 238,
   "metadata": {},
   "outputs": [
    {
     "data": {
      "text/html": [
       "<div>\n",
       "<style scoped>\n",
       "    .dataframe tbody tr th:only-of-type {\n",
       "        vertical-align: middle;\n",
       "    }\n",
       "\n",
       "    .dataframe tbody tr th {\n",
       "        vertical-align: top;\n",
       "    }\n",
       "\n",
       "    .dataframe thead th {\n",
       "        text-align: right;\n",
       "    }\n",
       "</style>\n",
       "<table border=\"1\" class=\"dataframe\">\n",
       "  <thead>\n",
       "    <tr style=\"text-align: right;\">\n",
       "      <th></th>\n",
       "      <th>Age</th>\n",
       "    </tr>\n",
       "  </thead>\n",
       "  <tbody>\n",
       "    <tr>\n",
       "      <th>count</th>\n",
       "      <td>86169.000000</td>\n",
       "    </tr>\n",
       "    <tr>\n",
       "      <th>mean</th>\n",
       "      <td>33.919820</td>\n",
       "    </tr>\n",
       "    <tr>\n",
       "      <th>std</th>\n",
       "      <td>9.228929</td>\n",
       "    </tr>\n",
       "    <tr>\n",
       "      <th>min</th>\n",
       "      <td>7.000000</td>\n",
       "    </tr>\n",
       "    <tr>\n",
       "      <th>25%</th>\n",
       "      <td>27.000000</td>\n",
       "    </tr>\n",
       "    <tr>\n",
       "      <th>50%</th>\n",
       "      <td>32.000000</td>\n",
       "    </tr>\n",
       "    <tr>\n",
       "      <th>75%</th>\n",
       "      <td>39.000000</td>\n",
       "    </tr>\n",
       "    <tr>\n",
       "      <th>max</th>\n",
       "      <td>87.000000</td>\n",
       "    </tr>\n",
       "  </tbody>\n",
       "</table>\n",
       "</div>"
      ],
      "text/plain": [
       "                Age\n",
       "count  86169.000000\n",
       "mean      33.919820\n",
       "std        9.228929\n",
       "min        7.000000\n",
       "25%       27.000000\n",
       "50%       32.000000\n",
       "75%       39.000000\n",
       "max       87.000000"
      ]
     },
     "execution_count": 238,
     "metadata": {},
     "output_type": "execute_result"
    }
   ],
   "source": [
    "df1 = df1[df1.Year < 2014]\n",
    "df1[[\"Age\"]].describe() "
   ]
  },
  {
   "cell_type": "code",
   "execution_count": 277,
   "metadata": {},
   "outputs": [
    {
     "data": {
      "image/png": "[encoded data removed]",
      "text/plain": [
       "<Figure size 720x504 with 1 Axes>"
      ]
     },
     "metadata": {},
     "output_type": "display_data"
    }
   ],
   "source": [
    "plt.figure(figsize=(10,7))\n",
    "sns.set(style=\"ticks\", palette=\"pastel\")\n",
    "sns.boxplot(x=\"Year\", y=\"Age\", data=df1)\n",
    "sns.despine(offset=20, trim=True)"
   ]
  },
  {
   "cell_type": "code",
   "execution_count": 279,
   "metadata": {},
   "outputs": [
    {
     "data": {
      "text/plain": [
       "<matplotlib.axes._subplots.AxesSubplot at 0x2362f3c8>"
      ]
     },
     "execution_count": 279,
     "metadata": {},
     "output_type": "execute_result"
    },
    {
     "data": {
      "image/png": "[encoded data removed]",
      "text/plain": [
       "<Figure size 720x360 with 1 Axes>"
      ]
     },
     "metadata": {},
     "output_type": "display_data"
    }
   ],
   "source": [
    "plt.figure(figsize=(10,5))\n",
    "sns.boxplot(x=df1[\"Age\"])"
   ]
  },
  {
   "cell_type": "code",
   "execution_count": 282,
   "metadata": {},
   "outputs": [
    {
     "data": {
      "text/plain": [
       "Text(0.5,1,'Age Distribution')"
      ]
     },
     "execution_count": 282,
     "metadata": {},
     "output_type": "execute_result"
    },
    {
     "data": {
      "image/png": "[encoded data removed]",
      "text/plain": [
       "<Figure size 720x360 with 1 Axes>"
      ]
     },
     "metadata": {},
     "output_type": "display_data"
    }
   ],
   "source": [
    "plt.figure(figsize=(10,5))\n",
    "sns.distplot(df1['Age'])\n",
    "plt.title(\"Age Distribution\")"
   ]
  },
  {
   "cell_type": "code",
   "execution_count": 281,
   "metadata": {},
   "outputs": [
    {
     "data": {
      "text/plain": [
       "Text(0,0.5,'Runners')"
      ]
     },
     "execution_count": 281,
     "metadata": {},
     "output_type": "execute_result"
    },
    {
     "data": {
      "image/png": "[encoded data removed]",
      "text/plain": [
       "<Figure size 720x360 with 1 Axes>"
      ]
     },
     "metadata": {},
     "output_type": "display_data"
    }
   ],
   "source": [
    "df1.Year.value_counts().nsmallest(15).plot(kind='bar', figsize=(10,5))\n",
    "plt.title(\"Runner Distribution by Year\")\n",
    "plt.ylabel(\"Runners\")"
   ]
  },
  {
   "cell_type": "code",
   "execution_count": 287,
   "metadata": {},
   "outputs": [
    {
     "data": {
      "text/html": [
       "<div>\n",
       "<style scoped>\n",
       "    .dataframe tbody tr th:only-of-type {\n",
       "        vertical-align: middle;\n",
       "    }\n",
       "\n",
       "    .dataframe tbody tr th {\n",
       "        vertical-align: top;\n",
       "    }\n",
       "\n",
       "    .dataframe thead th {\n",
       "        text-align: right;\n",
       "    }\n",
       "</style>\n",
       "<table border=\"1\" class=\"dataframe\">\n",
       "  <thead>\n",
       "    <tr style=\"text-align: right;\">\n",
       "      <th></th>\n",
       "      <th>Year</th>\n",
       "      <th>Age</th>\n",
       "    </tr>\n",
       "  </thead>\n",
       "  <tbody>\n",
       "    <tr>\n",
       "      <th>Year</th>\n",
       "      <td>1.000000</td>\n",
       "      <td>-0.033776</td>\n",
       "    </tr>\n",
       "    <tr>\n",
       "      <th>Age</th>\n",
       "      <td>-0.033776</td>\n",
       "      <td>1.000000</td>\n",
       "    </tr>\n",
       "  </tbody>\n",
       "</table>\n",
       "</div>"
      ],
      "text/plain": [
       "          Year       Age\n",
       "Year  1.000000 -0.033776\n",
       "Age  -0.033776  1.000000"
      ]
     },
     "execution_count": 287,
     "metadata": {},
     "output_type": "execute_result"
    },
    {
     "data": {
      "image/png": "[encoded data removed]",
      "text/plain": [
       "<Figure size 720x360 with 2 Axes>"
      ]
     },
     "metadata": {},
     "output_type": "display_data"
    }
   ],
   "source": [
    "plt.figure(figsize=(10,5))\n",
    "c= df1.corr()\n",
    "sns.heatmap(c,cmap='coolwarm',annot=True)\n",
    "c"
   ]
  },
  {
   "cell_type": "code",
   "execution_count": 230,
   "metadata": {},
   "outputs": [
    {
     "data": {
      "text/html": [
       "<div>\n",
       "<style scoped>\n",
       "    .dataframe tbody tr th:only-of-type {\n",
       "        vertical-align: middle;\n",
       "    }\n",
       "\n",
       "    .dataframe tbody tr th {\n",
       "        vertical-align: top;\n",
       "    }\n",
       "\n",
       "    .dataframe thead th {\n",
       "        text-align: right;\n",
       "    }\n",
       "</style>\n",
       "<table border=\"1\" class=\"dataframe\">\n",
       "  <thead>\n",
       "    <tr style=\"text-align: right;\">\n",
       "      <th></th>\n",
       "      <th>Pace</th>\n",
       "      <th>Time</th>\n",
       "    </tr>\n",
       "  </thead>\n",
       "  <tbody>\n",
       "    <tr>\n",
       "      <th>count</th>\n",
       "      <td>138245</td>\n",
       "      <td>138245</td>\n",
       "    </tr>\n",
       "    <tr>\n",
       "      <th>unique</th>\n",
       "      <td>680</td>\n",
       "      <td>9183</td>\n",
       "    </tr>\n",
       "    <tr>\n",
       "      <th>top</th>\n",
       "      <td>00:09:46</td>\n",
       "      <td>1:37:03</td>\n",
       "    </tr>\n",
       "    <tr>\n",
       "      <th>freq</th>\n",
       "      <td>696</td>\n",
       "      <td>85</td>\n",
       "    </tr>\n",
       "  </tbody>\n",
       "</table>\n",
       "</div>"
      ],
      "text/plain": [
       "            Pace     Time\n",
       "count     138245   138245\n",
       "unique       680     9183\n",
       "top     00:09:46  1:37:03\n",
       "freq         696       85"
      ]
     },
     "execution_count": 230,
     "metadata": {},
     "output_type": "execute_result"
    }
   ],
   "source": [
    "df1[[\"Pace\",\"Time\"]].describe()"
   ]
  },
  {
   "cell_type": "code",
   "execution_count": null,
   "metadata": {},
   "outputs": [],
   "source": []
  }
 ],
 "metadata": {
  "kernelspec": {
   "display_name": "Python 3",
   "language": "python",
   "name": "python3"
  },
  "language_info": {
   "codemirror_mode": {
    "name": "ipython",
    "version": 3
   },
   "file_extension": ".py",
   "mimetype": "text/x-python",
   "name": "python",
   "nbconvert_exporter": "python",
   "pygments_lexer": "ipython3",
   "version": "3.7.1"
  }
 },
 "nbformat": 4,
 "nbformat_minor": 2
}
