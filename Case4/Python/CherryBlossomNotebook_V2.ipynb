{
  "nbformat": 4,
  "nbformat_minor": 0,
  "metadata": {
    "kernelspec": {
      "display_name": "Python 3",
      "language": "python",
      "name": "python3"
    },
    "language_info": {
      "codemirror_mode": {
        "name": "ipython",
        "version": 3
      },
      "file_extension": ".py",
      "mimetype": "text/x-python",
      "name": "python",
      "nbconvert_exporter": "python",
      "pygments_lexer": "ipython3",
      "version": "3.7.1"
    },
    "colab": {
      "name": "CherryBlossomNotebook_V2.ipynb",
      "provenance": []
    }
  },
  "cells": [
    {
      "cell_type": "code",
      "metadata": {
        "id": "KvBJf_54d5L6",
        "colab_type": "code",
        "colab": {}
      },
      "source": [
        "%matplotlib inline\n",
        "\n",
        "import csv\n",
        "import os\n",
        "import requests\n",
        "import warnings\n",
        "import matplotlib.pyplot as plt\n",
        "import numpy as np\n",
        "import pandas as pd\n",
        "import pylab as py \n",
        "import scipy.stats as stats\n",
        "import seaborn as sns\n",
        "import statsmodels.api as sm\n",
        "from bs4 import BeautifulSoup\n",
        "from datetime import datetime\n",
        "from requests import get\n",
        "from sklearn.linear_model import LinearRegression\n",
        "from sklearn import preprocessing\n",
        "from statsmodels.formula.api import ols\n",
        "from statsmodels.stats.multicomp import pairwise_tukeyhsd\n",
        "from urllib.request import urlopen\n",
        "\n",
        "sns.set(color_codes=True)"
      ],
      "execution_count": 0,
      "outputs": []
    },
    {
      "cell_type": "code",
      "metadata": {
        "id": "GSwPfwbZd5L_",
        "colab_type": "code",
        "colab": {},
        "outputId": "7e642d9b-1487-45a5-c377-cc2782fc2977"
      },
      "source": [
        "os.getcwd()"
      ],
      "execution_count": 0,
      "outputs": [
        {
          "output_type": "execute_result",
          "data": {
            "text/plain": [
              "'C:\\\\Users\\\\Akuma2099\\\\MachineLearning\\\\QTW_Project_2'"
            ]
          },
          "metadata": {
            "tags": []
          },
          "execution_count": 2
        }
      ]
    },
    {
      "cell_type": "markdown",
      "metadata": {
        "id": "-5doo_ANd7bZ",
        "colab_type": "text"
      },
      "source": [
        "# Abstract\n",
        " \n",
        "The goal of this assignment has 3 key components. The first is to research and obtain the relevant data from a website by using web scraping techniques. The second is to clean, parse and organize the scaped data into a single dataframe. The finale step is to perform an exploratory and statistical analysis on the dataset to help answer a question. The dataset and website in question is The Credit Union Cherry Blossom Ten Mile Run and 5K Run-Walk race results for the female runners in the 10 miles races. The website cherryblossom.org contains race results from 1999 - 2019, however we will be focusing on the results from 1999 to 2012. Using this specific race and time frame, we are focusing on reviewing whether the age distribution changed among the female race contestants over the years. Using a series of EDA, linear regression, change point analysis, and Anova we found that there was some significant movement in age over the span of the years.\n"
      ]
    },
    {
      "cell_type": "markdown",
      "metadata": {
        "id": "BUhhwJNXd5MD",
        "colab_type": "text"
      },
      "source": [
        "# Introduction\n",
        "\n",
        "The Credit Union Cherry Blossom Ten Mile Run is an annual run held in Washington, D.C. that brings together credit unions from across the country with a shared vision of fund raising and helping children. The proceeds from donations, registration fees, and merchandise sales from the event support Children’s Hospitals that belong to the non-profit Children's Miracle Network.\n",
        "\n",
        "Since the innuagural run in 1973, hundreds of thousands of runners from around the world have participated in the event. The registration of each runners name, age, hometown, and race times provide an enormous trove of information regarding potential trends in the age and performance of runners over the years. The organizations website http://www.cherryblossom.org/ provides records of this data going back to 1999. This analysis will use web scraping to collect data from the website, inspect and clean the data, convert the data into a clean data frame, conduct exploratory data analysis and determine if ...        \n",
        "\n",
        "    "
      ]
    },
    {
      "cell_type": "markdown",
      "metadata": {
        "id": "RXtAO1mId5MD",
        "colab_type": "text"
      },
      "source": [
        "# Data\n",
        "Data for this analysis was taken from the Credit Union Cherry Blossom Ten Mile Run sites searcheable results web page using the URL http://www.cballtimeresults.org/performances?division=Overall+Women&page=1&section=10M&sex=W&utf8=%E2%9C%93&year=1999 as our initial reference for our web scraping function.\n",
        "\n",
        "![title](https://github.com/dhyanshah/MS7333_QTW/blob/master/Case4/Python/CherryBlossom10M.png?raw=1)"
      ]
    },
    {
      "cell_type": "markdown",
      "metadata": {
        "id": "xJIWUnCUd5ME",
        "colab_type": "text"
      },
      "source": [
        "Each page yielded only 20 runners and the number of female runners per year varied from 2,166 to 11,042, however from page to page the URL remained consistant making it relatively simple to iteratively cycle through the **page=** and **year=** variables of the URL. After an examination of the page source it was determined that the values: *\"Year\",\"Name\", \"Age\", \"Time\",\"Pace\",\"PiS/TiS\", \"Division\", \"PiD/TiD\", and \"Hometown\"* could be obtained for each runner. A CSV file was the created with the appropriate headers to store the scraped data."
      ]
    },
    {
      "cell_type": "code",
      "metadata": {
        "id": "bzmOfFgyd5ME",
        "colab_type": "code",
        "colab": {}
      },
      "source": [
        "#create outputfile\n",
        "outputFile = \"CherryBlossomWomens10M.csv\"\n",
        "\n",
        "#create headers\n",
        "file = open(\"CherryBlossomWomens10M.csv\", \"w\",encoding='utf8' )\n",
        "writer = csv.DictWriter(\n",
        "    file, fieldnames=[\"Year\",\"Name\", \"Age\", \"Time\",\"Pace\",\"PiS/TiS\", \"Division\", \"PiD/TiD\", \"Hometown\", 'State','Blank1','Blank2',])\n",
        "writer.writeheader()\n",
        "file.close()"
      ],
      "execution_count": 0,
      "outputs": []
    },
    {
      "cell_type": "code",
      "metadata": {
        "id": "2fszWmPqd5MH",
        "colab_type": "code",
        "colab": {}
      },
      "source": [
        "#split the marathon url into two parts to format page number and year\n",
        "websiteURLpart1 = \"http://www.cballtimeresults.org/performances?division=Overall+Women&page=\"\n",
        "websiteURLpart2 = \"&section=10M&sex=W&utf8=%E2%9C%93&year=\""
      ],
      "execution_count": 0,
      "outputs": []
    },
    {
      "cell_type": "markdown",
      "metadata": {
        "id": "AzCh2DVvd5MJ",
        "colab_type": "text"
      },
      "source": [
        "Through an examination of the page source it was determined that 'tr class='print-link-color' indicated entries for a new runner and two functions where created. The first function would update the URL **page=** and **year=** and the second function would parse the URL calling the first function to update the URL when no more 'tr class='print-link-color' entries where found on the page and update the year when the end page was reached.   "
      ]
    },
    {
      "cell_type": "code",
      "metadata": {
        "id": "7e2V1Upsd5MJ",
        "colab_type": "code",
        "colab": {}
      },
      "source": [
        "#create url function to format the url that is then passed to requests to get the html page\n",
        "def createURL(url1, url2, pageNum, year):\n",
        "    return(url1 + str(pageNum) + url2 + str(year))\n",
        "\n",
        "#create parsing function that uses createURL to iterate through pages\n",
        "def getRunners(url1, url2):\n",
        "    year = 1999\n",
        "    #iterate through all years from 1999 to 2018\n",
        "    while(year < 2019):\n",
        "        pageNum = 1\n",
        "        morePages = True\n",
        "        #iterate through all pages in each year\n",
        "        while(morePages):\n",
        "            websiteURL = createURL(url1, url2, pageNum, year)\n",
        "            with open(outputFile, \"a\", encoding='utf8') as f:\n",
        "                #requests return the html of the page in a raw object\n",
        "                page = requests.get(websiteURL)\n",
        "                #Beautiful Soup parses the requests object into a better formatted html object\n",
        "                soup = BeautifulSoup(page.content, \"html.parser\")\n",
        "                newLine = \"\"\n",
        "                contents = soup.find_all(\"tr\", class_=\"print-link-color\")\n",
        "                #check if the table is empty, if so, go to the next year\n",
        "                if not contents:\n",
        "                    morePages = False\n",
        "                    year += 1\n",
        "                #if the table has content\n",
        "                else:\n",
        "                    #iterate through all of the table rows that have class=print-link-color\n",
        "                    for tr in soup.find_all(\"tr\", class_=\"print-link-color\"):\n",
        "                        #add the previously parsed line to the file\n",
        "                        if(newLine != \"\"):\n",
        "                            f.write(newLine.rstrip(\",\"))\n",
        "                        newLine = \"\"\n",
        "                        f.write(\"\\n\")\n",
        "                        firsta = True\n",
        "                        for a in tr.select(\"td a\"):\n",
        "                            if(firsta):    \n",
        "                                f.write(a.getText().split()[0])\n",
        "                                firsta = False\n",
        "                            else:\n",
        "                                f.write(a.getText())\n",
        "                            f.write(\",\")\n",
        "                    #once all of the table rows for this page are parsed, go to the next page\n",
        "                    pageNum += 1\n",
        "                    f.close()                              \n",
        "    return(True)"
      ],
      "execution_count": 0,
      "outputs": []
    },
    {
      "cell_type": "code",
      "metadata": {
        "id": "-oLgoAz_d5MM",
        "colab_type": "code",
        "colab": {},
        "outputId": "339fdce9-d019-4274-a5e3-d932b4944085"
      },
      "source": [
        "#run getRunners function to scrape website for women runners\n",
        "getRunners(websiteURLpart1, websiteURLpart2)"
      ],
      "execution_count": 0,
      "outputs": [
        {
          "output_type": "execute_result",
          "data": {
            "text/plain": [
              "True"
            ]
          },
          "metadata": {
            "tags": []
          },
          "execution_count": 6
        }
      ]
    },
    {
      "cell_type": "markdown",
      "metadata": {
        "id": "pzCYUGHFd5MP",
        "colab_type": "text"
      },
      "source": [
        "# Data Preperation\n"
      ]
    },
    {
      "cell_type": "code",
      "metadata": {
        "id": "o0sI8t0ed5MP",
        "colab_type": "code",
        "colab": {}
      },
      "source": [
        "df = pd.read_csv('CherryBlossomWomens10M.csv', header=0)"
      ],
      "execution_count": 0,
      "outputs": []
    },
    {
      "cell_type": "markdown",
      "metadata": {
        "id": "Gu5JeJtdd5MT",
        "colab_type": "text"
      },
      "source": [
        "After the data is scraped and appended to the CSV file, a dataframe is created that consists of 13,8265 observations and 12 fields. The dataframe has 2 blank fields that were created so that the CSV would have enough indexes. Those 2 blank fields along with 6 other unecessary fields are dropped and a new dataframe is created. A review of the dataframes first 5 rows indicates that records with no collected data are marked NR. We search for the number of instances of NR and determine that NR is present in 20 rows of the \"Age\" field. Because there is no way to accurately impute data, we decide it is best to drop the 20 records. "
      ]
    },
    {
      "cell_type": "code",
      "metadata": {
        "id": "OILjXjdVd5MU",
        "colab_type": "code",
        "colab": {},
        "outputId": "c0475767-41f6-43e0-c627-b503fed00ad8"
      },
      "source": [
        "df.shape"
      ],
      "execution_count": 0,
      "outputs": [
        {
          "output_type": "execute_result",
          "data": {
            "text/plain": [
              "(138265, 12)"
            ]
          },
          "metadata": {
            "tags": []
          },
          "execution_count": 140
        }
      ]
    },
    {
      "cell_type": "code",
      "metadata": {
        "id": "bV72NKUhd5MW",
        "colab_type": "code",
        "colab": {},
        "outputId": "a58c5e65-1ca7-4a20-8b71-8bd9673b16fc"
      },
      "source": [
        "df.head(5)"
      ],
      "execution_count": 0,
      "outputs": [
        {
          "output_type": "execute_result",
          "data": {
            "text/html": [
              "<div>\n",
              "<style scoped>\n",
              "    .dataframe tbody tr th:only-of-type {\n",
              "        vertical-align: middle;\n",
              "    }\n",
              "\n",
              "    .dataframe tbody tr th {\n",
              "        vertical-align: top;\n",
              "    }\n",
              "\n",
              "    .dataframe thead th {\n",
              "        text-align: right;\n",
              "    }\n",
              "</style>\n",
              "<table border=\"1\" class=\"dataframe\">\n",
              "  <thead>\n",
              "    <tr style=\"text-align: right;\">\n",
              "      <th></th>\n",
              "      <th>Year</th>\n",
              "      <th>Name</th>\n",
              "      <th>Age</th>\n",
              "      <th>Time</th>\n",
              "      <th>Pace</th>\n",
              "      <th>PiS/TiS</th>\n",
              "      <th>Division</th>\n",
              "      <th>PiD/TiD</th>\n",
              "      <th>Hometown</th>\n",
              "      <th>State</th>\n",
              "      <th>Blank1</th>\n",
              "      <th>Blank2</th>\n",
              "    </tr>\n",
              "  </thead>\n",
              "  <tbody>\n",
              "    <tr>\n",
              "      <th>0</th>\n",
              "      <td>1999</td>\n",
              "      <td>Jane Omoro (W)</td>\n",
              "      <td>26</td>\n",
              "      <td>0:53:37</td>\n",
              "      <td>5:22</td>\n",
              "      <td>1/2358</td>\n",
              "      <td>W2529</td>\n",
              "      <td>1/559</td>\n",
              "      <td>Kenya</td>\n",
              "      <td>NaN</td>\n",
              "      <td>NaN</td>\n",
              "      <td>NaN</td>\n",
              "    </tr>\n",
              "    <tr>\n",
              "      <th>1</th>\n",
              "      <td>1999</td>\n",
              "      <td>Jane Ngotho (W)</td>\n",
              "      <td>29</td>\n",
              "      <td>0:53:38</td>\n",
              "      <td>5:22</td>\n",
              "      <td>2/2358</td>\n",
              "      <td>W2529</td>\n",
              "      <td>2/559</td>\n",
              "      <td>Kenya</td>\n",
              "      <td>NaN</td>\n",
              "      <td>NaN</td>\n",
              "      <td>NaN</td>\n",
              "    </tr>\n",
              "    <tr>\n",
              "      <th>2</th>\n",
              "      <td>1999</td>\n",
              "      <td>Lidiya Grigoryeva (W)</td>\n",
              "      <td>NR</td>\n",
              "      <td>0:53:40</td>\n",
              "      <td>5:22</td>\n",
              "      <td>3/2358</td>\n",
              "      <td>NR</td>\n",
              "      <td>NR</td>\n",
              "      <td>Russia</td>\n",
              "      <td>NaN</td>\n",
              "      <td>NaN</td>\n",
              "      <td>NaN</td>\n",
              "    </tr>\n",
              "    <tr>\n",
              "      <th>3</th>\n",
              "      <td>1999</td>\n",
              "      <td>Eunice Sagero (W)</td>\n",
              "      <td>20</td>\n",
              "      <td>0:53:55</td>\n",
              "      <td>5:24</td>\n",
              "      <td>4/2358</td>\n",
              "      <td>W2024</td>\n",
              "      <td>1/196</td>\n",
              "      <td>Kenya</td>\n",
              "      <td>NaN</td>\n",
              "      <td>NaN</td>\n",
              "      <td>NaN</td>\n",
              "    </tr>\n",
              "    <tr>\n",
              "      <th>4</th>\n",
              "      <td>1999</td>\n",
              "      <td>Alla Zhilyayeva (W)</td>\n",
              "      <td>29</td>\n",
              "      <td>0:54:08</td>\n",
              "      <td>5:25</td>\n",
              "      <td>5/2358</td>\n",
              "      <td>W2529</td>\n",
              "      <td>3/559</td>\n",
              "      <td>Russia</td>\n",
              "      <td>NaN</td>\n",
              "      <td>NaN</td>\n",
              "      <td>NaN</td>\n",
              "    </tr>\n",
              "  </tbody>\n",
              "</table>\n",
              "</div>"
            ],
            "text/plain": [
              "   Year                   Name Age     Time  Pace PiS/TiS Division PiD/TiD  \\\n",
              "0  1999         Jane Omoro (W)  26  0:53:37  5:22  1/2358    W2529   1/559   \n",
              "1  1999        Jane Ngotho (W)  29  0:53:38  5:22  2/2358    W2529   2/559   \n",
              "2  1999  Lidiya Grigoryeva (W)  NR  0:53:40  5:22  3/2358       NR      NR   \n",
              "3  1999      Eunice Sagero (W)  20  0:53:55  5:24  4/2358    W2024   1/196   \n",
              "4  1999    Alla Zhilyayeva (W)  29  0:54:08  5:25  5/2358    W2529   3/559   \n",
              "\n",
              "  Hometown State Blank1  Blank2  \n",
              "0    Kenya   NaN    NaN     NaN  \n",
              "1    Kenya   NaN    NaN     NaN  \n",
              "2   Russia   NaN    NaN     NaN  \n",
              "3    Kenya   NaN    NaN     NaN  \n",
              "4   Russia   NaN    NaN     NaN  "
            ]
          },
          "metadata": {
            "tags": []
          },
          "execution_count": 141
        }
      ]
    },
    {
      "cell_type": "code",
      "metadata": {
        "id": "NAy1RbCvd5MY",
        "colab_type": "code",
        "colab": {}
      },
      "source": [
        "df1 = df.drop(['Pace','PiS/TiS', 'Division', 'PiD/TiD', 'Hometown', 'State','Blank1','Blank2'], axis=1)"
      ],
      "execution_count": 0,
      "outputs": []
    },
    {
      "cell_type": "code",
      "metadata": {
        "id": "EA-kZuIgd5Mb",
        "colab_type": "code",
        "colab": {},
        "outputId": "2231bff9-0304-49c6-ef50-f68c368ea894"
      },
      "source": [
        "df1.shape"
      ],
      "execution_count": 0,
      "outputs": [
        {
          "output_type": "execute_result",
          "data": {
            "text/plain": [
              "(138265, 4)"
            ]
          },
          "metadata": {
            "tags": []
          },
          "execution_count": 143
        }
      ]
    },
    {
      "cell_type": "markdown",
      "metadata": {
        "id": "FGurtPoEeiec",
        "colab_type": "text"
      },
      "source": [
        "After our dropping, we are left with just 4 columns. "
      ]
    },
    {
      "cell_type": "code",
      "metadata": {
        "id": "huCvet-kd5Md",
        "colab_type": "code",
        "colab": {},
        "outputId": "e9856d9e-200b-4e2b-c1db-59ad8e397ca4"
      },
      "source": [
        "df1['Age'].value_counts()['NR']"
      ],
      "execution_count": 0,
      "outputs": [
        {
          "output_type": "execute_result",
          "data": {
            "text/plain": [
              "20"
            ]
          },
          "metadata": {
            "tags": []
          },
          "execution_count": 144
        }
      ]
    },
    {
      "cell_type": "code",
      "metadata": {
        "id": "Of8TyRdVd5Mf",
        "colab_type": "code",
        "colab": {}
      },
      "source": [
        "df1 = df1[df1.Age != \"NR\"]"
      ],
      "execution_count": 0,
      "outputs": []
    },
    {
      "cell_type": "markdown",
      "metadata": {
        "id": "NjhZ95Ater7V",
        "colab_type": "text"
      },
      "source": [
        "In looking at our age distribution, we found that there were 20 instances where we had null values for the age column. Instead of imputing, which would add some bias to any cross validation modeling we will do in the future. Since it's such a small portion of our 14k observations, we will drop."
      ]
    },
    {
      "cell_type": "code",
      "metadata": {
        "id": "5dwYyPzHd5Mh",
        "colab_type": "code",
        "colab": {},
        "outputId": "49d4a741-658f-4f56-a89d-981de251bbbf"
      },
      "source": [
        "df1.shape"
      ],
      "execution_count": 0,
      "outputs": [
        {
          "output_type": "execute_result",
          "data": {
            "text/plain": [
              "(138245, 4)"
            ]
          },
          "metadata": {
            "tags": []
          },
          "execution_count": 146
        }
      ]
    },
    {
      "cell_type": "code",
      "metadata": {
        "id": "-JxW8MNsd5Mj",
        "colab_type": "code",
        "colab": {},
        "outputId": "ea176cf8-405f-4d1e-a309-81094b2b418c"
      },
      "source": [
        "df1.head(5)"
      ],
      "execution_count": 0,
      "outputs": [
        {
          "output_type": "execute_result",
          "data": {
            "text/html": [
              "<div>\n",
              "<style scoped>\n",
              "    .dataframe tbody tr th:only-of-type {\n",
              "        vertical-align: middle;\n",
              "    }\n",
              "\n",
              "    .dataframe tbody tr th {\n",
              "        vertical-align: top;\n",
              "    }\n",
              "\n",
              "    .dataframe thead th {\n",
              "        text-align: right;\n",
              "    }\n",
              "</style>\n",
              "<table border=\"1\" class=\"dataframe\">\n",
              "  <thead>\n",
              "    <tr style=\"text-align: right;\">\n",
              "      <th></th>\n",
              "      <th>Year</th>\n",
              "      <th>Name</th>\n",
              "      <th>Age</th>\n",
              "      <th>Time</th>\n",
              "    </tr>\n",
              "  </thead>\n",
              "  <tbody>\n",
              "    <tr>\n",
              "      <th>0</th>\n",
              "      <td>1999</td>\n",
              "      <td>Jane Omoro (W)</td>\n",
              "      <td>26</td>\n",
              "      <td>0:53:37</td>\n",
              "    </tr>\n",
              "    <tr>\n",
              "      <th>1</th>\n",
              "      <td>1999</td>\n",
              "      <td>Jane Ngotho (W)</td>\n",
              "      <td>29</td>\n",
              "      <td>0:53:38</td>\n",
              "    </tr>\n",
              "    <tr>\n",
              "      <th>3</th>\n",
              "      <td>1999</td>\n",
              "      <td>Eunice Sagero (W)</td>\n",
              "      <td>20</td>\n",
              "      <td>0:53:55</td>\n",
              "    </tr>\n",
              "    <tr>\n",
              "      <th>4</th>\n",
              "      <td>1999</td>\n",
              "      <td>Alla Zhilyayeva (W)</td>\n",
              "      <td>29</td>\n",
              "      <td>0:54:08</td>\n",
              "    </tr>\n",
              "    <tr>\n",
              "      <th>5</th>\n",
              "      <td>1999</td>\n",
              "      <td>Teresa Wanjiku (W)</td>\n",
              "      <td>24</td>\n",
              "      <td>0:54:10</td>\n",
              "    </tr>\n",
              "  </tbody>\n",
              "</table>\n",
              "</div>"
            ],
            "text/plain": [
              "   Year                 Name Age     Time\n",
              "0  1999       Jane Omoro (W)  26  0:53:37\n",
              "1  1999      Jane Ngotho (W)  29  0:53:38\n",
              "3  1999    Eunice Sagero (W)  20  0:53:55\n",
              "4  1999  Alla Zhilyayeva (W)  29  0:54:08\n",
              "5  1999   Teresa Wanjiku (W)  24  0:54:10"
            ]
          },
          "metadata": {
            "tags": []
          },
          "execution_count": 147
        }
      ]
    },
    {
      "cell_type": "markdown",
      "metadata": {
        "id": "SJFYvj-Gd5Ml",
        "colab_type": "text"
      },
      "source": [
        "The new dataframe is checked for null values and the datatypes are examined."
      ]
    },
    {
      "cell_type": "code",
      "metadata": {
        "id": "p0Nxk2rmd5Ml",
        "colab_type": "code",
        "colab": {},
        "outputId": "2316363c-60c8-43de-c0a7-12ae1cd1f211"
      },
      "source": [
        "print(df1.isnull().sum())"
      ],
      "execution_count": 0,
      "outputs": [
        {
          "output_type": "stream",
          "text": [
            "Year    0\n",
            "Name    0\n",
            "Age     0\n",
            "Time    0\n",
            "dtype: int64\n"
          ],
          "name": "stdout"
        }
      ]
    },
    {
      "cell_type": "markdown",
      "metadata": {
        "id": "1zu20xhdfZww",
        "colab_type": "text"
      },
      "source": [
        "No more nulls, so now we are free to move forward into adjusting our column data types."
      ]
    },
    {
      "cell_type": "code",
      "metadata": {
        "id": "UWOy8_iUd5Mo",
        "colab_type": "code",
        "colab": {},
        "outputId": "5bf03f6d-806e-4e0a-e6cb-17062fa00e0b"
      },
      "source": [
        "df1.dtypes"
      ],
      "execution_count": 0,
      "outputs": [
        {
          "output_type": "execute_result",
          "data": {
            "text/plain": [
              "Year     int64\n",
              "Name    object\n",
              "Age     object\n",
              "Time    object\n",
              "dtype: object"
            ]
          },
          "metadata": {
            "tags": []
          },
          "execution_count": 149
        }
      ]
    },
    {
      "cell_type": "markdown",
      "metadata": {
        "id": "BY1lX51rd5Mq",
        "colab_type": "text"
      },
      "source": [
        "\"Age\" is converted to an integer value and \"Time\" is converted to a float variable that represents the minutes it took each runner to finnish the race.   "
      ]
    },
    {
      "cell_type": "code",
      "metadata": {
        "id": "qeM-gV0Fd5Mq",
        "colab_type": "code",
        "colab": {}
      },
      "source": [
        "df1['Age'] = df1['Age'].astype(str).astype(int)\n",
        "df1['Time'] = df1['Time'].astype(str)"
      ],
      "execution_count": 0,
      "outputs": []
    },
    {
      "cell_type": "code",
      "metadata": {
        "id": "ALvIl-Xud5Ms",
        "colab_type": "code",
        "colab": {}
      },
      "source": [
        "#convert string time and pace to float minutes \n",
        "dftime = df1[\"Time\"].str.split(\":\", n = 2, expand = True).astype(float)"
      ],
      "execution_count": 0,
      "outputs": []
    },
    {
      "cell_type": "code",
      "metadata": {
        "id": "FQbsfoNqd5Mu",
        "colab_type": "code",
        "colab": {}
      },
      "source": [
        "dftime['Time'] = (dftime[0]*60)+dftime[1]+(dftime[2]/60)\n",
        "df1['Time'] = dftime[\"Time\"]"
      ],
      "execution_count": 0,
      "outputs": []
    },
    {
      "cell_type": "code",
      "metadata": {
        "id": "WzcqPsIUd5Mw",
        "colab_type": "code",
        "colab": {}
      },
      "source": [
        "dftime['Time'] = (dftime[0]*60)+dftime[1]+(dftime[2]/60)\n",
        "df1['Time'] = dftime[\"Time\"]"
      ],
      "execution_count": 0,
      "outputs": []
    },
    {
      "cell_type": "code",
      "metadata": {
        "id": "KF8rM8Dbd5Mx",
        "colab_type": "code",
        "colab": {},
        "outputId": "ba62ee71-a08c-47bc-92ef-192e20cec5c0"
      },
      "source": [
        "df1.head(5)"
      ],
      "execution_count": 0,
      "outputs": [
        {
          "output_type": "execute_result",
          "data": {
            "text/html": [
              "<div>\n",
              "<style scoped>\n",
              "    .dataframe tbody tr th:only-of-type {\n",
              "        vertical-align: middle;\n",
              "    }\n",
              "\n",
              "    .dataframe tbody tr th {\n",
              "        vertical-align: top;\n",
              "    }\n",
              "\n",
              "    .dataframe thead th {\n",
              "        text-align: right;\n",
              "    }\n",
              "</style>\n",
              "<table border=\"1\" class=\"dataframe\">\n",
              "  <thead>\n",
              "    <tr style=\"text-align: right;\">\n",
              "      <th></th>\n",
              "      <th>Year</th>\n",
              "      <th>Name</th>\n",
              "      <th>Age</th>\n",
              "      <th>Time</th>\n",
              "      <th>Pace</th>\n",
              "    </tr>\n",
              "  </thead>\n",
              "  <tbody>\n",
              "    <tr>\n",
              "      <th>0</th>\n",
              "      <td>1999</td>\n",
              "      <td>Jane Omoro (W)</td>\n",
              "      <td>26</td>\n",
              "      <td>53.616667</td>\n",
              "      <td>00:05:22</td>\n",
              "    </tr>\n",
              "    <tr>\n",
              "      <th>1</th>\n",
              "      <td>1999</td>\n",
              "      <td>Jane Ngotho (W)</td>\n",
              "      <td>29</td>\n",
              "      <td>53.633333</td>\n",
              "      <td>00:05:22</td>\n",
              "    </tr>\n",
              "    <tr>\n",
              "      <th>2</th>\n",
              "      <td>1999</td>\n",
              "      <td>Eunice Sagero (W)</td>\n",
              "      <td>20</td>\n",
              "      <td>53.916667</td>\n",
              "      <td>00:05:24</td>\n",
              "    </tr>\n",
              "    <tr>\n",
              "      <th>3</th>\n",
              "      <td>1999</td>\n",
              "      <td>Alla Zhilyayeva (W)</td>\n",
              "      <td>29</td>\n",
              "      <td>54.133333</td>\n",
              "      <td>00:05:25</td>\n",
              "    </tr>\n",
              "    <tr>\n",
              "      <th>4</th>\n",
              "      <td>1999</td>\n",
              "      <td>Teresa Wanjiku (W)</td>\n",
              "      <td>24</td>\n",
              "      <td>54.166667</td>\n",
              "      <td>00:05:25</td>\n",
              "    </tr>\n",
              "  </tbody>\n",
              "</table>\n",
              "</div>"
            ],
            "text/plain": [
              "   Year                 Name  Age       Time      Pace\n",
              "0  1999       Jane Omoro (W)   26  53.616667  00:05:22\n",
              "1  1999      Jane Ngotho (W)   29  53.633333  00:05:22\n",
              "2  1999    Eunice Sagero (W)   20  53.916667  00:05:24\n",
              "3  1999  Alla Zhilyayeva (W)   29  54.133333  00:05:25\n",
              "4  1999   Teresa Wanjiku (W)   24  54.166667  00:05:25"
            ]
          },
          "metadata": {
            "tags": []
          },
          "execution_count": 160
        }
      ]
    },
    {
      "cell_type": "markdown",
      "metadata": {
        "id": "DpJ3tXR1gA_o",
        "colab_type": "text"
      },
      "source": [
        "After our conversion, you can see that we are converting our time value to a float that will allow us to more easily aggregate in future EDA and modeling. While our key focus is on age, we are going to also be intersted in seeing how time is related to age and how that could possibly change year over year."
      ]
    },
    {
      "cell_type": "code",
      "metadata": {
        "id": "DpIIzdhdd5Mz",
        "colab_type": "code",
        "colab": {}
      },
      "source": [
        "#df1.to_csv ('CherryBlossomWomens10MTidy.csv', index = False, header=True)"
      ],
      "execution_count": 0,
      "outputs": []
    },
    {
      "cell_type": "markdown",
      "metadata": {
        "id": "YV8LHVXEd5M1",
        "colab_type": "text"
      },
      "source": [
        "# Exploratory Data Analysis\n",
        "### Group Age Over Time"
      ]
    },
    {
      "cell_type": "code",
      "metadata": {
        "id": "Ou9ryC-cd5M2",
        "colab_type": "code",
        "colab": {}
      },
      "source": [
        "#import tidy dataset\n",
        "df1 = pd.read_csv('CherryBlossomWomens10MTidy.csv', header=0)\n",
        "#create new variables\n",
        "df1['RunTime'] = [int(a) * 60 + int(b) for a,b,c in df1['Time'].str.split(':')]\n",
        "df1['AgeRange'] = pd.cut(df1['Age'], bins, labels=names)\n",
        "df1['PaceTime'] = [int(a) * 60 + int(b)* 60 + int(c) for a,b,c in df1['Pace'].str.split(':')]"
      ],
      "execution_count": 0,
      "outputs": []
    },
    {
      "cell_type": "code",
      "metadata": {
        "id": "lYhjJIi7d5M4",
        "colab_type": "code",
        "colab": {},
        "outputId": "d42cd9c4-a7d5-4919-a137-908d0790a267"
      },
      "source": [
        "df1 = df1[df1.Year < 2014]\n",
        "df1[[\"Age\"]].describe() "
      ],
      "execution_count": 0,
      "outputs": [
        {
          "output_type": "execute_result",
          "data": {
            "text/html": [
              "<div>\n",
              "<style scoped>\n",
              "    .dataframe tbody tr th:only-of-type {\n",
              "        vertical-align: middle;\n",
              "    }\n",
              "\n",
              "    .dataframe tbody tr th {\n",
              "        vertical-align: top;\n",
              "    }\n",
              "\n",
              "    .dataframe thead th {\n",
              "        text-align: right;\n",
              "    }\n",
              "</style>\n",
              "<table border=\"1\" class=\"dataframe\">\n",
              "  <thead>\n",
              "    <tr style=\"text-align: right;\">\n",
              "      <th></th>\n",
              "      <th>Age</th>\n",
              "    </tr>\n",
              "  </thead>\n",
              "  <tbody>\n",
              "    <tr>\n",
              "      <th>count</th>\n",
              "      <td>86169.000000</td>\n",
              "    </tr>\n",
              "    <tr>\n",
              "      <th>mean</th>\n",
              "      <td>33.919820</td>\n",
              "    </tr>\n",
              "    <tr>\n",
              "      <th>std</th>\n",
              "      <td>9.228929</td>\n",
              "    </tr>\n",
              "    <tr>\n",
              "      <th>min</th>\n",
              "      <td>7.000000</td>\n",
              "    </tr>\n",
              "    <tr>\n",
              "      <th>25%</th>\n",
              "      <td>27.000000</td>\n",
              "    </tr>\n",
              "    <tr>\n",
              "      <th>50%</th>\n",
              "      <td>32.000000</td>\n",
              "    </tr>\n",
              "    <tr>\n",
              "      <th>75%</th>\n",
              "      <td>39.000000</td>\n",
              "    </tr>\n",
              "    <tr>\n",
              "      <th>max</th>\n",
              "      <td>87.000000</td>\n",
              "    </tr>\n",
              "  </tbody>\n",
              "</table>\n",
              "</div>"
            ],
            "text/plain": [
              "                Age\n",
              "count  86169.000000\n",
              "mean      33.919820\n",
              "std        9.228929\n",
              "min        7.000000\n",
              "25%       27.000000\n",
              "50%       32.000000\n",
              "75%       39.000000\n",
              "max       87.000000"
            ]
          },
          "metadata": {
            "tags": []
          },
          "execution_count": 59
        }
      ]
    },
    {
      "cell_type": "markdown",
      "metadata": {
        "id": "vC6w0poqd5M9",
        "colab_type": "text"
      },
      "source": [
        "Descriptive statistics of the \"Age\" variable indicate that outliers may be present in the dataset. While the diffence between the quantile range from 25% to 75% is only 1.30 standard deviations, the difference between the mean and the minimum values is 2.92 standard deviations and the difference between the mean and the maximum values is 5.75 standard deviations. Besides indicating the potential presence of outliers this also indicates that our distribution may right skewed.  "
      ]
    },
    {
      "cell_type": "code",
      "metadata": {
        "id": "yoO63Dezd5M9",
        "colab_type": "code",
        "colab": {},
        "outputId": "9e5caa7c-1c53-40dd-a997-51618d0f127d"
      },
      "source": [
        "f, axes = plt.subplots(2, 1, figsize=(10, 5), sharex=True)\n",
        "sns.set(style=\"ticks\", palette=\"pastel\")\n",
        "sns.boxplot(x=\"Year\", y=\"Age\", data=df1, ax=axes[1])\n",
        "sns.violinplot(x=\"Year\", y=\"Age\", data=df1, ax=axes[0])\n",
        "sns.despine(offset=20, trim=True)"
      ],
      "execution_count": 0,
      "outputs": [
        {
          "output_type": "display_data",
          "data": {
            "image/png": "[encoded data removed]",
            "text/plain": [
              "<Figure size 720x360 with 2 Axes>"
            ]
          },
          "metadata": {
            "tags": []
          }
        }
      ]
    },
    {
      "cell_type": "markdown",
      "metadata": {
        "id": "0z2LvYu4d5NA",
        "colab_type": "text"
      },
      "source": [
        "Box plots of the age distributions both by year and in aggregate seem to visually validate the presensence of outliers that could possibly be skewing the data. As measures of mean are sensitive to the precense of outliers we must determine if the outliers need to be removed or if we need to use a method that does not really on mean when testing the null hypothesis that there is not significant difference in the distribution of ages over time. "
      ]
    },
    {
      "cell_type": "code",
      "metadata": {
        "id": "x-7892Rfd5NA",
        "colab_type": "code",
        "colab": {},
        "outputId": "4b3fc581-e936-4992-b9f8-61b23c0794a4"
      },
      "source": [
        "plt.figure(figsize=(10,5))\n",
        "sns.boxplot(x=df1[\"Age\"])"
      ],
      "execution_count": 0,
      "outputs": [
        {
          "output_type": "execute_result",
          "data": {
            "text/plain": [
              "<matplotlib.axes._subplots.AxesSubplot at 0x21eb0240>"
            ]
          },
          "metadata": {
            "tags": []
          },
          "execution_count": 110
        },
        {
          "output_type": "display_data",
          "data": {
            "image/png": "[encoded data removed]",
            "text/plain": [
              "<Figure size 720x360 with 1 Axes>"
            ]
          },
          "metadata": {
            "tags": []
          }
        }
      ]
    },
    {
      "cell_type": "markdown",
      "metadata": {
        "id": "_TlzcOT8hzft",
        "colab_type": "text"
      },
      "source": [
        "The plot above provides us a distribution of the age groupings across all 13 years. On the high side of the mean, we can see there's a number of poarticipants over the age of 60 which heavily outweighs the number of outliers below the whisker at below 10 years old. "
      ]
    },
    {
      "cell_type": "code",
      "metadata": {
        "id": "-INX1wpRd5NC",
        "colab_type": "code",
        "colab": {},
        "outputId": "4a18fce9-3970-41c4-a55e-6953e0dc6e92"
      },
      "source": [
        "bins = [0, 10, 20, 30, 40, 50, 60, 70]\n",
        "names = ['0-15', '16-25', '26-40', '41-50','51-60', '61-70','71+']\n",
        "\n",
        "plt.figure(figsize=(10,5))\n",
        "#sns.set(style=\"ticks\", palette=\"pastel\")\n",
        "sns.countplot('AgeRange', data=df1)\n",
        "\n",
        "plt.title('Female Age'); plt.xlabel('Age (years)'); plt.ylabel('Frequency')"
      ],
      "execution_count": 0,
      "outputs": [
        {
          "output_type": "execute_result",
          "data": {
            "text/plain": [
              "Text(0,0.5,'Frequency')"
            ]
          },
          "metadata": {
            "tags": []
          },
          "execution_count": 63
        },
        {
          "output_type": "display_data",
          "data": {
            "image/png": "[encoded data removed]",
            "text/plain": [
              "<Figure size 720x360 with 1 Axes>"
            ]
          },
          "metadata": {
            "tags": [],
            "needs_background": "light"
          }
        }
      ]
    },
    {
      "cell_type": "markdown",
      "metadata": {
        "id": "BMWlcDUNiqHM",
        "colab_type": "text"
      },
      "source": [
        "We created a series of bins within our age groupings so that we can more easily visualize our skewness in a histogram. Here, we can see the 26-40 grouping has the most representatives followed by the 41-50 group. As discussed previously, our theme of right skewness is apparent here as well. "
      ]
    },
    {
      "cell_type": "code",
      "metadata": {
        "id": "xKYUsK6ud5NE",
        "colab_type": "code",
        "colab": {},
        "outputId": "d4d394b5-03f4-4f8d-9b01-f80a1152724a"
      },
      "source": [
        "plt.figure(figsize=(10,5))\n",
        "n = 1999\n",
        "while n < 2014:\n",
        "    YEAR = df1.loc[df1['Year'] == n]\n",
        "    sns.distplot(YEAR[['Age']], hist=False, rug=True, label=n)\n",
        "    n+=1\n",
        "plt.title(\"Age Distributions by Year\")\n",
        "plt.legend()"
      ],
      "execution_count": 0,
      "outputs": [
        {
          "output_type": "execute_result",
          "data": {
            "text/plain": [
              "<matplotlib.legend.Legend at 0x240bc6a0>"
            ]
          },
          "metadata": {
            "tags": []
          },
          "execution_count": 111
        },
        {
          "output_type": "display_data",
          "data": {
            "image/png": "[encoded data removed]",
            "text/plain": [
              "<Figure size 720x360 with 1 Axes>"
            ]
          },
          "metadata": {
            "tags": []
          }
        }
      ]
    },
    {
      "cell_type": "markdown",
      "metadata": {
        "id": "gZqAh8SMd5NG",
        "colab_type": "text"
      },
      "source": [
        "Review of the distribution plots validate that \"Age\" among female runners is not normally distributed and variations of the mean of the distributions from year to year seems to be more pronouced in the distribution plots. While the distributions indicate that there may be a shift in mean age over time it is difficult to conclusively determine the direction of the shift."
      ]
    },
    {
      "cell_type": "code",
      "metadata": {
        "id": "_M4y1H4Dd5NG",
        "colab_type": "code",
        "colab": {},
        "outputId": "f26ba832-8c6f-4c69-ff85-5c1d49f68f0e"
      },
      "source": [
        "plt.figure(figsize=(10,5))\n",
        "sns.distplot(df1['Age'])\n",
        "plt.title(\"Total Age Distribution\")"
      ],
      "execution_count": 0,
      "outputs": [
        {
          "output_type": "execute_result",
          "data": {
            "text/plain": [
              "Text(0.5,1,'Total Age Distribution')"
            ]
          },
          "metadata": {
            "tags": []
          },
          "execution_count": 65
        },
        {
          "output_type": "display_data",
          "data": {
            "image/png": "[encoded data removed]",
            "text/plain": [
              "<Figure size 720x360 with 1 Axes>"
            ]
          },
          "metadata": {
            "tags": []
          }
        }
      ]
    },
    {
      "cell_type": "markdown",
      "metadata": {
        "id": "nSKYuo5od5NI",
        "colab_type": "text"
      },
      "source": [
        "Review of the a kernel density plot seems to indicate that there is a change in the distrbution of \"Age\" over time. Additionally the plot seems to indicate a gradual increase in the density of runners under 30 years of age."
      ]
    },
    {
      "cell_type": "code",
      "metadata": {
        "id": "fpObGrFld5NJ",
        "colab_type": "code",
        "colab": {},
        "outputId": "fda77849-e0af-4948-c34b-33d7c626baa8"
      },
      "source": [
        "f, ax = plt.subplots(figsize=(10, 5))\n",
        "sns.kdeplot(df1.Year, df1.Age, ax=ax)\n",
        "plt.title(\"Age Density\")"
      ],
      "execution_count": 0,
      "outputs": [
        {
          "output_type": "execute_result",
          "data": {
            "text/plain": [
              "Text(0.5,1,'Age Density')"
            ]
          },
          "metadata": {
            "tags": []
          },
          "execution_count": 163
        },
        {
          "output_type": "display_data",
          "data": {
            "image/png": "[encoded data removed]",
            "text/plain": [
              "<Figure size 720x360 with 1 Axes>"
            ]
          },
          "metadata": {
            "tags": [],
            "needs_background": "light"
          }
        }
      ]
    },
    {
      "cell_type": "markdown",
      "metadata": {
        "id": "mzCiRGZld5NK",
        "colab_type": "text"
      },
      "source": [
        "By comparing the mean age by year to the median age by year the effects of the the outliers on mean age are more noticeable. When looking at the range of the age axis it appears that the range between the lowest mean and the highest mean is less than 3 years and the range between the lowest median and the highest median is about 3 years. Whether this variation is significant or not will be the determined in the statistical testing section of our analysis.   "
      ]
    },
    {
      "cell_type": "code",
      "metadata": {
        "id": "L-AH9O0yd5NL",
        "colab_type": "code",
        "colab": {},
        "outputId": "81b7254f-4d05-45a7-eb45-72c41be22676"
      },
      "source": [
        "df1.groupby('Year')['Age'].mean().plot(kind='line', figsize=(10,5), label=\"Mean Age\")\n",
        "df1.groupby('Year')['Age'].median().plot(kind='line', figsize=(10,5),label=\"Median Age\")\n",
        "plt.legend()"
      ],
      "execution_count": 0,
      "outputs": [
        {
          "output_type": "execute_result",
          "data": {
            "text/plain": [
              "<matplotlib.legend.Legend at 0x2602fb00>"
            ]
          },
          "metadata": {
            "tags": []
          },
          "execution_count": 112
        },
        {
          "output_type": "display_data",
          "data": {
            "image/png": "[encoded data removed]",
            "text/plain": [
              "<Figure size 720x360 with 1 Axes>"
            ]
          },
          "metadata": {
            "tags": []
          }
        }
      ]
    },
    {
      "cell_type": "markdown",
      "metadata": {
        "id": "O2Dj4_13d5NN",
        "colab_type": "text"
      },
      "source": [
        "The 20 ages with the lowest incidence rate were counted and plotted all together they accounted for only .12% of the the entire dataset. To analyze the impact of removing the outliers from the dataset a new data set was created that omitted all ages greater than 70 or less than 13. This was process was repeated with the lowest 25 and lowest 30 leading to new datasets that ommited .29% and .72% of the observations respectively. We chose this method because it detects anamolous data points on both sides of the mean and determines outliers by their frequency."
      ]
    },
    {
      "cell_type": "code",
      "metadata": {
        "id": "NzAqs4g9d5NN",
        "colab_type": "code",
        "colab": {},
        "outputId": "7a5eb015-80fc-4564-aacb-d08ddd4589c4"
      },
      "source": [
        "df1.Age.value_counts().nsmallest(20).plot(kind='bar', figsize=(10,5))\n",
        "plt.title(\"Distribution of Outliers\")\n",
        "plt.ylabel(\"Runners\")\n",
        "plt.xlabel(\"Age\")"
      ],
      "execution_count": 0,
      "outputs": [
        {
          "output_type": "execute_result",
          "data": {
            "text/plain": [
              "Text(0.5,0,'Age')"
            ]
          },
          "metadata": {
            "tags": []
          },
          "execution_count": 150
        },
        {
          "output_type": "display_data",
          "data": {
            "image/png": "[encoded data removed]",
            "text/plain": [
              "<Figure size 720x360 with 1 Axes>"
            ]
          },
          "metadata": {
            "tags": []
          }
        }
      ]
    },
    {
      "cell_type": "code",
      "metadata": {
        "id": "c9vfeWlgd5NP",
        "colab_type": "code",
        "colab": {},
        "outputId": "2a0666d2-6e66-493e-cd3a-797acf0e232b"
      },
      "source": [
        "df1.Age.value_counts().nsmallest(20).sum()/df1.Age.count()"
      ],
      "execution_count": 0,
      "outputs": [
        {
          "output_type": "execute_result",
          "data": {
            "text/plain": [
              "0.0011721152618691176"
            ]
          },
          "metadata": {
            "tags": []
          },
          "execution_count": 149
        }
      ]
    },
    {
      "cell_type": "code",
      "metadata": {
        "id": "gA5O67F7d5NR",
        "colab_type": "code",
        "colab": {}
      },
      "source": [
        "df20 = df1[df1.Age < 70]\n",
        "df20 = df20[df20.Age > 13]\n",
        "df25 = df1[df1.Age < 67]\n",
        "df25 = df25[df25.Age > 14]\n",
        "df30 = df1[df1.Age < 63]\n",
        "df30 = df30[df30.Age > 15]"
      ],
      "execution_count": 0,
      "outputs": []
    },
    {
      "cell_type": "code",
      "metadata": {
        "id": "E7ZOXbmfd5NS",
        "colab_type": "code",
        "colab": {},
        "outputId": "b386e347-22ca-43a3-dc64-23357928a6f8"
      },
      "source": [
        "plt.figure(figsize=(10,5))\n",
        "c= df1.corr()\n",
        "sns.heatmap(c,cmap='coolwarm',annot=True)\n",
        "c"
      ],
      "execution_count": 0,
      "outputs": [
        {
          "output_type": "execute_result",
          "data": {
            "text/html": [
              "<div>\n",
              "<style scoped>\n",
              "    .dataframe tbody tr th:only-of-type {\n",
              "        vertical-align: middle;\n",
              "    }\n",
              "\n",
              "    .dataframe tbody tr th {\n",
              "        vertical-align: top;\n",
              "    }\n",
              "\n",
              "    .dataframe thead th {\n",
              "        text-align: right;\n",
              "    }\n",
              "</style>\n",
              "<table border=\"1\" class=\"dataframe\">\n",
              "  <thead>\n",
              "    <tr style=\"text-align: right;\">\n",
              "      <th></th>\n",
              "      <th>Year</th>\n",
              "      <th>Age</th>\n",
              "      <th>Time</th>\n",
              "    </tr>\n",
              "  </thead>\n",
              "  <tbody>\n",
              "    <tr>\n",
              "      <th>Year</th>\n",
              "      <td>1.000000</td>\n",
              "      <td>-0.033776</td>\n",
              "      <td>0.097660</td>\n",
              "    </tr>\n",
              "    <tr>\n",
              "      <th>Age</th>\n",
              "      <td>-0.033776</td>\n",
              "      <td>1.000000</td>\n",
              "      <td>0.133107</td>\n",
              "    </tr>\n",
              "    <tr>\n",
              "      <th>Time</th>\n",
              "      <td>0.097660</td>\n",
              "      <td>0.133107</td>\n",
              "      <td>1.000000</td>\n",
              "    </tr>\n",
              "  </tbody>\n",
              "</table>\n",
              "</div>"
            ],
            "text/plain": [
              "          Year       Age      Time\n",
              "Year  1.000000 -0.033776  0.097660\n",
              "Age  -0.033776  1.000000  0.133107\n",
              "Time  0.097660  0.133107  1.000000"
            ]
          },
          "metadata": {
            "tags": []
          },
          "execution_count": 221
        },
        {
          "output_type": "display_data",
          "data": {
            "image/png": "[encoded data removed]",
            "text/plain": [
              "<Figure size 720x360 with 2 Axes>"
            ]
          },
          "metadata": {
            "tags": []
          }
        }
      ]
    },
    {
      "cell_type": "markdown",
      "metadata": {
        "id": "HRgZIVNZd5NV",
        "colab_type": "text"
      },
      "source": [
        "Review of the correlation plot indicates a very weak negative correlation between year and age. Review of regression plot seems to indicate that overall the trend is for the average age to decrease over time. This trend is much more pronounced when only the mean age of each year is plotted.  "
      ]
    },
    {
      "cell_type": "code",
      "metadata": {
        "id": "qlMOYWFmd5NV",
        "colab_type": "code",
        "colab": {},
        "outputId": "66bce0cd-e7d5-4829-dd58-a5e927800a25"
      },
      "source": [
        "fig, (ax1, ax2) = plt.subplots(ncols=2, figsize=(15, 5), sharey=False)\n",
        "sns.regplot(x=g[\"Year\"], y=g['Age'], ax=ax2)\n",
        "sns.regplot(x=df30[\"Year\"], y=df30['Age'],x_jitter=.1, ax=ax1)"
      ],
      "execution_count": 0,
      "outputs": [
        {
          "output_type": "execute_result",
          "data": {
            "text/plain": [
              "<matplotlib.axes._subplots.AxesSubplot at 0x1b705f28>"
            ]
          },
          "metadata": {
            "tags": []
          },
          "execution_count": 185
        },
        {
          "output_type": "display_data",
          "data": {
            "image/png": "[encoded data removed]",
            "text/plain": [
              "<Figure size 1080x360 with 2 Axes>"
            ]
          },
          "metadata": {
            "tags": [],
            "needs_background": "light"
          }
        }
      ]
    },
    {
      "cell_type": "markdown",
      "metadata": {
        "id": "qEnckuvwd5NY",
        "colab_type": "text"
      },
      "source": [
        "However, when we look at the distribution of mean age for each year, there appears to be a change point in the data. To better capture this we plot a linear model plot with Locally Weighted Scatterplot Smoothing.This indicates that there may be a change point that occurs around 2009 where the general decrease in mean age starts an upward trend. Like all the other observations tests for statistical significance have to be conducted to validate the visual analysis. "
      ]
    },
    {
      "cell_type": "code",
      "metadata": {
        "id": "cf69urQzd5NY",
        "colab_type": "code",
        "colab": {},
        "outputId": "1a4cd106-0358-4357-a9c4-3670010ef832"
      },
      "source": [
        "df1.groupby('Year')['Age'].mean().plot(kind='line', figsize=(8,5), label=\"Mean Age\")\n",
        "df20.groupby('Year')['Age'].mean().plot(kind='line', figsize=(8,5), label=\"Drop20\")\n",
        "df25.groupby('Year')['Age'].mean().plot(kind='line', figsize=(8,5), label=\"Drop25\")\n",
        "df30.groupby('Year')['Age'].mean().plot(kind='line', figsize=(8,5), label=\"Drop30\")\n",
        "plt.legend()"
      ],
      "execution_count": 0,
      "outputs": [
        {
          "output_type": "execute_result",
          "data": {
            "text/plain": [
              "<matplotlib.legend.Legend at 0x385e9668>"
            ]
          },
          "metadata": {
            "tags": []
          },
          "execution_count": 178
        },
        {
          "output_type": "display_data",
          "data": {
            "image/png": "[encoded data removed]",
            "text/plain": [
              "<Figure size 576x360 with 1 Axes>"
            ]
          },
          "metadata": {
            "tags": []
          }
        }
      ]
    },
    {
      "cell_type": "code",
      "metadata": {
        "id": "bHjNew_sd5Na",
        "colab_type": "code",
        "colab": {},
        "outputId": "185ea799-40cd-4410-ee69-eda7ffc7b614"
      },
      "source": [
        "fig, (ax1, ax2) = plt.subplots(ncols=2, figsize=(15, 5), sharey=False)\n",
        "sns.regplot(x=g[\"Year\"], y=g['Age'], lowess = True, ax=ax2)\n",
        "sns.regplot(x=df30[\"Year\"], y=df30['Age'],x_jitter=.1, lowess = True, ax=ax1)\n"
      ],
      "execution_count": 0,
      "outputs": [
        {
          "output_type": "execute_result",
          "data": {
            "text/plain": [
              "<matplotlib.axes._subplots.AxesSubplot at 0x1aa32c18>"
            ]
          },
          "metadata": {
            "tags": []
          },
          "execution_count": 184
        },
        {
          "output_type": "display_data",
          "data": {
            "image/png": "[encoded data removed]",
            "text/plain": [
              "<Figure size 1080x360 with 2 Axes>"
            ]
          },
          "metadata": {
            "tags": [],
            "needs_background": "light"
          }
        }
      ]
    },
    {
      "cell_type": "markdown",
      "metadata": {
        "id": "Jy9Zl-oRd5Nc",
        "colab_type": "text"
      },
      "source": [
        "### Summmary of EDA \n",
        "\n",
        "-- Still needs to be completed"
      ]
    },
    {
      "cell_type": "markdown",
      "metadata": {
        "id": "oSniiEI9d5Nd",
        "colab_type": "text"
      },
      "source": [
        "# Question of Interest\n",
        "Has the age distribution of Female runners significantly changed over time? If so has the change occured over time or is there an evident break point?\n",
        "\n",
        "## Hypothesis\n",
        "    "
      ]
    },
    {
      "cell_type": "markdown",
      "metadata": {
        "id": "jk26fMbDd5Nd",
        "colab_type": "text"
      },
      "source": [
        "*Null Hypotheses*: There is no change in the Age distributions of each Year.\n",
        "\n",
        "*Alternative Hypotheses*: At least, one Year has an different Age distribution."
      ]
    },
    {
      "cell_type": "markdown",
      "metadata": {
        "id": "UcOpfA8Dd5Nd",
        "colab_type": "text"
      },
      "source": [
        "## ANOVA\n",
        "As the fundametal question of interest is determining there us a difference in the age over time and each year essentially represents an independant group of runners, we decided to start with ANOVA which compare two means from independent groups using the F-distribution. ANOVA tests against the null hypothesis that there is no significant difference in the means of classes. \n",
        "\n",
        "#### Assumptions:\n",
        "\n",
        "Residuals are normally distributed (Shapiro Wilks Test)\n",
        "\n",
        "Homogeneity of variances (Bartlett Test)\n",
        "\n",
        "Observations are sampled independently from each other\n",
        "\n",
        "#### Concerns\n",
        "In our case we will have 15 classes and the classes are unbalanced. While there is a slight concern that this will adveresly affect homogeneity of variances, we hope that the effects fo the unbalanced classes will be mitigated by the large samples per group and the fact that we are testing against only one variable. While we assume that the age distribution of one year should be independant of another we found that while there were a total of 138,265 registered female runners there were only 82,157 indicating that up to 40.1% of the runners participated in multiple years. As runners naturally naturally age from year to year this makes a runners age in one year dependant on their age in a previous year. "
      ]
    },
    {
      "cell_type": "markdown",
      "metadata": {
        "id": "-Zl4WmNud5Ne",
        "colab_type": "text"
      },
      "source": [
        "In order to conduct ANOVA we convert the values in the df20 dataframe from integer to classes by casting them as string objects. We also create a data set of the summary statistics for each year."
      ]
    },
    {
      "cell_type": "code",
      "metadata": {
        "id": "T9sp3nqrd5Ne",
        "colab_type": "code",
        "colab": {},
        "outputId": "3b04fe53-292b-4834-8600-722298fe7ccb"
      },
      "source": [
        "#create dateframe of summary statistics by year\n",
        "dfAgeStats = df1.groupby('Year')['Age'].describe().reset_index()\n",
        "#create dataframe where Year is a class variable\n",
        "df20[\"Year\"] = df20[\"Year\"].astype(str) \n",
        "df1.groupby('Year')['Age'].describe()"
      ],
      "execution_count": 0,
      "outputs": [
        {
          "output_type": "execute_result",
          "data": {
            "text/html": [
              "<div>\n",
              "<style scoped>\n",
              "    .dataframe tbody tr th:only-of-type {\n",
              "        vertical-align: middle;\n",
              "    }\n",
              "\n",
              "    .dataframe tbody tr th {\n",
              "        vertical-align: top;\n",
              "    }\n",
              "\n",
              "    .dataframe thead th {\n",
              "        text-align: right;\n",
              "    }\n",
              "</style>\n",
              "<table border=\"1\" class=\"dataframe\">\n",
              "  <thead>\n",
              "    <tr style=\"text-align: right;\">\n",
              "      <th></th>\n",
              "      <th>count</th>\n",
              "      <th>mean</th>\n",
              "      <th>std</th>\n",
              "      <th>min</th>\n",
              "      <th>25%</th>\n",
              "      <th>50%</th>\n",
              "      <th>75%</th>\n",
              "      <th>max</th>\n",
              "    </tr>\n",
              "    <tr>\n",
              "      <th>Year</th>\n",
              "      <th></th>\n",
              "      <th></th>\n",
              "      <th></th>\n",
              "      <th></th>\n",
              "      <th></th>\n",
              "      <th></th>\n",
              "      <th></th>\n",
              "      <th></th>\n",
              "    </tr>\n",
              "  </thead>\n",
              "  <tbody>\n",
              "    <tr>\n",
              "      <th>1999</th>\n",
              "      <td>2354.0</td>\n",
              "      <td>34.886576</td>\n",
              "      <td>8.925263</td>\n",
              "      <td>12.0</td>\n",
              "      <td>28.0</td>\n",
              "      <td>33.0</td>\n",
              "      <td>41.0</td>\n",
              "      <td>81.0</td>\n",
              "    </tr>\n",
              "    <tr>\n",
              "      <th>2000</th>\n",
              "      <td>2166.0</td>\n",
              "      <td>35.553555</td>\n",
              "      <td>9.319658</td>\n",
              "      <td>14.0</td>\n",
              "      <td>29.0</td>\n",
              "      <td>34.0</td>\n",
              "      <td>41.0</td>\n",
              "      <td>76.0</td>\n",
              "    </tr>\n",
              "    <tr>\n",
              "      <th>2001</th>\n",
              "      <td>2971.0</td>\n",
              "      <td>34.821272</td>\n",
              "      <td>9.186583</td>\n",
              "      <td>11.0</td>\n",
              "      <td>28.0</td>\n",
              "      <td>33.0</td>\n",
              "      <td>41.0</td>\n",
              "      <td>83.0</td>\n",
              "    </tr>\n",
              "    <tr>\n",
              "      <th>2002</th>\n",
              "      <td>3330.0</td>\n",
              "      <td>35.137838</td>\n",
              "      <td>9.231994</td>\n",
              "      <td>13.0</td>\n",
              "      <td>28.0</td>\n",
              "      <td>33.0</td>\n",
              "      <td>41.0</td>\n",
              "      <td>84.0</td>\n",
              "    </tr>\n",
              "    <tr>\n",
              "      <th>2003</th>\n",
              "      <td>3525.0</td>\n",
              "      <td>35.036028</td>\n",
              "      <td>9.370971</td>\n",
              "      <td>12.0</td>\n",
              "      <td>28.0</td>\n",
              "      <td>33.0</td>\n",
              "      <td>41.0</td>\n",
              "      <td>85.0</td>\n",
              "    </tr>\n",
              "    <tr>\n",
              "      <th>2004</th>\n",
              "      <td>3885.0</td>\n",
              "      <td>33.939254</td>\n",
              "      <td>9.289703</td>\n",
              "      <td>13.0</td>\n",
              "      <td>27.0</td>\n",
              "      <td>32.0</td>\n",
              "      <td>39.0</td>\n",
              "      <td>86.0</td>\n",
              "    </tr>\n",
              "    <tr>\n",
              "      <th>2005</th>\n",
              "      <td>4323.0</td>\n",
              "      <td>34.166551</td>\n",
              "      <td>9.385567</td>\n",
              "      <td>10.0</td>\n",
              "      <td>27.0</td>\n",
              "      <td>32.0</td>\n",
              "      <td>40.0</td>\n",
              "      <td>87.0</td>\n",
              "    </tr>\n",
              "    <tr>\n",
              "      <th>2006</th>\n",
              "      <td>5435.0</td>\n",
              "      <td>33.657038</td>\n",
              "      <td>9.255073</td>\n",
              "      <td>12.0</td>\n",
              "      <td>26.0</td>\n",
              "      <td>31.0</td>\n",
              "      <td>39.0</td>\n",
              "      <td>76.0</td>\n",
              "    </tr>\n",
              "    <tr>\n",
              "      <th>2007</th>\n",
              "      <td>5530.0</td>\n",
              "      <td>33.439964</td>\n",
              "      <td>9.255429</td>\n",
              "      <td>10.0</td>\n",
              "      <td>26.0</td>\n",
              "      <td>31.0</td>\n",
              "      <td>39.0</td>\n",
              "      <td>77.0</td>\n",
              "    </tr>\n",
              "    <tr>\n",
              "      <th>2008</th>\n",
              "      <td>6395.0</td>\n",
              "      <td>33.210008</td>\n",
              "      <td>9.117958</td>\n",
              "      <td>11.0</td>\n",
              "      <td>26.0</td>\n",
              "      <td>31.0</td>\n",
              "      <td>38.0</td>\n",
              "      <td>76.0</td>\n",
              "    </tr>\n",
              "    <tr>\n",
              "      <th>2009</th>\n",
              "      <td>8322.0</td>\n",
              "      <td>33.076304</td>\n",
              "      <td>8.981805</td>\n",
              "      <td>7.0</td>\n",
              "      <td>26.0</td>\n",
              "      <td>31.0</td>\n",
              "      <td>38.0</td>\n",
              "      <td>73.0</td>\n",
              "    </tr>\n",
              "    <tr>\n",
              "      <th>2010</th>\n",
              "      <td>8853.0</td>\n",
              "      <td>33.297074</td>\n",
              "      <td>9.091657</td>\n",
              "      <td>11.0</td>\n",
              "      <td>27.0</td>\n",
              "      <td>31.0</td>\n",
              "      <td>39.0</td>\n",
              "      <td>75.0</td>\n",
              "    </tr>\n",
              "    <tr>\n",
              "      <th>2011</th>\n",
              "      <td>9030.0</td>\n",
              "      <td>33.741528</td>\n",
              "      <td>9.212669</td>\n",
              "      <td>11.0</td>\n",
              "      <td>27.0</td>\n",
              "      <td>31.0</td>\n",
              "      <td>39.0</td>\n",
              "      <td>76.0</td>\n",
              "    </tr>\n",
              "    <tr>\n",
              "      <th>2012</th>\n",
              "      <td>9727.0</td>\n",
              "      <td>33.877763</td>\n",
              "      <td>9.276222</td>\n",
              "      <td>12.0</td>\n",
              "      <td>27.0</td>\n",
              "      <td>32.0</td>\n",
              "      <td>39.0</td>\n",
              "      <td>75.0</td>\n",
              "    </tr>\n",
              "    <tr>\n",
              "      <th>2013</th>\n",
              "      <td>10323.0</td>\n",
              "      <td>34.457231</td>\n",
              "      <td>9.283621</td>\n",
              "      <td>11.0</td>\n",
              "      <td>27.0</td>\n",
              "      <td>32.0</td>\n",
              "      <td>40.0</td>\n",
              "      <td>76.0</td>\n",
              "    </tr>\n",
              "  </tbody>\n",
              "</table>\n",
              "</div>"
            ],
            "text/plain": [
              "        count       mean       std   min   25%   50%   75%   max\n",
              "Year                                                            \n",
              "1999   2354.0  34.886576  8.925263  12.0  28.0  33.0  41.0  81.0\n",
              "2000   2166.0  35.553555  9.319658  14.0  29.0  34.0  41.0  76.0\n",
              "2001   2971.0  34.821272  9.186583  11.0  28.0  33.0  41.0  83.0\n",
              "2002   3330.0  35.137838  9.231994  13.0  28.0  33.0  41.0  84.0\n",
              "2003   3525.0  35.036028  9.370971  12.0  28.0  33.0  41.0  85.0\n",
              "2004   3885.0  33.939254  9.289703  13.0  27.0  32.0  39.0  86.0\n",
              "2005   4323.0  34.166551  9.385567  10.0  27.0  32.0  40.0  87.0\n",
              "2006   5435.0  33.657038  9.255073  12.0  26.0  31.0  39.0  76.0\n",
              "2007   5530.0  33.439964  9.255429  10.0  26.0  31.0  39.0  77.0\n",
              "2008   6395.0  33.210008  9.117958  11.0  26.0  31.0  38.0  76.0\n",
              "2009   8322.0  33.076304  8.981805   7.0  26.0  31.0  38.0  73.0\n",
              "2010   8853.0  33.297074  9.091657  11.0  27.0  31.0  39.0  75.0\n",
              "2011   9030.0  33.741528  9.212669  11.0  27.0  31.0  39.0  76.0\n",
              "2012   9727.0  33.877763  9.276222  12.0  27.0  32.0  39.0  75.0\n",
              "2013  10323.0  34.457231  9.283621  11.0  27.0  32.0  40.0  76.0"
            ]
          },
          "metadata": {
            "tags": []
          },
          "execution_count": 9
        }
      ]
    },
    {
      "cell_type": "code",
      "metadata": {
        "id": "1C6kN5_hd5Nh",
        "colab_type": "code",
        "colab": {},
        "outputId": "0043eb2b-05cf-4672-80bc-47dd756fd76e"
      },
      "source": [
        "#distribution of standard deviations\n",
        "fig, (ax1, ax2) = plt.subplots(ncols=2, figsize=(10, 4), sharey=False)\n",
        "#sns.regplot(x=\"Year\", y=\"std\", data=dfAgeStats, ax=ax2)\n",
        "sns.distplot(dfAgeStats['mean'], ax=ax1)\n",
        "sns.distplot(dfAgeStats['std'], ax=ax2, color='r')"
      ],
      "execution_count": 0,
      "outputs": [
        {
          "output_type": "execute_result",
          "data": {
            "text/plain": [
              "<matplotlib.axes._subplots.AxesSubplot at 0x1bf00630>"
            ]
          },
          "metadata": {
            "tags": []
          },
          "execution_count": 11
        },
        {
          "output_type": "display_data",
          "data": {
            "image/png": "[encoded data removed]",
            "text/plain": [
              "<Figure size 720x288 with 2 Axes>"
            ]
          },
          "metadata": {
            "tags": [],
            "needs_background": "light"
          }
        }
      ]
    },
    {
      "cell_type": "markdown",
      "metadata": {
        "id": "CDd58PCNd5Nj",
        "colab_type": "text"
      },
      "source": [
        "We take a quick look at the distribution of the mean and standard deviations of the grouped ages and run our ANOVA and it returns an F score of 31.13 and a p-value significantly lower than our significance threshhold of .05 indicating that the mean distribution of atleast one group is significantly different than that of the other groups.    "
      ]
    },
    {
      "cell_type": "code",
      "metadata": {
        "scrolled": true,
        "id": "gRlC8FZ2d5Nj",
        "colab_type": "code",
        "colab": {},
        "outputId": "41f93607-6fdc-46b4-ca9c-88829150394b"
      },
      "source": [
        "#one-way anova model age grouped across year\n",
        "model = ols('Age ~ Year', data=df20).fit()\n",
        "table = sm.stats.anova_lm(model, typ=2)\n",
        "print(\"          One-way ANOVA of Age distibutions for Years 1999-2013\",\"\\n\\n\", table)"
      ],
      "execution_count": 0,
      "outputs": [
        {
          "output_type": "stream",
          "text": [
            "          One-way ANOVA of Age distibutions for Years 1999-2013 \n",
            "\n",
            "                 sum_sq       df          F        PR(>F)\n",
            "Year      3.624647e+04     14.0  31.128203  6.005014e-84\n",
            "Residual  7.155726e+06  86034.0        NaN           NaN\n"
          ],
          "name": "stdout"
        }
      ]
    },
    {
      "cell_type": "markdown",
      "metadata": {
        "id": "pQoQBJ6ld5Nl",
        "colab_type": "text"
      },
      "source": [
        "#### Normal Distribution of Residuals "
      ]
    },
    {
      "cell_type": "code",
      "metadata": {
        "id": "plCHOiPFd5Nl",
        "colab_type": "code",
        "colab": {},
        "outputId": "28064918-3d17-456f-e0f3-6c9850242c6d"
      },
      "source": [
        "#Shapiro-Wilks tests for normality of model residuals\n",
        "w, pvalue = stats.shapiro(model.resid)\n",
        "print(\"Test Statistic against Null Hypothesis of Normal Distribution: \", round(w,4),'\\n' \"p=value: \", round(pvalue,4))"
      ],
      "execution_count": 0,
      "outputs": [
        {
          "output_type": "stream",
          "text": [
            "Test Statistic against Null Hypothesis of Normal Distribution:  0.9351 \n",
            "p=value:  0.0\n"
          ],
          "name": "stdout"
        },
        {
          "output_type": "stream",
          "text": [
            "C:\\Users\\Akuma2099\\Anaconda3\\lib\\site-packages\\scipy\\stats\\morestats.py:1309: UserWarning: p-value may not be accurate for N > 5000.\n",
            "  warnings.warn(\"p-value may not be accurate for N > 5000.\")\n"
          ],
          "name": "stderr"
        }
      ]
    },
    {
      "cell_type": "markdown",
      "metadata": {
        "id": "GTb9r4Bhd5Nm",
        "colab_type": "text"
      },
      "source": [
        "We run a Shapiro-Wilks test for normality but due to the high sample size the p-value is not conslusive. So we plot the residuals on a distribution plot and a QQ plot. The plots indicate that the residuals are not evenly distributed.   "
      ]
    },
    {
      "cell_type": "code",
      "metadata": {
        "id": "UtMxRDYEd5Nn",
        "colab_type": "code",
        "colab": {},
        "outputId": "6d4326ce-adea-4d0d-a466-212c16f03d6f"
      },
      "source": [
        "fig, (ax1, ax2) = plt.subplots(ncols=2, figsize=(10, 4), sharey=False)\n",
        "#plt.figure(figsize=(10,5))\n",
        "sns.distplot(model.resid, ax=ax1)\n",
        "sm.qqplot(model.resid, line ='45',ax=ax2) \n",
        "py.show() "
      ],
      "execution_count": 0,
      "outputs": [
        {
          "output_type": "display_data",
          "data": {
            "image/png": "[encoded data removed]",
            "text/plain": [
              "<Figure size 720x288 with 2 Axes>"
            ]
          },
          "metadata": {
            "tags": [],
            "needs_background": "light"
          }
        }
      ]
    },
    {
      "cell_type": "markdown",
      "metadata": {
        "id": "d-7ljqBvd5No",
        "colab_type": "text"
      },
      "source": [
        "#### Homogeneity of Variances"
      ]
    },
    {
      "cell_type": "code",
      "metadata": {
        "id": "ulJ9wFZ7d5Np",
        "colab_type": "code",
        "colab": {},
        "outputId": "3956e6c3-b918-4753-d838-f82cb983d971"
      },
      "source": [
        "#bartlett test for homogeneity of variances\n",
        "w, pvalue = stats.bartlett( df20.loc[df20['Year'] == \"1999\", 'Age'], df20.loc[df20['Year'] == \"2000\", 'Age'], df20.loc[df20['Year'] == \"2001\", 'Age'], \n",
        "                            df20.loc[df20['Year'] == \"2003\", 'Age'], df20.loc[df20['Year'] == \"2004\", 'Age'], df20.loc[df20['Year'] == \"2005\", 'Age'],\n",
        "                            df20.loc[df20['Year'] == \"2006\", 'Age'], df20.loc[df20['Year'] == \"2007\", 'Age'], df20.loc[df20['Year'] == \"2008\", 'Age'],\n",
        "                            df20.loc[df20['Year'] == \"2009\", 'Age'], df20.loc[df20['Year'] == \"2010\", 'Age'], df20.loc[df20['Year'] == \"2011\", 'Age'],\n",
        "                            df20.loc[df20['Year'] == \"2012\", 'Age'], df20.loc[df20['Year'] == \"2013\", 'Age'])\n",
        "print(\"Test Statistic against Null Hypothesis of equal variance: \", round(w,4),'\\n' \"p=value: \", round(pvalue,4))"
      ],
      "execution_count": 0,
      "outputs": [
        {
          "output_type": "stream",
          "text": [
            "Test Statistic against Null Hypothesis of equal variance:  27.1705 \n",
            "p=value:  0.0118\n"
          ],
          "name": "stdout"
        }
      ]
    },
    {
      "cell_type": "markdown",
      "metadata": {
        "id": "xjaLm240d5Nr",
        "colab_type": "text"
      },
      "source": [
        "We go on to test the homogeneity of variances using a bartlett test and the resulting p-value of .0118 indicates that the we cannot assume homogeneity of variances. Though our assumptions were not porperly satisfied we still go on and conduct a multiple pairwise comparison of the groups as the EDA still validates the results of the ANOVA. "
      ]
    },
    {
      "cell_type": "markdown",
      "metadata": {
        "id": "bQKnX-iUd5Nr",
        "colab_type": "text"
      },
      "source": [
        "#### Tukey HD"
      ]
    },
    {
      "cell_type": "code",
      "metadata": {
        "id": "_t7ZB55dd5Nr",
        "colab_type": "code",
        "colab": {},
        "outputId": "98ba0dbd-732f-4d53-ba1e-e2a89c46c0c7"
      },
      "source": [
        "# perform multiple pairwise comparison (Tukey HSD)\n",
        "m_comp = pairwise_tukeyhsd(endog=df20['Age'], groups=df20['Year'], alpha=0.05)\n",
        "print(m_comp)"
      ],
      "execution_count": 0,
      "outputs": [
        {
          "output_type": "stream",
          "text": [
            "Multiple Comparison of Means - Tukey HSD,FWER=0.05\n",
            "=============================================\n",
            "group1 group2 meandiff  lower   upper  reject\n",
            "---------------------------------------------\n",
            " 1999   2000   0.6635  -0.2581  1.5851 False \n",
            " 1999   2001  -0.0697   -0.924  0.7847 False \n",
            " 1999   2002   0.2609  -0.5728  1.0945 False \n",
            " 1999   2003   0.1096  -0.7146  0.9338 False \n",
            " 1999   2004  -0.9919  -1.8007 -0.1832  True \n",
            " 1999   2005  -0.7155  -1.5085  0.0775 False \n",
            " 1999   2006  -1.2216  -1.9855 -0.4578  True \n",
            " 1999   2007  -1.4444  -2.2062 -0.6825  True \n",
            " 1999   2008  -1.6518  -2.3982 -0.9055  True \n",
            " 1999   2009  -1.7763  -2.4991 -1.0535  True \n",
            " 1999   2010   -1.575  -2.2929  -0.857  True \n",
            " 1999   2011  -1.1301  -1.8466 -0.4136  True \n",
            " 1999   2012   -1.008  -1.7192 -0.2969  True \n",
            " 1999   2013  -0.4298   -1.137  0.2773 False \n",
            " 2000   2001  -0.7332  -1.6077  0.1413 False \n",
            " 2000   2002  -0.4027  -1.2569  0.4516 False \n",
            " 2000   2003  -0.5539  -1.3989  0.2912 False \n",
            " 2000   2004  -1.6554  -2.4854 -0.8254  True \n",
            " 2000   2005   -1.379  -2.1937 -0.5644  True \n",
            " 2000   2006  -1.8851  -2.6714 -1.0988  True \n",
            " 2000   2007  -2.1079  -2.8923 -1.3235  True \n",
            " 2000   2008  -2.3154  -3.0847 -1.5461  True \n",
            " 2000   2009  -2.4398  -3.1863 -1.6933  True \n",
            " 2000   2010  -2.2385  -2.9803 -1.4967  True \n",
            " 2000   2011  -1.7936   -2.534 -1.0533  True \n",
            " 2000   2012  -1.6715  -2.4067 -0.9363  True \n",
            " 2000   2013  -1.0933  -1.8247  -0.362  True \n",
            " 2001   2002   0.3305  -0.4508  1.1118 False \n",
            " 2001   2003   0.1793  -0.5919  0.9504 False \n",
            " 2001   2004  -0.9223  -1.6769 -0.1676  True \n",
            " 2001   2005  -0.6459  -1.3836  0.0919 False \n",
            " 2001   2006   -1.152  -1.8583 -0.4457  True \n",
            " 2001   2007  -1.3747  -2.0789 -0.6706  True \n",
            " 2001   2008  -1.5822  -2.2695 -0.8949  True \n",
            " 2001   2009  -1.7067  -2.3684  -1.045  True \n",
            " 2001   2010  -1.5053  -2.1617 -0.8489  True \n",
            " 2001   2011  -1.0605  -1.7153 -0.4057  True \n",
            " 2001   2012  -0.9384  -1.5873 -0.2894  True \n",
            " 2001   2013  -0.3602  -1.0047  0.2844 False \n",
            " 2002   2003  -0.1512  -0.8994  0.5969 False \n",
            " 2002   2004  -1.2528  -1.9839 -0.5217  True \n",
            " 2002   2005  -0.9764  -1.6901 -0.2627  True \n",
            " 2002   2006  -1.4825  -2.1636 -0.8014  True \n",
            " 2002   2007  -1.7052  -2.3841 -1.0263  True \n",
            " 2002   2008  -1.9127  -2.5741 -1.2513  True \n",
            " 2002   2009  -2.0372  -2.6719 -1.4024  True \n",
            " 2002   2010  -1.8358   -2.465 -1.2066  True \n",
            " 2002   2011   -1.391  -2.0185 -0.7634  True \n",
            " 2002   2012  -1.2689  -1.8903 -0.6474  True \n",
            " 2002   2013  -0.6907  -1.3075 -0.0738  True \n",
            " 2003   2004  -1.1016  -1.8219 -0.3813  True \n",
            " 2003   2005  -0.8252  -1.5277 -0.1226  True \n",
            " 2003   2006  -1.3313  -2.0007 -0.6618  True \n",
            " 2003   2007   -1.554  -2.2212 -0.8868  True \n",
            " 2003   2008  -1.7615  -2.4109  -1.112  True \n",
            " 2003   2009  -1.8859  -2.5082 -1.2637  True \n",
            " 2003   2010  -1.6846  -2.3012  -1.068  True \n",
            " 2003   2011  -1.2398  -1.8547 -0.6249  True \n",
            " 2003   2012  -1.1176  -1.7263  -0.509  True \n",
            " 2003   2013  -0.5394  -1.1434  0.0646 False \n",
            " 2004   2005   0.2764   -0.408  0.9608 False \n",
            " 2004   2006  -0.2297  -0.8801  0.4207 False \n",
            " 2004   2007  -0.4524  -1.1005  0.1956 False \n",
            " 2004   2008  -0.6599  -1.2896 -0.0302  True \n",
            " 2004   2009  -0.7844   -1.386 -0.1827  True \n",
            " 2004   2010   -0.583  -1.1789  0.0128 False \n",
            " 2004   2011  -0.1382  -0.7323  0.4559 False \n",
            " 2004   2012  -0.0161  -0.6037  0.5715 False \n",
            " 2004   2013   0.5621  -0.0206  1.1449 False \n",
            " 2005   2006  -0.5061  -1.1368  0.1246 False \n",
            " 2005   2007  -0.7288  -1.3572 -0.1005  True \n",
            " 2005   2008  -0.9363  -1.5457 -0.3269  True \n",
            " 2005   2009  -1.0608  -1.6411 -0.4804  True \n",
            " 2005   2010  -0.8594  -1.4337 -0.2852  True \n",
            " 2005   2011  -0.4146   -0.987  0.1578 False \n",
            " 2005   2012  -0.2925  -0.8582  0.2733 False \n",
            " 2005   2013   0.2857   -0.275  0.8464 False \n",
            " 2006   2007  -0.2227  -0.8138  0.3683 False \n",
            " 2006   2008  -0.4302  -1.0011  0.1407 False \n",
            " 2006   2009  -0.5547  -1.0945 -0.0149  True \n",
            " 2006   2010  -0.3533  -0.8866  0.1799 False \n",
            " 2006   2011   0.0915  -0.4398  0.6228 False \n",
            " 2006   2012   0.2136  -0.3104  0.7377 False \n",
            " 2006   2013   0.7918   0.2732  1.3105  True \n",
            " 2007   2008  -0.2075  -0.7757  0.3608 False \n",
            " 2007   2009  -0.3319  -0.8689  0.2051 False \n",
            " 2007   2010  -0.1306   -0.661  0.3998 False \n",
            " 2007   2011   0.3142  -0.2142  0.8427 False \n",
            " 2007   2012   0.4364  -0.0848  0.9575 False \n",
            " 2007   2013   1.0146   0.4988  1.5303  True \n",
            " 2008   2009  -0.1245  -0.6392  0.3903 False \n",
            " 2008   2010   0.0769   -0.431  0.5847 False \n",
            " 2008   2011   0.5217   0.0159  1.0275  True \n",
            " 2008   2012   0.6438   0.1456  1.142   True \n",
            " 2008   2013   1.222    0.7296  1.7145  True \n",
            " 2009   2010   0.2013  -0.2713  0.6739 False \n",
            " 2009   2011   0.6462   0.1758  1.1166  True \n",
            " 2009   2012   0.7683   0.3061  1.2305  True \n",
            " 2009   2013   1.3465   0.8904  1.8026  True \n",
            " 2010   2011   0.4448   -0.018  0.9077 False \n",
            " 2010   2012   0.567    0.1124  1.0215  True \n",
            " 2010   2013   1.1452   0.6969  1.5935  True \n",
            " 2011   2012   0.1221  -0.3301  0.5744 False \n",
            " 2011   2013   0.7003   0.2544  1.1463  True \n",
            " 2012   2013   0.5782   0.1409  1.0155  True \n",
            "---------------------------------------------\n"
          ],
          "name": "stdout"
        }
      ]
    },
    {
      "cell_type": "markdown",
      "metadata": {
        "id": "c5Ci8jHCd5Nt",
        "colab_type": "text"
      },
      "source": [
        "<u> Change Point / Mean Diff </u><br />\n",
        "2004: -0.9919  \n",
        "2008: -0.6599  \n",
        "2011:  0.5217   \n",
        "\n",
        "The pairwise comaparison identifies 3 possible change points. Though the points seem to correlate with our visual analysis, the Tukey HD test requires that the same assumpitions be met as ANOVA, so we merely note these points but move on to a non-parametric comparison of distibutions and do a pairwise comparison using the Kolmogorov-Smirnov test of equal distribution."
      ]
    },
    {
      "cell_type": "code",
      "metadata": {
        "id": "omCqe0AUd5Nu",
        "colab_type": "code",
        "colab": {},
        "outputId": "bb5c92e0-c242-402f-db3b-7a85c90d43a5"
      },
      "source": [
        "plt.figure(figsize=(8,5))\n",
        "sns.regplot(x=\"Year\", y=\"mean\", data=dfAgeStats, lowess=True)\n",
        "plt.xlim(1998, 2014)"
      ],
      "execution_count": 0,
      "outputs": [
        {
          "output_type": "execute_result",
          "data": {
            "text/plain": [
              "(1998, 2014)"
            ]
          },
          "metadata": {
            "tags": []
          },
          "execution_count": 488
        },
        {
          "output_type": "display_data",
          "data": {
            "image/png": "[encoded data removed]",
            "text/plain": [
              "<Figure size 576x360 with 1 Axes>"
            ]
          },
          "metadata": {
            "tags": []
          }
        }
      ]
    },
    {
      "cell_type": "code",
      "metadata": {
        "id": "ALUxmYvvd5Nw",
        "colab_type": "code",
        "colab": {},
        "outputId": "b248c67d-e70a-4a0a-866f-d381de756d86"
      },
      "source": [
        "#Kolmogorov-Smirnov test of equal distribution\n",
        "from scipy.stats import ks_2samp\n",
        "y1=1999\n",
        "y2=2000\n",
        "\n",
        "while y1 < 2013:\n",
        "    x = df30.loc[df30['Year'] == y1, 'Age']; y = df30.loc[df30['Year'] == y2, 'Age']\n",
        "    print(y1,\"/\",y2, \" p-value\", round(ks_2samp(x, y)[1],8))\n",
        "    y1+=1\n",
        "    y2+=1"
      ],
      "execution_count": 0,
      "outputs": [
        {
          "output_type": "stream",
          "text": [
            "1999 / 2000  p-value 0.10396729\n",
            "2000 / 2001  p-value 0.00516106\n",
            "2001 / 2002  p-value 0.8080092\n",
            "2002 / 2003  p-value 0.97618293\n",
            "2003 / 2004  p-value 3.9e-07\n",
            "2004 / 2005  p-value 0.10977558\n",
            "2005 / 2006  p-value 0.03029555\n",
            "2006 / 2007  p-value 0.34212919\n",
            "2007 / 2008  p-value 0.16650074\n",
            "2008 / 2009  p-value 0.66781336\n",
            "2009 / 2010  p-value 0.15912244\n",
            "2010 / 2011  p-value 0.00129462\n",
            "2011 / 2012  p-value 0.11066025\n",
            "2012 / 2013  p-value 4.9e-07\n"
          ],
          "name": "stdout"
        }
      ]
    },
    {
      "cell_type": "markdown",
      "metadata": {
        "id": "tvECRv1Gd5Ny",
        "colab_type": "text"
      },
      "source": [
        "Using the Kolmogorov-Smirnov test we identify a change point as a year pairing that is significantly different, but where neither the previous the previous pairing nor subsequent pairing are significantly different and where three consecutive similar pairings are a considered a trend. The results of the tests suggest that at a significance level of p < .01; 2000:2001, 2003:2004, and 2010:2011 indicate that a change point may have occured.  "
      ]
    },
    {
      "cell_type": "markdown",
      "metadata": {
        "id": "3ZUYx1rQd5Nz",
        "colab_type": "text"
      },
      "source": [
        "# Linear Regression\n",
        "Next we will explore linear regression techniques to see if we can forecast future average ages as well as see if we can predict the ages of the runners based on the year."
      ]
    },
    {
      "cell_type": "code",
      "metadata": {
        "id": "Kl3qClY6d5N0",
        "colab_type": "code",
        "colab": {},
        "outputId": "db46dd9d-28d0-4051-a723-b1add42898b6"
      },
      "source": [
        "#separating input data into two parts X (features) and Y (target)\n",
        "features = ['Year', 'RunTime', 'PaceTime']\n",
        "\n",
        "X = df1[features].copy()\n",
        "\n",
        "#This makes our model's coefficients take on the same scale for accurate feature importance analysis\n",
        "#Notice we scaled the data before the cross validation\n",
        "\n",
        "Y= df1[['Age']].copy()\n",
        "Y.shape"
      ],
      "execution_count": 0,
      "outputs": [
        {
          "output_type": "execute_result",
          "data": {
            "text/plain": [
              "(86169, 1)"
            ]
          },
          "metadata": {
            "tags": []
          },
          "execution_count": 65
        }
      ]
    },
    {
      "cell_type": "markdown",
      "metadata": {
        "id": "iFaG6Ksbd5N3",
        "colab_type": "text"
      },
      "source": [
        "#### Cross Validation"
      ]
    },
    {
      "cell_type": "code",
      "metadata": {
        "id": "p6egvS_nd5N3",
        "colab_type": "code",
        "colab": {}
      },
      "source": [
        "#Divide data into test and training splits\n",
        "from sklearn.model_selection import ShuffleSplit\n",
        "cv = ShuffleSplit(n_splits=10, test_size=0.20, random_state=0)"
      ],
      "execution_count": 0,
      "outputs": []
    },
    {
      "cell_type": "code",
      "metadata": {
        "id": "eggC4jHNd5N4",
        "colab_type": "code",
        "colab": {}
      },
      "source": [
        "#Use mean absolute error (MAE) to score the regression models created \n",
        "#(the scale of MAE is identical to the response variable)\n",
        "from sklearn.metrics import mean_absolute_error, make_scorer, mean_squared_error\n",
        "\n",
        "#Function for Root mean squared error\n",
        "#https://stackoverflow.com/questions/17197492/root-mean-square-error-in-python\n",
        "def rmse(y_actual, y_predicted):\n",
        "    return np.sqrt(mean_squared_error(y_actual, y_predicted))\n",
        "\n",
        "#Function for Mean Absolute Percentage Error (MAPE) - Untested\n",
        "#Adapted from - https://stackoverflow.com/questions/42250958/how-to-optimize-mape-code-in-python\n",
        "def mape(y_actual, y_predicted): \n",
        "    mask = y_actual != 0\n",
        "    return (np.fabs(y_actual - y_predicted)/y_actual)[mask].mean() * 100\n",
        "\n",
        "#Create scorers for rmse and mape functions\n",
        "mae_scorer = make_scorer(score_func=mean_absolute_error, greater_is_better=False)\n",
        "rmse_scorer = make_scorer(score_func=rmse, greater_is_better=False)\n",
        "mape_scorer = make_scorer(score_func=mape, greater_is_better=False)\n",
        "\n",
        "#Make scorer array to pass into cross_validate() function for producing mutiple scores for each cv fold.\n",
        "errorScoring = {'MAE':  mae_scorer, \n",
        "                'RMSE': rmse_scorer,\n",
        "                'MAPE': mape_scorer\n",
        "               }"
      ],
      "execution_count": 0,
      "outputs": []
    },
    {
      "cell_type": "code",
      "metadata": {
        "id": "589s99Gvd5N6",
        "colab_type": "code",
        "colab": {}
      },
      "source": [
        "from sklearn.model_selection import cross_validate\n",
        "\n",
        "def EvaluateRegressionEstimator(regEstimator, X, y, cv):\n",
        "    \n",
        "    scores = cross_validate(regEstimator, X, y, scoring=errorScoring, cv=cv, return_train_score=True)\n",
        "\n",
        "    #cross val score sign-flips the outputs of MAE\n",
        "    # https://github.com/scikit-learn/scikit-learn/issues/2439\n",
        "    scores['test_MAE'] = scores['test_MAE'] * -1\n",
        "    scores['test_MAPE'] = scores['test_MAPE'] * -1\n",
        "    scores['test_RMSE'] = scores['test_RMSE'] * -1\n",
        "\n",
        "    #print mean MAE for all folds \n",
        "    maeAvg = scores['test_MAE'].mean()\n",
        "    print_str = \"The average MAE for all cv folds is: \\t\\t\\t {maeAvg:.5}\"\n",
        "    print(print_str.format(maeAvg=maeAvg))\n",
        "\n",
        "    #print mean test_MAPE for all folds\n",
        "    scores['test_MAPE'] = scores['test_MAPE']\n",
        "    mape_avg = scores['test_MAPE'].mean()\n",
        "    print_str = \"The average MAE percentage (MAPE) for all cv folds is: \\t {mape_avg:.5}\"\n",
        "    print(print_str.format(mape_avg=mape_avg))\n",
        "\n",
        "    #print mean MAE for all folds \n",
        "    RMSEavg = scores['test_RMSE'].mean()\n",
        "    print_str = \"The average RMSE for all cv folds is: \\t\\t\\t {RMSEavg:.5}\"\n",
        "    print(print_str.format(RMSEavg=RMSEavg))\n",
        "    print('*********************************************************')\n",
        "\n",
        "    print('Cross Validation Fold Mean Error Scores')\n",
        "    scoresResults = pd.DataFrame()\n",
        "    scoresResults['MAE'] = scores['test_MAE']\n",
        "    scoresResults['MAPE'] = scores['test_MAPE']\n",
        "    scoresResults['RMSE'] = scores['test_RMSE']\n",
        "    return scoresResults"
      ],
      "execution_count": 0,
      "outputs": []
    },
    {
      "cell_type": "markdown",
      "metadata": {
        "id": "4xDlUAyLd5N7",
        "colab_type": "text"
      },
      "source": [
        "#### Making Custom Estimators"
      ]
    },
    {
      "cell_type": "code",
      "metadata": {
        "id": "V9lVJSKBd5N8",
        "colab_type": "code",
        "colab": {}
      },
      "source": [
        "#Make new estimator compatible for use with GridSearchCV() and cross_validate()\n",
        "# -  Cap predict function for LinearRegression between 0 and 100\n",
        "# -  See: Roll your own estimator links above for details. \n",
        "from sklearn.base import BaseEstimator, RegressorMixin\n",
        "from sklearn.linear_model import LinearRegression\n",
        "\n",
        "class CappedLinearRegression(LinearRegression):\n",
        "\n",
        "    def predict(self, X):\n",
        "        return np.clip(super(CappedLinearRegression, self).predict(X), 0, 100)"
      ],
      "execution_count": 0,
      "outputs": []
    },
    {
      "cell_type": "markdown",
      "metadata": {
        "id": "4VSZIm7id5N-",
        "colab_type": "text"
      },
      "source": [
        "#### Baseline LInear Regression Grid Search"
      ]
    },
    {
      "cell_type": "code",
      "metadata": {
        "id": "RFacNPR9d5N_",
        "colab_type": "code",
        "colab": {},
        "outputId": "0bfc7496-ffcc-4882-a015-d38da76d19ba"
      },
      "source": [
        "#Create a Linear Regression object and perform a grid search to find the best parameters\n",
        "linreg = CappedLinearRegression()\n",
        "parameters3 = {'normalize':(True,False), 'fit_intercept':(True,False)}\n",
        "\n",
        "#Create a grid search object using the  \n",
        "from sklearn.model_selection import GridSearchCV\n",
        "regGridSearchbase = GridSearchCV(estimator=linreg\n",
        "                   , verbose=1 # low verbosity\n",
        "                   , param_grid=parameters3\n",
        "                   , cv=cv # KFolds = 10\n",
        "                   , scoring=mae_scorer)\n",
        "\n",
        "#Perform hyperparameter search to find the best combination of parameters for our data\n",
        "regGridSearchbase.fit(X, Y)"
      ],
      "execution_count": 0,
      "outputs": [
        {
          "output_type": "stream",
          "text": [
            "Fitting 10 folds for each of 4 candidates, totalling 40 fits\n"
          ],
          "name": "stdout"
        },
        {
          "output_type": "stream",
          "text": [
            "[Parallel(n_jobs=1)]: Using backend SequentialBackend with 1 concurrent workers.\n",
            "[Parallel(n_jobs=1)]: Done  40 out of  40 | elapsed:    0.8s finished\n"
          ],
          "name": "stderr"
        },
        {
          "output_type": "execute_result",
          "data": {
            "text/plain": [
              "GridSearchCV(cv=ShuffleSplit(n_splits=10, random_state=0, test_size=0.2, train_size=None),\n",
              "             error_score=nan,\n",
              "             estimator=CappedLinearRegression(copy_X=True, fit_intercept=True,\n",
              "                                              n_jobs=None, normalize=False),\n",
              "             iid='deprecated', n_jobs=None,\n",
              "             param_grid={'fit_intercept': (True, False),\n",
              "                         'normalize': (True, False)},\n",
              "             pre_dispatch='2*n_jobs', refit=True, return_train_score=False,\n",
              "             scoring=make_scorer(mean_absolute_error, greater_is_better=False),\n",
              "             verbose=1)"
            ]
          },
          "metadata": {
            "tags": []
          },
          "execution_count": 70
        }
      ]
    },
    {
      "cell_type": "code",
      "metadata": {
        "id": "NKWJueXud5OA",
        "colab_type": "code",
        "colab": {},
        "outputId": "787a3d2f-9ce9-44d7-d0b3-f7853b2d5e80"
      },
      "source": [
        "#Print the parameterization of the best estimator\n",
        "regGridSearchbase.best_estimator_"
      ],
      "execution_count": 0,
      "outputs": [
        {
          "output_type": "execute_result",
          "data": {
            "text/plain": [
              "CappedLinearRegression(copy_X=True, fit_intercept=True, n_jobs=None,\n",
              "                       normalize=True)"
            ]
          },
          "metadata": {
            "tags": []
          },
          "execution_count": 71
        }
      ]
    },
    {
      "cell_type": "code",
      "metadata": {
        "id": "uxaArWK_d5OC",
        "colab_type": "code",
        "colab": {},
        "outputId": "3755c4b9-d3bd-4012-b52c-f80f180cb732"
      },
      "source": [
        "#Create CappedLinearRegression predictions between 0 and 100% using the best parameters for our Linear Regression object\n",
        "regEstimatorbase = regGridSearchbase.best_estimator_\n",
        "\n",
        "#Evaluate the regression estimator above using our pre-defined cross validation and scoring metrics. \n",
        "EvaluateRegressionEstimator(regEstimatorbase, X, Y, cv)"
      ],
      "execution_count": 0,
      "outputs": [
        {
          "output_type": "stream",
          "text": [
            "The average MAE for all cv folds is: \t\t\t 7.3529\n",
            "The average MAE percentage (MAPE) for all cv folds is: \t 22.332\n",
            "The average RMSE for all cv folds is: \t\t\t 9.1564\n",
            "*********************************************************\n",
            "Cross Validation Fold Mean Error Scores\n"
          ],
          "name": "stdout"
        },
        {
          "output_type": "execute_result",
          "data": {
            "text/html": [
              "<div>\n",
              "<style scoped>\n",
              "    .dataframe tbody tr th:only-of-type {\n",
              "        vertical-align: middle;\n",
              "    }\n",
              "\n",
              "    .dataframe tbody tr th {\n",
              "        vertical-align: top;\n",
              "    }\n",
              "\n",
              "    .dataframe thead th {\n",
              "        text-align: right;\n",
              "    }\n",
              "</style>\n",
              "<table border=\"1\" class=\"dataframe\">\n",
              "  <thead>\n",
              "    <tr style=\"text-align: right;\">\n",
              "      <th></th>\n",
              "      <th>MAE</th>\n",
              "      <th>MAPE</th>\n",
              "      <th>RMSE</th>\n",
              "    </tr>\n",
              "  </thead>\n",
              "  <tbody>\n",
              "    <tr>\n",
              "      <th>0</th>\n",
              "      <td>7.362397</td>\n",
              "      <td>22.203248</td>\n",
              "      <td>9.202555</td>\n",
              "    </tr>\n",
              "    <tr>\n",
              "      <th>1</th>\n",
              "      <td>7.346731</td>\n",
              "      <td>22.245239</td>\n",
              "      <td>9.178634</td>\n",
              "    </tr>\n",
              "    <tr>\n",
              "      <th>2</th>\n",
              "      <td>7.417983</td>\n",
              "      <td>22.592230</td>\n",
              "      <td>9.213945</td>\n",
              "    </tr>\n",
              "    <tr>\n",
              "      <th>3</th>\n",
              "      <td>7.367599</td>\n",
              "      <td>22.418641</td>\n",
              "      <td>9.145784</td>\n",
              "    </tr>\n",
              "    <tr>\n",
              "      <th>4</th>\n",
              "      <td>7.361852</td>\n",
              "      <td>22.244816</td>\n",
              "      <td>9.170254</td>\n",
              "    </tr>\n",
              "    <tr>\n",
              "      <th>5</th>\n",
              "      <td>7.372857</td>\n",
              "      <td>22.381290</td>\n",
              "      <td>9.192536</td>\n",
              "    </tr>\n",
              "    <tr>\n",
              "      <th>6</th>\n",
              "      <td>7.296773</td>\n",
              "      <td>22.271703</td>\n",
              "      <td>9.061802</td>\n",
              "    </tr>\n",
              "    <tr>\n",
              "      <th>7</th>\n",
              "      <td>7.335179</td>\n",
              "      <td>22.303049</td>\n",
              "      <td>9.122885</td>\n",
              "    </tr>\n",
              "    <tr>\n",
              "      <th>8</th>\n",
              "      <td>7.302884</td>\n",
              "      <td>22.333188</td>\n",
              "      <td>9.088240</td>\n",
              "    </tr>\n",
              "    <tr>\n",
              "      <th>9</th>\n",
              "      <td>7.364664</td>\n",
              "      <td>22.329016</td>\n",
              "      <td>9.187160</td>\n",
              "    </tr>\n",
              "  </tbody>\n",
              "</table>\n",
              "</div>"
            ],
            "text/plain": [
              "        MAE       MAPE      RMSE\n",
              "0  7.362397  22.203248  9.202555\n",
              "1  7.346731  22.245239  9.178634\n",
              "2  7.417983  22.592230  9.213945\n",
              "3  7.367599  22.418641  9.145784\n",
              "4  7.361852  22.244816  9.170254\n",
              "5  7.372857  22.381290  9.192536\n",
              "6  7.296773  22.271703  9.061802\n",
              "7  7.335179  22.303049  9.122885\n",
              "8  7.302884  22.333188  9.088240\n",
              "9  7.364664  22.329016  9.187160"
            ]
          },
          "metadata": {
            "tags": []
          },
          "execution_count": 72
        }
      ]
    },
    {
      "cell_type": "markdown",
      "metadata": {
        "id": "sd080fT8d5OD",
        "colab_type": "text"
      },
      "source": [
        "\n",
        "Seems like we are off by an average of over 9 years using a baseline linear regression. Next lets try a ridge regression to see if we perform better."
      ]
    },
    {
      "cell_type": "markdown",
      "metadata": {
        "id": "KBcuyNRRd5OD",
        "colab_type": "text"
      },
      "source": [
        "#### Ridge Regression\n",
        "\n",
        "This model will use Lasso Regressions (L2 Norm) for regression of continuious variables. Documentation below:\n",
        "\n",
        "http://scikit-learn.org/stable/modules/generated/sklearn.linear_model.Ridge.html"
      ]
    },
    {
      "cell_type": "code",
      "metadata": {
        "id": "Db5c2Iojd5OE",
        "colab_type": "code",
        "colab": {},
        "outputId": "2346e41c-aedf-4b7e-f25b-5cd4d61f32fd"
      },
      "source": [
        "#Create a regression object and perform a grid search to find the best parameters\n",
        "from sklearn.linear_model import Ridge\n",
        "\n",
        "regrid = Ridge(fit_intercept=True, normalize=True,copy_X=True\n",
        "          , max_iter=1000, tol=0.0001, random_state=0)\n",
        "\n",
        "#Test parameters \n",
        "alpharid = [0.001, 0.1, 1, 5, 10, 20]\n",
        "solverrid = [ 'svd', 'cholesky', 'lsqr', 'sparse_cg', 'sag', 'saga']\n",
        "parametersrid = {'alpha': alpharid, 'solver': solverrid}\n",
        "\n",
        "#Create a grid search object using the parameters above\n",
        "from sklearn.model_selection import GridSearchCV\n",
        "regGridSearchrid = GridSearchCV(estimator=regrid\n",
        "                   , n_jobs=8 # jobs to run in parallel\n",
        "                   , verbose=1 # low verbosity\n",
        "                   , param_grid=parametersrid\n",
        "                   , cv=cv # KFolds = 10\n",
        "                   , scoring=mae_scorer)\n",
        "\n",
        "#Perform hyperparameter search to find the best combination of parameters for our data\n",
        "regGridSearchrid.fit(X, Y)"
      ],
      "execution_count": 0,
      "outputs": [
        {
          "output_type": "stream",
          "text": [
            "Fitting 10 folds for each of 36 candidates, totalling 360 fits\n"
          ],
          "name": "stdout"
        },
        {
          "output_type": "stream",
          "text": [
            "[Parallel(n_jobs=8)]: Using backend LokyBackend with 8 concurrent workers.\n",
            "[Parallel(n_jobs=8)]: Done  34 tasks      | elapsed:   34.0s\n",
            "[Parallel(n_jobs=8)]: Done 184 tasks      | elapsed:   43.9s\n",
            "[Parallel(n_jobs=8)]: Done 360 out of 360 | elapsed:   51.9s finished\n"
          ],
          "name": "stderr"
        },
        {
          "output_type": "execute_result",
          "data": {
            "text/plain": [
              "GridSearchCV(cv=ShuffleSplit(n_splits=10, random_state=0, test_size=0.2, train_size=None),\n",
              "             error_score=nan,\n",
              "             estimator=Ridge(alpha=1.0, copy_X=True, fit_intercept=True,\n",
              "                             max_iter=1000, normalize=True, random_state=0,\n",
              "                             solver='auto', tol=0.0001),\n",
              "             iid='deprecated', n_jobs=8,\n",
              "             param_grid={'alpha': [0.001, 0.1, 1, 5, 10, 20],\n",
              "                         'solver': ['svd', 'cholesky', 'lsqr', 'sparse_cg',\n",
              "                                    'sag', 'saga']},\n",
              "             pre_dispatch='2*n_jobs', refit=True, return_train_score=False,\n",
              "             scoring=make_scorer(mean_absolute_error, greater_is_better=False),\n",
              "             verbose=1)"
            ]
          },
          "metadata": {
            "tags": []
          },
          "execution_count": 74
        }
      ]
    },
    {
      "cell_type": "code",
      "metadata": {
        "id": "1EjiKH7Pd5OF",
        "colab_type": "code",
        "colab": {},
        "outputId": "9920009b-9f7e-469b-db27-b2f3db9773fb"
      },
      "source": [
        "#Display the best estimator parameters\n",
        "regGridSearchrid.best_estimator_"
      ],
      "execution_count": 0,
      "outputs": [
        {
          "output_type": "execute_result",
          "data": {
            "text/plain": [
              "Ridge(alpha=0.001, copy_X=True, fit_intercept=True, max_iter=1000,\n",
              "      normalize=True, random_state=0, solver='saga', tol=0.0001)"
            ]
          },
          "metadata": {
            "tags": []
          },
          "execution_count": 75
        }
      ]
    },
    {
      "cell_type": "code",
      "metadata": {
        "id": "96_lW0U_d5OG",
        "colab_type": "code",
        "colab": {},
        "outputId": "4c73d019-7ba6-4a0e-c262-a42403b6968b"
      },
      "source": [
        "#Create a regression estimator with best parameters for cross validation\n",
        "regEstimatorrid = regGridSearchrid.best_estimator_\n",
        "\n",
        "#Evaluate the regression estimator above using our pre-defined cross validation and scoring metrics.\n",
        "EvaluateRegressionEstimator(regEstimatorrid, X, Y, cv)"
      ],
      "execution_count": 0,
      "outputs": [
        {
          "output_type": "stream",
          "text": [
            "The average MAE for all cv folds is: \t\t\t 7.353\n",
            "The average MAE percentage (MAPE) for all cv folds is: \t 22.333\n",
            "The average RMSE for all cv folds is: \t\t\t 9.1564\n",
            "*********************************************************\n",
            "Cross Validation Fold Mean Error Scores\n"
          ],
          "name": "stdout"
        },
        {
          "output_type": "execute_result",
          "data": {
            "text/html": [
              "<div>\n",
              "<style scoped>\n",
              "    .dataframe tbody tr th:only-of-type {\n",
              "        vertical-align: middle;\n",
              "    }\n",
              "\n",
              "    .dataframe tbody tr th {\n",
              "        vertical-align: top;\n",
              "    }\n",
              "\n",
              "    .dataframe thead th {\n",
              "        text-align: right;\n",
              "    }\n",
              "</style>\n",
              "<table border=\"1\" class=\"dataframe\">\n",
              "  <thead>\n",
              "    <tr style=\"text-align: right;\">\n",
              "      <th></th>\n",
              "      <th>MAE</th>\n",
              "      <th>MAPE</th>\n",
              "      <th>RMSE</th>\n",
              "    </tr>\n",
              "  </thead>\n",
              "  <tbody>\n",
              "    <tr>\n",
              "      <th>0</th>\n",
              "      <td>7.361206</td>\n",
              "      <td>22.199728</td>\n",
              "      <td>9.201621</td>\n",
              "    </tr>\n",
              "    <tr>\n",
              "      <th>1</th>\n",
              "      <td>7.346964</td>\n",
              "      <td>22.245987</td>\n",
              "      <td>9.178145</td>\n",
              "    </tr>\n",
              "    <tr>\n",
              "      <th>2</th>\n",
              "      <td>7.418005</td>\n",
              "      <td>22.593024</td>\n",
              "      <td>9.213746</td>\n",
              "    </tr>\n",
              "    <tr>\n",
              "      <th>3</th>\n",
              "      <td>7.367753</td>\n",
              "      <td>22.418738</td>\n",
              "      <td>9.146120</td>\n",
              "    </tr>\n",
              "    <tr>\n",
              "      <th>4</th>\n",
              "      <td>7.362280</td>\n",
              "      <td>22.244970</td>\n",
              "      <td>9.170503</td>\n",
              "    </tr>\n",
              "    <tr>\n",
              "      <th>5</th>\n",
              "      <td>7.372500</td>\n",
              "      <td>22.380783</td>\n",
              "      <td>9.192101</td>\n",
              "    </tr>\n",
              "    <tr>\n",
              "      <th>6</th>\n",
              "      <td>7.297203</td>\n",
              "      <td>22.272974</td>\n",
              "      <td>9.062266</td>\n",
              "    </tr>\n",
              "    <tr>\n",
              "      <th>7</th>\n",
              "      <td>7.335715</td>\n",
              "      <td>22.305025</td>\n",
              "      <td>9.123511</td>\n",
              "    </tr>\n",
              "    <tr>\n",
              "      <th>8</th>\n",
              "      <td>7.303124</td>\n",
              "      <td>22.333775</td>\n",
              "      <td>9.088812</td>\n",
              "    </tr>\n",
              "    <tr>\n",
              "      <th>9</th>\n",
              "      <td>7.365075</td>\n",
              "      <td>22.330452</td>\n",
              "      <td>9.187287</td>\n",
              "    </tr>\n",
              "  </tbody>\n",
              "</table>\n",
              "</div>"
            ],
            "text/plain": [
              "        MAE       MAPE      RMSE\n",
              "0  7.361206  22.199728  9.201621\n",
              "1  7.346964  22.245987  9.178145\n",
              "2  7.418005  22.593024  9.213746\n",
              "3  7.367753  22.418738  9.146120\n",
              "4  7.362280  22.244970  9.170503\n",
              "5  7.372500  22.380783  9.192101\n",
              "6  7.297203  22.272974  9.062266\n",
              "7  7.335715  22.305025  9.123511\n",
              "8  7.303124  22.333775  9.088812\n",
              "9  7.365075  22.330452  9.187287"
            ]
          },
          "metadata": {
            "tags": []
          },
          "execution_count": 76
        }
      ]
    },
    {
      "cell_type": "markdown",
      "metadata": {
        "id": "pFrvoBuOd5OH",
        "colab_type": "text"
      },
      "source": [
        "After performing a ridge regression, we didn't perform any better than our baseline linear regression. This is likely due to our age group and race times being highly varied. So the relationship between age and race time is going to be muddied by the variances.\n",
        "\n",
        "Next let's do a simple linear regression to predict the average age of 2013's data using the data from 1999 - 2012."
      ]
    },
    {
      "cell_type": "code",
      "metadata": {
        "id": "EOp_EEyud5OI",
        "colab_type": "code",
        "colab": {}
      },
      "source": [
        "import pandas as pd  \n",
        "import numpy as np  \n",
        "import matplotlib.pyplot as plt  \n",
        "import seaborn as seabornInstance \n",
        "from sklearn.model_selection import train_test_split \n",
        "from sklearn.linear_model import LinearRegression\n",
        "from sklearn import metrics\n",
        "%matplotlib inline"
      ],
      "execution_count": 0,
      "outputs": []
    },
    {
      "cell_type": "markdown",
      "metadata": {
        "id": "D01dYmYnd5OJ",
        "colab_type": "text"
      },
      "source": [
        "Now let's set up our dataframe so that we are grouping the ages by year."
      ]
    },
    {
      "cell_type": "code",
      "metadata": {
        "id": "ITsJf3nkd5OJ",
        "colab_type": "code",
        "colab": {}
      },
      "source": [
        "dfage = df1.groupby('Year')['Age'].mean().reset_index()"
      ],
      "execution_count": 0,
      "outputs": []
    },
    {
      "cell_type": "code",
      "metadata": {
        "id": "prV1rYrud5OK",
        "colab_type": "code",
        "colab": {},
        "outputId": "d5d2326a-7527-4e75-bcfd-5798524d666e"
      },
      "source": [
        "dfage"
      ],
      "execution_count": 0,
      "outputs": [
        {
          "output_type": "execute_result",
          "data": {
            "text/html": [
              "<div>\n",
              "<style scoped>\n",
              "    .dataframe tbody tr th:only-of-type {\n",
              "        vertical-align: middle;\n",
              "    }\n",
              "\n",
              "    .dataframe tbody tr th {\n",
              "        vertical-align: top;\n",
              "    }\n",
              "\n",
              "    .dataframe thead th {\n",
              "        text-align: right;\n",
              "    }\n",
              "</style>\n",
              "<table border=\"1\" class=\"dataframe\">\n",
              "  <thead>\n",
              "    <tr style=\"text-align: right;\">\n",
              "      <th></th>\n",
              "      <th>Year</th>\n",
              "      <th>Age</th>\n",
              "    </tr>\n",
              "  </thead>\n",
              "  <tbody>\n",
              "    <tr>\n",
              "      <th>0</th>\n",
              "      <td>1999</td>\n",
              "      <td>34.886576</td>\n",
              "    </tr>\n",
              "    <tr>\n",
              "      <th>1</th>\n",
              "      <td>2000</td>\n",
              "      <td>35.553555</td>\n",
              "    </tr>\n",
              "    <tr>\n",
              "      <th>2</th>\n",
              "      <td>2001</td>\n",
              "      <td>34.821272</td>\n",
              "    </tr>\n",
              "    <tr>\n",
              "      <th>3</th>\n",
              "      <td>2002</td>\n",
              "      <td>35.137838</td>\n",
              "    </tr>\n",
              "    <tr>\n",
              "      <th>4</th>\n",
              "      <td>2003</td>\n",
              "      <td>35.036028</td>\n",
              "    </tr>\n",
              "    <tr>\n",
              "      <th>5</th>\n",
              "      <td>2004</td>\n",
              "      <td>33.939254</td>\n",
              "    </tr>\n",
              "    <tr>\n",
              "      <th>6</th>\n",
              "      <td>2005</td>\n",
              "      <td>34.166551</td>\n",
              "    </tr>\n",
              "    <tr>\n",
              "      <th>7</th>\n",
              "      <td>2006</td>\n",
              "      <td>33.657038</td>\n",
              "    </tr>\n",
              "    <tr>\n",
              "      <th>8</th>\n",
              "      <td>2007</td>\n",
              "      <td>33.439964</td>\n",
              "    </tr>\n",
              "    <tr>\n",
              "      <th>9</th>\n",
              "      <td>2008</td>\n",
              "      <td>33.210008</td>\n",
              "    </tr>\n",
              "    <tr>\n",
              "      <th>10</th>\n",
              "      <td>2009</td>\n",
              "      <td>33.076304</td>\n",
              "    </tr>\n",
              "    <tr>\n",
              "      <th>11</th>\n",
              "      <td>2010</td>\n",
              "      <td>33.297074</td>\n",
              "    </tr>\n",
              "    <tr>\n",
              "      <th>12</th>\n",
              "      <td>2011</td>\n",
              "      <td>33.741528</td>\n",
              "    </tr>\n",
              "    <tr>\n",
              "      <th>13</th>\n",
              "      <td>2012</td>\n",
              "      <td>33.877763</td>\n",
              "    </tr>\n",
              "    <tr>\n",
              "      <th>14</th>\n",
              "      <td>2013</td>\n",
              "      <td>34.457231</td>\n",
              "    </tr>\n",
              "  </tbody>\n",
              "</table>\n",
              "</div>"
            ],
            "text/plain": [
              "    Year        Age\n",
              "0   1999  34.886576\n",
              "1   2000  35.553555\n",
              "2   2001  34.821272\n",
              "3   2002  35.137838\n",
              "4   2003  35.036028\n",
              "5   2004  33.939254\n",
              "6   2005  34.166551\n",
              "7   2006  33.657038\n",
              "8   2007  33.439964\n",
              "9   2008  33.210008\n",
              "10  2009  33.076304\n",
              "11  2010  33.297074\n",
              "12  2011  33.741528\n",
              "13  2012  33.877763\n",
              "14  2013  34.457231"
            ]
          },
          "metadata": {
            "tags": []
          },
          "execution_count": 80
        }
      ]
    },
    {
      "cell_type": "code",
      "metadata": {
        "id": "Lt4U-lIcd5OL",
        "colab_type": "code",
        "colab": {},
        "outputId": "e52fe126-31ec-4df3-a219-b4cb09dfead5"
      },
      "source": [
        "dfage.plot(x='Year', y='Age', style='o')  \n",
        "plt.title('Average Age and Year')  \n",
        "plt.xlabel('Age')  \n",
        "plt.ylabel('Year')  \n",
        "plt.show()"
      ],
      "execution_count": 0,
      "outputs": [
        {
          "output_type": "display_data",
          "data": {
            "image/png": "[encoded data removed]",
            "text/plain": [
              "<Figure size 720x360 with 1 Axes>"
            ]
          },
          "metadata": {
            "tags": [],
            "needs_background": "light"
          }
        }
      ]
    },
    {
      "cell_type": "code",
      "metadata": {
        "id": "yOcEDHDGd5OO",
        "colab_type": "code",
        "colab": {},
        "outputId": "d97a4a53-8572-4f64-f282-f052e7dd93ec"
      },
      "source": [
        "list(dfage.columns.values)"
      ],
      "execution_count": 0,
      "outputs": [
        {
          "output_type": "execute_result",
          "data": {
            "text/plain": [
              "['Year', 'Age']"
            ]
          },
          "metadata": {
            "tags": []
          },
          "execution_count": 83
        }
      ]
    },
    {
      "cell_type": "code",
      "metadata": {
        "id": "FWla2eIpd5OQ",
        "colab_type": "code",
        "colab": {}
      },
      "source": [
        "x = dfage['Year'].values.reshape(-1,1)\n",
        "y = dfage['Age'].values.reshape(-1,1)"
      ],
      "execution_count": 0,
      "outputs": []
    },
    {
      "cell_type": "markdown",
      "metadata": {
        "id": "0DKG12ztd5OS",
        "colab_type": "text"
      },
      "source": [
        "We will set our training and testing split so that it will only test our final row, the 2013 data."
      ]
    },
    {
      "cell_type": "code",
      "metadata": {
        "id": "4j9oWy6dd5OS",
        "colab_type": "code",
        "colab": {}
      },
      "source": [
        "X_train, X_test, y_train, y_test = train_test_split(x, y, test_size=0.06, shuffle=False)"
      ],
      "execution_count": 0,
      "outputs": []
    },
    {
      "cell_type": "code",
      "metadata": {
        "id": "SyLmi3B4d5OU",
        "colab_type": "code",
        "colab": {},
        "outputId": "514d0e88-cf4c-43db-ccbc-eb24bfd9e04f"
      },
      "source": [
        "regressor = LinearRegression()  \n",
        "regressor.fit(X_train, y_train) #training the algorithm"
      ],
      "execution_count": 0,
      "outputs": [
        {
          "output_type": "execute_result",
          "data": {
            "text/plain": [
              "LinearRegression(copy_X=True, fit_intercept=True, n_jobs=None, normalize=False)"
            ]
          },
          "metadata": {
            "tags": []
          },
          "execution_count": 86
        }
      ]
    },
    {
      "cell_type": "code",
      "metadata": {
        "id": "tBWzdhfbd5OW",
        "colab_type": "code",
        "colab": {},
        "outputId": "12558a49-2206-43b2-9ce5-708b1d422bef"
      },
      "source": [
        "#To retrieve the intercept:\n",
        "print(regressor.intercept_)\n",
        "#For retrieving the slope:\n",
        "print(regressor.coef_)"
      ],
      "execution_count": 0,
      "outputs": [
        {
          "output_type": "stream",
          "text": [
            "[352.95251056]\n",
            "[[-0.15897334]]\n"
          ],
          "name": "stdout"
        }
      ]
    },
    {
      "cell_type": "code",
      "metadata": {
        "id": "00tCAsLbd5OX",
        "colab_type": "code",
        "colab": {}
      },
      "source": [
        "y_pred = regressor.predict(X_test)"
      ],
      "execution_count": 0,
      "outputs": []
    },
    {
      "cell_type": "code",
      "metadata": {
        "id": "n9uMhKVxd5OY",
        "colab_type": "code",
        "colab": {},
        "outputId": "91e46c94-072c-4ac5-bf23-ce7ff730d89b"
      },
      "source": [
        "dfreg = pd.DataFrame({'Actual': y_test.flatten(), 'Predicted': y_pred.flatten()})\n",
        "dfreg"
      ],
      "execution_count": 0,
      "outputs": [
        {
          "output_type": "execute_result",
          "data": {
            "text/html": [
              "<div>\n",
              "<style scoped>\n",
              "    .dataframe tbody tr th:only-of-type {\n",
              "        vertical-align: middle;\n",
              "    }\n",
              "\n",
              "    .dataframe tbody tr th {\n",
              "        vertical-align: top;\n",
              "    }\n",
              "\n",
              "    .dataframe thead th {\n",
              "        text-align: right;\n",
              "    }\n",
              "</style>\n",
              "<table border=\"1\" class=\"dataframe\">\n",
              "  <thead>\n",
              "    <tr style=\"text-align: right;\">\n",
              "      <th></th>\n",
              "      <th>Actual</th>\n",
              "      <th>Predicted</th>\n",
              "    </tr>\n",
              "  </thead>\n",
              "  <tbody>\n",
              "    <tr>\n",
              "      <th>0</th>\n",
              "      <td>34.457231</td>\n",
              "      <td>32.939182</td>\n",
              "    </tr>\n",
              "  </tbody>\n",
              "</table>\n",
              "</div>"
            ],
            "text/plain": [
              "      Actual  Predicted\n",
              "0  34.457231  32.939182"
            ]
          },
          "metadata": {
            "tags": []
          },
          "execution_count": 90
        }
      ]
    },
    {
      "cell_type": "code",
      "metadata": {
        "id": "RnMoEtgJd5Oa",
        "colab_type": "code",
        "colab": {},
        "outputId": "95afae67-4a97-4cfd-b730-b486a226b217"
      },
      "source": [
        "print('Mean Absolute Error:', metrics.mean_absolute_error(y_test, y_pred))  \n",
        "print('Mean Squared Error:', metrics.mean_squared_error(y_test, y_pred))  \n",
        "print('Root Mean Squared Error:', np.sqrt(metrics.mean_squared_error(y_test, y_pred)))"
      ],
      "execution_count": 0,
      "outputs": [
        {
          "output_type": "stream",
          "text": [
            "Mean Absolute Error: 1.518049114227935\n",
            "Mean Squared Error: 2.304473113208218\n",
            "Root Mean Squared Error: 1.518049114227935\n"
          ],
          "name": "stdout"
        }
      ]
    },
    {
      "cell_type": "code",
      "metadata": {
        "id": "65SnJagHd5Ob",
        "colab_type": "code",
        "colab": {}
      },
      "source": [
        ""
      ],
      "execution_count": 0,
      "outputs": []
    },
    {
      "cell_type": "code",
      "metadata": {
        "id": "64z7yEGId5Od",
        "colab_type": "code",
        "colab": {}
      },
      "source": [
        ""
      ],
      "execution_count": 0,
      "outputs": []
    },
    {
      "cell_type": "markdown",
      "metadata": {
        "id": "SKb24JY-d5Oe",
        "colab_type": "text"
      },
      "source": [
        "#### Simple Linear Regression"
      ]
    },
    {
      "cell_type": "code",
      "metadata": {
        "scrolled": false,
        "id": "U1M1os11d5Oe",
        "colab_type": "code",
        "colab": {},
        "outputId": "6d65581b-0322-413d-928e-d9f292547e97"
      },
      "source": [
        "import statsmodels.formula.api as smf\n",
        "plt.rcParams['figure.figsize'] = (10, 5)\n",
        "x = df1[\"Year\"]\n",
        "y = df1[\"Age\"]\n",
        "\n",
        "# linear regression\n",
        "f1 = smf.ols(formula = 'Age ~ Year', data = df1).fit()\n",
        "df1['f1_pred'] = f1.predict()\n",
        "print(f1.summary())\n",
        "\n",
        "fig = plt.figure()\n",
        "fig.patch.set_alpha = 0.5\n",
        "\n",
        "ax = fig.add_subplot(111)\n",
        "plt.scatter(x, y, s = 5, marker = '.')\n",
        "ax.plot(df1.Year, df1.f1_pred, linestyle = '-', linewidth = 1, marker = '', label = r'lin-reg', color='r')\n",
        "plt.show()"
      ],
      "execution_count": 0,
      "outputs": [
        {
          "output_type": "stream",
          "text": [
            "                            OLS Regression Results                            \n",
            "==============================================================================\n",
            "Dep. Variable:                    Age   R-squared:                       0.001\n",
            "Model:                            OLS   Adj. R-squared:                  0.001\n",
            "Method:                 Least Squares   F-statistic:                     98.42\n",
            "Date:                Thu, 28 May 2020   Prob (F-statistic):           3.49e-23\n",
            "Time:                        23:22:28   Log-Likelihood:            -3.1372e+05\n",
            "No. Observations:               86169   AIC:                         6.274e+05\n",
            "Df Residuals:                   86167   BIC:                         6.275e+05\n",
            "Df Model:                           1                                         \n",
            "Covariance Type:            nonrobust                                         \n",
            "==============================================================================\n",
            "                 coef    std err          t      P>|t|      [0.025      0.975]\n",
            "------------------------------------------------------------------------------\n",
            "Intercept    192.0655     15.941     12.048      0.000     160.821     223.310\n",
            "Year          -0.0788      0.008     -9.920      0.000      -0.094      -0.063\n",
            "==============================================================================\n",
            "Omnibus:                    10192.192   Durbin-Watson:                   1.914\n",
            "Prob(Omnibus):                  0.000   Jarque-Bera (JB):            14228.722\n",
            "Skew:                           0.947   Prob(JB):                         0.00\n",
            "Kurtosis:                       3.616   Cond. No.                     1.02e+06\n",
            "==============================================================================\n",
            "\n",
            "Warnings:\n",
            "[1] Standard Errors assume that the covariance matrix of the errors is correctly specified.\n",
            "[2] The condition number is large, 1.02e+06. This might indicate that there are\n",
            "strong multicollinearity or other numerical problems.\n"
          ],
          "name": "stdout"
        },
        {
          "output_type": "display_data",
          "data": {
            "image/png": "[encoded data removed]",
            "text/plain": [
              "<Figure size 720x360 with 1 Axes>"
            ]
          },
          "metadata": {
            "tags": [],
            "needs_background": "light"
          }
        }
      ]
    },
    {
      "cell_type": "markdown",
      "metadata": {
        "id": "-MzXwGT5d5Oh",
        "colab_type": "text"
      },
      "source": [
        "#### Piecewise Regression"
      ]
    },
    {
      "cell_type": "code",
      "metadata": {
        "id": "m8IlQNjxd5Oi",
        "colab_type": "code",
        "colab": {},
        "outputId": "0c40439e-96b0-45bf-c48a-5e90da2a09b8"
      },
      "source": [
        "from scipy import optimize\n",
        "x=np.array([1, 2, 3, 4, 5, 6, 7, 8, 9, 10 ,11, 12, 13, 14, 15], dtype=float)\n",
        "y = dfAgeStats[\"mean\"].values\n",
        "\n",
        "def piecewise_linear(x, x0, y0, k1, k2):\n",
        "    return np.piecewise(x, [x < x0], [lambda x:k1*x + y0-k1*x0, lambda x:k2*x + y0-k2*x0])\n",
        "\n",
        "p , e = optimize.curve_fit(piecewise_linear, x, y)\n",
        "xd = np.linspace(1, 16, 100)\n",
        "#xd = np.linspace(1999, 2014, 100)\n",
        "\n",
        "plt.plot(x, y, \"o\")\n",
        "plt.plot(xd, piecewise_linear(xd, *p)) \n"
      ],
      "execution_count": 0,
      "outputs": [
        {
          "output_type": "execute_result",
          "data": {
            "text/plain": [
              "[<matplotlib.lines.Line2D at 0x21cd52e8>]"
            ]
          },
          "metadata": {
            "tags": []
          },
          "execution_count": 49
        },
        {
          "output_type": "display_data",
          "data": {
            "image/png": "[encoded data removed]",
            "text/plain": [
              "<Figure size 432x288 with 1 Axes>"
            ]
          },
          "metadata": {
            "tags": [],
            "needs_background": "light"
          }
        }
      ]
    },
    {
      "cell_type": "code",
      "metadata": {
        "id": "4GGO48lJd5Oj",
        "colab_type": "code",
        "colab": {}
      },
      "source": [
        "import rpy2\n",
        "import rpy2.robjects as ro\n",
        "from rpy2.robjects.packages import importr"
      ],
      "execution_count": 0,
      "outputs": []
    },
    {
      "cell_type": "code",
      "metadata": {
        "id": "HlSM0TbCd5Om",
        "colab_type": "code",
        "colab": {}
      },
      "source": [
        ""
      ],
      "execution_count": 0,
      "outputs": []
    },
    {
      "cell_type": "code",
      "metadata": {
        "id": "D-wmr8Qrd5On",
        "colab_type": "code",
        "colab": {}
      },
      "source": [
        ""
      ],
      "execution_count": 0,
      "outputs": []
    },
    {
      "cell_type": "code",
      "metadata": {
        "id": "sBP8Y-Akd5Oo",
        "colab_type": "code",
        "colab": {},
        "outputId": "4b03ae57-1cfe-4eac-d2f6-04423ca1595c"
      },
      "source": [
        "df1.groupby('Year')['Time'].mean().plot(kind='line', figsize=(8,5), label=\"Mean Mean\")\n",
        "t = df1.groupby('Year')['Time'].mean().reset_index()\n",
        "sns.regplot(x=\"Year\", y=\"Time\", data=t, lowess=True)"
      ],
      "execution_count": 0,
      "outputs": [
        {
          "output_type": "execute_result",
          "data": {
            "text/plain": [
              "<matplotlib.axes._subplots.AxesSubplot at 0x1b7054a8>"
            ]
          },
          "metadata": {
            "tags": []
          },
          "execution_count": 216
        },
        {
          "output_type": "display_data",
          "data": {
            "image/png": "[encoded data removed]",
            "text/plain": [
              "<Figure size 576x360 with 1 Axes>"
            ]
          },
          "metadata": {
            "tags": [],
            "needs_background": "light"
          }
        }
      ]
    },
    {
      "cell_type": "markdown",
      "metadata": {
        "id": "Rnhr7DiYgm94",
        "colab_type": "text"
      },
      "source": [
        "# Conclusion"
      ]
    },
    {
      "cell_type": "code",
      "metadata": {
        "id": "yM8enfjzgo6Q",
        "colab_type": "code",
        "colab": {}
      },
      "source": [
        ""
      ],
      "execution_count": 0,
      "outputs": []
    }
  ]
}