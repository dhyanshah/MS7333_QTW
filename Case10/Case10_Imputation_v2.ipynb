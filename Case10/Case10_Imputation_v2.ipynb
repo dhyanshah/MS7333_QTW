{
 "cells": [
  {
   "cell_type": "code",
   "execution_count": 11,
   "metadata": {
    "colab": {},
    "colab_type": "code",
    "id": "ihy-PG-cma6R"
   },
   "outputs": [],
   "source": [
    "# Import package dependencies\n",
    "import pandas as pd\n",
    "import numpy as np\n",
    "\n",
    "import scipy.stats as stats\n",
    "import statsmodels.api as sm\n",
    "\n",
    "import sklearn\n",
    "from sklearn.datasets import load_boston\n",
    "from sklearn.linear_model import LinearRegression\n",
    "from sklearn.metrics import mean_squared_error, r2_score, mean_absolute_error\n",
    "\n",
    "import matplotlib.pyplot as plt\n",
    "from matplotlib import rcParams\n",
    "\n",
    "import seaborn as sns\n",
    "sns.set_style(\"whitegrid\")\n",
    "sns.set_context(\"poster\")\n",
    "from math import sqrt\n",
    "\n",
    "\n",
    "import altair as alt\n",
    "from ml_metrics import rmse"
   ]
  },
  {
   "cell_type": "markdown",
   "metadata": {
    "colab_type": "text",
    "id": "xL40DCjqma6V"
   },
   "source": [
    "# Abstract"
   ]
  },
  {
   "cell_type": "markdown",
   "metadata": {
    "colab_type": "text",
    "id": "I3w3mVJpma6W"
   },
   "source": [
    "# Introduction\n",
    "\n",
    "While in an ideal world all datasets would be complete, in the real world datasets often have some missing data fields. There are countless reasons for the the existence of missing data but for the most part missing data falls into one of three catergories:\n",
    "\n",
    "Missing completely at random (MCAR) - No reason why, totally random.\n",
    "Missing at random (MAR) - Typically missing only in a subset of data – the subset of data is determined by another value, but within the subset the data is randomly missing.\n",
    "Not missing at random (NMAR) - There is a definite pattern to the missing data.\n",
    "\n",
    "In the case of MCAR and and MAR, deletion of the missing values through listwise or pairwise methods can be employed, however this can present some problems. In the case of listwise deletion the resulting data set will be smaller a reduce the power of statistical tests, deletion of too many records may lead to an inaccurate representation of the data, and if the missing data is MNAR deletion of the records may obscure the presence of a systematic problem and result in biased results. In the case of pairwise deletion, the resulting dataset can lead to parameters based on different standard errors, result in measures of mean and standard for fields with a different number of observations, affect the sample sizes used for calculating correlation. All these issues can create computational problems for certain statistical analysis methods. One alternative to the deletion of missing values is assingning a value to the missing fields through imputation. However as with deletion, imputation can affect the characteristics of the dataset and bias the results of statistical computations. \n",
    "\n",
    "This project will evaluate the efficacy of deletion and imputation as solutions to missing data. We will use a complete data set, the Boston Housing dataset, to test various methods and determine the method that results in a model that best captures the characteristics of the original dataset. We will accomplish this by first fitting a linear model to the full Boston housing dataset and calculating the goodness of fit for the model parameters, that will act as our baseline and control. We will then create 6 new datasets by randomly removing 1%, 5%, 10%, 20%, 33% and 50% of the observations in a single column from the full dataset. We will then then fit each of the missing value datasets using pairwise deletion and different imputation methods and calculate the goodness of fit for each method of dealing with missing data for each level of missing data to determine the efficacy of each method given each condition.         \n"
   ]
  },
  {
   "cell_type": "markdown",
   "metadata": {
    "colab_type": "text",
    "id": "6mua3ujfma6W"
   },
   "source": [
    "# Data\n",
    "\n",
    "The Boston Housing dataset is compiled dataset derived from U.S. Census service information regarding housing in the area of Boston Massachusetts. The dataset has been used extensively to test and benchmark predictive machine learning algorithms. For this study we loaded a copy of the dataset that is available as part of the sklearn package. "
   ]
  },
  {
   "cell_type": "code",
   "execution_count": 12,
   "metadata": {
    "colab": {},
    "colab_type": "code",
    "id": "KFlVPXjJma6X",
    "outputId": "dc94420a-4e15-4fc1-8d6f-ce085ac5a754"
   },
   "outputs": [
    {
     "name": "stdout",
     "output_type": "stream",
     "text": [
      "(506, 13)\n"
     ]
    }
   ],
   "source": [
    "boston = load_boston()\n",
    "print(boston.data.shape)"
   ]
  },
  {
   "cell_type": "markdown",
   "metadata": {
    "colab_type": "text",
    "id": "i_tiyAKBma6a"
   },
   "source": [
    "The dataset consists of 506 observations accross 13 fields and is packaged in the following dictionaries: ['data', 'target', 'feature_names', 'DESCR', 'filename']. Opening the DESCR dictionary gives us detailed information regarding the data contained within the dataset along with discriptions of the predictor variables and the dependant median value attribute contained in the target dictionary.  "
   ]
  },
  {
   "cell_type": "code",
   "execution_count": 13,
   "metadata": {
    "colab": {},
    "colab_type": "code",
    "id": "P9XQXK5kma6a",
    "outputId": "b9cc53a4-6b5a-4b95-8abf-a1e4fb24f4bb"
   },
   "outputs": [
    {
     "name": "stdout",
     "output_type": "stream",
     "text": [
      ".. _boston_dataset:\n",
      "\n",
      "Boston house prices dataset\n",
      "---------------------------\n",
      "\n",
      "**Data Set Characteristics:**  \n",
      "\n",
      "    :Number of Instances: 506 \n",
      "\n",
      "    :Number of Attributes: 13 numeric/categorical predictive. Median Value (attribute 14) is usually the target.\n",
      "\n",
      "    :Attribute Information (in order):\n",
      "        - CRIM     per capita crime rate by town\n",
      "        - ZN       proportion of residential land zoned for lots over 25,000 sq.ft.\n",
      "        - INDUS    proportion of non-retail business acres per town\n",
      "        - CHAS     Charles River dummy variable (= 1 if tract bounds river; 0 otherwise)\n",
      "        - NOX      nitric oxides concentration (parts per 10 million)\n",
      "        - RM       average number of rooms per dwelling\n",
      "        - AGE      proportion of owner-occupied units built prior to 1940\n",
      "        - DIS      weighted distances to five Boston employment centres\n",
      "        - RAD      index of accessibility to radial highways\n",
      "        - TAX      full-value property-tax rate per $10,000\n",
      "        - PTRATIO  pupil-teacher ratio by town\n",
      "        - B        1000(Bk - 0.63)^2 where Bk is the proportion of blacks by town\n",
      "        - LSTAT    % lower status of the population\n",
      "        - MEDV     Median value of owner-occupied homes in $1000's\n",
      "\n",
      "    :Missing Attribute Values: None\n",
      "\n",
      "    :Creator: Harrison, D. and Rubinfeld, D.L.\n",
      "\n",
      "This is a copy of UCI ML housing dataset.\n",
      "https://archive.ics.uci.edu/ml/machine-learning-databases/housing/\n",
      "\n",
      "\n",
      "This dataset was taken from the StatLib library which is maintained at Carnegie Mellon University.\n",
      "\n",
      "The Boston house-price data of Harrison, D. and Rubinfeld, D.L. 'Hedonic\n",
      "prices and the demand for clean air', J. Environ. Economics & Management,\n",
      "vol.5, 81-102, 1978.   Used in Belsley, Kuh & Welsch, 'Regression diagnostics\n",
      "...', Wiley, 1980.   N.B. Various transformations are used in the table on\n",
      "pages 244-261 of the latter.\n",
      "\n",
      "The Boston house-price data has been used in many machine learning papers that address regression\n",
      "problems.   \n",
      "     \n",
      ".. topic:: References\n",
      "\n",
      "   - Belsley, Kuh & Welsch, 'Regression diagnostics: Identifying Influential Data and Sources of Collinearity', Wiley, 1980. 244-261.\n",
      "   - Quinlan,R. (1993). Combining Instance-Based and Model-Based Learning. In Proceedings on the Tenth International Conference of Machine Learning, 236-243, University of Massachusetts, Amherst. Morgan Kaufmann.\n",
      "\n"
     ]
    }
   ],
   "source": [
    "print(boston.DESCR)"
   ]
  },
  {
   "cell_type": "markdown",
   "metadata": {
    "colab_type": "text",
    "id": "lEd0xUyqma6d"
   },
   "source": [
    "In order to better manipulate the data. We constructed a pandas dataframe and  printed the first 5 observations. We then verified that there where no missing values in any of the fields before moving on to the exploratory data analysis."
   ]
  },
  {
   "cell_type": "code",
   "execution_count": 14,
   "metadata": {
    "colab": {},
    "colab_type": "code",
    "id": "jKKapXSgma6d",
    "outputId": "d9a8091b-264f-4bef-e27a-40d1e84191d6"
   },
   "outputs": [
    {
     "name": "stdout",
     "output_type": "stream",
     "text": [
      "      CRIM    ZN  INDUS  CHAS    NOX     RM   AGE     DIS  RAD    TAX  \\\n",
      "0  0.00632  18.0   2.31   0.0  0.538  6.575  65.2  4.0900  1.0  296.0   \n",
      "1  0.02731   0.0   7.07   0.0  0.469  6.421  78.9  4.9671  2.0  242.0   \n",
      "2  0.02729   0.0   7.07   0.0  0.469  7.185  61.1  4.9671  2.0  242.0   \n",
      "3  0.03237   0.0   2.18   0.0  0.458  6.998  45.8  6.0622  3.0  222.0   \n",
      "4  0.06905   0.0   2.18   0.0  0.458  7.147  54.2  6.0622  3.0  222.0   \n",
      "\n",
      "   PTRATIO       B  LSTAT  PRICE  \n",
      "0     15.3  396.90   4.98   24.0  \n",
      "1     17.8  396.90   9.14   21.6  \n",
      "2     17.8  392.83   4.03   34.7  \n",
      "3     18.7  394.63   2.94   33.4  \n",
      "4     18.7  396.90   5.33   36.2   \n",
      "\n",
      "NULL Values\n",
      "CRIM       0\n",
      "ZN         0\n",
      "INDUS      0\n",
      "CHAS       0\n",
      "NOX        0\n",
      "RM         0\n",
      "AGE        0\n",
      "DIS        0\n",
      "RAD        0\n",
      "TAX        0\n",
      "PTRATIO    0\n",
      "B          0\n",
      "LSTAT      0\n",
      "PRICE      0\n",
      "dtype: int64\n"
     ]
    }
   ],
   "source": [
    "bos_df = pd.DataFrame(boston.data)\n",
    "bos_df.columns = boston.feature_names\n",
    "bos_df['PRICE'] = boston.target\n",
    "print(bos_df.head(), '\\n')\n",
    "print('NULL Values')\n",
    "print(bos_df.isna().sum())"
   ]
  },
  {
   "cell_type": "markdown",
   "metadata": {
    "colab_type": "text",
    "id": "SBV3MZlhma6g"
   },
   "source": [
    "# Exploratory Data Analysis"
   ]
  },
  {
   "cell_type": "code",
   "execution_count": 15,
   "metadata": {
    "colab": {},
    "colab_type": "code",
    "id": "m7ePYGs3ma6g",
    "outputId": "8f9e4a89-f2a6-4d8e-844b-904df5a8d840"
   },
   "outputs": [
    {
     "name": "stdout",
     "output_type": "stream",
     "text": [
      "             CRIM          ZN       INDUS        CHAS         NOX          RM  \\\n",
      "count  506.000000  506.000000  506.000000  506.000000  506.000000  506.000000   \n",
      "mean     3.613524   11.363636   11.136779    0.069170    0.554695    6.284634   \n",
      "std      8.601545   23.322453    6.860353    0.253994    0.115878    0.702617   \n",
      "min      0.006320    0.000000    0.460000    0.000000    0.385000    3.561000   \n",
      "25%      0.082045    0.000000    5.190000    0.000000    0.449000    5.885500   \n",
      "50%      0.256510    0.000000    9.690000    0.000000    0.538000    6.208500   \n",
      "75%      3.677083   12.500000   18.100000    0.000000    0.624000    6.623500   \n",
      "max     88.976200  100.000000   27.740000    1.000000    0.871000    8.780000   \n",
      "\n",
      "              AGE         DIS         RAD         TAX     PTRATIO           B  \\\n",
      "count  506.000000  506.000000  506.000000  506.000000  506.000000  506.000000   \n",
      "mean    68.574901    3.795043    9.549407  408.237154   18.455534  356.674032   \n",
      "std     28.148861    2.105710    8.707259  168.537116    2.164946   91.294864   \n",
      "min      2.900000    1.129600    1.000000  187.000000   12.600000    0.320000   \n",
      "25%     45.025000    2.100175    4.000000  279.000000   17.400000  375.377500   \n",
      "50%     77.500000    3.207450    5.000000  330.000000   19.050000  391.440000   \n",
      "75%     94.075000    5.188425   24.000000  666.000000   20.200000  396.225000   \n",
      "max    100.000000   12.126500   24.000000  711.000000   22.000000  396.900000   \n",
      "\n",
      "            LSTAT       PRICE  \n",
      "count  506.000000  506.000000  \n",
      "mean    12.653063   22.532806  \n",
      "std      7.141062    9.197104  \n",
      "min      1.730000    5.000000  \n",
      "25%      6.950000   17.025000  \n",
      "50%     11.360000   21.200000  \n",
      "75%     16.955000   25.000000  \n",
      "max     37.970000   50.000000  \n"
     ]
    }
   ],
   "source": [
    "print(bos_df.describe())"
   ]
  },
  {
   "cell_type": "code",
   "execution_count": 16,
   "metadata": {
    "colab": {},
    "colab_type": "code",
    "id": "LhVX8vLAma6j",
    "outputId": "32058f80-e156-4254-9fc8-fea8aae9e07c"
   },
   "outputs": [
    {
     "data": {
      "text/html": [
       "\n",
       "<div id=\"altair-viz-b2c08d9e02604beba7957fdec1f65915\"></div>\n",
       "<script type=\"text/javascript\">\n",
       "  (function(spec, embedOpt){\n",
       "    let outputDiv = document.currentScript.previousElementSibling;\n",
       "    if (outputDiv.id !== \"altair-viz-b2c08d9e02604beba7957fdec1f65915\") {\n",
       "      outputDiv = document.getElementById(\"altair-viz-b2c08d9e02604beba7957fdec1f65915\");\n",
       "    }\n",
       "    const paths = {\n",
       "      \"vega\": \"https://cdn.jsdelivr.net/npm//vega@5?noext\",\n",
       "      \"vega-lib\": \"https://cdn.jsdelivr.net/npm//vega-lib?noext\",\n",
       "      \"vega-lite\": \"https://cdn.jsdelivr.net/npm//vega-lite@4.8.1?noext\",\n",
       "      \"vega-embed\": \"https://cdn.jsdelivr.net/npm//vega-embed@6?noext\",\n",
       "    };\n",
       "\n",
       "    function loadScript(lib) {\n",
       "      return new Promise(function(resolve, reject) {\n",
       "        var s = document.createElement('script');\n",
       "        s.src = paths[lib];\n",
       "        s.async = true;\n",
       "        s.onload = () => resolve(paths[lib]);\n",
       "        s.onerror = () => reject(`Error loading script: ${paths[lib]}`);\n",
       "        document.getElementsByTagName(\"head\")[0].appendChild(s);\n",
       "      });\n",
       "    }\n",
       "\n",
       "    function showError(err) {\n",
       "      outputDiv.innerHTML = `<div class=\"error\" style=\"color:red;\">${err}</div>`;\n",
       "      throw err;\n",
       "    }\n",
       "\n",
       "    function displayChart(vegaEmbed) {\n",
       "      vegaEmbed(outputDiv, spec, embedOpt)\n",
       "        .catch(err => showError(`Javascript Error: ${err.message}<br>This usually means there's a typo in your chart specification. See the javascript console for the full traceback.`));\n",
       "    }\n",
       "\n",
       "    if(typeof define === \"function\" && define.amd) {\n",
       "      requirejs.config({paths});\n",
       "      require([\"vega-embed\"], displayChart, err => showError(`Error loading script: ${err.message}`));\n",
       "    } else if (typeof vegaEmbed === \"function\") {\n",
       "      displayChart(vegaEmbed);\n",
       "    } else {\n",
       "      loadScript(\"vega\")\n",
       "        .then(() => loadScript(\"vega-lite\"))\n",
       "        .then(() => loadScript(\"vega-embed\"))\n",
       "        .catch(showError)\n",
       "        .then(() => displayChart(vegaEmbed));\n",
       "    }\n",
       "  })({\"config\": {\"view\": {\"continuousWidth\": 400, \"continuousHeight\": 300}}, \"repeat\": {\"column\": [\"AGE\", \"DIS\", \"TAX\", \"PTRATIO\", \"PRICE\"], \"row\": [\"CRIM\", \"ZN\", \"INDUS\", \"RM\", \"NOX\"]}, \"spec\": {\"data\": {\"name\": \"data-4c53657cbae4dbfddc0822d289e30ffc\"}, \"mark\": \"circle\", \"encoding\": {\"color\": {\"type\": \"nominal\", \"field\": \"RAD\"}, \"x\": {\"type\": \"quantitative\", \"field\": {\"repeat\": \"column\"}}, \"y\": {\"type\": \"quantitative\", \"field\": {\"repeat\": \"row\"}}}, \"height\": 100, \"selection\": {\"selector001\": {\"type\": \"interval\", \"bind\": \"scales\", \"encodings\": [\"x\", \"y\"]}}, \"width\": 100}, \"$schema\": \"https://vega.github.io/schema/vega-lite/v4.8.1.json\", \"datasets\": {\"data-4c53657cbae4dbfddc0822d289e30ffc\": [{\"CRIM\": 0.00632, \"ZN\": 18.0, \"INDUS\": 2.31, \"CHAS\": 0.0, \"NOX\": 0.538, \"RM\": 6.575, \"AGE\": 65.2, \"DIS\": 4.09, \"RAD\": 1.0, \"TAX\": 296.0, \"PTRATIO\": 15.3, \"B\": 396.9, \"LSTAT\": 4.98, \"PRICE\": 24.0}, {\"CRIM\": 0.02731, \"ZN\": 0.0, \"INDUS\": 7.07, \"CHAS\": 0.0, \"NOX\": 0.469, \"RM\": 6.421, \"AGE\": 78.9, \"DIS\": 4.9671, \"RAD\": 2.0, \"TAX\": 242.0, \"PTRATIO\": 17.8, \"B\": 396.9, \"LSTAT\": 9.14, \"PRICE\": 21.6}, {\"CRIM\": 0.02729, \"ZN\": 0.0, \"INDUS\": 7.07, \"CHAS\": 0.0, \"NOX\": 0.469, \"RM\": 7.185, \"AGE\": 61.1, \"DIS\": 4.9671, \"RAD\": 2.0, \"TAX\": 242.0, \"PTRATIO\": 17.8, \"B\": 392.83, \"LSTAT\": 4.03, \"PRICE\": 34.7}, {\"CRIM\": 0.03237, \"ZN\": 0.0, \"INDUS\": 2.18, \"CHAS\": 0.0, \"NOX\": 0.458, \"RM\": 6.998, \"AGE\": 45.8, \"DIS\": 6.0622, \"RAD\": 3.0, \"TAX\": 222.0, \"PTRATIO\": 18.7, \"B\": 394.63, \"LSTAT\": 2.94, \"PRICE\": 33.4}, {\"CRIM\": 0.06905, \"ZN\": 0.0, \"INDUS\": 2.18, \"CHAS\": 0.0, \"NOX\": 0.458, \"RM\": 7.147, \"AGE\": 54.2, \"DIS\": 6.0622, \"RAD\": 3.0, \"TAX\": 222.0, \"PTRATIO\": 18.7, \"B\": 396.9, \"LSTAT\": 5.33, \"PRICE\": 36.2}, {\"CRIM\": 0.02985, \"ZN\": 0.0, \"INDUS\": 2.18, \"CHAS\": 0.0, \"NOX\": 0.458, \"RM\": 6.43, \"AGE\": 58.7, \"DIS\": 6.0622, \"RAD\": 3.0, \"TAX\": 222.0, \"PTRATIO\": 18.7, \"B\": 394.12, \"LSTAT\": 5.21, \"PRICE\": 28.7}, {\"CRIM\": 0.08829, \"ZN\": 12.5, \"INDUS\": 7.87, \"CHAS\": 0.0, \"NOX\": 0.524, \"RM\": 6.012, \"AGE\": 66.6, \"DIS\": 5.5605, \"RAD\": 5.0, \"TAX\": 311.0, \"PTRATIO\": 15.2, \"B\": 395.6, \"LSTAT\": 12.43, \"PRICE\": 22.9}, {\"CRIM\": 0.14455, \"ZN\": 12.5, \"INDUS\": 7.87, \"CHAS\": 0.0, \"NOX\": 0.524, \"RM\": 6.172, \"AGE\": 96.1, \"DIS\": 5.9505, \"RAD\": 5.0, \"TAX\": 311.0, \"PTRATIO\": 15.2, \"B\": 396.9, \"LSTAT\": 19.15, \"PRICE\": 27.1}, {\"CRIM\": 0.21124, \"ZN\": 12.5, \"INDUS\": 7.87, \"CHAS\": 0.0, \"NOX\": 0.524, \"RM\": 5.631, \"AGE\": 100.0, \"DIS\": 6.0821, \"RAD\": 5.0, \"TAX\": 311.0, \"PTRATIO\": 15.2, \"B\": 386.63, \"LSTAT\": 29.93, \"PRICE\": 16.5}, {\"CRIM\": 0.17004, \"ZN\": 12.5, \"INDUS\": 7.87, \"CHAS\": 0.0, \"NOX\": 0.524, \"RM\": 6.004, \"AGE\": 85.9, \"DIS\": 6.5921, \"RAD\": 5.0, \"TAX\": 311.0, \"PTRATIO\": 15.2, \"B\": 386.71, \"LSTAT\": 17.1, \"PRICE\": 18.9}, {\"CRIM\": 0.22489, \"ZN\": 12.5, \"INDUS\": 7.87, \"CHAS\": 0.0, \"NOX\": 0.524, \"RM\": 6.377, \"AGE\": 94.3, \"DIS\": 6.3467, \"RAD\": 5.0, \"TAX\": 311.0, \"PTRATIO\": 15.2, \"B\": 392.52, \"LSTAT\": 20.45, \"PRICE\": 15.0}, {\"CRIM\": 0.11747, \"ZN\": 12.5, \"INDUS\": 7.87, \"CHAS\": 0.0, \"NOX\": 0.524, \"RM\": 6.009, \"AGE\": 82.9, \"DIS\": 6.2267, \"RAD\": 5.0, \"TAX\": 311.0, \"PTRATIO\": 15.2, \"B\": 396.9, \"LSTAT\": 13.27, \"PRICE\": 18.9}, {\"CRIM\": 0.09378, \"ZN\": 12.5, \"INDUS\": 7.87, \"CHAS\": 0.0, \"NOX\": 0.524, \"RM\": 5.889, \"AGE\": 39.0, \"DIS\": 5.4509, \"RAD\": 5.0, \"TAX\": 311.0, \"PTRATIO\": 15.2, \"B\": 390.5, \"LSTAT\": 15.71, \"PRICE\": 21.7}, {\"CRIM\": 0.62976, \"ZN\": 0.0, \"INDUS\": 8.14, \"CHAS\": 0.0, \"NOX\": 0.538, \"RM\": 5.949, \"AGE\": 61.8, \"DIS\": 4.7075, \"RAD\": 4.0, \"TAX\": 307.0, \"PTRATIO\": 21.0, \"B\": 396.9, \"LSTAT\": 8.26, \"PRICE\": 20.4}, {\"CRIM\": 0.63796, \"ZN\": 0.0, \"INDUS\": 8.14, \"CHAS\": 0.0, \"NOX\": 0.538, \"RM\": 6.096, \"AGE\": 84.5, \"DIS\": 4.4619, \"RAD\": 4.0, \"TAX\": 307.0, \"PTRATIO\": 21.0, \"B\": 380.02, \"LSTAT\": 10.26, \"PRICE\": 18.2}, {\"CRIM\": 0.62739, \"ZN\": 0.0, \"INDUS\": 8.14, \"CHAS\": 0.0, \"NOX\": 0.538, \"RM\": 5.834, \"AGE\": 56.5, \"DIS\": 4.4986, \"RAD\": 4.0, \"TAX\": 307.0, \"PTRATIO\": 21.0, \"B\": 395.62, \"LSTAT\": 8.47, \"PRICE\": 19.9}, {\"CRIM\": 1.05393, \"ZN\": 0.0, \"INDUS\": 8.14, \"CHAS\": 0.0, \"NOX\": 0.538, \"RM\": 5.935, \"AGE\": 29.3, \"DIS\": 4.4986, \"RAD\": 4.0, \"TAX\": 307.0, \"PTRATIO\": 21.0, \"B\": 386.85, \"LSTAT\": 6.58, \"PRICE\": 23.1}, {\"CRIM\": 0.7842, \"ZN\": 0.0, \"INDUS\": 8.14, \"CHAS\": 0.0, \"NOX\": 0.538, \"RM\": 5.99, \"AGE\": 81.7, \"DIS\": 4.2579, \"RAD\": 4.0, \"TAX\": 307.0, \"PTRATIO\": 21.0, \"B\": 386.75, \"LSTAT\": 14.67, \"PRICE\": 17.5}, {\"CRIM\": 0.80271, \"ZN\": 0.0, \"INDUS\": 8.14, \"CHAS\": 0.0, \"NOX\": 0.538, \"RM\": 5.456, \"AGE\": 36.6, \"DIS\": 3.7965, \"RAD\": 4.0, \"TAX\": 307.0, \"PTRATIO\": 21.0, \"B\": 288.99, \"LSTAT\": 11.69, \"PRICE\": 20.2}, {\"CRIM\": 0.7258, \"ZN\": 0.0, \"INDUS\": 8.14, \"CHAS\": 0.0, \"NOX\": 0.538, \"RM\": 5.727, \"AGE\": 69.5, \"DIS\": 3.7965, \"RAD\": 4.0, \"TAX\": 307.0, \"PTRATIO\": 21.0, \"B\": 390.95, \"LSTAT\": 11.28, \"PRICE\": 18.2}, {\"CRIM\": 1.25179, \"ZN\": 0.0, \"INDUS\": 8.14, \"CHAS\": 0.0, \"NOX\": 0.538, \"RM\": 5.57, \"AGE\": 98.1, \"DIS\": 3.7979, \"RAD\": 4.0, \"TAX\": 307.0, \"PTRATIO\": 21.0, \"B\": 376.57, \"LSTAT\": 21.02, \"PRICE\": 13.6}, {\"CRIM\": 0.85204, \"ZN\": 0.0, \"INDUS\": 8.14, \"CHAS\": 0.0, \"NOX\": 0.538, \"RM\": 5.965, \"AGE\": 89.2, \"DIS\": 4.0123, \"RAD\": 4.0, \"TAX\": 307.0, \"PTRATIO\": 21.0, \"B\": 392.53, \"LSTAT\": 13.83, \"PRICE\": 19.6}, {\"CRIM\": 1.23247, \"ZN\": 0.0, \"INDUS\": 8.14, \"CHAS\": 0.0, \"NOX\": 0.538, \"RM\": 6.142, \"AGE\": 91.7, \"DIS\": 3.9769, \"RAD\": 4.0, \"TAX\": 307.0, \"PTRATIO\": 21.0, \"B\": 396.9, \"LSTAT\": 18.72, \"PRICE\": 15.2}, {\"CRIM\": 0.98843, \"ZN\": 0.0, \"INDUS\": 8.14, \"CHAS\": 0.0, \"NOX\": 0.538, \"RM\": 5.813, \"AGE\": 100.0, \"DIS\": 4.0952, \"RAD\": 4.0, \"TAX\": 307.0, \"PTRATIO\": 21.0, \"B\": 394.54, \"LSTAT\": 19.88, \"PRICE\": 14.5}, {\"CRIM\": 0.75026, \"ZN\": 0.0, \"INDUS\": 8.14, \"CHAS\": 0.0, \"NOX\": 0.538, \"RM\": 5.924, \"AGE\": 94.1, \"DIS\": 4.3996, \"RAD\": 4.0, \"TAX\": 307.0, \"PTRATIO\": 21.0, \"B\": 394.33, \"LSTAT\": 16.3, \"PRICE\": 15.6}, {\"CRIM\": 0.84054, \"ZN\": 0.0, \"INDUS\": 8.14, \"CHAS\": 0.0, \"NOX\": 0.538, \"RM\": 5.599, \"AGE\": 85.7, \"DIS\": 4.4546, \"RAD\": 4.0, \"TAX\": 307.0, \"PTRATIO\": 21.0, \"B\": 303.42, \"LSTAT\": 16.51, \"PRICE\": 13.9}, {\"CRIM\": 0.67191, \"ZN\": 0.0, \"INDUS\": 8.14, \"CHAS\": 0.0, \"NOX\": 0.538, \"RM\": 5.813, \"AGE\": 90.3, \"DIS\": 4.682, \"RAD\": 4.0, \"TAX\": 307.0, \"PTRATIO\": 21.0, \"B\": 376.88, \"LSTAT\": 14.81, \"PRICE\": 16.6}, {\"CRIM\": 0.95577, \"ZN\": 0.0, \"INDUS\": 8.14, \"CHAS\": 0.0, \"NOX\": 0.538, \"RM\": 6.047, \"AGE\": 88.8, \"DIS\": 4.4534, \"RAD\": 4.0, \"TAX\": 307.0, \"PTRATIO\": 21.0, \"B\": 306.38, \"LSTAT\": 17.28, \"PRICE\": 14.8}, {\"CRIM\": 0.77299, \"ZN\": 0.0, \"INDUS\": 8.14, \"CHAS\": 0.0, \"NOX\": 0.538, \"RM\": 6.495, \"AGE\": 94.4, \"DIS\": 4.4547, \"RAD\": 4.0, \"TAX\": 307.0, \"PTRATIO\": 21.0, \"B\": 387.94, \"LSTAT\": 12.8, \"PRICE\": 18.4}, {\"CRIM\": 1.00245, \"ZN\": 0.0, \"INDUS\": 8.14, \"CHAS\": 0.0, \"NOX\": 0.538, \"RM\": 6.674, \"AGE\": 87.3, \"DIS\": 4.239, \"RAD\": 4.0, \"TAX\": 307.0, \"PTRATIO\": 21.0, \"B\": 380.23, \"LSTAT\": 11.98, \"PRICE\": 21.0}, {\"CRIM\": 1.13081, \"ZN\": 0.0, \"INDUS\": 8.14, \"CHAS\": 0.0, \"NOX\": 0.538, \"RM\": 5.713, \"AGE\": 94.1, \"DIS\": 4.233, \"RAD\": 4.0, \"TAX\": 307.0, \"PTRATIO\": 21.0, \"B\": 360.17, \"LSTAT\": 22.6, \"PRICE\": 12.7}, {\"CRIM\": 1.35472, \"ZN\": 0.0, \"INDUS\": 8.14, \"CHAS\": 0.0, \"NOX\": 0.538, \"RM\": 6.072, \"AGE\": 100.0, \"DIS\": 4.175, \"RAD\": 4.0, \"TAX\": 307.0, \"PTRATIO\": 21.0, \"B\": 376.73, \"LSTAT\": 13.04, \"PRICE\": 14.5}, {\"CRIM\": 1.38799, \"ZN\": 0.0, \"INDUS\": 8.14, \"CHAS\": 0.0, \"NOX\": 0.538, \"RM\": 5.95, \"AGE\": 82.0, \"DIS\": 3.99, \"RAD\": 4.0, \"TAX\": 307.0, \"PTRATIO\": 21.0, \"B\": 232.6, \"LSTAT\": 27.71, \"PRICE\": 13.2}, {\"CRIM\": 1.15172, \"ZN\": 0.0, \"INDUS\": 8.14, \"CHAS\": 0.0, \"NOX\": 0.538, \"RM\": 5.701, \"AGE\": 95.0, \"DIS\": 3.7872, \"RAD\": 4.0, \"TAX\": 307.0, \"PTRATIO\": 21.0, \"B\": 358.77, \"LSTAT\": 18.35, \"PRICE\": 13.1}, {\"CRIM\": 1.61282, \"ZN\": 0.0, \"INDUS\": 8.14, \"CHAS\": 0.0, \"NOX\": 0.538, \"RM\": 6.096, \"AGE\": 96.9, \"DIS\": 3.7598, \"RAD\": 4.0, \"TAX\": 307.0, \"PTRATIO\": 21.0, \"B\": 248.31, \"LSTAT\": 20.34, \"PRICE\": 13.5}, {\"CRIM\": 0.06417, \"ZN\": 0.0, \"INDUS\": 5.96, \"CHAS\": 0.0, \"NOX\": 0.499, \"RM\": 5.933, \"AGE\": 68.2, \"DIS\": 3.3603, \"RAD\": 5.0, \"TAX\": 279.0, \"PTRATIO\": 19.2, \"B\": 396.9, \"LSTAT\": 9.68, \"PRICE\": 18.9}, {\"CRIM\": 0.09744, \"ZN\": 0.0, \"INDUS\": 5.96, \"CHAS\": 0.0, \"NOX\": 0.499, \"RM\": 5.841, \"AGE\": 61.4, \"DIS\": 3.3779, \"RAD\": 5.0, \"TAX\": 279.0, \"PTRATIO\": 19.2, \"B\": 377.56, \"LSTAT\": 11.41, \"PRICE\": 20.0}, {\"CRIM\": 0.08014, \"ZN\": 0.0, \"INDUS\": 5.96, \"CHAS\": 0.0, \"NOX\": 0.499, \"RM\": 5.85, \"AGE\": 41.5, \"DIS\": 3.9342, \"RAD\": 5.0, \"TAX\": 279.0, \"PTRATIO\": 19.2, \"B\": 396.9, \"LSTAT\": 8.77, \"PRICE\": 21.0}, {\"CRIM\": 0.17505, \"ZN\": 0.0, \"INDUS\": 5.96, \"CHAS\": 0.0, \"NOX\": 0.499, \"RM\": 5.966, \"AGE\": 30.2, \"DIS\": 3.8473, \"RAD\": 5.0, \"TAX\": 279.0, \"PTRATIO\": 19.2, \"B\": 393.43, \"LSTAT\": 10.13, \"PRICE\": 24.7}, {\"CRIM\": 0.02763, \"ZN\": 75.0, \"INDUS\": 2.95, \"CHAS\": 0.0, \"NOX\": 0.428, \"RM\": 6.595, \"AGE\": 21.8, \"DIS\": 5.4011, \"RAD\": 3.0, \"TAX\": 252.0, \"PTRATIO\": 18.3, \"B\": 395.63, \"LSTAT\": 4.32, \"PRICE\": 30.8}, {\"CRIM\": 0.03359, \"ZN\": 75.0, \"INDUS\": 2.95, \"CHAS\": 0.0, \"NOX\": 0.428, \"RM\": 7.024, \"AGE\": 15.8, \"DIS\": 5.4011, \"RAD\": 3.0, \"TAX\": 252.0, \"PTRATIO\": 18.3, \"B\": 395.62, \"LSTAT\": 1.98, \"PRICE\": 34.9}, {\"CRIM\": 0.12744, \"ZN\": 0.0, \"INDUS\": 6.91, \"CHAS\": 0.0, \"NOX\": 0.448, \"RM\": 6.77, \"AGE\": 2.9, \"DIS\": 5.7209, \"RAD\": 3.0, \"TAX\": 233.0, \"PTRATIO\": 17.9, \"B\": 385.41, \"LSTAT\": 4.84, \"PRICE\": 26.6}, {\"CRIM\": 0.1415, \"ZN\": 0.0, \"INDUS\": 6.91, \"CHAS\": 0.0, \"NOX\": 0.448, \"RM\": 6.169, \"AGE\": 6.6, \"DIS\": 5.7209, \"RAD\": 3.0, \"TAX\": 233.0, \"PTRATIO\": 17.9, \"B\": 383.37, \"LSTAT\": 5.81, \"PRICE\": 25.3}, {\"CRIM\": 0.15936, \"ZN\": 0.0, \"INDUS\": 6.91, \"CHAS\": 0.0, \"NOX\": 0.448, \"RM\": 6.211, \"AGE\": 6.5, \"DIS\": 5.7209, \"RAD\": 3.0, \"TAX\": 233.0, \"PTRATIO\": 17.9, \"B\": 394.46, \"LSTAT\": 7.44, \"PRICE\": 24.7}, {\"CRIM\": 0.12269, \"ZN\": 0.0, \"INDUS\": 6.91, \"CHAS\": 0.0, \"NOX\": 0.448, \"RM\": 6.069, \"AGE\": 40.0, \"DIS\": 5.7209, \"RAD\": 3.0, \"TAX\": 233.0, \"PTRATIO\": 17.9, \"B\": 389.39, \"LSTAT\": 9.55, \"PRICE\": 21.2}, {\"CRIM\": 0.17142, \"ZN\": 0.0, \"INDUS\": 6.91, \"CHAS\": 0.0, \"NOX\": 0.448, \"RM\": 5.682, \"AGE\": 33.8, \"DIS\": 5.1004, \"RAD\": 3.0, \"TAX\": 233.0, \"PTRATIO\": 17.9, \"B\": 396.9, \"LSTAT\": 10.21, \"PRICE\": 19.3}, {\"CRIM\": 0.18836, \"ZN\": 0.0, \"INDUS\": 6.91, \"CHAS\": 0.0, \"NOX\": 0.448, \"RM\": 5.786, \"AGE\": 33.3, \"DIS\": 5.1004, \"RAD\": 3.0, \"TAX\": 233.0, \"PTRATIO\": 17.9, \"B\": 396.9, \"LSTAT\": 14.15, \"PRICE\": 20.0}, {\"CRIM\": 0.22927, \"ZN\": 0.0, \"INDUS\": 6.91, \"CHAS\": 0.0, \"NOX\": 0.448, \"RM\": 6.03, \"AGE\": 85.5, \"DIS\": 5.6894, \"RAD\": 3.0, \"TAX\": 233.0, \"PTRATIO\": 17.9, \"B\": 392.74, \"LSTAT\": 18.8, \"PRICE\": 16.6}, {\"CRIM\": 0.25387, \"ZN\": 0.0, \"INDUS\": 6.91, \"CHAS\": 0.0, \"NOX\": 0.448, \"RM\": 5.399, \"AGE\": 95.3, \"DIS\": 5.87, \"RAD\": 3.0, \"TAX\": 233.0, \"PTRATIO\": 17.9, \"B\": 396.9, \"LSTAT\": 30.81, \"PRICE\": 14.4}, {\"CRIM\": 0.21977, \"ZN\": 0.0, \"INDUS\": 6.91, \"CHAS\": 0.0, \"NOX\": 0.448, \"RM\": 5.602, \"AGE\": 62.0, \"DIS\": 6.0877, \"RAD\": 3.0, \"TAX\": 233.0, \"PTRATIO\": 17.9, \"B\": 396.9, \"LSTAT\": 16.2, \"PRICE\": 19.4}, {\"CRIM\": 0.08873, \"ZN\": 21.0, \"INDUS\": 5.64, \"CHAS\": 0.0, \"NOX\": 0.439, \"RM\": 5.963, \"AGE\": 45.7, \"DIS\": 6.8147, \"RAD\": 4.0, \"TAX\": 243.0, \"PTRATIO\": 16.8, \"B\": 395.56, \"LSTAT\": 13.45, \"PRICE\": 19.7}, {\"CRIM\": 0.04337, \"ZN\": 21.0, \"INDUS\": 5.64, \"CHAS\": 0.0, \"NOX\": 0.439, \"RM\": 6.115, \"AGE\": 63.0, \"DIS\": 6.8147, \"RAD\": 4.0, \"TAX\": 243.0, \"PTRATIO\": 16.8, \"B\": 393.97, \"LSTAT\": 9.43, \"PRICE\": 20.5}, {\"CRIM\": 0.0536, \"ZN\": 21.0, \"INDUS\": 5.64, \"CHAS\": 0.0, \"NOX\": 0.439, \"RM\": 6.511, \"AGE\": 21.1, \"DIS\": 6.8147, \"RAD\": 4.0, \"TAX\": 243.0, \"PTRATIO\": 16.8, \"B\": 396.9, \"LSTAT\": 5.28, \"PRICE\": 25.0}, {\"CRIM\": 0.04981, \"ZN\": 21.0, \"INDUS\": 5.64, \"CHAS\": 0.0, \"NOX\": 0.439, \"RM\": 5.998, \"AGE\": 21.4, \"DIS\": 6.8147, \"RAD\": 4.0, \"TAX\": 243.0, \"PTRATIO\": 16.8, \"B\": 396.9, \"LSTAT\": 8.43, \"PRICE\": 23.4}, {\"CRIM\": 0.0136, \"ZN\": 75.0, \"INDUS\": 4.0, \"CHAS\": 0.0, \"NOX\": 0.41, \"RM\": 5.888, \"AGE\": 47.6, \"DIS\": 7.3197, \"RAD\": 3.0, \"TAX\": 469.0, \"PTRATIO\": 21.1, \"B\": 396.9, \"LSTAT\": 14.8, \"PRICE\": 18.9}, {\"CRIM\": 0.01311, \"ZN\": 90.0, \"INDUS\": 1.22, \"CHAS\": 0.0, \"NOX\": 0.403, \"RM\": 7.249, \"AGE\": 21.9, \"DIS\": 8.6966, \"RAD\": 5.0, \"TAX\": 226.0, \"PTRATIO\": 17.9, \"B\": 395.93, \"LSTAT\": 4.81, \"PRICE\": 35.4}, {\"CRIM\": 0.02055, \"ZN\": 85.0, \"INDUS\": 0.74, \"CHAS\": 0.0, \"NOX\": 0.41, \"RM\": 6.383, \"AGE\": 35.7, \"DIS\": 9.1876, \"RAD\": 2.0, \"TAX\": 313.0, \"PTRATIO\": 17.3, \"B\": 396.9, \"LSTAT\": 5.77, \"PRICE\": 24.7}, {\"CRIM\": 0.01432, \"ZN\": 100.0, \"INDUS\": 1.32, \"CHAS\": 0.0, \"NOX\": 0.411, \"RM\": 6.816, \"AGE\": 40.5, \"DIS\": 8.3248, \"RAD\": 5.0, \"TAX\": 256.0, \"PTRATIO\": 15.1, \"B\": 392.9, \"LSTAT\": 3.95, \"PRICE\": 31.6}, {\"CRIM\": 0.15445, \"ZN\": 25.0, \"INDUS\": 5.13, \"CHAS\": 0.0, \"NOX\": 0.453, \"RM\": 6.145, \"AGE\": 29.2, \"DIS\": 7.8148, \"RAD\": 8.0, \"TAX\": 284.0, \"PTRATIO\": 19.7, \"B\": 390.68, \"LSTAT\": 6.86, \"PRICE\": 23.3}, {\"CRIM\": 0.10328, \"ZN\": 25.0, \"INDUS\": 5.13, \"CHAS\": 0.0, \"NOX\": 0.453, \"RM\": 5.927, \"AGE\": 47.2, \"DIS\": 6.932, \"RAD\": 8.0, \"TAX\": 284.0, \"PTRATIO\": 19.7, \"B\": 396.9, \"LSTAT\": 9.22, \"PRICE\": 19.6}, {\"CRIM\": 0.14932, \"ZN\": 25.0, \"INDUS\": 5.13, \"CHAS\": 0.0, \"NOX\": 0.453, \"RM\": 5.741, \"AGE\": 66.2, \"DIS\": 7.2254, \"RAD\": 8.0, \"TAX\": 284.0, \"PTRATIO\": 19.7, \"B\": 395.11, \"LSTAT\": 13.15, \"PRICE\": 18.7}, {\"CRIM\": 0.17171, \"ZN\": 25.0, \"INDUS\": 5.13, \"CHAS\": 0.0, \"NOX\": 0.453, \"RM\": 5.966, \"AGE\": 93.4, \"DIS\": 6.8185, \"RAD\": 8.0, \"TAX\": 284.0, \"PTRATIO\": 19.7, \"B\": 378.08, \"LSTAT\": 14.44, \"PRICE\": 16.0}, {\"CRIM\": 0.11027, \"ZN\": 25.0, \"INDUS\": 5.13, \"CHAS\": 0.0, \"NOX\": 0.453, \"RM\": 6.456, \"AGE\": 67.8, \"DIS\": 7.2255, \"RAD\": 8.0, \"TAX\": 284.0, \"PTRATIO\": 19.7, \"B\": 396.9, \"LSTAT\": 6.73, \"PRICE\": 22.2}, {\"CRIM\": 0.1265, \"ZN\": 25.0, \"INDUS\": 5.13, \"CHAS\": 0.0, \"NOX\": 0.453, \"RM\": 6.762, \"AGE\": 43.4, \"DIS\": 7.9809, \"RAD\": 8.0, \"TAX\": 284.0, \"PTRATIO\": 19.7, \"B\": 395.58, \"LSTAT\": 9.5, \"PRICE\": 25.0}, {\"CRIM\": 0.01951, \"ZN\": 17.5, \"INDUS\": 1.38, \"CHAS\": 0.0, \"NOX\": 0.4161, \"RM\": 7.104, \"AGE\": 59.5, \"DIS\": 9.2229, \"RAD\": 3.0, \"TAX\": 216.0, \"PTRATIO\": 18.6, \"B\": 393.24, \"LSTAT\": 8.05, \"PRICE\": 33.0}, {\"CRIM\": 0.03584, \"ZN\": 80.0, \"INDUS\": 3.37, \"CHAS\": 0.0, \"NOX\": 0.398, \"RM\": 6.29, \"AGE\": 17.8, \"DIS\": 6.6115, \"RAD\": 4.0, \"TAX\": 337.0, \"PTRATIO\": 16.1, \"B\": 396.9, \"LSTAT\": 4.67, \"PRICE\": 23.5}, {\"CRIM\": 0.04379, \"ZN\": 80.0, \"INDUS\": 3.37, \"CHAS\": 0.0, \"NOX\": 0.398, \"RM\": 5.787, \"AGE\": 31.1, \"DIS\": 6.6115, \"RAD\": 4.0, \"TAX\": 337.0, \"PTRATIO\": 16.1, \"B\": 396.9, \"LSTAT\": 10.24, \"PRICE\": 19.4}, {\"CRIM\": 0.05789, \"ZN\": 12.5, \"INDUS\": 6.07, \"CHAS\": 0.0, \"NOX\": 0.409, \"RM\": 5.878, \"AGE\": 21.4, \"DIS\": 6.498, \"RAD\": 4.0, \"TAX\": 345.0, \"PTRATIO\": 18.9, \"B\": 396.21, \"LSTAT\": 8.1, \"PRICE\": 22.0}, {\"CRIM\": 0.13554, \"ZN\": 12.5, \"INDUS\": 6.07, \"CHAS\": 0.0, \"NOX\": 0.409, \"RM\": 5.594, \"AGE\": 36.8, \"DIS\": 6.498, \"RAD\": 4.0, \"TAX\": 345.0, \"PTRATIO\": 18.9, \"B\": 396.9, \"LSTAT\": 13.09, \"PRICE\": 17.4}, {\"CRIM\": 0.12816, \"ZN\": 12.5, \"INDUS\": 6.07, \"CHAS\": 0.0, \"NOX\": 0.409, \"RM\": 5.885, \"AGE\": 33.0, \"DIS\": 6.498, \"RAD\": 4.0, \"TAX\": 345.0, \"PTRATIO\": 18.9, \"B\": 396.9, \"LSTAT\": 8.79, \"PRICE\": 20.9}, {\"CRIM\": 0.08826, \"ZN\": 0.0, \"INDUS\": 10.81, \"CHAS\": 0.0, \"NOX\": 0.413, \"RM\": 6.417, \"AGE\": 6.6, \"DIS\": 5.2873, \"RAD\": 4.0, \"TAX\": 305.0, \"PTRATIO\": 19.2, \"B\": 383.73, \"LSTAT\": 6.72, \"PRICE\": 24.2}, {\"CRIM\": 0.15876, \"ZN\": 0.0, \"INDUS\": 10.81, \"CHAS\": 0.0, \"NOX\": 0.413, \"RM\": 5.961, \"AGE\": 17.5, \"DIS\": 5.2873, \"RAD\": 4.0, \"TAX\": 305.0, \"PTRATIO\": 19.2, \"B\": 376.94, \"LSTAT\": 9.88, \"PRICE\": 21.7}, {\"CRIM\": 0.09164, \"ZN\": 0.0, \"INDUS\": 10.81, \"CHAS\": 0.0, \"NOX\": 0.413, \"RM\": 6.065, \"AGE\": 7.8, \"DIS\": 5.2873, \"RAD\": 4.0, \"TAX\": 305.0, \"PTRATIO\": 19.2, \"B\": 390.91, \"LSTAT\": 5.52, \"PRICE\": 22.8}, {\"CRIM\": 0.19539, \"ZN\": 0.0, \"INDUS\": 10.81, \"CHAS\": 0.0, \"NOX\": 0.413, \"RM\": 6.245, \"AGE\": 6.2, \"DIS\": 5.2873, \"RAD\": 4.0, \"TAX\": 305.0, \"PTRATIO\": 19.2, \"B\": 377.17, \"LSTAT\": 7.54, \"PRICE\": 23.4}, {\"CRIM\": 0.07896, \"ZN\": 0.0, \"INDUS\": 12.83, \"CHAS\": 0.0, \"NOX\": 0.437, \"RM\": 6.273, \"AGE\": 6.0, \"DIS\": 4.2515, \"RAD\": 5.0, \"TAX\": 398.0, \"PTRATIO\": 18.7, \"B\": 394.92, \"LSTAT\": 6.78, \"PRICE\": 24.1}, {\"CRIM\": 0.09512, \"ZN\": 0.0, \"INDUS\": 12.83, \"CHAS\": 0.0, \"NOX\": 0.437, \"RM\": 6.286, \"AGE\": 45.0, \"DIS\": 4.5026, \"RAD\": 5.0, \"TAX\": 398.0, \"PTRATIO\": 18.7, \"B\": 383.23, \"LSTAT\": 8.94, \"PRICE\": 21.4}, {\"CRIM\": 0.10153, \"ZN\": 0.0, \"INDUS\": 12.83, \"CHAS\": 0.0, \"NOX\": 0.437, \"RM\": 6.279, \"AGE\": 74.5, \"DIS\": 4.0522, \"RAD\": 5.0, \"TAX\": 398.0, \"PTRATIO\": 18.7, \"B\": 373.66, \"LSTAT\": 11.97, \"PRICE\": 20.0}, {\"CRIM\": 0.08707, \"ZN\": 0.0, \"INDUS\": 12.83, \"CHAS\": 0.0, \"NOX\": 0.437, \"RM\": 6.14, \"AGE\": 45.8, \"DIS\": 4.0905, \"RAD\": 5.0, \"TAX\": 398.0, \"PTRATIO\": 18.7, \"B\": 386.96, \"LSTAT\": 10.27, \"PRICE\": 20.8}, {\"CRIM\": 0.05646, \"ZN\": 0.0, \"INDUS\": 12.83, \"CHAS\": 0.0, \"NOX\": 0.437, \"RM\": 6.232, \"AGE\": 53.7, \"DIS\": 5.0141, \"RAD\": 5.0, \"TAX\": 398.0, \"PTRATIO\": 18.7, \"B\": 386.4, \"LSTAT\": 12.34, \"PRICE\": 21.2}, {\"CRIM\": 0.08387, \"ZN\": 0.0, \"INDUS\": 12.83, \"CHAS\": 0.0, \"NOX\": 0.437, \"RM\": 5.874, \"AGE\": 36.6, \"DIS\": 4.5026, \"RAD\": 5.0, \"TAX\": 398.0, \"PTRATIO\": 18.7, \"B\": 396.06, \"LSTAT\": 9.1, \"PRICE\": 20.3}, {\"CRIM\": 0.04113, \"ZN\": 25.0, \"INDUS\": 4.86, \"CHAS\": 0.0, \"NOX\": 0.426, \"RM\": 6.727, \"AGE\": 33.5, \"DIS\": 5.4007, \"RAD\": 4.0, \"TAX\": 281.0, \"PTRATIO\": 19.0, \"B\": 396.9, \"LSTAT\": 5.29, \"PRICE\": 28.0}, {\"CRIM\": 0.04462, \"ZN\": 25.0, \"INDUS\": 4.86, \"CHAS\": 0.0, \"NOX\": 0.426, \"RM\": 6.619, \"AGE\": 70.4, \"DIS\": 5.4007, \"RAD\": 4.0, \"TAX\": 281.0, \"PTRATIO\": 19.0, \"B\": 395.63, \"LSTAT\": 7.22, \"PRICE\": 23.9}, {\"CRIM\": 0.03659, \"ZN\": 25.0, \"INDUS\": 4.86, \"CHAS\": 0.0, \"NOX\": 0.426, \"RM\": 6.302, \"AGE\": 32.2, \"DIS\": 5.4007, \"RAD\": 4.0, \"TAX\": 281.0, \"PTRATIO\": 19.0, \"B\": 396.9, \"LSTAT\": 6.72, \"PRICE\": 24.8}, {\"CRIM\": 0.03551, \"ZN\": 25.0, \"INDUS\": 4.86, \"CHAS\": 0.0, \"NOX\": 0.426, \"RM\": 6.167, \"AGE\": 46.7, \"DIS\": 5.4007, \"RAD\": 4.0, \"TAX\": 281.0, \"PTRATIO\": 19.0, \"B\": 390.64, \"LSTAT\": 7.51, \"PRICE\": 22.9}, {\"CRIM\": 0.05059, \"ZN\": 0.0, \"INDUS\": 4.49, \"CHAS\": 0.0, \"NOX\": 0.449, \"RM\": 6.389, \"AGE\": 48.0, \"DIS\": 4.7794, \"RAD\": 3.0, \"TAX\": 247.0, \"PTRATIO\": 18.5, \"B\": 396.9, \"LSTAT\": 9.62, \"PRICE\": 23.9}, {\"CRIM\": 0.05735, \"ZN\": 0.0, \"INDUS\": 4.49, \"CHAS\": 0.0, \"NOX\": 0.449, \"RM\": 6.63, \"AGE\": 56.1, \"DIS\": 4.4377, \"RAD\": 3.0, \"TAX\": 247.0, \"PTRATIO\": 18.5, \"B\": 392.3, \"LSTAT\": 6.53, \"PRICE\": 26.6}, {\"CRIM\": 0.05188, \"ZN\": 0.0, \"INDUS\": 4.49, \"CHAS\": 0.0, \"NOX\": 0.449, \"RM\": 6.015, \"AGE\": 45.1, \"DIS\": 4.4272, \"RAD\": 3.0, \"TAX\": 247.0, \"PTRATIO\": 18.5, \"B\": 395.99, \"LSTAT\": 12.86, \"PRICE\": 22.5}, {\"CRIM\": 0.07151, \"ZN\": 0.0, \"INDUS\": 4.49, \"CHAS\": 0.0, \"NOX\": 0.449, \"RM\": 6.121, \"AGE\": 56.8, \"DIS\": 3.7476, \"RAD\": 3.0, \"TAX\": 247.0, \"PTRATIO\": 18.5, \"B\": 395.15, \"LSTAT\": 8.44, \"PRICE\": 22.2}, {\"CRIM\": 0.0566, \"ZN\": 0.0, \"INDUS\": 3.41, \"CHAS\": 0.0, \"NOX\": 0.489, \"RM\": 7.007, \"AGE\": 86.3, \"DIS\": 3.4217, \"RAD\": 2.0, \"TAX\": 270.0, \"PTRATIO\": 17.8, \"B\": 396.9, \"LSTAT\": 5.5, \"PRICE\": 23.6}, {\"CRIM\": 0.05302, \"ZN\": 0.0, \"INDUS\": 3.41, \"CHAS\": 0.0, \"NOX\": 0.489, \"RM\": 7.079, \"AGE\": 63.1, \"DIS\": 3.4145, \"RAD\": 2.0, \"TAX\": 270.0, \"PTRATIO\": 17.8, \"B\": 396.06, \"LSTAT\": 5.7, \"PRICE\": 28.7}, {\"CRIM\": 0.04684, \"ZN\": 0.0, \"INDUS\": 3.41, \"CHAS\": 0.0, \"NOX\": 0.489, \"RM\": 6.417, \"AGE\": 66.1, \"DIS\": 3.0923, \"RAD\": 2.0, \"TAX\": 270.0, \"PTRATIO\": 17.8, \"B\": 392.18, \"LSTAT\": 8.81, \"PRICE\": 22.6}, {\"CRIM\": 0.03932, \"ZN\": 0.0, \"INDUS\": 3.41, \"CHAS\": 0.0, \"NOX\": 0.489, \"RM\": 6.405, \"AGE\": 73.9, \"DIS\": 3.0921, \"RAD\": 2.0, \"TAX\": 270.0, \"PTRATIO\": 17.8, \"B\": 393.55, \"LSTAT\": 8.2, \"PRICE\": 22.0}, {\"CRIM\": 0.04203, \"ZN\": 28.0, \"INDUS\": 15.04, \"CHAS\": 0.0, \"NOX\": 0.464, \"RM\": 6.442, \"AGE\": 53.6, \"DIS\": 3.6659, \"RAD\": 4.0, \"TAX\": 270.0, \"PTRATIO\": 18.2, \"B\": 395.01, \"LSTAT\": 8.16, \"PRICE\": 22.9}, {\"CRIM\": 0.02875, \"ZN\": 28.0, \"INDUS\": 15.04, \"CHAS\": 0.0, \"NOX\": 0.464, \"RM\": 6.211, \"AGE\": 28.9, \"DIS\": 3.6659, \"RAD\": 4.0, \"TAX\": 270.0, \"PTRATIO\": 18.2, \"B\": 396.33, \"LSTAT\": 6.21, \"PRICE\": 25.0}, {\"CRIM\": 0.04294, \"ZN\": 28.0, \"INDUS\": 15.04, \"CHAS\": 0.0, \"NOX\": 0.464, \"RM\": 6.249, \"AGE\": 77.3, \"DIS\": 3.615, \"RAD\": 4.0, \"TAX\": 270.0, \"PTRATIO\": 18.2, \"B\": 396.9, \"LSTAT\": 10.59, \"PRICE\": 20.6}, {\"CRIM\": 0.12204, \"ZN\": 0.0, \"INDUS\": 2.89, \"CHAS\": 0.0, \"NOX\": 0.445, \"RM\": 6.625, \"AGE\": 57.8, \"DIS\": 3.4952, \"RAD\": 2.0, \"TAX\": 276.0, \"PTRATIO\": 18.0, \"B\": 357.98, \"LSTAT\": 6.65, \"PRICE\": 28.4}, {\"CRIM\": 0.11504, \"ZN\": 0.0, \"INDUS\": 2.89, \"CHAS\": 0.0, \"NOX\": 0.445, \"RM\": 6.163, \"AGE\": 69.6, \"DIS\": 3.4952, \"RAD\": 2.0, \"TAX\": 276.0, \"PTRATIO\": 18.0, \"B\": 391.83, \"LSTAT\": 11.34, \"PRICE\": 21.4}, {\"CRIM\": 0.12083, \"ZN\": 0.0, \"INDUS\": 2.89, \"CHAS\": 0.0, \"NOX\": 0.445, \"RM\": 8.069, \"AGE\": 76.0, \"DIS\": 3.4952, \"RAD\": 2.0, \"TAX\": 276.0, \"PTRATIO\": 18.0, \"B\": 396.9, \"LSTAT\": 4.21, \"PRICE\": 38.7}, {\"CRIM\": 0.08187, \"ZN\": 0.0, \"INDUS\": 2.89, \"CHAS\": 0.0, \"NOX\": 0.445, \"RM\": 7.82, \"AGE\": 36.9, \"DIS\": 3.4952, \"RAD\": 2.0, \"TAX\": 276.0, \"PTRATIO\": 18.0, \"B\": 393.53, \"LSTAT\": 3.57, \"PRICE\": 43.8}, {\"CRIM\": 0.0686, \"ZN\": 0.0, \"INDUS\": 2.89, \"CHAS\": 0.0, \"NOX\": 0.445, \"RM\": 7.416, \"AGE\": 62.5, \"DIS\": 3.4952, \"RAD\": 2.0, \"TAX\": 276.0, \"PTRATIO\": 18.0, \"B\": 396.9, \"LSTAT\": 6.19, \"PRICE\": 33.2}, {\"CRIM\": 0.14866, \"ZN\": 0.0, \"INDUS\": 8.56, \"CHAS\": 0.0, \"NOX\": 0.52, \"RM\": 6.727, \"AGE\": 79.9, \"DIS\": 2.7778, \"RAD\": 5.0, \"TAX\": 384.0, \"PTRATIO\": 20.9, \"B\": 394.76, \"LSTAT\": 9.42, \"PRICE\": 27.5}, {\"CRIM\": 0.11432, \"ZN\": 0.0, \"INDUS\": 8.56, \"CHAS\": 0.0, \"NOX\": 0.52, \"RM\": 6.781, \"AGE\": 71.3, \"DIS\": 2.8561, \"RAD\": 5.0, \"TAX\": 384.0, \"PTRATIO\": 20.9, \"B\": 395.58, \"LSTAT\": 7.67, \"PRICE\": 26.5}, {\"CRIM\": 0.22876, \"ZN\": 0.0, \"INDUS\": 8.56, \"CHAS\": 0.0, \"NOX\": 0.52, \"RM\": 6.405, \"AGE\": 85.4, \"DIS\": 2.7147, \"RAD\": 5.0, \"TAX\": 384.0, \"PTRATIO\": 20.9, \"B\": 70.8, \"LSTAT\": 10.63, \"PRICE\": 18.6}, {\"CRIM\": 0.21161, \"ZN\": 0.0, \"INDUS\": 8.56, \"CHAS\": 0.0, \"NOX\": 0.52, \"RM\": 6.137, \"AGE\": 87.4, \"DIS\": 2.7147, \"RAD\": 5.0, \"TAX\": 384.0, \"PTRATIO\": 20.9, \"B\": 394.47, \"LSTAT\": 13.44, \"PRICE\": 19.3}, {\"CRIM\": 0.1396, \"ZN\": 0.0, \"INDUS\": 8.56, \"CHAS\": 0.0, \"NOX\": 0.52, \"RM\": 6.167, \"AGE\": 90.0, \"DIS\": 2.421, \"RAD\": 5.0, \"TAX\": 384.0, \"PTRATIO\": 20.9, \"B\": 392.69, \"LSTAT\": 12.33, \"PRICE\": 20.1}, {\"CRIM\": 0.13262, \"ZN\": 0.0, \"INDUS\": 8.56, \"CHAS\": 0.0, \"NOX\": 0.52, \"RM\": 5.851, \"AGE\": 96.7, \"DIS\": 2.1069, \"RAD\": 5.0, \"TAX\": 384.0, \"PTRATIO\": 20.9, \"B\": 394.05, \"LSTAT\": 16.47, \"PRICE\": 19.5}, {\"CRIM\": 0.1712, \"ZN\": 0.0, \"INDUS\": 8.56, \"CHAS\": 0.0, \"NOX\": 0.52, \"RM\": 5.836, \"AGE\": 91.9, \"DIS\": 2.211, \"RAD\": 5.0, \"TAX\": 384.0, \"PTRATIO\": 20.9, \"B\": 395.67, \"LSTAT\": 18.66, \"PRICE\": 19.5}, {\"CRIM\": 0.13117, \"ZN\": 0.0, \"INDUS\": 8.56, \"CHAS\": 0.0, \"NOX\": 0.52, \"RM\": 6.127, \"AGE\": 85.2, \"DIS\": 2.1224, \"RAD\": 5.0, \"TAX\": 384.0, \"PTRATIO\": 20.9, \"B\": 387.69, \"LSTAT\": 14.09, \"PRICE\": 20.4}, {\"CRIM\": 0.12802, \"ZN\": 0.0, \"INDUS\": 8.56, \"CHAS\": 0.0, \"NOX\": 0.52, \"RM\": 6.474, \"AGE\": 97.1, \"DIS\": 2.4329, \"RAD\": 5.0, \"TAX\": 384.0, \"PTRATIO\": 20.9, \"B\": 395.24, \"LSTAT\": 12.27, \"PRICE\": 19.8}, {\"CRIM\": 0.26363, \"ZN\": 0.0, \"INDUS\": 8.56, \"CHAS\": 0.0, \"NOX\": 0.52, \"RM\": 6.229, \"AGE\": 91.2, \"DIS\": 2.5451, \"RAD\": 5.0, \"TAX\": 384.0, \"PTRATIO\": 20.9, \"B\": 391.23, \"LSTAT\": 15.55, \"PRICE\": 19.4}, {\"CRIM\": 0.10793, \"ZN\": 0.0, \"INDUS\": 8.56, \"CHAS\": 0.0, \"NOX\": 0.52, \"RM\": 6.195, \"AGE\": 54.4, \"DIS\": 2.7778, \"RAD\": 5.0, \"TAX\": 384.0, \"PTRATIO\": 20.9, \"B\": 393.49, \"LSTAT\": 13.0, \"PRICE\": 21.7}, {\"CRIM\": 0.10084, \"ZN\": 0.0, \"INDUS\": 10.01, \"CHAS\": 0.0, \"NOX\": 0.547, \"RM\": 6.715, \"AGE\": 81.6, \"DIS\": 2.6775, \"RAD\": 6.0, \"TAX\": 432.0, \"PTRATIO\": 17.8, \"B\": 395.59, \"LSTAT\": 10.16, \"PRICE\": 22.8}, {\"CRIM\": 0.12329, \"ZN\": 0.0, \"INDUS\": 10.01, \"CHAS\": 0.0, \"NOX\": 0.547, \"RM\": 5.913, \"AGE\": 92.9, \"DIS\": 2.3534, \"RAD\": 6.0, \"TAX\": 432.0, \"PTRATIO\": 17.8, \"B\": 394.95, \"LSTAT\": 16.21, \"PRICE\": 18.8}, {\"CRIM\": 0.22212, \"ZN\": 0.0, \"INDUS\": 10.01, \"CHAS\": 0.0, \"NOX\": 0.547, \"RM\": 6.092, \"AGE\": 95.4, \"DIS\": 2.548, \"RAD\": 6.0, \"TAX\": 432.0, \"PTRATIO\": 17.8, \"B\": 396.9, \"LSTAT\": 17.09, \"PRICE\": 18.7}, {\"CRIM\": 0.14231, \"ZN\": 0.0, \"INDUS\": 10.01, \"CHAS\": 0.0, \"NOX\": 0.547, \"RM\": 6.254, \"AGE\": 84.2, \"DIS\": 2.2565, \"RAD\": 6.0, \"TAX\": 432.0, \"PTRATIO\": 17.8, \"B\": 388.74, \"LSTAT\": 10.45, \"PRICE\": 18.5}, {\"CRIM\": 0.17134, \"ZN\": 0.0, \"INDUS\": 10.01, \"CHAS\": 0.0, \"NOX\": 0.547, \"RM\": 5.928, \"AGE\": 88.2, \"DIS\": 2.4631, \"RAD\": 6.0, \"TAX\": 432.0, \"PTRATIO\": 17.8, \"B\": 344.91, \"LSTAT\": 15.76, \"PRICE\": 18.3}, {\"CRIM\": 0.13158, \"ZN\": 0.0, \"INDUS\": 10.01, \"CHAS\": 0.0, \"NOX\": 0.547, \"RM\": 6.176, \"AGE\": 72.5, \"DIS\": 2.7301, \"RAD\": 6.0, \"TAX\": 432.0, \"PTRATIO\": 17.8, \"B\": 393.3, \"LSTAT\": 12.04, \"PRICE\": 21.2}, {\"CRIM\": 0.15098, \"ZN\": 0.0, \"INDUS\": 10.01, \"CHAS\": 0.0, \"NOX\": 0.547, \"RM\": 6.021, \"AGE\": 82.6, \"DIS\": 2.7474, \"RAD\": 6.0, \"TAX\": 432.0, \"PTRATIO\": 17.8, \"B\": 394.51, \"LSTAT\": 10.3, \"PRICE\": 19.2}, {\"CRIM\": 0.13058, \"ZN\": 0.0, \"INDUS\": 10.01, \"CHAS\": 0.0, \"NOX\": 0.547, \"RM\": 5.872, \"AGE\": 73.1, \"DIS\": 2.4775, \"RAD\": 6.0, \"TAX\": 432.0, \"PTRATIO\": 17.8, \"B\": 338.63, \"LSTAT\": 15.37, \"PRICE\": 20.4}, {\"CRIM\": 0.14476, \"ZN\": 0.0, \"INDUS\": 10.01, \"CHAS\": 0.0, \"NOX\": 0.547, \"RM\": 5.731, \"AGE\": 65.2, \"DIS\": 2.7592, \"RAD\": 6.0, \"TAX\": 432.0, \"PTRATIO\": 17.8, \"B\": 391.5, \"LSTAT\": 13.61, \"PRICE\": 19.3}, {\"CRIM\": 0.06899, \"ZN\": 0.0, \"INDUS\": 25.65, \"CHAS\": 0.0, \"NOX\": 0.581, \"RM\": 5.87, \"AGE\": 69.7, \"DIS\": 2.2577, \"RAD\": 2.0, \"TAX\": 188.0, \"PTRATIO\": 19.1, \"B\": 389.15, \"LSTAT\": 14.37, \"PRICE\": 22.0}, {\"CRIM\": 0.07165, \"ZN\": 0.0, \"INDUS\": 25.65, \"CHAS\": 0.0, \"NOX\": 0.581, \"RM\": 6.004, \"AGE\": 84.1, \"DIS\": 2.1974, \"RAD\": 2.0, \"TAX\": 188.0, \"PTRATIO\": 19.1, \"B\": 377.67, \"LSTAT\": 14.27, \"PRICE\": 20.3}, {\"CRIM\": 0.09299, \"ZN\": 0.0, \"INDUS\": 25.65, \"CHAS\": 0.0, \"NOX\": 0.581, \"RM\": 5.961, \"AGE\": 92.9, \"DIS\": 2.0869, \"RAD\": 2.0, \"TAX\": 188.0, \"PTRATIO\": 19.1, \"B\": 378.09, \"LSTAT\": 17.93, \"PRICE\": 20.5}, {\"CRIM\": 0.15038, \"ZN\": 0.0, \"INDUS\": 25.65, \"CHAS\": 0.0, \"NOX\": 0.581, \"RM\": 5.856, \"AGE\": 97.0, \"DIS\": 1.9444, \"RAD\": 2.0, \"TAX\": 188.0, \"PTRATIO\": 19.1, \"B\": 370.31, \"LSTAT\": 25.41, \"PRICE\": 17.3}, {\"CRIM\": 0.09849, \"ZN\": 0.0, \"INDUS\": 25.65, \"CHAS\": 0.0, \"NOX\": 0.581, \"RM\": 5.879, \"AGE\": 95.8, \"DIS\": 2.0063, \"RAD\": 2.0, \"TAX\": 188.0, \"PTRATIO\": 19.1, \"B\": 379.38, \"LSTAT\": 17.58, \"PRICE\": 18.8}, {\"CRIM\": 0.16902, \"ZN\": 0.0, \"INDUS\": 25.65, \"CHAS\": 0.0, \"NOX\": 0.581, \"RM\": 5.986, \"AGE\": 88.4, \"DIS\": 1.9929, \"RAD\": 2.0, \"TAX\": 188.0, \"PTRATIO\": 19.1, \"B\": 385.02, \"LSTAT\": 14.81, \"PRICE\": 21.4}, {\"CRIM\": 0.38735, \"ZN\": 0.0, \"INDUS\": 25.65, \"CHAS\": 0.0, \"NOX\": 0.581, \"RM\": 5.613, \"AGE\": 95.6, \"DIS\": 1.7572, \"RAD\": 2.0, \"TAX\": 188.0, \"PTRATIO\": 19.1, \"B\": 359.29, \"LSTAT\": 27.26, \"PRICE\": 15.7}, {\"CRIM\": 0.25915, \"ZN\": 0.0, \"INDUS\": 21.89, \"CHAS\": 0.0, \"NOX\": 0.624, \"RM\": 5.693, \"AGE\": 96.0, \"DIS\": 1.7883, \"RAD\": 4.0, \"TAX\": 437.0, \"PTRATIO\": 21.2, \"B\": 392.11, \"LSTAT\": 17.19, \"PRICE\": 16.2}, {\"CRIM\": 0.32543, \"ZN\": 0.0, \"INDUS\": 21.89, \"CHAS\": 0.0, \"NOX\": 0.624, \"RM\": 6.431, \"AGE\": 98.8, \"DIS\": 1.8125, \"RAD\": 4.0, \"TAX\": 437.0, \"PTRATIO\": 21.2, \"B\": 396.9, \"LSTAT\": 15.39, \"PRICE\": 18.0}, {\"CRIM\": 0.88125, \"ZN\": 0.0, \"INDUS\": 21.89, \"CHAS\": 0.0, \"NOX\": 0.624, \"RM\": 5.637, \"AGE\": 94.7, \"DIS\": 1.9799, \"RAD\": 4.0, \"TAX\": 437.0, \"PTRATIO\": 21.2, \"B\": 396.9, \"LSTAT\": 18.34, \"PRICE\": 14.3}, {\"CRIM\": 0.34006, \"ZN\": 0.0, \"INDUS\": 21.89, \"CHAS\": 0.0, \"NOX\": 0.624, \"RM\": 6.458, \"AGE\": 98.9, \"DIS\": 2.1185, \"RAD\": 4.0, \"TAX\": 437.0, \"PTRATIO\": 21.2, \"B\": 395.04, \"LSTAT\": 12.6, \"PRICE\": 19.2}, {\"CRIM\": 1.19294, \"ZN\": 0.0, \"INDUS\": 21.89, \"CHAS\": 0.0, \"NOX\": 0.624, \"RM\": 6.326, \"AGE\": 97.7, \"DIS\": 2.271, \"RAD\": 4.0, \"TAX\": 437.0, \"PTRATIO\": 21.2, \"B\": 396.9, \"LSTAT\": 12.26, \"PRICE\": 19.6}, {\"CRIM\": 0.59005, \"ZN\": 0.0, \"INDUS\": 21.89, \"CHAS\": 0.0, \"NOX\": 0.624, \"RM\": 6.372, \"AGE\": 97.9, \"DIS\": 2.3274, \"RAD\": 4.0, \"TAX\": 437.0, \"PTRATIO\": 21.2, \"B\": 385.76, \"LSTAT\": 11.12, \"PRICE\": 23.0}, {\"CRIM\": 0.32982, \"ZN\": 0.0, \"INDUS\": 21.89, \"CHAS\": 0.0, \"NOX\": 0.624, \"RM\": 5.822, \"AGE\": 95.4, \"DIS\": 2.4699, \"RAD\": 4.0, \"TAX\": 437.0, \"PTRATIO\": 21.2, \"B\": 388.69, \"LSTAT\": 15.03, \"PRICE\": 18.4}, {\"CRIM\": 0.97617, \"ZN\": 0.0, \"INDUS\": 21.89, \"CHAS\": 0.0, \"NOX\": 0.624, \"RM\": 5.757, \"AGE\": 98.4, \"DIS\": 2.346, \"RAD\": 4.0, \"TAX\": 437.0, \"PTRATIO\": 21.2, \"B\": 262.76, \"LSTAT\": 17.31, \"PRICE\": 15.6}, {\"CRIM\": 0.55778, \"ZN\": 0.0, \"INDUS\": 21.89, \"CHAS\": 0.0, \"NOX\": 0.624, \"RM\": 6.335, \"AGE\": 98.2, \"DIS\": 2.1107, \"RAD\": 4.0, \"TAX\": 437.0, \"PTRATIO\": 21.2, \"B\": 394.67, \"LSTAT\": 16.96, \"PRICE\": 18.1}, {\"CRIM\": 0.32264, \"ZN\": 0.0, \"INDUS\": 21.89, \"CHAS\": 0.0, \"NOX\": 0.624, \"RM\": 5.942, \"AGE\": 93.5, \"DIS\": 1.9669, \"RAD\": 4.0, \"TAX\": 437.0, \"PTRATIO\": 21.2, \"B\": 378.25, \"LSTAT\": 16.9, \"PRICE\": 17.4}, {\"CRIM\": 0.35233, \"ZN\": 0.0, \"INDUS\": 21.89, \"CHAS\": 0.0, \"NOX\": 0.624, \"RM\": 6.454, \"AGE\": 98.4, \"DIS\": 1.8498, \"RAD\": 4.0, \"TAX\": 437.0, \"PTRATIO\": 21.2, \"B\": 394.08, \"LSTAT\": 14.59, \"PRICE\": 17.1}, {\"CRIM\": 0.2498, \"ZN\": 0.0, \"INDUS\": 21.89, \"CHAS\": 0.0, \"NOX\": 0.624, \"RM\": 5.857, \"AGE\": 98.2, \"DIS\": 1.6686, \"RAD\": 4.0, \"TAX\": 437.0, \"PTRATIO\": 21.2, \"B\": 392.04, \"LSTAT\": 21.32, \"PRICE\": 13.3}, {\"CRIM\": 0.54452, \"ZN\": 0.0, \"INDUS\": 21.89, \"CHAS\": 0.0, \"NOX\": 0.624, \"RM\": 6.151, \"AGE\": 97.9, \"DIS\": 1.6687, \"RAD\": 4.0, \"TAX\": 437.0, \"PTRATIO\": 21.2, \"B\": 396.9, \"LSTAT\": 18.46, \"PRICE\": 17.8}, {\"CRIM\": 0.2909, \"ZN\": 0.0, \"INDUS\": 21.89, \"CHAS\": 0.0, \"NOX\": 0.624, \"RM\": 6.174, \"AGE\": 93.6, \"DIS\": 1.6119, \"RAD\": 4.0, \"TAX\": 437.0, \"PTRATIO\": 21.2, \"B\": 388.08, \"LSTAT\": 24.16, \"PRICE\": 14.0}, {\"CRIM\": 1.62864, \"ZN\": 0.0, \"INDUS\": 21.89, \"CHAS\": 0.0, \"NOX\": 0.624, \"RM\": 5.019, \"AGE\": 100.0, \"DIS\": 1.4394, \"RAD\": 4.0, \"TAX\": 437.0, \"PTRATIO\": 21.2, \"B\": 396.9, \"LSTAT\": 34.41, \"PRICE\": 14.4}, {\"CRIM\": 3.32105, \"ZN\": 0.0, \"INDUS\": 19.58, \"CHAS\": 1.0, \"NOX\": 0.871, \"RM\": 5.403, \"AGE\": 100.0, \"DIS\": 1.3216, \"RAD\": 5.0, \"TAX\": 403.0, \"PTRATIO\": 14.7, \"B\": 396.9, \"LSTAT\": 26.82, \"PRICE\": 13.4}, {\"CRIM\": 4.0974, \"ZN\": 0.0, \"INDUS\": 19.58, \"CHAS\": 0.0, \"NOX\": 0.871, \"RM\": 5.468, \"AGE\": 100.0, \"DIS\": 1.4118, \"RAD\": 5.0, \"TAX\": 403.0, \"PTRATIO\": 14.7, \"B\": 396.9, \"LSTAT\": 26.42, \"PRICE\": 15.6}, {\"CRIM\": 2.77974, \"ZN\": 0.0, \"INDUS\": 19.58, \"CHAS\": 0.0, \"NOX\": 0.871, \"RM\": 4.903, \"AGE\": 97.8, \"DIS\": 1.3459, \"RAD\": 5.0, \"TAX\": 403.0, \"PTRATIO\": 14.7, \"B\": 396.9, \"LSTAT\": 29.29, \"PRICE\": 11.8}, {\"CRIM\": 2.37934, \"ZN\": 0.0, \"INDUS\": 19.58, \"CHAS\": 0.0, \"NOX\": 0.871, \"RM\": 6.13, \"AGE\": 100.0, \"DIS\": 1.4191, \"RAD\": 5.0, \"TAX\": 403.0, \"PTRATIO\": 14.7, \"B\": 172.91, \"LSTAT\": 27.8, \"PRICE\": 13.8}, {\"CRIM\": 2.15505, \"ZN\": 0.0, \"INDUS\": 19.58, \"CHAS\": 0.0, \"NOX\": 0.871, \"RM\": 5.628, \"AGE\": 100.0, \"DIS\": 1.5166, \"RAD\": 5.0, \"TAX\": 403.0, \"PTRATIO\": 14.7, \"B\": 169.27, \"LSTAT\": 16.65, \"PRICE\": 15.6}, {\"CRIM\": 2.36862, \"ZN\": 0.0, \"INDUS\": 19.58, \"CHAS\": 0.0, \"NOX\": 0.871, \"RM\": 4.926, \"AGE\": 95.7, \"DIS\": 1.4608, \"RAD\": 5.0, \"TAX\": 403.0, \"PTRATIO\": 14.7, \"B\": 391.71, \"LSTAT\": 29.53, \"PRICE\": 14.6}, {\"CRIM\": 2.33099, \"ZN\": 0.0, \"INDUS\": 19.58, \"CHAS\": 0.0, \"NOX\": 0.871, \"RM\": 5.186, \"AGE\": 93.8, \"DIS\": 1.5296, \"RAD\": 5.0, \"TAX\": 403.0, \"PTRATIO\": 14.7, \"B\": 356.99, \"LSTAT\": 28.32, \"PRICE\": 17.8}, {\"CRIM\": 2.73397, \"ZN\": 0.0, \"INDUS\": 19.58, \"CHAS\": 0.0, \"NOX\": 0.871, \"RM\": 5.597, \"AGE\": 94.9, \"DIS\": 1.5257, \"RAD\": 5.0, \"TAX\": 403.0, \"PTRATIO\": 14.7, \"B\": 351.85, \"LSTAT\": 21.45, \"PRICE\": 15.4}, {\"CRIM\": 1.6566, \"ZN\": 0.0, \"INDUS\": 19.58, \"CHAS\": 0.0, \"NOX\": 0.871, \"RM\": 6.122, \"AGE\": 97.3, \"DIS\": 1.618, \"RAD\": 5.0, \"TAX\": 403.0, \"PTRATIO\": 14.7, \"B\": 372.8, \"LSTAT\": 14.1, \"PRICE\": 21.5}, {\"CRIM\": 1.49632, \"ZN\": 0.0, \"INDUS\": 19.58, \"CHAS\": 0.0, \"NOX\": 0.871, \"RM\": 5.404, \"AGE\": 100.0, \"DIS\": 1.5916, \"RAD\": 5.0, \"TAX\": 403.0, \"PTRATIO\": 14.7, \"B\": 341.6, \"LSTAT\": 13.28, \"PRICE\": 19.6}, {\"CRIM\": 1.12658, \"ZN\": 0.0, \"INDUS\": 19.58, \"CHAS\": 1.0, \"NOX\": 0.871, \"RM\": 5.012, \"AGE\": 88.0, \"DIS\": 1.6102, \"RAD\": 5.0, \"TAX\": 403.0, \"PTRATIO\": 14.7, \"B\": 343.28, \"LSTAT\": 12.12, \"PRICE\": 15.3}, {\"CRIM\": 2.14918, \"ZN\": 0.0, \"INDUS\": 19.58, \"CHAS\": 0.0, \"NOX\": 0.871, \"RM\": 5.709, \"AGE\": 98.5, \"DIS\": 1.6232, \"RAD\": 5.0, \"TAX\": 403.0, \"PTRATIO\": 14.7, \"B\": 261.95, \"LSTAT\": 15.79, \"PRICE\": 19.4}, {\"CRIM\": 1.41385, \"ZN\": 0.0, \"INDUS\": 19.58, \"CHAS\": 1.0, \"NOX\": 0.871, \"RM\": 6.129, \"AGE\": 96.0, \"DIS\": 1.7494, \"RAD\": 5.0, \"TAX\": 403.0, \"PTRATIO\": 14.7, \"B\": 321.02, \"LSTAT\": 15.12, \"PRICE\": 17.0}, {\"CRIM\": 3.53501, \"ZN\": 0.0, \"INDUS\": 19.58, \"CHAS\": 1.0, \"NOX\": 0.871, \"RM\": 6.152, \"AGE\": 82.6, \"DIS\": 1.7455, \"RAD\": 5.0, \"TAX\": 403.0, \"PTRATIO\": 14.7, \"B\": 88.01, \"LSTAT\": 15.02, \"PRICE\": 15.6}, {\"CRIM\": 2.44668, \"ZN\": 0.0, \"INDUS\": 19.58, \"CHAS\": 0.0, \"NOX\": 0.871, \"RM\": 5.272, \"AGE\": 94.0, \"DIS\": 1.7364, \"RAD\": 5.0, \"TAX\": 403.0, \"PTRATIO\": 14.7, \"B\": 88.63, \"LSTAT\": 16.14, \"PRICE\": 13.1}, {\"CRIM\": 1.22358, \"ZN\": 0.0, \"INDUS\": 19.58, \"CHAS\": 0.0, \"NOX\": 0.605, \"RM\": 6.943, \"AGE\": 97.4, \"DIS\": 1.8773, \"RAD\": 5.0, \"TAX\": 403.0, \"PTRATIO\": 14.7, \"B\": 363.43, \"LSTAT\": 4.59, \"PRICE\": 41.3}, {\"CRIM\": 1.34284, \"ZN\": 0.0, \"INDUS\": 19.58, \"CHAS\": 0.0, \"NOX\": 0.605, \"RM\": 6.066, \"AGE\": 100.0, \"DIS\": 1.7573, \"RAD\": 5.0, \"TAX\": 403.0, \"PTRATIO\": 14.7, \"B\": 353.89, \"LSTAT\": 6.43, \"PRICE\": 24.3}, {\"CRIM\": 1.42502, \"ZN\": 0.0, \"INDUS\": 19.58, \"CHAS\": 0.0, \"NOX\": 0.871, \"RM\": 6.51, \"AGE\": 100.0, \"DIS\": 1.7659, \"RAD\": 5.0, \"TAX\": 403.0, \"PTRATIO\": 14.7, \"B\": 364.31, \"LSTAT\": 7.39, \"PRICE\": 23.3}, {\"CRIM\": 1.27346, \"ZN\": 0.0, \"INDUS\": 19.58, \"CHAS\": 1.0, \"NOX\": 0.605, \"RM\": 6.25, \"AGE\": 92.6, \"DIS\": 1.7984, \"RAD\": 5.0, \"TAX\": 403.0, \"PTRATIO\": 14.7, \"B\": 338.92, \"LSTAT\": 5.5, \"PRICE\": 27.0}, {\"CRIM\": 1.46336, \"ZN\": 0.0, \"INDUS\": 19.58, \"CHAS\": 0.0, \"NOX\": 0.605, \"RM\": 7.489, \"AGE\": 90.8, \"DIS\": 1.9709, \"RAD\": 5.0, \"TAX\": 403.0, \"PTRATIO\": 14.7, \"B\": 374.43, \"LSTAT\": 1.73, \"PRICE\": 50.0}, {\"CRIM\": 1.83377, \"ZN\": 0.0, \"INDUS\": 19.58, \"CHAS\": 1.0, \"NOX\": 0.605, \"RM\": 7.802, \"AGE\": 98.2, \"DIS\": 2.0407, \"RAD\": 5.0, \"TAX\": 403.0, \"PTRATIO\": 14.7, \"B\": 389.61, \"LSTAT\": 1.92, \"PRICE\": 50.0}, {\"CRIM\": 1.51902, \"ZN\": 0.0, \"INDUS\": 19.58, \"CHAS\": 1.0, \"NOX\": 0.605, \"RM\": 8.375, \"AGE\": 93.9, \"DIS\": 2.162, \"RAD\": 5.0, \"TAX\": 403.0, \"PTRATIO\": 14.7, \"B\": 388.45, \"LSTAT\": 3.32, \"PRICE\": 50.0}, {\"CRIM\": 2.24236, \"ZN\": 0.0, \"INDUS\": 19.58, \"CHAS\": 0.0, \"NOX\": 0.605, \"RM\": 5.854, \"AGE\": 91.8, \"DIS\": 2.422, \"RAD\": 5.0, \"TAX\": 403.0, \"PTRATIO\": 14.7, \"B\": 395.11, \"LSTAT\": 11.64, \"PRICE\": 22.7}, {\"CRIM\": 2.924, \"ZN\": 0.0, \"INDUS\": 19.58, \"CHAS\": 0.0, \"NOX\": 0.605, \"RM\": 6.101, \"AGE\": 93.0, \"DIS\": 2.2834, \"RAD\": 5.0, \"TAX\": 403.0, \"PTRATIO\": 14.7, \"B\": 240.16, \"LSTAT\": 9.81, \"PRICE\": 25.0}, {\"CRIM\": 2.01019, \"ZN\": 0.0, \"INDUS\": 19.58, \"CHAS\": 0.0, \"NOX\": 0.605, \"RM\": 7.929, \"AGE\": 96.2, \"DIS\": 2.0459, \"RAD\": 5.0, \"TAX\": 403.0, \"PTRATIO\": 14.7, \"B\": 369.3, \"LSTAT\": 3.7, \"PRICE\": 50.0}, {\"CRIM\": 1.80028, \"ZN\": 0.0, \"INDUS\": 19.58, \"CHAS\": 0.0, \"NOX\": 0.605, \"RM\": 5.877, \"AGE\": 79.2, \"DIS\": 2.4259, \"RAD\": 5.0, \"TAX\": 403.0, \"PTRATIO\": 14.7, \"B\": 227.61, \"LSTAT\": 12.14, \"PRICE\": 23.8}, {\"CRIM\": 2.3004, \"ZN\": 0.0, \"INDUS\": 19.58, \"CHAS\": 0.0, \"NOX\": 0.605, \"RM\": 6.319, \"AGE\": 96.1, \"DIS\": 2.1, \"RAD\": 5.0, \"TAX\": 403.0, \"PTRATIO\": 14.7, \"B\": 297.09, \"LSTAT\": 11.1, \"PRICE\": 23.8}, {\"CRIM\": 2.44953, \"ZN\": 0.0, \"INDUS\": 19.58, \"CHAS\": 0.0, \"NOX\": 0.605, \"RM\": 6.402, \"AGE\": 95.2, \"DIS\": 2.2625, \"RAD\": 5.0, \"TAX\": 403.0, \"PTRATIO\": 14.7, \"B\": 330.04, \"LSTAT\": 11.32, \"PRICE\": 22.3}, {\"CRIM\": 1.20742, \"ZN\": 0.0, \"INDUS\": 19.58, \"CHAS\": 0.0, \"NOX\": 0.605, \"RM\": 5.875, \"AGE\": 94.6, \"DIS\": 2.4259, \"RAD\": 5.0, \"TAX\": 403.0, \"PTRATIO\": 14.7, \"B\": 292.29, \"LSTAT\": 14.43, \"PRICE\": 17.4}, {\"CRIM\": 2.3139, \"ZN\": 0.0, \"INDUS\": 19.58, \"CHAS\": 0.0, \"NOX\": 0.605, \"RM\": 5.88, \"AGE\": 97.3, \"DIS\": 2.3887, \"RAD\": 5.0, \"TAX\": 403.0, \"PTRATIO\": 14.7, \"B\": 348.13, \"LSTAT\": 12.03, \"PRICE\": 19.1}, {\"CRIM\": 0.13914, \"ZN\": 0.0, \"INDUS\": 4.05, \"CHAS\": 0.0, \"NOX\": 0.51, \"RM\": 5.572, \"AGE\": 88.5, \"DIS\": 2.5961, \"RAD\": 5.0, \"TAX\": 296.0, \"PTRATIO\": 16.6, \"B\": 396.9, \"LSTAT\": 14.69, \"PRICE\": 23.1}, {\"CRIM\": 0.09178, \"ZN\": 0.0, \"INDUS\": 4.05, \"CHAS\": 0.0, \"NOX\": 0.51, \"RM\": 6.416, \"AGE\": 84.1, \"DIS\": 2.6463, \"RAD\": 5.0, \"TAX\": 296.0, \"PTRATIO\": 16.6, \"B\": 395.5, \"LSTAT\": 9.04, \"PRICE\": 23.6}, {\"CRIM\": 0.08447, \"ZN\": 0.0, \"INDUS\": 4.05, \"CHAS\": 0.0, \"NOX\": 0.51, \"RM\": 5.859, \"AGE\": 68.7, \"DIS\": 2.7019, \"RAD\": 5.0, \"TAX\": 296.0, \"PTRATIO\": 16.6, \"B\": 393.23, \"LSTAT\": 9.64, \"PRICE\": 22.6}, {\"CRIM\": 0.06664, \"ZN\": 0.0, \"INDUS\": 4.05, \"CHAS\": 0.0, \"NOX\": 0.51, \"RM\": 6.546, \"AGE\": 33.1, \"DIS\": 3.1323, \"RAD\": 5.0, \"TAX\": 296.0, \"PTRATIO\": 16.6, \"B\": 390.96, \"LSTAT\": 5.33, \"PRICE\": 29.4}, {\"CRIM\": 0.07022, \"ZN\": 0.0, \"INDUS\": 4.05, \"CHAS\": 0.0, \"NOX\": 0.51, \"RM\": 6.02, \"AGE\": 47.2, \"DIS\": 3.5549, \"RAD\": 5.0, \"TAX\": 296.0, \"PTRATIO\": 16.6, \"B\": 393.23, \"LSTAT\": 10.11, \"PRICE\": 23.2}, {\"CRIM\": 0.05425, \"ZN\": 0.0, \"INDUS\": 4.05, \"CHAS\": 0.0, \"NOX\": 0.51, \"RM\": 6.315, \"AGE\": 73.4, \"DIS\": 3.3175, \"RAD\": 5.0, \"TAX\": 296.0, \"PTRATIO\": 16.6, \"B\": 395.6, \"LSTAT\": 6.29, \"PRICE\": 24.6}, {\"CRIM\": 0.06642, \"ZN\": 0.0, \"INDUS\": 4.05, \"CHAS\": 0.0, \"NOX\": 0.51, \"RM\": 6.86, \"AGE\": 74.4, \"DIS\": 2.9153, \"RAD\": 5.0, \"TAX\": 296.0, \"PTRATIO\": 16.6, \"B\": 391.27, \"LSTAT\": 6.92, \"PRICE\": 29.9}, {\"CRIM\": 0.0578, \"ZN\": 0.0, \"INDUS\": 2.46, \"CHAS\": 0.0, \"NOX\": 0.488, \"RM\": 6.98, \"AGE\": 58.4, \"DIS\": 2.829, \"RAD\": 3.0, \"TAX\": 193.0, \"PTRATIO\": 17.8, \"B\": 396.9, \"LSTAT\": 5.04, \"PRICE\": 37.2}, {\"CRIM\": 0.06588, \"ZN\": 0.0, \"INDUS\": 2.46, \"CHAS\": 0.0, \"NOX\": 0.488, \"RM\": 7.765, \"AGE\": 83.3, \"DIS\": 2.741, \"RAD\": 3.0, \"TAX\": 193.0, \"PTRATIO\": 17.8, \"B\": 395.56, \"LSTAT\": 7.56, \"PRICE\": 39.8}, {\"CRIM\": 0.06888, \"ZN\": 0.0, \"INDUS\": 2.46, \"CHAS\": 0.0, \"NOX\": 0.488, \"RM\": 6.144, \"AGE\": 62.2, \"DIS\": 2.5979, \"RAD\": 3.0, \"TAX\": 193.0, \"PTRATIO\": 17.8, \"B\": 396.9, \"LSTAT\": 9.45, \"PRICE\": 36.2}, {\"CRIM\": 0.09103, \"ZN\": 0.0, \"INDUS\": 2.46, \"CHAS\": 0.0, \"NOX\": 0.488, \"RM\": 7.155, \"AGE\": 92.2, \"DIS\": 2.7006, \"RAD\": 3.0, \"TAX\": 193.0, \"PTRATIO\": 17.8, \"B\": 394.12, \"LSTAT\": 4.82, \"PRICE\": 37.9}, {\"CRIM\": 0.10008, \"ZN\": 0.0, \"INDUS\": 2.46, \"CHAS\": 0.0, \"NOX\": 0.488, \"RM\": 6.563, \"AGE\": 95.6, \"DIS\": 2.847, \"RAD\": 3.0, \"TAX\": 193.0, \"PTRATIO\": 17.8, \"B\": 396.9, \"LSTAT\": 5.68, \"PRICE\": 32.5}, {\"CRIM\": 0.08308, \"ZN\": 0.0, \"INDUS\": 2.46, \"CHAS\": 0.0, \"NOX\": 0.488, \"RM\": 5.604, \"AGE\": 89.8, \"DIS\": 2.9879, \"RAD\": 3.0, \"TAX\": 193.0, \"PTRATIO\": 17.8, \"B\": 391.0, \"LSTAT\": 13.98, \"PRICE\": 26.4}, {\"CRIM\": 0.06047, \"ZN\": 0.0, \"INDUS\": 2.46, \"CHAS\": 0.0, \"NOX\": 0.488, \"RM\": 6.153, \"AGE\": 68.8, \"DIS\": 3.2797, \"RAD\": 3.0, \"TAX\": 193.0, \"PTRATIO\": 17.8, \"B\": 387.11, \"LSTAT\": 13.15, \"PRICE\": 29.6}, {\"CRIM\": 0.05602, \"ZN\": 0.0, \"INDUS\": 2.46, \"CHAS\": 0.0, \"NOX\": 0.488, \"RM\": 7.831, \"AGE\": 53.6, \"DIS\": 3.1992, \"RAD\": 3.0, \"TAX\": 193.0, \"PTRATIO\": 17.8, \"B\": 392.63, \"LSTAT\": 4.45, \"PRICE\": 50.0}, {\"CRIM\": 0.07875, \"ZN\": 45.0, \"INDUS\": 3.44, \"CHAS\": 0.0, \"NOX\": 0.437, \"RM\": 6.782, \"AGE\": 41.1, \"DIS\": 3.7886, \"RAD\": 5.0, \"TAX\": 398.0, \"PTRATIO\": 15.2, \"B\": 393.87, \"LSTAT\": 6.68, \"PRICE\": 32.0}, {\"CRIM\": 0.12579, \"ZN\": 45.0, \"INDUS\": 3.44, \"CHAS\": 0.0, \"NOX\": 0.437, \"RM\": 6.556, \"AGE\": 29.1, \"DIS\": 4.5667, \"RAD\": 5.0, \"TAX\": 398.0, \"PTRATIO\": 15.2, \"B\": 382.84, \"LSTAT\": 4.56, \"PRICE\": 29.8}, {\"CRIM\": 0.0837, \"ZN\": 45.0, \"INDUS\": 3.44, \"CHAS\": 0.0, \"NOX\": 0.437, \"RM\": 7.185, \"AGE\": 38.9, \"DIS\": 4.5667, \"RAD\": 5.0, \"TAX\": 398.0, \"PTRATIO\": 15.2, \"B\": 396.9, \"LSTAT\": 5.39, \"PRICE\": 34.9}, {\"CRIM\": 0.09068, \"ZN\": 45.0, \"INDUS\": 3.44, \"CHAS\": 0.0, \"NOX\": 0.437, \"RM\": 6.951, \"AGE\": 21.5, \"DIS\": 6.4798, \"RAD\": 5.0, \"TAX\": 398.0, \"PTRATIO\": 15.2, \"B\": 377.68, \"LSTAT\": 5.1, \"PRICE\": 37.0}, {\"CRIM\": 0.06911, \"ZN\": 45.0, \"INDUS\": 3.44, \"CHAS\": 0.0, \"NOX\": 0.437, \"RM\": 6.739, \"AGE\": 30.8, \"DIS\": 6.4798, \"RAD\": 5.0, \"TAX\": 398.0, \"PTRATIO\": 15.2, \"B\": 389.71, \"LSTAT\": 4.69, \"PRICE\": 30.5}, {\"CRIM\": 0.08664, \"ZN\": 45.0, \"INDUS\": 3.44, \"CHAS\": 0.0, \"NOX\": 0.437, \"RM\": 7.178, \"AGE\": 26.3, \"DIS\": 6.4798, \"RAD\": 5.0, \"TAX\": 398.0, \"PTRATIO\": 15.2, \"B\": 390.49, \"LSTAT\": 2.87, \"PRICE\": 36.4}, {\"CRIM\": 0.02187, \"ZN\": 60.0, \"INDUS\": 2.93, \"CHAS\": 0.0, \"NOX\": 0.401, \"RM\": 6.8, \"AGE\": 9.9, \"DIS\": 6.2196, \"RAD\": 1.0, \"TAX\": 265.0, \"PTRATIO\": 15.6, \"B\": 393.37, \"LSTAT\": 5.03, \"PRICE\": 31.1}, {\"CRIM\": 0.01439, \"ZN\": 60.0, \"INDUS\": 2.93, \"CHAS\": 0.0, \"NOX\": 0.401, \"RM\": 6.604, \"AGE\": 18.8, \"DIS\": 6.2196, \"RAD\": 1.0, \"TAX\": 265.0, \"PTRATIO\": 15.6, \"B\": 376.7, \"LSTAT\": 4.38, \"PRICE\": 29.1}, {\"CRIM\": 0.01381, \"ZN\": 80.0, \"INDUS\": 0.46, \"CHAS\": 0.0, \"NOX\": 0.422, \"RM\": 7.875, \"AGE\": 32.0, \"DIS\": 5.6484, \"RAD\": 4.0, \"TAX\": 255.0, \"PTRATIO\": 14.4, \"B\": 394.23, \"LSTAT\": 2.97, \"PRICE\": 50.0}, {\"CRIM\": 0.04011, \"ZN\": 80.0, \"INDUS\": 1.52, \"CHAS\": 0.0, \"NOX\": 0.404, \"RM\": 7.287, \"AGE\": 34.1, \"DIS\": 7.309, \"RAD\": 2.0, \"TAX\": 329.0, \"PTRATIO\": 12.6, \"B\": 396.9, \"LSTAT\": 4.08, \"PRICE\": 33.3}, {\"CRIM\": 0.04666, \"ZN\": 80.0, \"INDUS\": 1.52, \"CHAS\": 0.0, \"NOX\": 0.404, \"RM\": 7.107, \"AGE\": 36.6, \"DIS\": 7.309, \"RAD\": 2.0, \"TAX\": 329.0, \"PTRATIO\": 12.6, \"B\": 354.31, \"LSTAT\": 8.61, \"PRICE\": 30.3}, {\"CRIM\": 0.03768, \"ZN\": 80.0, \"INDUS\": 1.52, \"CHAS\": 0.0, \"NOX\": 0.404, \"RM\": 7.274, \"AGE\": 38.3, \"DIS\": 7.309, \"RAD\": 2.0, \"TAX\": 329.0, \"PTRATIO\": 12.6, \"B\": 392.2, \"LSTAT\": 6.62, \"PRICE\": 34.6}, {\"CRIM\": 0.0315, \"ZN\": 95.0, \"INDUS\": 1.47, \"CHAS\": 0.0, \"NOX\": 0.403, \"RM\": 6.975, \"AGE\": 15.3, \"DIS\": 7.6534, \"RAD\": 3.0, \"TAX\": 402.0, \"PTRATIO\": 17.0, \"B\": 396.9, \"LSTAT\": 4.56, \"PRICE\": 34.9}, {\"CRIM\": 0.01778, \"ZN\": 95.0, \"INDUS\": 1.47, \"CHAS\": 0.0, \"NOX\": 0.403, \"RM\": 7.135, \"AGE\": 13.9, \"DIS\": 7.6534, \"RAD\": 3.0, \"TAX\": 402.0, \"PTRATIO\": 17.0, \"B\": 384.3, \"LSTAT\": 4.45, \"PRICE\": 32.9}, {\"CRIM\": 0.03445, \"ZN\": 82.5, \"INDUS\": 2.03, \"CHAS\": 0.0, \"NOX\": 0.415, \"RM\": 6.162, \"AGE\": 38.4, \"DIS\": 6.27, \"RAD\": 2.0, \"TAX\": 348.0, \"PTRATIO\": 14.7, \"B\": 393.77, \"LSTAT\": 7.43, \"PRICE\": 24.1}, {\"CRIM\": 0.02177, \"ZN\": 82.5, \"INDUS\": 2.03, \"CHAS\": 0.0, \"NOX\": 0.415, \"RM\": 7.61, \"AGE\": 15.7, \"DIS\": 6.27, \"RAD\": 2.0, \"TAX\": 348.0, \"PTRATIO\": 14.7, \"B\": 395.38, \"LSTAT\": 3.11, \"PRICE\": 42.3}, {\"CRIM\": 0.0351, \"ZN\": 95.0, \"INDUS\": 2.68, \"CHAS\": 0.0, \"NOX\": 0.4161, \"RM\": 7.853, \"AGE\": 33.2, \"DIS\": 5.118, \"RAD\": 4.0, \"TAX\": 224.0, \"PTRATIO\": 14.7, \"B\": 392.78, \"LSTAT\": 3.81, \"PRICE\": 48.5}, {\"CRIM\": 0.02009, \"ZN\": 95.0, \"INDUS\": 2.68, \"CHAS\": 0.0, \"NOX\": 0.4161, \"RM\": 8.034, \"AGE\": 31.9, \"DIS\": 5.118, \"RAD\": 4.0, \"TAX\": 224.0, \"PTRATIO\": 14.7, \"B\": 390.55, \"LSTAT\": 2.88, \"PRICE\": 50.0}, {\"CRIM\": 0.13642, \"ZN\": 0.0, \"INDUS\": 10.59, \"CHAS\": 0.0, \"NOX\": 0.489, \"RM\": 5.891, \"AGE\": 22.3, \"DIS\": 3.9454, \"RAD\": 4.0, \"TAX\": 277.0, \"PTRATIO\": 18.6, \"B\": 396.9, \"LSTAT\": 10.87, \"PRICE\": 22.6}, {\"CRIM\": 0.22969, \"ZN\": 0.0, \"INDUS\": 10.59, \"CHAS\": 0.0, \"NOX\": 0.489, \"RM\": 6.326, \"AGE\": 52.5, \"DIS\": 4.3549, \"RAD\": 4.0, \"TAX\": 277.0, \"PTRATIO\": 18.6, \"B\": 394.87, \"LSTAT\": 10.97, \"PRICE\": 24.4}, {\"CRIM\": 0.25199, \"ZN\": 0.0, \"INDUS\": 10.59, \"CHAS\": 0.0, \"NOX\": 0.489, \"RM\": 5.783, \"AGE\": 72.7, \"DIS\": 4.3549, \"RAD\": 4.0, \"TAX\": 277.0, \"PTRATIO\": 18.6, \"B\": 389.43, \"LSTAT\": 18.06, \"PRICE\": 22.5}, {\"CRIM\": 0.13587, \"ZN\": 0.0, \"INDUS\": 10.59, \"CHAS\": 1.0, \"NOX\": 0.489, \"RM\": 6.064, \"AGE\": 59.1, \"DIS\": 4.2392, \"RAD\": 4.0, \"TAX\": 277.0, \"PTRATIO\": 18.6, \"B\": 381.32, \"LSTAT\": 14.66, \"PRICE\": 24.4}, {\"CRIM\": 0.43571, \"ZN\": 0.0, \"INDUS\": 10.59, \"CHAS\": 1.0, \"NOX\": 0.489, \"RM\": 5.344, \"AGE\": 100.0, \"DIS\": 3.875, \"RAD\": 4.0, \"TAX\": 277.0, \"PTRATIO\": 18.6, \"B\": 396.9, \"LSTAT\": 23.09, \"PRICE\": 20.0}, {\"CRIM\": 0.17446, \"ZN\": 0.0, \"INDUS\": 10.59, \"CHAS\": 1.0, \"NOX\": 0.489, \"RM\": 5.96, \"AGE\": 92.1, \"DIS\": 3.8771, \"RAD\": 4.0, \"TAX\": 277.0, \"PTRATIO\": 18.6, \"B\": 393.25, \"LSTAT\": 17.27, \"PRICE\": 21.7}, {\"CRIM\": 0.37578, \"ZN\": 0.0, \"INDUS\": 10.59, \"CHAS\": 1.0, \"NOX\": 0.489, \"RM\": 5.404, \"AGE\": 88.6, \"DIS\": 3.665, \"RAD\": 4.0, \"TAX\": 277.0, \"PTRATIO\": 18.6, \"B\": 395.24, \"LSTAT\": 23.98, \"PRICE\": 19.3}, {\"CRIM\": 0.21719, \"ZN\": 0.0, \"INDUS\": 10.59, \"CHAS\": 1.0, \"NOX\": 0.489, \"RM\": 5.807, \"AGE\": 53.8, \"DIS\": 3.6526, \"RAD\": 4.0, \"TAX\": 277.0, \"PTRATIO\": 18.6, \"B\": 390.94, \"LSTAT\": 16.03, \"PRICE\": 22.4}, {\"CRIM\": 0.14052, \"ZN\": 0.0, \"INDUS\": 10.59, \"CHAS\": 0.0, \"NOX\": 0.489, \"RM\": 6.375, \"AGE\": 32.3, \"DIS\": 3.9454, \"RAD\": 4.0, \"TAX\": 277.0, \"PTRATIO\": 18.6, \"B\": 385.81, \"LSTAT\": 9.38, \"PRICE\": 28.1}, {\"CRIM\": 0.28955, \"ZN\": 0.0, \"INDUS\": 10.59, \"CHAS\": 0.0, \"NOX\": 0.489, \"RM\": 5.412, \"AGE\": 9.8, \"DIS\": 3.5875, \"RAD\": 4.0, \"TAX\": 277.0, \"PTRATIO\": 18.6, \"B\": 348.93, \"LSTAT\": 29.55, \"PRICE\": 23.7}, {\"CRIM\": 0.19802, \"ZN\": 0.0, \"INDUS\": 10.59, \"CHAS\": 0.0, \"NOX\": 0.489, \"RM\": 6.182, \"AGE\": 42.4, \"DIS\": 3.9454, \"RAD\": 4.0, \"TAX\": 277.0, \"PTRATIO\": 18.6, \"B\": 393.63, \"LSTAT\": 9.47, \"PRICE\": 25.0}, {\"CRIM\": 0.0456, \"ZN\": 0.0, \"INDUS\": 13.89, \"CHAS\": 1.0, \"NOX\": 0.55, \"RM\": 5.888, \"AGE\": 56.0, \"DIS\": 3.1121, \"RAD\": 5.0, \"TAX\": 276.0, \"PTRATIO\": 16.4, \"B\": 392.8, \"LSTAT\": 13.51, \"PRICE\": 23.3}, {\"CRIM\": 0.07013, \"ZN\": 0.0, \"INDUS\": 13.89, \"CHAS\": 0.0, \"NOX\": 0.55, \"RM\": 6.642, \"AGE\": 85.1, \"DIS\": 3.4211, \"RAD\": 5.0, \"TAX\": 276.0, \"PTRATIO\": 16.4, \"B\": 392.78, \"LSTAT\": 9.69, \"PRICE\": 28.7}, {\"CRIM\": 0.11069, \"ZN\": 0.0, \"INDUS\": 13.89, \"CHAS\": 1.0, \"NOX\": 0.55, \"RM\": 5.951, \"AGE\": 93.8, \"DIS\": 2.8893, \"RAD\": 5.0, \"TAX\": 276.0, \"PTRATIO\": 16.4, \"B\": 396.9, \"LSTAT\": 17.92, \"PRICE\": 21.5}, {\"CRIM\": 0.11425, \"ZN\": 0.0, \"INDUS\": 13.89, \"CHAS\": 1.0, \"NOX\": 0.55, \"RM\": 6.373, \"AGE\": 92.4, \"DIS\": 3.3633, \"RAD\": 5.0, \"TAX\": 276.0, \"PTRATIO\": 16.4, \"B\": 393.74, \"LSTAT\": 10.5, \"PRICE\": 23.0}, {\"CRIM\": 0.35809, \"ZN\": 0.0, \"INDUS\": 6.2, \"CHAS\": 1.0, \"NOX\": 0.507, \"RM\": 6.951, \"AGE\": 88.5, \"DIS\": 2.8617, \"RAD\": 8.0, \"TAX\": 307.0, \"PTRATIO\": 17.4, \"B\": 391.7, \"LSTAT\": 9.71, \"PRICE\": 26.7}, {\"CRIM\": 0.40771, \"ZN\": 0.0, \"INDUS\": 6.2, \"CHAS\": 1.0, \"NOX\": 0.507, \"RM\": 6.164, \"AGE\": 91.3, \"DIS\": 3.048, \"RAD\": 8.0, \"TAX\": 307.0, \"PTRATIO\": 17.4, \"B\": 395.24, \"LSTAT\": 21.46, \"PRICE\": 21.7}, {\"CRIM\": 0.62356, \"ZN\": 0.0, \"INDUS\": 6.2, \"CHAS\": 1.0, \"NOX\": 0.507, \"RM\": 6.879, \"AGE\": 77.7, \"DIS\": 3.2721, \"RAD\": 8.0, \"TAX\": 307.0, \"PTRATIO\": 17.4, \"B\": 390.39, \"LSTAT\": 9.93, \"PRICE\": 27.5}, {\"CRIM\": 0.6147, \"ZN\": 0.0, \"INDUS\": 6.2, \"CHAS\": 0.0, \"NOX\": 0.507, \"RM\": 6.618, \"AGE\": 80.8, \"DIS\": 3.2721, \"RAD\": 8.0, \"TAX\": 307.0, \"PTRATIO\": 17.4, \"B\": 396.9, \"LSTAT\": 7.6, \"PRICE\": 30.1}, {\"CRIM\": 0.31533, \"ZN\": 0.0, \"INDUS\": 6.2, \"CHAS\": 0.0, \"NOX\": 0.504, \"RM\": 8.266, \"AGE\": 78.3, \"DIS\": 2.8944, \"RAD\": 8.0, \"TAX\": 307.0, \"PTRATIO\": 17.4, \"B\": 385.05, \"LSTAT\": 4.14, \"PRICE\": 44.8}, {\"CRIM\": 0.52693, \"ZN\": 0.0, \"INDUS\": 6.2, \"CHAS\": 0.0, \"NOX\": 0.504, \"RM\": 8.725, \"AGE\": 83.0, \"DIS\": 2.8944, \"RAD\": 8.0, \"TAX\": 307.0, \"PTRATIO\": 17.4, \"B\": 382.0, \"LSTAT\": 4.63, \"PRICE\": 50.0}, {\"CRIM\": 0.38214, \"ZN\": 0.0, \"INDUS\": 6.2, \"CHAS\": 0.0, \"NOX\": 0.504, \"RM\": 8.04, \"AGE\": 86.5, \"DIS\": 3.2157, \"RAD\": 8.0, \"TAX\": 307.0, \"PTRATIO\": 17.4, \"B\": 387.38, \"LSTAT\": 3.13, \"PRICE\": 37.6}, {\"CRIM\": 0.41238, \"ZN\": 0.0, \"INDUS\": 6.2, \"CHAS\": 0.0, \"NOX\": 0.504, \"RM\": 7.163, \"AGE\": 79.9, \"DIS\": 3.2157, \"RAD\": 8.0, \"TAX\": 307.0, \"PTRATIO\": 17.4, \"B\": 372.08, \"LSTAT\": 6.36, \"PRICE\": 31.6}, {\"CRIM\": 0.29819, \"ZN\": 0.0, \"INDUS\": 6.2, \"CHAS\": 0.0, \"NOX\": 0.504, \"RM\": 7.686, \"AGE\": 17.0, \"DIS\": 3.3751, \"RAD\": 8.0, \"TAX\": 307.0, \"PTRATIO\": 17.4, \"B\": 377.51, \"LSTAT\": 3.92, \"PRICE\": 46.7}, {\"CRIM\": 0.44178, \"ZN\": 0.0, \"INDUS\": 6.2, \"CHAS\": 0.0, \"NOX\": 0.504, \"RM\": 6.552, \"AGE\": 21.4, \"DIS\": 3.3751, \"RAD\": 8.0, \"TAX\": 307.0, \"PTRATIO\": 17.4, \"B\": 380.34, \"LSTAT\": 3.76, \"PRICE\": 31.5}, {\"CRIM\": 0.537, \"ZN\": 0.0, \"INDUS\": 6.2, \"CHAS\": 0.0, \"NOX\": 0.504, \"RM\": 5.981, \"AGE\": 68.1, \"DIS\": 3.6715, \"RAD\": 8.0, \"TAX\": 307.0, \"PTRATIO\": 17.4, \"B\": 378.35, \"LSTAT\": 11.65, \"PRICE\": 24.3}, {\"CRIM\": 0.46296, \"ZN\": 0.0, \"INDUS\": 6.2, \"CHAS\": 0.0, \"NOX\": 0.504, \"RM\": 7.412, \"AGE\": 76.9, \"DIS\": 3.6715, \"RAD\": 8.0, \"TAX\": 307.0, \"PTRATIO\": 17.4, \"B\": 376.14, \"LSTAT\": 5.25, \"PRICE\": 31.7}, {\"CRIM\": 0.57529, \"ZN\": 0.0, \"INDUS\": 6.2, \"CHAS\": 0.0, \"NOX\": 0.507, \"RM\": 8.337, \"AGE\": 73.3, \"DIS\": 3.8384, \"RAD\": 8.0, \"TAX\": 307.0, \"PTRATIO\": 17.4, \"B\": 385.91, \"LSTAT\": 2.47, \"PRICE\": 41.7}, {\"CRIM\": 0.33147, \"ZN\": 0.0, \"INDUS\": 6.2, \"CHAS\": 0.0, \"NOX\": 0.507, \"RM\": 8.247, \"AGE\": 70.4, \"DIS\": 3.6519, \"RAD\": 8.0, \"TAX\": 307.0, \"PTRATIO\": 17.4, \"B\": 378.95, \"LSTAT\": 3.95, \"PRICE\": 48.3}, {\"CRIM\": 0.44791, \"ZN\": 0.0, \"INDUS\": 6.2, \"CHAS\": 1.0, \"NOX\": 0.507, \"RM\": 6.726, \"AGE\": 66.5, \"DIS\": 3.6519, \"RAD\": 8.0, \"TAX\": 307.0, \"PTRATIO\": 17.4, \"B\": 360.2, \"LSTAT\": 8.05, \"PRICE\": 29.0}, {\"CRIM\": 0.33045, \"ZN\": 0.0, \"INDUS\": 6.2, \"CHAS\": 0.0, \"NOX\": 0.507, \"RM\": 6.086, \"AGE\": 61.5, \"DIS\": 3.6519, \"RAD\": 8.0, \"TAX\": 307.0, \"PTRATIO\": 17.4, \"B\": 376.75, \"LSTAT\": 10.88, \"PRICE\": 24.0}, {\"CRIM\": 0.52058, \"ZN\": 0.0, \"INDUS\": 6.2, \"CHAS\": 1.0, \"NOX\": 0.507, \"RM\": 6.631, \"AGE\": 76.5, \"DIS\": 4.148, \"RAD\": 8.0, \"TAX\": 307.0, \"PTRATIO\": 17.4, \"B\": 388.45, \"LSTAT\": 9.54, \"PRICE\": 25.1}, {\"CRIM\": 0.51183, \"ZN\": 0.0, \"INDUS\": 6.2, \"CHAS\": 0.0, \"NOX\": 0.507, \"RM\": 7.358, \"AGE\": 71.6, \"DIS\": 4.148, \"RAD\": 8.0, \"TAX\": 307.0, \"PTRATIO\": 17.4, \"B\": 390.07, \"LSTAT\": 4.73, \"PRICE\": 31.5}, {\"CRIM\": 0.08244, \"ZN\": 30.0, \"INDUS\": 4.93, \"CHAS\": 0.0, \"NOX\": 0.428, \"RM\": 6.481, \"AGE\": 18.5, \"DIS\": 6.1899, \"RAD\": 6.0, \"TAX\": 300.0, \"PTRATIO\": 16.6, \"B\": 379.41, \"LSTAT\": 6.36, \"PRICE\": 23.7}, {\"CRIM\": 0.09252, \"ZN\": 30.0, \"INDUS\": 4.93, \"CHAS\": 0.0, \"NOX\": 0.428, \"RM\": 6.606, \"AGE\": 42.2, \"DIS\": 6.1899, \"RAD\": 6.0, \"TAX\": 300.0, \"PTRATIO\": 16.6, \"B\": 383.78, \"LSTAT\": 7.37, \"PRICE\": 23.3}, {\"CRIM\": 0.11329, \"ZN\": 30.0, \"INDUS\": 4.93, \"CHAS\": 0.0, \"NOX\": 0.428, \"RM\": 6.897, \"AGE\": 54.3, \"DIS\": 6.3361, \"RAD\": 6.0, \"TAX\": 300.0, \"PTRATIO\": 16.6, \"B\": 391.25, \"LSTAT\": 11.38, \"PRICE\": 22.0}, {\"CRIM\": 0.10612, \"ZN\": 30.0, \"INDUS\": 4.93, \"CHAS\": 0.0, \"NOX\": 0.428, \"RM\": 6.095, \"AGE\": 65.1, \"DIS\": 6.3361, \"RAD\": 6.0, \"TAX\": 300.0, \"PTRATIO\": 16.6, \"B\": 394.62, \"LSTAT\": 12.4, \"PRICE\": 20.1}, {\"CRIM\": 0.1029, \"ZN\": 30.0, \"INDUS\": 4.93, \"CHAS\": 0.0, \"NOX\": 0.428, \"RM\": 6.358, \"AGE\": 52.9, \"DIS\": 7.0355, \"RAD\": 6.0, \"TAX\": 300.0, \"PTRATIO\": 16.6, \"B\": 372.75, \"LSTAT\": 11.22, \"PRICE\": 22.2}, {\"CRIM\": 0.12757, \"ZN\": 30.0, \"INDUS\": 4.93, \"CHAS\": 0.0, \"NOX\": 0.428, \"RM\": 6.393, \"AGE\": 7.8, \"DIS\": 7.0355, \"RAD\": 6.0, \"TAX\": 300.0, \"PTRATIO\": 16.6, \"B\": 374.71, \"LSTAT\": 5.19, \"PRICE\": 23.7}, {\"CRIM\": 0.20608, \"ZN\": 22.0, \"INDUS\": 5.86, \"CHAS\": 0.0, \"NOX\": 0.431, \"RM\": 5.593, \"AGE\": 76.5, \"DIS\": 7.9549, \"RAD\": 7.0, \"TAX\": 330.0, \"PTRATIO\": 19.1, \"B\": 372.49, \"LSTAT\": 12.5, \"PRICE\": 17.6}, {\"CRIM\": 0.19133, \"ZN\": 22.0, \"INDUS\": 5.86, \"CHAS\": 0.0, \"NOX\": 0.431, \"RM\": 5.605, \"AGE\": 70.2, \"DIS\": 7.9549, \"RAD\": 7.0, \"TAX\": 330.0, \"PTRATIO\": 19.1, \"B\": 389.13, \"LSTAT\": 18.46, \"PRICE\": 18.5}, {\"CRIM\": 0.33983, \"ZN\": 22.0, \"INDUS\": 5.86, \"CHAS\": 0.0, \"NOX\": 0.431, \"RM\": 6.108, \"AGE\": 34.9, \"DIS\": 8.0555, \"RAD\": 7.0, \"TAX\": 330.0, \"PTRATIO\": 19.1, \"B\": 390.18, \"LSTAT\": 9.16, \"PRICE\": 24.3}, {\"CRIM\": 0.19657, \"ZN\": 22.0, \"INDUS\": 5.86, \"CHAS\": 0.0, \"NOX\": 0.431, \"RM\": 6.226, \"AGE\": 79.2, \"DIS\": 8.0555, \"RAD\": 7.0, \"TAX\": 330.0, \"PTRATIO\": 19.1, \"B\": 376.14, \"LSTAT\": 10.15, \"PRICE\": 20.5}, {\"CRIM\": 0.16439, \"ZN\": 22.0, \"INDUS\": 5.86, \"CHAS\": 0.0, \"NOX\": 0.431, \"RM\": 6.433, \"AGE\": 49.1, \"DIS\": 7.8265, \"RAD\": 7.0, \"TAX\": 330.0, \"PTRATIO\": 19.1, \"B\": 374.71, \"LSTAT\": 9.52, \"PRICE\": 24.5}, {\"CRIM\": 0.19073, \"ZN\": 22.0, \"INDUS\": 5.86, \"CHAS\": 0.0, \"NOX\": 0.431, \"RM\": 6.718, \"AGE\": 17.5, \"DIS\": 7.8265, \"RAD\": 7.0, \"TAX\": 330.0, \"PTRATIO\": 19.1, \"B\": 393.74, \"LSTAT\": 6.56, \"PRICE\": 26.2}, {\"CRIM\": 0.1403, \"ZN\": 22.0, \"INDUS\": 5.86, \"CHAS\": 0.0, \"NOX\": 0.431, \"RM\": 6.487, \"AGE\": 13.0, \"DIS\": 7.3967, \"RAD\": 7.0, \"TAX\": 330.0, \"PTRATIO\": 19.1, \"B\": 396.28, \"LSTAT\": 5.9, \"PRICE\": 24.4}, {\"CRIM\": 0.21409, \"ZN\": 22.0, \"INDUS\": 5.86, \"CHAS\": 0.0, \"NOX\": 0.431, \"RM\": 6.438, \"AGE\": 8.9, \"DIS\": 7.3967, \"RAD\": 7.0, \"TAX\": 330.0, \"PTRATIO\": 19.1, \"B\": 377.07, \"LSTAT\": 3.59, \"PRICE\": 24.8}, {\"CRIM\": 0.08221, \"ZN\": 22.0, \"INDUS\": 5.86, \"CHAS\": 0.0, \"NOX\": 0.431, \"RM\": 6.957, \"AGE\": 6.8, \"DIS\": 8.9067, \"RAD\": 7.0, \"TAX\": 330.0, \"PTRATIO\": 19.1, \"B\": 386.09, \"LSTAT\": 3.53, \"PRICE\": 29.6}, {\"CRIM\": 0.36894, \"ZN\": 22.0, \"INDUS\": 5.86, \"CHAS\": 0.0, \"NOX\": 0.431, \"RM\": 8.259, \"AGE\": 8.4, \"DIS\": 8.9067, \"RAD\": 7.0, \"TAX\": 330.0, \"PTRATIO\": 19.1, \"B\": 396.9, \"LSTAT\": 3.54, \"PRICE\": 42.8}, {\"CRIM\": 0.04819, \"ZN\": 80.0, \"INDUS\": 3.64, \"CHAS\": 0.0, \"NOX\": 0.392, \"RM\": 6.108, \"AGE\": 32.0, \"DIS\": 9.2203, \"RAD\": 1.0, \"TAX\": 315.0, \"PTRATIO\": 16.4, \"B\": 392.89, \"LSTAT\": 6.57, \"PRICE\": 21.9}, {\"CRIM\": 0.03548, \"ZN\": 80.0, \"INDUS\": 3.64, \"CHAS\": 0.0, \"NOX\": 0.392, \"RM\": 5.876, \"AGE\": 19.1, \"DIS\": 9.2203, \"RAD\": 1.0, \"TAX\": 315.0, \"PTRATIO\": 16.4, \"B\": 395.18, \"LSTAT\": 9.25, \"PRICE\": 20.9}, {\"CRIM\": 0.01538, \"ZN\": 90.0, \"INDUS\": 3.75, \"CHAS\": 0.0, \"NOX\": 0.394, \"RM\": 7.454, \"AGE\": 34.2, \"DIS\": 6.3361, \"RAD\": 3.0, \"TAX\": 244.0, \"PTRATIO\": 15.9, \"B\": 386.34, \"LSTAT\": 3.11, \"PRICE\": 44.0}, {\"CRIM\": 0.61154, \"ZN\": 20.0, \"INDUS\": 3.97, \"CHAS\": 0.0, \"NOX\": 0.647, \"RM\": 8.704, \"AGE\": 86.9, \"DIS\": 1.801, \"RAD\": 5.0, \"TAX\": 264.0, \"PTRATIO\": 13.0, \"B\": 389.7, \"LSTAT\": 5.12, \"PRICE\": 50.0}, {\"CRIM\": 0.66351, \"ZN\": 20.0, \"INDUS\": 3.97, \"CHAS\": 0.0, \"NOX\": 0.647, \"RM\": 7.333, \"AGE\": 100.0, \"DIS\": 1.8946, \"RAD\": 5.0, \"TAX\": 264.0, \"PTRATIO\": 13.0, \"B\": 383.29, \"LSTAT\": 7.79, \"PRICE\": 36.0}, {\"CRIM\": 0.65665, \"ZN\": 20.0, \"INDUS\": 3.97, \"CHAS\": 0.0, \"NOX\": 0.647, \"RM\": 6.842, \"AGE\": 100.0, \"DIS\": 2.0107, \"RAD\": 5.0, \"TAX\": 264.0, \"PTRATIO\": 13.0, \"B\": 391.93, \"LSTAT\": 6.9, \"PRICE\": 30.1}, {\"CRIM\": 0.54011, \"ZN\": 20.0, \"INDUS\": 3.97, \"CHAS\": 0.0, \"NOX\": 0.647, \"RM\": 7.203, \"AGE\": 81.8, \"DIS\": 2.1121, \"RAD\": 5.0, \"TAX\": 264.0, \"PTRATIO\": 13.0, \"B\": 392.8, \"LSTAT\": 9.59, \"PRICE\": 33.8}, {\"CRIM\": 0.53412, \"ZN\": 20.0, \"INDUS\": 3.97, \"CHAS\": 0.0, \"NOX\": 0.647, \"RM\": 7.52, \"AGE\": 89.4, \"DIS\": 2.1398, \"RAD\": 5.0, \"TAX\": 264.0, \"PTRATIO\": 13.0, \"B\": 388.37, \"LSTAT\": 7.26, \"PRICE\": 43.1}, {\"CRIM\": 0.52014, \"ZN\": 20.0, \"INDUS\": 3.97, \"CHAS\": 0.0, \"NOX\": 0.647, \"RM\": 8.398, \"AGE\": 91.5, \"DIS\": 2.2885, \"RAD\": 5.0, \"TAX\": 264.0, \"PTRATIO\": 13.0, \"B\": 386.86, \"LSTAT\": 5.91, \"PRICE\": 48.8}, {\"CRIM\": 0.82526, \"ZN\": 20.0, \"INDUS\": 3.97, \"CHAS\": 0.0, \"NOX\": 0.647, \"RM\": 7.327, \"AGE\": 94.5, \"DIS\": 2.0788, \"RAD\": 5.0, \"TAX\": 264.0, \"PTRATIO\": 13.0, \"B\": 393.42, \"LSTAT\": 11.25, \"PRICE\": 31.0}, {\"CRIM\": 0.55007, \"ZN\": 20.0, \"INDUS\": 3.97, \"CHAS\": 0.0, \"NOX\": 0.647, \"RM\": 7.206, \"AGE\": 91.6, \"DIS\": 1.9301, \"RAD\": 5.0, \"TAX\": 264.0, \"PTRATIO\": 13.0, \"B\": 387.89, \"LSTAT\": 8.1, \"PRICE\": 36.5}, {\"CRIM\": 0.76162, \"ZN\": 20.0, \"INDUS\": 3.97, \"CHAS\": 0.0, \"NOX\": 0.647, \"RM\": 5.56, \"AGE\": 62.8, \"DIS\": 1.9865, \"RAD\": 5.0, \"TAX\": 264.0, \"PTRATIO\": 13.0, \"B\": 392.4, \"LSTAT\": 10.45, \"PRICE\": 22.8}, {\"CRIM\": 0.7857, \"ZN\": 20.0, \"INDUS\": 3.97, \"CHAS\": 0.0, \"NOX\": 0.647, \"RM\": 7.014, \"AGE\": 84.6, \"DIS\": 2.1329, \"RAD\": 5.0, \"TAX\": 264.0, \"PTRATIO\": 13.0, \"B\": 384.07, \"LSTAT\": 14.79, \"PRICE\": 30.7}, {\"CRIM\": 0.57834, \"ZN\": 20.0, \"INDUS\": 3.97, \"CHAS\": 0.0, \"NOX\": 0.575, \"RM\": 8.297, \"AGE\": 67.0, \"DIS\": 2.4216, \"RAD\": 5.0, \"TAX\": 264.0, \"PTRATIO\": 13.0, \"B\": 384.54, \"LSTAT\": 7.44, \"PRICE\": 50.0}, {\"CRIM\": 0.5405, \"ZN\": 20.0, \"INDUS\": 3.97, \"CHAS\": 0.0, \"NOX\": 0.575, \"RM\": 7.47, \"AGE\": 52.6, \"DIS\": 2.872, \"RAD\": 5.0, \"TAX\": 264.0, \"PTRATIO\": 13.0, \"B\": 390.3, \"LSTAT\": 3.16, \"PRICE\": 43.5}, {\"CRIM\": 0.09065, \"ZN\": 20.0, \"INDUS\": 6.96, \"CHAS\": 1.0, \"NOX\": 0.464, \"RM\": 5.92, \"AGE\": 61.5, \"DIS\": 3.9175, \"RAD\": 3.0, \"TAX\": 223.0, \"PTRATIO\": 18.6, \"B\": 391.34, \"LSTAT\": 13.65, \"PRICE\": 20.7}, {\"CRIM\": 0.29916, \"ZN\": 20.0, \"INDUS\": 6.96, \"CHAS\": 0.0, \"NOX\": 0.464, \"RM\": 5.856, \"AGE\": 42.1, \"DIS\": 4.429, \"RAD\": 3.0, \"TAX\": 223.0, \"PTRATIO\": 18.6, \"B\": 388.65, \"LSTAT\": 13.0, \"PRICE\": 21.1}, {\"CRIM\": 0.16211, \"ZN\": 20.0, \"INDUS\": 6.96, \"CHAS\": 0.0, \"NOX\": 0.464, \"RM\": 6.24, \"AGE\": 16.3, \"DIS\": 4.429, \"RAD\": 3.0, \"TAX\": 223.0, \"PTRATIO\": 18.6, \"B\": 396.9, \"LSTAT\": 6.59, \"PRICE\": 25.2}, {\"CRIM\": 0.1146, \"ZN\": 20.0, \"INDUS\": 6.96, \"CHAS\": 0.0, \"NOX\": 0.464, \"RM\": 6.538, \"AGE\": 58.7, \"DIS\": 3.9175, \"RAD\": 3.0, \"TAX\": 223.0, \"PTRATIO\": 18.6, \"B\": 394.96, \"LSTAT\": 7.73, \"PRICE\": 24.4}, {\"CRIM\": 0.22188, \"ZN\": 20.0, \"INDUS\": 6.96, \"CHAS\": 1.0, \"NOX\": 0.464, \"RM\": 7.691, \"AGE\": 51.8, \"DIS\": 4.3665, \"RAD\": 3.0, \"TAX\": 223.0, \"PTRATIO\": 18.6, \"B\": 390.77, \"LSTAT\": 6.58, \"PRICE\": 35.2}, {\"CRIM\": 0.05644, \"ZN\": 40.0, \"INDUS\": 6.41, \"CHAS\": 1.0, \"NOX\": 0.447, \"RM\": 6.758, \"AGE\": 32.9, \"DIS\": 4.0776, \"RAD\": 4.0, \"TAX\": 254.0, \"PTRATIO\": 17.6, \"B\": 396.9, \"LSTAT\": 3.53, \"PRICE\": 32.4}, {\"CRIM\": 0.09604, \"ZN\": 40.0, \"INDUS\": 6.41, \"CHAS\": 0.0, \"NOX\": 0.447, \"RM\": 6.854, \"AGE\": 42.8, \"DIS\": 4.2673, \"RAD\": 4.0, \"TAX\": 254.0, \"PTRATIO\": 17.6, \"B\": 396.9, \"LSTAT\": 2.98, \"PRICE\": 32.0}, {\"CRIM\": 0.10469, \"ZN\": 40.0, \"INDUS\": 6.41, \"CHAS\": 1.0, \"NOX\": 0.447, \"RM\": 7.267, \"AGE\": 49.0, \"DIS\": 4.7872, \"RAD\": 4.0, \"TAX\": 254.0, \"PTRATIO\": 17.6, \"B\": 389.25, \"LSTAT\": 6.05, \"PRICE\": 33.2}, {\"CRIM\": 0.06127, \"ZN\": 40.0, \"INDUS\": 6.41, \"CHAS\": 1.0, \"NOX\": 0.447, \"RM\": 6.826, \"AGE\": 27.6, \"DIS\": 4.8628, \"RAD\": 4.0, \"TAX\": 254.0, \"PTRATIO\": 17.6, \"B\": 393.45, \"LSTAT\": 4.16, \"PRICE\": 33.1}, {\"CRIM\": 0.07978, \"ZN\": 40.0, \"INDUS\": 6.41, \"CHAS\": 0.0, \"NOX\": 0.447, \"RM\": 6.482, \"AGE\": 32.1, \"DIS\": 4.1403, \"RAD\": 4.0, \"TAX\": 254.0, \"PTRATIO\": 17.6, \"B\": 396.9, \"LSTAT\": 7.19, \"PRICE\": 29.1}, {\"CRIM\": 0.21038, \"ZN\": 20.0, \"INDUS\": 3.33, \"CHAS\": 0.0, \"NOX\": 0.4429, \"RM\": 6.812, \"AGE\": 32.2, \"DIS\": 4.1007, \"RAD\": 5.0, \"TAX\": 216.0, \"PTRATIO\": 14.9, \"B\": 396.9, \"LSTAT\": 4.85, \"PRICE\": 35.1}, {\"CRIM\": 0.03578, \"ZN\": 20.0, \"INDUS\": 3.33, \"CHAS\": 0.0, \"NOX\": 0.4429, \"RM\": 7.82, \"AGE\": 64.5, \"DIS\": 4.6947, \"RAD\": 5.0, \"TAX\": 216.0, \"PTRATIO\": 14.9, \"B\": 387.31, \"LSTAT\": 3.76, \"PRICE\": 45.4}, {\"CRIM\": 0.03705, \"ZN\": 20.0, \"INDUS\": 3.33, \"CHAS\": 0.0, \"NOX\": 0.4429, \"RM\": 6.968, \"AGE\": 37.2, \"DIS\": 5.2447, \"RAD\": 5.0, \"TAX\": 216.0, \"PTRATIO\": 14.9, \"B\": 392.23, \"LSTAT\": 4.59, \"PRICE\": 35.4}, {\"CRIM\": 0.06129, \"ZN\": 20.0, \"INDUS\": 3.33, \"CHAS\": 1.0, \"NOX\": 0.4429, \"RM\": 7.645, \"AGE\": 49.7, \"DIS\": 5.2119, \"RAD\": 5.0, \"TAX\": 216.0, \"PTRATIO\": 14.9, \"B\": 377.07, \"LSTAT\": 3.01, \"PRICE\": 46.0}, {\"CRIM\": 0.01501, \"ZN\": 90.0, \"INDUS\": 1.21, \"CHAS\": 1.0, \"NOX\": 0.401, \"RM\": 7.923, \"AGE\": 24.8, \"DIS\": 5.885, \"RAD\": 1.0, \"TAX\": 198.0, \"PTRATIO\": 13.6, \"B\": 395.52, \"LSTAT\": 3.16, \"PRICE\": 50.0}, {\"CRIM\": 0.00906, \"ZN\": 90.0, \"INDUS\": 2.97, \"CHAS\": 0.0, \"NOX\": 0.4, \"RM\": 7.088, \"AGE\": 20.8, \"DIS\": 7.3073, \"RAD\": 1.0, \"TAX\": 285.0, \"PTRATIO\": 15.3, \"B\": 394.72, \"LSTAT\": 7.85, \"PRICE\": 32.2}, {\"CRIM\": 0.01096, \"ZN\": 55.0, \"INDUS\": 2.25, \"CHAS\": 0.0, \"NOX\": 0.389, \"RM\": 6.453, \"AGE\": 31.9, \"DIS\": 7.3073, \"RAD\": 1.0, \"TAX\": 300.0, \"PTRATIO\": 15.3, \"B\": 394.72, \"LSTAT\": 8.23, \"PRICE\": 22.0}, {\"CRIM\": 0.01965, \"ZN\": 80.0, \"INDUS\": 1.76, \"CHAS\": 0.0, \"NOX\": 0.385, \"RM\": 6.23, \"AGE\": 31.5, \"DIS\": 9.0892, \"RAD\": 1.0, \"TAX\": 241.0, \"PTRATIO\": 18.2, \"B\": 341.6, \"LSTAT\": 12.93, \"PRICE\": 20.1}, {\"CRIM\": 0.03871, \"ZN\": 52.5, \"INDUS\": 5.32, \"CHAS\": 0.0, \"NOX\": 0.405, \"RM\": 6.209, \"AGE\": 31.3, \"DIS\": 7.3172, \"RAD\": 6.0, \"TAX\": 293.0, \"PTRATIO\": 16.6, \"B\": 396.9, \"LSTAT\": 7.14, \"PRICE\": 23.2}, {\"CRIM\": 0.0459, \"ZN\": 52.5, \"INDUS\": 5.32, \"CHAS\": 0.0, \"NOX\": 0.405, \"RM\": 6.315, \"AGE\": 45.6, \"DIS\": 7.3172, \"RAD\": 6.0, \"TAX\": 293.0, \"PTRATIO\": 16.6, \"B\": 396.9, \"LSTAT\": 7.6, \"PRICE\": 22.3}, {\"CRIM\": 0.04297, \"ZN\": 52.5, \"INDUS\": 5.32, \"CHAS\": 0.0, \"NOX\": 0.405, \"RM\": 6.565, \"AGE\": 22.9, \"DIS\": 7.3172, \"RAD\": 6.0, \"TAX\": 293.0, \"PTRATIO\": 16.6, \"B\": 371.72, \"LSTAT\": 9.51, \"PRICE\": 24.8}, {\"CRIM\": 0.03502, \"ZN\": 80.0, \"INDUS\": 4.95, \"CHAS\": 0.0, \"NOX\": 0.411, \"RM\": 6.861, \"AGE\": 27.9, \"DIS\": 5.1167, \"RAD\": 4.0, \"TAX\": 245.0, \"PTRATIO\": 19.2, \"B\": 396.9, \"LSTAT\": 3.33, \"PRICE\": 28.5}, {\"CRIM\": 0.07886, \"ZN\": 80.0, \"INDUS\": 4.95, \"CHAS\": 0.0, \"NOX\": 0.411, \"RM\": 7.148, \"AGE\": 27.7, \"DIS\": 5.1167, \"RAD\": 4.0, \"TAX\": 245.0, \"PTRATIO\": 19.2, \"B\": 396.9, \"LSTAT\": 3.56, \"PRICE\": 37.3}, {\"CRIM\": 0.03615, \"ZN\": 80.0, \"INDUS\": 4.95, \"CHAS\": 0.0, \"NOX\": 0.411, \"RM\": 6.63, \"AGE\": 23.4, \"DIS\": 5.1167, \"RAD\": 4.0, \"TAX\": 245.0, \"PTRATIO\": 19.2, \"B\": 396.9, \"LSTAT\": 4.7, \"PRICE\": 27.9}, {\"CRIM\": 0.08265, \"ZN\": 0.0, \"INDUS\": 13.92, \"CHAS\": 0.0, \"NOX\": 0.437, \"RM\": 6.127, \"AGE\": 18.4, \"DIS\": 5.5027, \"RAD\": 4.0, \"TAX\": 289.0, \"PTRATIO\": 16.0, \"B\": 396.9, \"LSTAT\": 8.58, \"PRICE\": 23.9}, {\"CRIM\": 0.08199, \"ZN\": 0.0, \"INDUS\": 13.92, \"CHAS\": 0.0, \"NOX\": 0.437, \"RM\": 6.009, \"AGE\": 42.3, \"DIS\": 5.5027, \"RAD\": 4.0, \"TAX\": 289.0, \"PTRATIO\": 16.0, \"B\": 396.9, \"LSTAT\": 10.4, \"PRICE\": 21.7}, {\"CRIM\": 0.12932, \"ZN\": 0.0, \"INDUS\": 13.92, \"CHAS\": 0.0, \"NOX\": 0.437, \"RM\": 6.678, \"AGE\": 31.1, \"DIS\": 5.9604, \"RAD\": 4.0, \"TAX\": 289.0, \"PTRATIO\": 16.0, \"B\": 396.9, \"LSTAT\": 6.27, \"PRICE\": 28.6}, {\"CRIM\": 0.05372, \"ZN\": 0.0, \"INDUS\": 13.92, \"CHAS\": 0.0, \"NOX\": 0.437, \"RM\": 6.549, \"AGE\": 51.0, \"DIS\": 5.9604, \"RAD\": 4.0, \"TAX\": 289.0, \"PTRATIO\": 16.0, \"B\": 392.85, \"LSTAT\": 7.39, \"PRICE\": 27.1}, {\"CRIM\": 0.14103, \"ZN\": 0.0, \"INDUS\": 13.92, \"CHAS\": 0.0, \"NOX\": 0.437, \"RM\": 5.79, \"AGE\": 58.0, \"DIS\": 6.32, \"RAD\": 4.0, \"TAX\": 289.0, \"PTRATIO\": 16.0, \"B\": 396.9, \"LSTAT\": 15.84, \"PRICE\": 20.3}, {\"CRIM\": 0.06466, \"ZN\": 70.0, \"INDUS\": 2.24, \"CHAS\": 0.0, \"NOX\": 0.4, \"RM\": 6.345, \"AGE\": 20.1, \"DIS\": 7.8278, \"RAD\": 5.0, \"TAX\": 358.0, \"PTRATIO\": 14.8, \"B\": 368.24, \"LSTAT\": 4.97, \"PRICE\": 22.5}, {\"CRIM\": 0.05561, \"ZN\": 70.0, \"INDUS\": 2.24, \"CHAS\": 0.0, \"NOX\": 0.4, \"RM\": 7.041, \"AGE\": 10.0, \"DIS\": 7.8278, \"RAD\": 5.0, \"TAX\": 358.0, \"PTRATIO\": 14.8, \"B\": 371.58, \"LSTAT\": 4.74, \"PRICE\": 29.0}, {\"CRIM\": 0.04417, \"ZN\": 70.0, \"INDUS\": 2.24, \"CHAS\": 0.0, \"NOX\": 0.4, \"RM\": 6.871, \"AGE\": 47.4, \"DIS\": 7.8278, \"RAD\": 5.0, \"TAX\": 358.0, \"PTRATIO\": 14.8, \"B\": 390.86, \"LSTAT\": 6.07, \"PRICE\": 24.8}, {\"CRIM\": 0.03537, \"ZN\": 34.0, \"INDUS\": 6.09, \"CHAS\": 0.0, \"NOX\": 0.433, \"RM\": 6.59, \"AGE\": 40.4, \"DIS\": 5.4917, \"RAD\": 7.0, \"TAX\": 329.0, \"PTRATIO\": 16.1, \"B\": 395.75, \"LSTAT\": 9.5, \"PRICE\": 22.0}, {\"CRIM\": 0.09266, \"ZN\": 34.0, \"INDUS\": 6.09, \"CHAS\": 0.0, \"NOX\": 0.433, \"RM\": 6.495, \"AGE\": 18.4, \"DIS\": 5.4917, \"RAD\": 7.0, \"TAX\": 329.0, \"PTRATIO\": 16.1, \"B\": 383.61, \"LSTAT\": 8.67, \"PRICE\": 26.4}, {\"CRIM\": 0.1, \"ZN\": 34.0, \"INDUS\": 6.09, \"CHAS\": 0.0, \"NOX\": 0.433, \"RM\": 6.982, \"AGE\": 17.7, \"DIS\": 5.4917, \"RAD\": 7.0, \"TAX\": 329.0, \"PTRATIO\": 16.1, \"B\": 390.43, \"LSTAT\": 4.86, \"PRICE\": 33.1}, {\"CRIM\": 0.05515, \"ZN\": 33.0, \"INDUS\": 2.18, \"CHAS\": 0.0, \"NOX\": 0.472, \"RM\": 7.236, \"AGE\": 41.1, \"DIS\": 4.022, \"RAD\": 7.0, \"TAX\": 222.0, \"PTRATIO\": 18.4, \"B\": 393.68, \"LSTAT\": 6.93, \"PRICE\": 36.1}, {\"CRIM\": 0.05479, \"ZN\": 33.0, \"INDUS\": 2.18, \"CHAS\": 0.0, \"NOX\": 0.472, \"RM\": 6.616, \"AGE\": 58.1, \"DIS\": 3.37, \"RAD\": 7.0, \"TAX\": 222.0, \"PTRATIO\": 18.4, \"B\": 393.36, \"LSTAT\": 8.93, \"PRICE\": 28.4}, {\"CRIM\": 0.07503, \"ZN\": 33.0, \"INDUS\": 2.18, \"CHAS\": 0.0, \"NOX\": 0.472, \"RM\": 7.42, \"AGE\": 71.9, \"DIS\": 3.0992, \"RAD\": 7.0, \"TAX\": 222.0, \"PTRATIO\": 18.4, \"B\": 396.9, \"LSTAT\": 6.47, \"PRICE\": 33.4}, {\"CRIM\": 0.04932, \"ZN\": 33.0, \"INDUS\": 2.18, \"CHAS\": 0.0, \"NOX\": 0.472, \"RM\": 6.849, \"AGE\": 70.3, \"DIS\": 3.1827, \"RAD\": 7.0, \"TAX\": 222.0, \"PTRATIO\": 18.4, \"B\": 396.9, \"LSTAT\": 7.53, \"PRICE\": 28.2}, {\"CRIM\": 0.49298, \"ZN\": 0.0, \"INDUS\": 9.9, \"CHAS\": 0.0, \"NOX\": 0.544, \"RM\": 6.635, \"AGE\": 82.5, \"DIS\": 3.3175, \"RAD\": 4.0, \"TAX\": 304.0, \"PTRATIO\": 18.4, \"B\": 396.9, \"LSTAT\": 4.54, \"PRICE\": 22.8}, {\"CRIM\": 0.3494, \"ZN\": 0.0, \"INDUS\": 9.9, \"CHAS\": 0.0, \"NOX\": 0.544, \"RM\": 5.972, \"AGE\": 76.7, \"DIS\": 3.1025, \"RAD\": 4.0, \"TAX\": 304.0, \"PTRATIO\": 18.4, \"B\": 396.24, \"LSTAT\": 9.97, \"PRICE\": 20.3}, {\"CRIM\": 2.63548, \"ZN\": 0.0, \"INDUS\": 9.9, \"CHAS\": 0.0, \"NOX\": 0.544, \"RM\": 4.973, \"AGE\": 37.8, \"DIS\": 2.5194, \"RAD\": 4.0, \"TAX\": 304.0, \"PTRATIO\": 18.4, \"B\": 350.45, \"LSTAT\": 12.64, \"PRICE\": 16.1}, {\"CRIM\": 0.79041, \"ZN\": 0.0, \"INDUS\": 9.9, \"CHAS\": 0.0, \"NOX\": 0.544, \"RM\": 6.122, \"AGE\": 52.8, \"DIS\": 2.6403, \"RAD\": 4.0, \"TAX\": 304.0, \"PTRATIO\": 18.4, \"B\": 396.9, \"LSTAT\": 5.98, \"PRICE\": 22.1}, {\"CRIM\": 0.26169, \"ZN\": 0.0, \"INDUS\": 9.9, \"CHAS\": 0.0, \"NOX\": 0.544, \"RM\": 6.023, \"AGE\": 90.4, \"DIS\": 2.834, \"RAD\": 4.0, \"TAX\": 304.0, \"PTRATIO\": 18.4, \"B\": 396.3, \"LSTAT\": 11.72, \"PRICE\": 19.4}, {\"CRIM\": 0.26938, \"ZN\": 0.0, \"INDUS\": 9.9, \"CHAS\": 0.0, \"NOX\": 0.544, \"RM\": 6.266, \"AGE\": 82.8, \"DIS\": 3.2628, \"RAD\": 4.0, \"TAX\": 304.0, \"PTRATIO\": 18.4, \"B\": 393.39, \"LSTAT\": 7.9, \"PRICE\": 21.6}, {\"CRIM\": 0.3692, \"ZN\": 0.0, \"INDUS\": 9.9, \"CHAS\": 0.0, \"NOX\": 0.544, \"RM\": 6.567, \"AGE\": 87.3, \"DIS\": 3.6023, \"RAD\": 4.0, \"TAX\": 304.0, \"PTRATIO\": 18.4, \"B\": 395.69, \"LSTAT\": 9.28, \"PRICE\": 23.8}, {\"CRIM\": 0.25356, \"ZN\": 0.0, \"INDUS\": 9.9, \"CHAS\": 0.0, \"NOX\": 0.544, \"RM\": 5.705, \"AGE\": 77.7, \"DIS\": 3.945, \"RAD\": 4.0, \"TAX\": 304.0, \"PTRATIO\": 18.4, \"B\": 396.42, \"LSTAT\": 11.5, \"PRICE\": 16.2}, {\"CRIM\": 0.31827, \"ZN\": 0.0, \"INDUS\": 9.9, \"CHAS\": 0.0, \"NOX\": 0.544, \"RM\": 5.914, \"AGE\": 83.2, \"DIS\": 3.9986, \"RAD\": 4.0, \"TAX\": 304.0, \"PTRATIO\": 18.4, \"B\": 390.7, \"LSTAT\": 18.33, \"PRICE\": 17.8}, {\"CRIM\": 0.24522, \"ZN\": 0.0, \"INDUS\": 9.9, \"CHAS\": 0.0, \"NOX\": 0.544, \"RM\": 5.782, \"AGE\": 71.7, \"DIS\": 4.0317, \"RAD\": 4.0, \"TAX\": 304.0, \"PTRATIO\": 18.4, \"B\": 396.9, \"LSTAT\": 15.94, \"PRICE\": 19.8}, {\"CRIM\": 0.40202, \"ZN\": 0.0, \"INDUS\": 9.9, \"CHAS\": 0.0, \"NOX\": 0.544, \"RM\": 6.382, \"AGE\": 67.2, \"DIS\": 3.5325, \"RAD\": 4.0, \"TAX\": 304.0, \"PTRATIO\": 18.4, \"B\": 395.21, \"LSTAT\": 10.36, \"PRICE\": 23.1}, {\"CRIM\": 0.47547, \"ZN\": 0.0, \"INDUS\": 9.9, \"CHAS\": 0.0, \"NOX\": 0.544, \"RM\": 6.113, \"AGE\": 58.8, \"DIS\": 4.0019, \"RAD\": 4.0, \"TAX\": 304.0, \"PTRATIO\": 18.4, \"B\": 396.23, \"LSTAT\": 12.73, \"PRICE\": 21.0}, {\"CRIM\": 0.1676, \"ZN\": 0.0, \"INDUS\": 7.38, \"CHAS\": 0.0, \"NOX\": 0.493, \"RM\": 6.426, \"AGE\": 52.3, \"DIS\": 4.5404, \"RAD\": 5.0, \"TAX\": 287.0, \"PTRATIO\": 19.6, \"B\": 396.9, \"LSTAT\": 7.2, \"PRICE\": 23.8}, {\"CRIM\": 0.18159, \"ZN\": 0.0, \"INDUS\": 7.38, \"CHAS\": 0.0, \"NOX\": 0.493, \"RM\": 6.376, \"AGE\": 54.3, \"DIS\": 4.5404, \"RAD\": 5.0, \"TAX\": 287.0, \"PTRATIO\": 19.6, \"B\": 396.9, \"LSTAT\": 6.87, \"PRICE\": 23.1}, {\"CRIM\": 0.35114, \"ZN\": 0.0, \"INDUS\": 7.38, \"CHAS\": 0.0, \"NOX\": 0.493, \"RM\": 6.041, \"AGE\": 49.9, \"DIS\": 4.7211, \"RAD\": 5.0, \"TAX\": 287.0, \"PTRATIO\": 19.6, \"B\": 396.9, \"LSTAT\": 7.7, \"PRICE\": 20.4}, {\"CRIM\": 0.28392, \"ZN\": 0.0, \"INDUS\": 7.38, \"CHAS\": 0.0, \"NOX\": 0.493, \"RM\": 5.708, \"AGE\": 74.3, \"DIS\": 4.7211, \"RAD\": 5.0, \"TAX\": 287.0, \"PTRATIO\": 19.6, \"B\": 391.13, \"LSTAT\": 11.74, \"PRICE\": 18.5}, {\"CRIM\": 0.34109, \"ZN\": 0.0, \"INDUS\": 7.38, \"CHAS\": 0.0, \"NOX\": 0.493, \"RM\": 6.415, \"AGE\": 40.1, \"DIS\": 4.7211, \"RAD\": 5.0, \"TAX\": 287.0, \"PTRATIO\": 19.6, \"B\": 396.9, \"LSTAT\": 6.12, \"PRICE\": 25.0}, {\"CRIM\": 0.19186, \"ZN\": 0.0, \"INDUS\": 7.38, \"CHAS\": 0.0, \"NOX\": 0.493, \"RM\": 6.431, \"AGE\": 14.7, \"DIS\": 5.4159, \"RAD\": 5.0, \"TAX\": 287.0, \"PTRATIO\": 19.6, \"B\": 393.68, \"LSTAT\": 5.08, \"PRICE\": 24.6}, {\"CRIM\": 0.30347, \"ZN\": 0.0, \"INDUS\": 7.38, \"CHAS\": 0.0, \"NOX\": 0.493, \"RM\": 6.312, \"AGE\": 28.9, \"DIS\": 5.4159, \"RAD\": 5.0, \"TAX\": 287.0, \"PTRATIO\": 19.6, \"B\": 396.9, \"LSTAT\": 6.15, \"PRICE\": 23.0}, {\"CRIM\": 0.24103, \"ZN\": 0.0, \"INDUS\": 7.38, \"CHAS\": 0.0, \"NOX\": 0.493, \"RM\": 6.083, \"AGE\": 43.7, \"DIS\": 5.4159, \"RAD\": 5.0, \"TAX\": 287.0, \"PTRATIO\": 19.6, \"B\": 396.9, \"LSTAT\": 12.79, \"PRICE\": 22.2}, {\"CRIM\": 0.06617, \"ZN\": 0.0, \"INDUS\": 3.24, \"CHAS\": 0.0, \"NOX\": 0.46, \"RM\": 5.868, \"AGE\": 25.8, \"DIS\": 5.2146, \"RAD\": 4.0, \"TAX\": 430.0, \"PTRATIO\": 16.9, \"B\": 382.44, \"LSTAT\": 9.97, \"PRICE\": 19.3}, {\"CRIM\": 0.06724, \"ZN\": 0.0, \"INDUS\": 3.24, \"CHAS\": 0.0, \"NOX\": 0.46, \"RM\": 6.333, \"AGE\": 17.2, \"DIS\": 5.2146, \"RAD\": 4.0, \"TAX\": 430.0, \"PTRATIO\": 16.9, \"B\": 375.21, \"LSTAT\": 7.34, \"PRICE\": 22.6}, {\"CRIM\": 0.04544, \"ZN\": 0.0, \"INDUS\": 3.24, \"CHAS\": 0.0, \"NOX\": 0.46, \"RM\": 6.144, \"AGE\": 32.2, \"DIS\": 5.8736, \"RAD\": 4.0, \"TAX\": 430.0, \"PTRATIO\": 16.9, \"B\": 368.57, \"LSTAT\": 9.09, \"PRICE\": 19.8}, {\"CRIM\": 0.05023, \"ZN\": 35.0, \"INDUS\": 6.06, \"CHAS\": 0.0, \"NOX\": 0.4379, \"RM\": 5.706, \"AGE\": 28.4, \"DIS\": 6.6407, \"RAD\": 1.0, \"TAX\": 304.0, \"PTRATIO\": 16.9, \"B\": 394.02, \"LSTAT\": 12.43, \"PRICE\": 17.1}, {\"CRIM\": 0.03466, \"ZN\": 35.0, \"INDUS\": 6.06, \"CHAS\": 0.0, \"NOX\": 0.4379, \"RM\": 6.031, \"AGE\": 23.3, \"DIS\": 6.6407, \"RAD\": 1.0, \"TAX\": 304.0, \"PTRATIO\": 16.9, \"B\": 362.25, \"LSTAT\": 7.83, \"PRICE\": 19.4}, {\"CRIM\": 0.05083, \"ZN\": 0.0, \"INDUS\": 5.19, \"CHAS\": 0.0, \"NOX\": 0.515, \"RM\": 6.316, \"AGE\": 38.1, \"DIS\": 6.4584, \"RAD\": 5.0, \"TAX\": 224.0, \"PTRATIO\": 20.2, \"B\": 389.71, \"LSTAT\": 5.68, \"PRICE\": 22.2}, {\"CRIM\": 0.03738, \"ZN\": 0.0, \"INDUS\": 5.19, \"CHAS\": 0.0, \"NOX\": 0.515, \"RM\": 6.31, \"AGE\": 38.5, \"DIS\": 6.4584, \"RAD\": 5.0, \"TAX\": 224.0, \"PTRATIO\": 20.2, \"B\": 389.4, \"LSTAT\": 6.75, \"PRICE\": 20.7}, {\"CRIM\": 0.03961, \"ZN\": 0.0, \"INDUS\": 5.19, \"CHAS\": 0.0, \"NOX\": 0.515, \"RM\": 6.037, \"AGE\": 34.5, \"DIS\": 5.9853, \"RAD\": 5.0, \"TAX\": 224.0, \"PTRATIO\": 20.2, \"B\": 396.9, \"LSTAT\": 8.01, \"PRICE\": 21.1}, {\"CRIM\": 0.03427, \"ZN\": 0.0, \"INDUS\": 5.19, \"CHAS\": 0.0, \"NOX\": 0.515, \"RM\": 5.869, \"AGE\": 46.3, \"DIS\": 5.2311, \"RAD\": 5.0, \"TAX\": 224.0, \"PTRATIO\": 20.2, \"B\": 396.9, \"LSTAT\": 9.8, \"PRICE\": 19.5}, {\"CRIM\": 0.03041, \"ZN\": 0.0, \"INDUS\": 5.19, \"CHAS\": 0.0, \"NOX\": 0.515, \"RM\": 5.895, \"AGE\": 59.6, \"DIS\": 5.615, \"RAD\": 5.0, \"TAX\": 224.0, \"PTRATIO\": 20.2, \"B\": 394.81, \"LSTAT\": 10.56, \"PRICE\": 18.5}, {\"CRIM\": 0.03306, \"ZN\": 0.0, \"INDUS\": 5.19, \"CHAS\": 0.0, \"NOX\": 0.515, \"RM\": 6.059, \"AGE\": 37.3, \"DIS\": 4.8122, \"RAD\": 5.0, \"TAX\": 224.0, \"PTRATIO\": 20.2, \"B\": 396.14, \"LSTAT\": 8.51, \"PRICE\": 20.6}, {\"CRIM\": 0.05497, \"ZN\": 0.0, \"INDUS\": 5.19, \"CHAS\": 0.0, \"NOX\": 0.515, \"RM\": 5.985, \"AGE\": 45.4, \"DIS\": 4.8122, \"RAD\": 5.0, \"TAX\": 224.0, \"PTRATIO\": 20.2, \"B\": 396.9, \"LSTAT\": 9.74, \"PRICE\": 19.0}, {\"CRIM\": 0.06151, \"ZN\": 0.0, \"INDUS\": 5.19, \"CHAS\": 0.0, \"NOX\": 0.515, \"RM\": 5.968, \"AGE\": 58.5, \"DIS\": 4.8122, \"RAD\": 5.0, \"TAX\": 224.0, \"PTRATIO\": 20.2, \"B\": 396.9, \"LSTAT\": 9.29, \"PRICE\": 18.7}, {\"CRIM\": 0.01301, \"ZN\": 35.0, \"INDUS\": 1.52, \"CHAS\": 0.0, \"NOX\": 0.442, \"RM\": 7.241, \"AGE\": 49.3, \"DIS\": 7.0379, \"RAD\": 1.0, \"TAX\": 284.0, \"PTRATIO\": 15.5, \"B\": 394.74, \"LSTAT\": 5.49, \"PRICE\": 32.7}, {\"CRIM\": 0.02498, \"ZN\": 0.0, \"INDUS\": 1.89, \"CHAS\": 0.0, \"NOX\": 0.518, \"RM\": 6.54, \"AGE\": 59.7, \"DIS\": 6.2669, \"RAD\": 1.0, \"TAX\": 422.0, \"PTRATIO\": 15.9, \"B\": 389.96, \"LSTAT\": 8.65, \"PRICE\": 16.5}, {\"CRIM\": 0.02543, \"ZN\": 55.0, \"INDUS\": 3.78, \"CHAS\": 0.0, \"NOX\": 0.484, \"RM\": 6.696, \"AGE\": 56.4, \"DIS\": 5.7321, \"RAD\": 5.0, \"TAX\": 370.0, \"PTRATIO\": 17.6, \"B\": 396.9, \"LSTAT\": 7.18, \"PRICE\": 23.9}, {\"CRIM\": 0.03049, \"ZN\": 55.0, \"INDUS\": 3.78, \"CHAS\": 0.0, \"NOX\": 0.484, \"RM\": 6.874, \"AGE\": 28.1, \"DIS\": 6.4654, \"RAD\": 5.0, \"TAX\": 370.0, \"PTRATIO\": 17.6, \"B\": 387.97, \"LSTAT\": 4.61, \"PRICE\": 31.2}, {\"CRIM\": 0.03113, \"ZN\": 0.0, \"INDUS\": 4.39, \"CHAS\": 0.0, \"NOX\": 0.442, \"RM\": 6.014, \"AGE\": 48.5, \"DIS\": 8.0136, \"RAD\": 3.0, \"TAX\": 352.0, \"PTRATIO\": 18.8, \"B\": 385.64, \"LSTAT\": 10.53, \"PRICE\": 17.5}, {\"CRIM\": 0.06162, \"ZN\": 0.0, \"INDUS\": 4.39, \"CHAS\": 0.0, \"NOX\": 0.442, \"RM\": 5.898, \"AGE\": 52.3, \"DIS\": 8.0136, \"RAD\": 3.0, \"TAX\": 352.0, \"PTRATIO\": 18.8, \"B\": 364.61, \"LSTAT\": 12.67, \"PRICE\": 17.2}, {\"CRIM\": 0.0187, \"ZN\": 85.0, \"INDUS\": 4.15, \"CHAS\": 0.0, \"NOX\": 0.429, \"RM\": 6.516, \"AGE\": 27.7, \"DIS\": 8.5353, \"RAD\": 4.0, \"TAX\": 351.0, \"PTRATIO\": 17.9, \"B\": 392.43, \"LSTAT\": 6.36, \"PRICE\": 23.1}, {\"CRIM\": 0.01501, \"ZN\": 80.0, \"INDUS\": 2.01, \"CHAS\": 0.0, \"NOX\": 0.435, \"RM\": 6.635, \"AGE\": 29.7, \"DIS\": 8.344, \"RAD\": 4.0, \"TAX\": 280.0, \"PTRATIO\": 17.0, \"B\": 390.94, \"LSTAT\": 5.99, \"PRICE\": 24.5}, {\"CRIM\": 0.02899, \"ZN\": 40.0, \"INDUS\": 1.25, \"CHAS\": 0.0, \"NOX\": 0.429, \"RM\": 6.939, \"AGE\": 34.5, \"DIS\": 8.7921, \"RAD\": 1.0, \"TAX\": 335.0, \"PTRATIO\": 19.7, \"B\": 389.85, \"LSTAT\": 5.89, \"PRICE\": 26.6}, {\"CRIM\": 0.06211, \"ZN\": 40.0, \"INDUS\": 1.25, \"CHAS\": 0.0, \"NOX\": 0.429, \"RM\": 6.49, \"AGE\": 44.4, \"DIS\": 8.7921, \"RAD\": 1.0, \"TAX\": 335.0, \"PTRATIO\": 19.7, \"B\": 396.9, \"LSTAT\": 5.98, \"PRICE\": 22.9}, {\"CRIM\": 0.0795, \"ZN\": 60.0, \"INDUS\": 1.69, \"CHAS\": 0.0, \"NOX\": 0.411, \"RM\": 6.579, \"AGE\": 35.9, \"DIS\": 10.7103, \"RAD\": 4.0, \"TAX\": 411.0, \"PTRATIO\": 18.3, \"B\": 370.78, \"LSTAT\": 5.49, \"PRICE\": 24.1}, {\"CRIM\": 0.07244, \"ZN\": 60.0, \"INDUS\": 1.69, \"CHAS\": 0.0, \"NOX\": 0.411, \"RM\": 5.884, \"AGE\": 18.5, \"DIS\": 10.7103, \"RAD\": 4.0, \"TAX\": 411.0, \"PTRATIO\": 18.3, \"B\": 392.33, \"LSTAT\": 7.79, \"PRICE\": 18.6}, {\"CRIM\": 0.01709, \"ZN\": 90.0, \"INDUS\": 2.02, \"CHAS\": 0.0, \"NOX\": 0.41, \"RM\": 6.728, \"AGE\": 36.1, \"DIS\": 12.1265, \"RAD\": 5.0, \"TAX\": 187.0, \"PTRATIO\": 17.0, \"B\": 384.46, \"LSTAT\": 4.5, \"PRICE\": 30.1}, {\"CRIM\": 0.04301, \"ZN\": 80.0, \"INDUS\": 1.91, \"CHAS\": 0.0, \"NOX\": 0.413, \"RM\": 5.663, \"AGE\": 21.9, \"DIS\": 10.5857, \"RAD\": 4.0, \"TAX\": 334.0, \"PTRATIO\": 22.0, \"B\": 382.8, \"LSTAT\": 8.05, \"PRICE\": 18.2}, {\"CRIM\": 0.10659, \"ZN\": 80.0, \"INDUS\": 1.91, \"CHAS\": 0.0, \"NOX\": 0.413, \"RM\": 5.936, \"AGE\": 19.5, \"DIS\": 10.5857, \"RAD\": 4.0, \"TAX\": 334.0, \"PTRATIO\": 22.0, \"B\": 376.04, \"LSTAT\": 5.57, \"PRICE\": 20.6}, {\"CRIM\": 8.98296, \"ZN\": 0.0, \"INDUS\": 18.1, \"CHAS\": 1.0, \"NOX\": 0.77, \"RM\": 6.212, \"AGE\": 97.4, \"DIS\": 2.1222, \"RAD\": 24.0, \"TAX\": 666.0, \"PTRATIO\": 20.2, \"B\": 377.73, \"LSTAT\": 17.6, \"PRICE\": 17.8}, {\"CRIM\": 3.8497, \"ZN\": 0.0, \"INDUS\": 18.1, \"CHAS\": 1.0, \"NOX\": 0.77, \"RM\": 6.395, \"AGE\": 91.0, \"DIS\": 2.5052, \"RAD\": 24.0, \"TAX\": 666.0, \"PTRATIO\": 20.2, \"B\": 391.34, \"LSTAT\": 13.27, \"PRICE\": 21.7}, {\"CRIM\": 5.20177, \"ZN\": 0.0, \"INDUS\": 18.1, \"CHAS\": 1.0, \"NOX\": 0.77, \"RM\": 6.127, \"AGE\": 83.4, \"DIS\": 2.7227, \"RAD\": 24.0, \"TAX\": 666.0, \"PTRATIO\": 20.2, \"B\": 395.43, \"LSTAT\": 11.48, \"PRICE\": 22.7}, {\"CRIM\": 4.26131, \"ZN\": 0.0, \"INDUS\": 18.1, \"CHAS\": 0.0, \"NOX\": 0.77, \"RM\": 6.112, \"AGE\": 81.3, \"DIS\": 2.5091, \"RAD\": 24.0, \"TAX\": 666.0, \"PTRATIO\": 20.2, \"B\": 390.74, \"LSTAT\": 12.67, \"PRICE\": 22.6}, {\"CRIM\": 4.54192, \"ZN\": 0.0, \"INDUS\": 18.1, \"CHAS\": 0.0, \"NOX\": 0.77, \"RM\": 6.398, \"AGE\": 88.0, \"DIS\": 2.5182, \"RAD\": 24.0, \"TAX\": 666.0, \"PTRATIO\": 20.2, \"B\": 374.56, \"LSTAT\": 7.79, \"PRICE\": 25.0}, {\"CRIM\": 3.83684, \"ZN\": 0.0, \"INDUS\": 18.1, \"CHAS\": 0.0, \"NOX\": 0.77, \"RM\": 6.251, \"AGE\": 91.1, \"DIS\": 2.2955, \"RAD\": 24.0, \"TAX\": 666.0, \"PTRATIO\": 20.2, \"B\": 350.65, \"LSTAT\": 14.19, \"PRICE\": 19.9}, {\"CRIM\": 3.67822, \"ZN\": 0.0, \"INDUS\": 18.1, \"CHAS\": 0.0, \"NOX\": 0.77, \"RM\": 5.362, \"AGE\": 96.2, \"DIS\": 2.1036, \"RAD\": 24.0, \"TAX\": 666.0, \"PTRATIO\": 20.2, \"B\": 380.79, \"LSTAT\": 10.19, \"PRICE\": 20.8}, {\"CRIM\": 4.22239, \"ZN\": 0.0, \"INDUS\": 18.1, \"CHAS\": 1.0, \"NOX\": 0.77, \"RM\": 5.803, \"AGE\": 89.0, \"DIS\": 1.9047, \"RAD\": 24.0, \"TAX\": 666.0, \"PTRATIO\": 20.2, \"B\": 353.04, \"LSTAT\": 14.64, \"PRICE\": 16.8}, {\"CRIM\": 3.47428, \"ZN\": 0.0, \"INDUS\": 18.1, \"CHAS\": 1.0, \"NOX\": 0.718, \"RM\": 8.78, \"AGE\": 82.9, \"DIS\": 1.9047, \"RAD\": 24.0, \"TAX\": 666.0, \"PTRATIO\": 20.2, \"B\": 354.55, \"LSTAT\": 5.29, \"PRICE\": 21.9}, {\"CRIM\": 4.55587, \"ZN\": 0.0, \"INDUS\": 18.1, \"CHAS\": 0.0, \"NOX\": 0.718, \"RM\": 3.561, \"AGE\": 87.9, \"DIS\": 1.6132, \"RAD\": 24.0, \"TAX\": 666.0, \"PTRATIO\": 20.2, \"B\": 354.7, \"LSTAT\": 7.12, \"PRICE\": 27.5}, {\"CRIM\": 3.69695, \"ZN\": 0.0, \"INDUS\": 18.1, \"CHAS\": 0.0, \"NOX\": 0.718, \"RM\": 4.963, \"AGE\": 91.4, \"DIS\": 1.7523, \"RAD\": 24.0, \"TAX\": 666.0, \"PTRATIO\": 20.2, \"B\": 316.03, \"LSTAT\": 14.0, \"PRICE\": 21.9}, {\"CRIM\": 13.5222, \"ZN\": 0.0, \"INDUS\": 18.1, \"CHAS\": 0.0, \"NOX\": 0.631, \"RM\": 3.863, \"AGE\": 100.0, \"DIS\": 1.5106, \"RAD\": 24.0, \"TAX\": 666.0, \"PTRATIO\": 20.2, \"B\": 131.42, \"LSTAT\": 13.33, \"PRICE\": 23.1}, {\"CRIM\": 4.89822, \"ZN\": 0.0, \"INDUS\": 18.1, \"CHAS\": 0.0, \"NOX\": 0.631, \"RM\": 4.97, \"AGE\": 100.0, \"DIS\": 1.3325, \"RAD\": 24.0, \"TAX\": 666.0, \"PTRATIO\": 20.2, \"B\": 375.52, \"LSTAT\": 3.26, \"PRICE\": 50.0}, {\"CRIM\": 5.66998, \"ZN\": 0.0, \"INDUS\": 18.1, \"CHAS\": 1.0, \"NOX\": 0.631, \"RM\": 6.683, \"AGE\": 96.8, \"DIS\": 1.3567, \"RAD\": 24.0, \"TAX\": 666.0, \"PTRATIO\": 20.2, \"B\": 375.33, \"LSTAT\": 3.73, \"PRICE\": 50.0}, {\"CRIM\": 6.53876, \"ZN\": 0.0, \"INDUS\": 18.1, \"CHAS\": 1.0, \"NOX\": 0.631, \"RM\": 7.016, \"AGE\": 97.5, \"DIS\": 1.2024, \"RAD\": 24.0, \"TAX\": 666.0, \"PTRATIO\": 20.2, \"B\": 392.05, \"LSTAT\": 2.96, \"PRICE\": 50.0}, {\"CRIM\": 9.2323, \"ZN\": 0.0, \"INDUS\": 18.1, \"CHAS\": 0.0, \"NOX\": 0.631, \"RM\": 6.216, \"AGE\": 100.0, \"DIS\": 1.1691, \"RAD\": 24.0, \"TAX\": 666.0, \"PTRATIO\": 20.2, \"B\": 366.15, \"LSTAT\": 9.53, \"PRICE\": 50.0}, {\"CRIM\": 8.26725, \"ZN\": 0.0, \"INDUS\": 18.1, \"CHAS\": 1.0, \"NOX\": 0.668, \"RM\": 5.875, \"AGE\": 89.6, \"DIS\": 1.1296, \"RAD\": 24.0, \"TAX\": 666.0, \"PTRATIO\": 20.2, \"B\": 347.88, \"LSTAT\": 8.88, \"PRICE\": 50.0}, {\"CRIM\": 11.1081, \"ZN\": 0.0, \"INDUS\": 18.1, \"CHAS\": 0.0, \"NOX\": 0.668, \"RM\": 4.906, \"AGE\": 100.0, \"DIS\": 1.1742, \"RAD\": 24.0, \"TAX\": 666.0, \"PTRATIO\": 20.2, \"B\": 396.9, \"LSTAT\": 34.77, \"PRICE\": 13.8}, {\"CRIM\": 18.4982, \"ZN\": 0.0, \"INDUS\": 18.1, \"CHAS\": 0.0, \"NOX\": 0.668, \"RM\": 4.138, \"AGE\": 100.0, \"DIS\": 1.137, \"RAD\": 24.0, \"TAX\": 666.0, \"PTRATIO\": 20.2, \"B\": 396.9, \"LSTAT\": 37.97, \"PRICE\": 13.8}, {\"CRIM\": 19.6091, \"ZN\": 0.0, \"INDUS\": 18.1, \"CHAS\": 0.0, \"NOX\": 0.671, \"RM\": 7.313, \"AGE\": 97.9, \"DIS\": 1.3163, \"RAD\": 24.0, \"TAX\": 666.0, \"PTRATIO\": 20.2, \"B\": 396.9, \"LSTAT\": 13.44, \"PRICE\": 15.0}, {\"CRIM\": 15.288, \"ZN\": 0.0, \"INDUS\": 18.1, \"CHAS\": 0.0, \"NOX\": 0.671, \"RM\": 6.649, \"AGE\": 93.3, \"DIS\": 1.3449, \"RAD\": 24.0, \"TAX\": 666.0, \"PTRATIO\": 20.2, \"B\": 363.02, \"LSTAT\": 23.24, \"PRICE\": 13.9}, {\"CRIM\": 9.82349, \"ZN\": 0.0, \"INDUS\": 18.1, \"CHAS\": 0.0, \"NOX\": 0.671, \"RM\": 6.794, \"AGE\": 98.8, \"DIS\": 1.358, \"RAD\": 24.0, \"TAX\": 666.0, \"PTRATIO\": 20.2, \"B\": 396.9, \"LSTAT\": 21.24, \"PRICE\": 13.3}, {\"CRIM\": 23.6482, \"ZN\": 0.0, \"INDUS\": 18.1, \"CHAS\": 0.0, \"NOX\": 0.671, \"RM\": 6.38, \"AGE\": 96.2, \"DIS\": 1.3861, \"RAD\": 24.0, \"TAX\": 666.0, \"PTRATIO\": 20.2, \"B\": 396.9, \"LSTAT\": 23.69, \"PRICE\": 13.1}, {\"CRIM\": 17.8667, \"ZN\": 0.0, \"INDUS\": 18.1, \"CHAS\": 0.0, \"NOX\": 0.671, \"RM\": 6.223, \"AGE\": 100.0, \"DIS\": 1.3861, \"RAD\": 24.0, \"TAX\": 666.0, \"PTRATIO\": 20.2, \"B\": 393.74, \"LSTAT\": 21.78, \"PRICE\": 10.2}, {\"CRIM\": 88.9762, \"ZN\": 0.0, \"INDUS\": 18.1, \"CHAS\": 0.0, \"NOX\": 0.671, \"RM\": 6.968, \"AGE\": 91.9, \"DIS\": 1.4165, \"RAD\": 24.0, \"TAX\": 666.0, \"PTRATIO\": 20.2, \"B\": 396.9, \"LSTAT\": 17.21, \"PRICE\": 10.4}, {\"CRIM\": 15.8744, \"ZN\": 0.0, \"INDUS\": 18.1, \"CHAS\": 0.0, \"NOX\": 0.671, \"RM\": 6.545, \"AGE\": 99.1, \"DIS\": 1.5192, \"RAD\": 24.0, \"TAX\": 666.0, \"PTRATIO\": 20.2, \"B\": 396.9, \"LSTAT\": 21.08, \"PRICE\": 10.9}, {\"CRIM\": 9.18702, \"ZN\": 0.0, \"INDUS\": 18.1, \"CHAS\": 0.0, \"NOX\": 0.7, \"RM\": 5.536, \"AGE\": 100.0, \"DIS\": 1.5804, \"RAD\": 24.0, \"TAX\": 666.0, \"PTRATIO\": 20.2, \"B\": 396.9, \"LSTAT\": 23.6, \"PRICE\": 11.3}, {\"CRIM\": 7.99248, \"ZN\": 0.0, \"INDUS\": 18.1, \"CHAS\": 0.0, \"NOX\": 0.7, \"RM\": 5.52, \"AGE\": 100.0, \"DIS\": 1.5331, \"RAD\": 24.0, \"TAX\": 666.0, \"PTRATIO\": 20.2, \"B\": 396.9, \"LSTAT\": 24.56, \"PRICE\": 12.3}, {\"CRIM\": 20.0849, \"ZN\": 0.0, \"INDUS\": 18.1, \"CHAS\": 0.0, \"NOX\": 0.7, \"RM\": 4.368, \"AGE\": 91.2, \"DIS\": 1.4395, \"RAD\": 24.0, \"TAX\": 666.0, \"PTRATIO\": 20.2, \"B\": 285.83, \"LSTAT\": 30.63, \"PRICE\": 8.8}, {\"CRIM\": 16.8118, \"ZN\": 0.0, \"INDUS\": 18.1, \"CHAS\": 0.0, \"NOX\": 0.7, \"RM\": 5.277, \"AGE\": 98.1, \"DIS\": 1.4261, \"RAD\": 24.0, \"TAX\": 666.0, \"PTRATIO\": 20.2, \"B\": 396.9, \"LSTAT\": 30.81, \"PRICE\": 7.2}, {\"CRIM\": 24.3938, \"ZN\": 0.0, \"INDUS\": 18.1, \"CHAS\": 0.0, \"NOX\": 0.7, \"RM\": 4.652, \"AGE\": 100.0, \"DIS\": 1.4672, \"RAD\": 24.0, \"TAX\": 666.0, \"PTRATIO\": 20.2, \"B\": 396.9, \"LSTAT\": 28.28, \"PRICE\": 10.5}, {\"CRIM\": 22.5971, \"ZN\": 0.0, \"INDUS\": 18.1, \"CHAS\": 0.0, \"NOX\": 0.7, \"RM\": 5.0, \"AGE\": 89.5, \"DIS\": 1.5184, \"RAD\": 24.0, \"TAX\": 666.0, \"PTRATIO\": 20.2, \"B\": 396.9, \"LSTAT\": 31.99, \"PRICE\": 7.4}, {\"CRIM\": 14.3337, \"ZN\": 0.0, \"INDUS\": 18.1, \"CHAS\": 0.0, \"NOX\": 0.7, \"RM\": 4.88, \"AGE\": 100.0, \"DIS\": 1.5895, \"RAD\": 24.0, \"TAX\": 666.0, \"PTRATIO\": 20.2, \"B\": 372.92, \"LSTAT\": 30.62, \"PRICE\": 10.2}, {\"CRIM\": 8.15174, \"ZN\": 0.0, \"INDUS\": 18.1, \"CHAS\": 0.0, \"NOX\": 0.7, \"RM\": 5.39, \"AGE\": 98.9, \"DIS\": 1.7281, \"RAD\": 24.0, \"TAX\": 666.0, \"PTRATIO\": 20.2, \"B\": 396.9, \"LSTAT\": 20.85, \"PRICE\": 11.5}, {\"CRIM\": 6.96215, \"ZN\": 0.0, \"INDUS\": 18.1, \"CHAS\": 0.0, \"NOX\": 0.7, \"RM\": 5.713, \"AGE\": 97.0, \"DIS\": 1.9265, \"RAD\": 24.0, \"TAX\": 666.0, \"PTRATIO\": 20.2, \"B\": 394.43, \"LSTAT\": 17.11, \"PRICE\": 15.1}, {\"CRIM\": 5.29305, \"ZN\": 0.0, \"INDUS\": 18.1, \"CHAS\": 0.0, \"NOX\": 0.7, \"RM\": 6.051, \"AGE\": 82.5, \"DIS\": 2.1678, \"RAD\": 24.0, \"TAX\": 666.0, \"PTRATIO\": 20.2, \"B\": 378.38, \"LSTAT\": 18.76, \"PRICE\": 23.2}, {\"CRIM\": 11.5779, \"ZN\": 0.0, \"INDUS\": 18.1, \"CHAS\": 0.0, \"NOX\": 0.7, \"RM\": 5.036, \"AGE\": 97.0, \"DIS\": 1.77, \"RAD\": 24.0, \"TAX\": 666.0, \"PTRATIO\": 20.2, \"B\": 396.9, \"LSTAT\": 25.68, \"PRICE\": 9.7}, {\"CRIM\": 8.64476, \"ZN\": 0.0, \"INDUS\": 18.1, \"CHAS\": 0.0, \"NOX\": 0.693, \"RM\": 6.193, \"AGE\": 92.6, \"DIS\": 1.7912, \"RAD\": 24.0, \"TAX\": 666.0, \"PTRATIO\": 20.2, \"B\": 396.9, \"LSTAT\": 15.17, \"PRICE\": 13.8}, {\"CRIM\": 13.3598, \"ZN\": 0.0, \"INDUS\": 18.1, \"CHAS\": 0.0, \"NOX\": 0.693, \"RM\": 5.887, \"AGE\": 94.7, \"DIS\": 1.7821, \"RAD\": 24.0, \"TAX\": 666.0, \"PTRATIO\": 20.2, \"B\": 396.9, \"LSTAT\": 16.35, \"PRICE\": 12.7}, {\"CRIM\": 8.71675, \"ZN\": 0.0, \"INDUS\": 18.1, \"CHAS\": 0.0, \"NOX\": 0.693, \"RM\": 6.471, \"AGE\": 98.8, \"DIS\": 1.7257, \"RAD\": 24.0, \"TAX\": 666.0, \"PTRATIO\": 20.2, \"B\": 391.98, \"LSTAT\": 17.12, \"PRICE\": 13.1}, {\"CRIM\": 5.87205, \"ZN\": 0.0, \"INDUS\": 18.1, \"CHAS\": 0.0, \"NOX\": 0.693, \"RM\": 6.405, \"AGE\": 96.0, \"DIS\": 1.6768, \"RAD\": 24.0, \"TAX\": 666.0, \"PTRATIO\": 20.2, \"B\": 396.9, \"LSTAT\": 19.37, \"PRICE\": 12.5}, {\"CRIM\": 7.67202, \"ZN\": 0.0, \"INDUS\": 18.1, \"CHAS\": 0.0, \"NOX\": 0.693, \"RM\": 5.747, \"AGE\": 98.9, \"DIS\": 1.6334, \"RAD\": 24.0, \"TAX\": 666.0, \"PTRATIO\": 20.2, \"B\": 393.1, \"LSTAT\": 19.92, \"PRICE\": 8.5}, {\"CRIM\": 38.3518, \"ZN\": 0.0, \"INDUS\": 18.1, \"CHAS\": 0.0, \"NOX\": 0.693, \"RM\": 5.453, \"AGE\": 100.0, \"DIS\": 1.4896, \"RAD\": 24.0, \"TAX\": 666.0, \"PTRATIO\": 20.2, \"B\": 396.9, \"LSTAT\": 30.59, \"PRICE\": 5.0}, {\"CRIM\": 9.91655, \"ZN\": 0.0, \"INDUS\": 18.1, \"CHAS\": 0.0, \"NOX\": 0.693, \"RM\": 5.852, \"AGE\": 77.8, \"DIS\": 1.5004, \"RAD\": 24.0, \"TAX\": 666.0, \"PTRATIO\": 20.2, \"B\": 338.16, \"LSTAT\": 29.97, \"PRICE\": 6.3}, {\"CRIM\": 25.0461, \"ZN\": 0.0, \"INDUS\": 18.1, \"CHAS\": 0.0, \"NOX\": 0.693, \"RM\": 5.987, \"AGE\": 100.0, \"DIS\": 1.5888, \"RAD\": 24.0, \"TAX\": 666.0, \"PTRATIO\": 20.2, \"B\": 396.9, \"LSTAT\": 26.77, \"PRICE\": 5.6}, {\"CRIM\": 14.2362, \"ZN\": 0.0, \"INDUS\": 18.1, \"CHAS\": 0.0, \"NOX\": 0.693, \"RM\": 6.343, \"AGE\": 100.0, \"DIS\": 1.5741, \"RAD\": 24.0, \"TAX\": 666.0, \"PTRATIO\": 20.2, \"B\": 396.9, \"LSTAT\": 20.32, \"PRICE\": 7.2}, {\"CRIM\": 9.59571, \"ZN\": 0.0, \"INDUS\": 18.1, \"CHAS\": 0.0, \"NOX\": 0.693, \"RM\": 6.404, \"AGE\": 100.0, \"DIS\": 1.639, \"RAD\": 24.0, \"TAX\": 666.0, \"PTRATIO\": 20.2, \"B\": 376.11, \"LSTAT\": 20.31, \"PRICE\": 12.1}, {\"CRIM\": 24.8017, \"ZN\": 0.0, \"INDUS\": 18.1, \"CHAS\": 0.0, \"NOX\": 0.693, \"RM\": 5.349, \"AGE\": 96.0, \"DIS\": 1.7028, \"RAD\": 24.0, \"TAX\": 666.0, \"PTRATIO\": 20.2, \"B\": 396.9, \"LSTAT\": 19.77, \"PRICE\": 8.3}, {\"CRIM\": 41.5292, \"ZN\": 0.0, \"INDUS\": 18.1, \"CHAS\": 0.0, \"NOX\": 0.693, \"RM\": 5.531, \"AGE\": 85.4, \"DIS\": 1.6074, \"RAD\": 24.0, \"TAX\": 666.0, \"PTRATIO\": 20.2, \"B\": 329.46, \"LSTAT\": 27.38, \"PRICE\": 8.5}, {\"CRIM\": 67.9208, \"ZN\": 0.0, \"INDUS\": 18.1, \"CHAS\": 0.0, \"NOX\": 0.693, \"RM\": 5.683, \"AGE\": 100.0, \"DIS\": 1.4254, \"RAD\": 24.0, \"TAX\": 666.0, \"PTRATIO\": 20.2, \"B\": 384.97, \"LSTAT\": 22.98, \"PRICE\": 5.0}, {\"CRIM\": 20.7162, \"ZN\": 0.0, \"INDUS\": 18.1, \"CHAS\": 0.0, \"NOX\": 0.659, \"RM\": 4.138, \"AGE\": 100.0, \"DIS\": 1.1781, \"RAD\": 24.0, \"TAX\": 666.0, \"PTRATIO\": 20.2, \"B\": 370.22, \"LSTAT\": 23.34, \"PRICE\": 11.9}, {\"CRIM\": 11.9511, \"ZN\": 0.0, \"INDUS\": 18.1, \"CHAS\": 0.0, \"NOX\": 0.659, \"RM\": 5.608, \"AGE\": 100.0, \"DIS\": 1.2852, \"RAD\": 24.0, \"TAX\": 666.0, \"PTRATIO\": 20.2, \"B\": 332.09, \"LSTAT\": 12.13, \"PRICE\": 27.9}, {\"CRIM\": 7.40389, \"ZN\": 0.0, \"INDUS\": 18.1, \"CHAS\": 0.0, \"NOX\": 0.597, \"RM\": 5.617, \"AGE\": 97.9, \"DIS\": 1.4547, \"RAD\": 24.0, \"TAX\": 666.0, \"PTRATIO\": 20.2, \"B\": 314.64, \"LSTAT\": 26.4, \"PRICE\": 17.2}, {\"CRIM\": 14.4383, \"ZN\": 0.0, \"INDUS\": 18.1, \"CHAS\": 0.0, \"NOX\": 0.597, \"RM\": 6.852, \"AGE\": 100.0, \"DIS\": 1.4655, \"RAD\": 24.0, \"TAX\": 666.0, \"PTRATIO\": 20.2, \"B\": 179.36, \"LSTAT\": 19.78, \"PRICE\": 27.5}, {\"CRIM\": 51.1358, \"ZN\": 0.0, \"INDUS\": 18.1, \"CHAS\": 0.0, \"NOX\": 0.597, \"RM\": 5.757, \"AGE\": 100.0, \"DIS\": 1.413, \"RAD\": 24.0, \"TAX\": 666.0, \"PTRATIO\": 20.2, \"B\": 2.6, \"LSTAT\": 10.11, \"PRICE\": 15.0}, {\"CRIM\": 14.0507, \"ZN\": 0.0, \"INDUS\": 18.1, \"CHAS\": 0.0, \"NOX\": 0.597, \"RM\": 6.657, \"AGE\": 100.0, \"DIS\": 1.5275, \"RAD\": 24.0, \"TAX\": 666.0, \"PTRATIO\": 20.2, \"B\": 35.05, \"LSTAT\": 21.22, \"PRICE\": 17.2}, {\"CRIM\": 18.811, \"ZN\": 0.0, \"INDUS\": 18.1, \"CHAS\": 0.0, \"NOX\": 0.597, \"RM\": 4.628, \"AGE\": 100.0, \"DIS\": 1.5539, \"RAD\": 24.0, \"TAX\": 666.0, \"PTRATIO\": 20.2, \"B\": 28.79, \"LSTAT\": 34.37, \"PRICE\": 17.9}, {\"CRIM\": 28.6558, \"ZN\": 0.0, \"INDUS\": 18.1, \"CHAS\": 0.0, \"NOX\": 0.597, \"RM\": 5.155, \"AGE\": 100.0, \"DIS\": 1.5894, \"RAD\": 24.0, \"TAX\": 666.0, \"PTRATIO\": 20.2, \"B\": 210.97, \"LSTAT\": 20.08, \"PRICE\": 16.3}, {\"CRIM\": 45.7461, \"ZN\": 0.0, \"INDUS\": 18.1, \"CHAS\": 0.0, \"NOX\": 0.693, \"RM\": 4.519, \"AGE\": 100.0, \"DIS\": 1.6582, \"RAD\": 24.0, \"TAX\": 666.0, \"PTRATIO\": 20.2, \"B\": 88.27, \"LSTAT\": 36.98, \"PRICE\": 7.0}, {\"CRIM\": 18.0846, \"ZN\": 0.0, \"INDUS\": 18.1, \"CHAS\": 0.0, \"NOX\": 0.679, \"RM\": 6.434, \"AGE\": 100.0, \"DIS\": 1.8347, \"RAD\": 24.0, \"TAX\": 666.0, \"PTRATIO\": 20.2, \"B\": 27.25, \"LSTAT\": 29.05, \"PRICE\": 7.2}, {\"CRIM\": 10.8342, \"ZN\": 0.0, \"INDUS\": 18.1, \"CHAS\": 0.0, \"NOX\": 0.679, \"RM\": 6.782, \"AGE\": 90.8, \"DIS\": 1.8195, \"RAD\": 24.0, \"TAX\": 666.0, \"PTRATIO\": 20.2, \"B\": 21.57, \"LSTAT\": 25.79, \"PRICE\": 7.5}, {\"CRIM\": 25.9406, \"ZN\": 0.0, \"INDUS\": 18.1, \"CHAS\": 0.0, \"NOX\": 0.679, \"RM\": 5.304, \"AGE\": 89.1, \"DIS\": 1.6475, \"RAD\": 24.0, \"TAX\": 666.0, \"PTRATIO\": 20.2, \"B\": 127.36, \"LSTAT\": 26.64, \"PRICE\": 10.4}, {\"CRIM\": 73.5341, \"ZN\": 0.0, \"INDUS\": 18.1, \"CHAS\": 0.0, \"NOX\": 0.679, \"RM\": 5.957, \"AGE\": 100.0, \"DIS\": 1.8026, \"RAD\": 24.0, \"TAX\": 666.0, \"PTRATIO\": 20.2, \"B\": 16.45, \"LSTAT\": 20.62, \"PRICE\": 8.8}, {\"CRIM\": 11.8123, \"ZN\": 0.0, \"INDUS\": 18.1, \"CHAS\": 0.0, \"NOX\": 0.718, \"RM\": 6.824, \"AGE\": 76.5, \"DIS\": 1.794, \"RAD\": 24.0, \"TAX\": 666.0, \"PTRATIO\": 20.2, \"B\": 48.45, \"LSTAT\": 22.74, \"PRICE\": 8.4}, {\"CRIM\": 11.0874, \"ZN\": 0.0, \"INDUS\": 18.1, \"CHAS\": 0.0, \"NOX\": 0.718, \"RM\": 6.411, \"AGE\": 100.0, \"DIS\": 1.8589, \"RAD\": 24.0, \"TAX\": 666.0, \"PTRATIO\": 20.2, \"B\": 318.75, \"LSTAT\": 15.02, \"PRICE\": 16.7}, {\"CRIM\": 7.02259, \"ZN\": 0.0, \"INDUS\": 18.1, \"CHAS\": 0.0, \"NOX\": 0.718, \"RM\": 6.006, \"AGE\": 95.3, \"DIS\": 1.8746, \"RAD\": 24.0, \"TAX\": 666.0, \"PTRATIO\": 20.2, \"B\": 319.98, \"LSTAT\": 15.7, \"PRICE\": 14.2}, {\"CRIM\": 12.0482, \"ZN\": 0.0, \"INDUS\": 18.1, \"CHAS\": 0.0, \"NOX\": 0.614, \"RM\": 5.648, \"AGE\": 87.6, \"DIS\": 1.9512, \"RAD\": 24.0, \"TAX\": 666.0, \"PTRATIO\": 20.2, \"B\": 291.55, \"LSTAT\": 14.1, \"PRICE\": 20.8}, {\"CRIM\": 7.05042, \"ZN\": 0.0, \"INDUS\": 18.1, \"CHAS\": 0.0, \"NOX\": 0.614, \"RM\": 6.103, \"AGE\": 85.1, \"DIS\": 2.0218, \"RAD\": 24.0, \"TAX\": 666.0, \"PTRATIO\": 20.2, \"B\": 2.52, \"LSTAT\": 23.29, \"PRICE\": 13.4}, {\"CRIM\": 8.79212, \"ZN\": 0.0, \"INDUS\": 18.1, \"CHAS\": 0.0, \"NOX\": 0.584, \"RM\": 5.565, \"AGE\": 70.6, \"DIS\": 2.0635, \"RAD\": 24.0, \"TAX\": 666.0, \"PTRATIO\": 20.2, \"B\": 3.65, \"LSTAT\": 17.16, \"PRICE\": 11.7}, {\"CRIM\": 15.8603, \"ZN\": 0.0, \"INDUS\": 18.1, \"CHAS\": 0.0, \"NOX\": 0.679, \"RM\": 5.896, \"AGE\": 95.4, \"DIS\": 1.9096, \"RAD\": 24.0, \"TAX\": 666.0, \"PTRATIO\": 20.2, \"B\": 7.68, \"LSTAT\": 24.39, \"PRICE\": 8.3}, {\"CRIM\": 12.2472, \"ZN\": 0.0, \"INDUS\": 18.1, \"CHAS\": 0.0, \"NOX\": 0.584, \"RM\": 5.837, \"AGE\": 59.7, \"DIS\": 1.9976, \"RAD\": 24.0, \"TAX\": 666.0, \"PTRATIO\": 20.2, \"B\": 24.65, \"LSTAT\": 15.69, \"PRICE\": 10.2}, {\"CRIM\": 37.6619, \"ZN\": 0.0, \"INDUS\": 18.1, \"CHAS\": 0.0, \"NOX\": 0.679, \"RM\": 6.202, \"AGE\": 78.7, \"DIS\": 1.8629, \"RAD\": 24.0, \"TAX\": 666.0, \"PTRATIO\": 20.2, \"B\": 18.82, \"LSTAT\": 14.52, \"PRICE\": 10.9}, {\"CRIM\": 7.36711, \"ZN\": 0.0, \"INDUS\": 18.1, \"CHAS\": 0.0, \"NOX\": 0.679, \"RM\": 6.193, \"AGE\": 78.1, \"DIS\": 1.9356, \"RAD\": 24.0, \"TAX\": 666.0, \"PTRATIO\": 20.2, \"B\": 96.73, \"LSTAT\": 21.52, \"PRICE\": 11.0}, {\"CRIM\": 9.33889, \"ZN\": 0.0, \"INDUS\": 18.1, \"CHAS\": 0.0, \"NOX\": 0.679, \"RM\": 6.38, \"AGE\": 95.6, \"DIS\": 1.9682, \"RAD\": 24.0, \"TAX\": 666.0, \"PTRATIO\": 20.2, \"B\": 60.72, \"LSTAT\": 24.08, \"PRICE\": 9.5}, {\"CRIM\": 8.49213, \"ZN\": 0.0, \"INDUS\": 18.1, \"CHAS\": 0.0, \"NOX\": 0.584, \"RM\": 6.348, \"AGE\": 86.1, \"DIS\": 2.0527, \"RAD\": 24.0, \"TAX\": 666.0, \"PTRATIO\": 20.2, \"B\": 83.45, \"LSTAT\": 17.64, \"PRICE\": 14.5}, {\"CRIM\": 10.0623, \"ZN\": 0.0, \"INDUS\": 18.1, \"CHAS\": 0.0, \"NOX\": 0.584, \"RM\": 6.833, \"AGE\": 94.3, \"DIS\": 2.0882, \"RAD\": 24.0, \"TAX\": 666.0, \"PTRATIO\": 20.2, \"B\": 81.33, \"LSTAT\": 19.69, \"PRICE\": 14.1}, {\"CRIM\": 6.44405, \"ZN\": 0.0, \"INDUS\": 18.1, \"CHAS\": 0.0, \"NOX\": 0.584, \"RM\": 6.425, \"AGE\": 74.8, \"DIS\": 2.2004, \"RAD\": 24.0, \"TAX\": 666.0, \"PTRATIO\": 20.2, \"B\": 97.95, \"LSTAT\": 12.03, \"PRICE\": 16.1}, {\"CRIM\": 5.58107, \"ZN\": 0.0, \"INDUS\": 18.1, \"CHAS\": 0.0, \"NOX\": 0.713, \"RM\": 6.436, \"AGE\": 87.9, \"DIS\": 2.3158, \"RAD\": 24.0, \"TAX\": 666.0, \"PTRATIO\": 20.2, \"B\": 100.19, \"LSTAT\": 16.22, \"PRICE\": 14.3}, {\"CRIM\": 13.9134, \"ZN\": 0.0, \"INDUS\": 18.1, \"CHAS\": 0.0, \"NOX\": 0.713, \"RM\": 6.208, \"AGE\": 95.0, \"DIS\": 2.2222, \"RAD\": 24.0, \"TAX\": 666.0, \"PTRATIO\": 20.2, \"B\": 100.63, \"LSTAT\": 15.17, \"PRICE\": 11.7}, {\"CRIM\": 11.1604, \"ZN\": 0.0, \"INDUS\": 18.1, \"CHAS\": 0.0, \"NOX\": 0.74, \"RM\": 6.629, \"AGE\": 94.6, \"DIS\": 2.1247, \"RAD\": 24.0, \"TAX\": 666.0, \"PTRATIO\": 20.2, \"B\": 109.85, \"LSTAT\": 23.27, \"PRICE\": 13.4}, {\"CRIM\": 14.4208, \"ZN\": 0.0, \"INDUS\": 18.1, \"CHAS\": 0.0, \"NOX\": 0.74, \"RM\": 6.461, \"AGE\": 93.3, \"DIS\": 2.0026, \"RAD\": 24.0, \"TAX\": 666.0, \"PTRATIO\": 20.2, \"B\": 27.49, \"LSTAT\": 18.05, \"PRICE\": 9.6}, {\"CRIM\": 15.1772, \"ZN\": 0.0, \"INDUS\": 18.1, \"CHAS\": 0.0, \"NOX\": 0.74, \"RM\": 6.152, \"AGE\": 100.0, \"DIS\": 1.9142, \"RAD\": 24.0, \"TAX\": 666.0, \"PTRATIO\": 20.2, \"B\": 9.32, \"LSTAT\": 26.45, \"PRICE\": 8.7}, {\"CRIM\": 13.6781, \"ZN\": 0.0, \"INDUS\": 18.1, \"CHAS\": 0.0, \"NOX\": 0.74, \"RM\": 5.935, \"AGE\": 87.9, \"DIS\": 1.8206, \"RAD\": 24.0, \"TAX\": 666.0, \"PTRATIO\": 20.2, \"B\": 68.95, \"LSTAT\": 34.02, \"PRICE\": 8.4}, {\"CRIM\": 9.39063, \"ZN\": 0.0, \"INDUS\": 18.1, \"CHAS\": 0.0, \"NOX\": 0.74, \"RM\": 5.627, \"AGE\": 93.9, \"DIS\": 1.8172, \"RAD\": 24.0, \"TAX\": 666.0, \"PTRATIO\": 20.2, \"B\": 396.9, \"LSTAT\": 22.88, \"PRICE\": 12.8}, {\"CRIM\": 22.0511, \"ZN\": 0.0, \"INDUS\": 18.1, \"CHAS\": 0.0, \"NOX\": 0.74, \"RM\": 5.818, \"AGE\": 92.4, \"DIS\": 1.8662, \"RAD\": 24.0, \"TAX\": 666.0, \"PTRATIO\": 20.2, \"B\": 391.45, \"LSTAT\": 22.11, \"PRICE\": 10.5}, {\"CRIM\": 9.72418, \"ZN\": 0.0, \"INDUS\": 18.1, \"CHAS\": 0.0, \"NOX\": 0.74, \"RM\": 6.406, \"AGE\": 97.2, \"DIS\": 2.0651, \"RAD\": 24.0, \"TAX\": 666.0, \"PTRATIO\": 20.2, \"B\": 385.96, \"LSTAT\": 19.52, \"PRICE\": 17.1}, {\"CRIM\": 5.66637, \"ZN\": 0.0, \"INDUS\": 18.1, \"CHAS\": 0.0, \"NOX\": 0.74, \"RM\": 6.219, \"AGE\": 100.0, \"DIS\": 2.0048, \"RAD\": 24.0, \"TAX\": 666.0, \"PTRATIO\": 20.2, \"B\": 395.69, \"LSTAT\": 16.59, \"PRICE\": 18.4}, {\"CRIM\": 9.96654, \"ZN\": 0.0, \"INDUS\": 18.1, \"CHAS\": 0.0, \"NOX\": 0.74, \"RM\": 6.485, \"AGE\": 100.0, \"DIS\": 1.9784, \"RAD\": 24.0, \"TAX\": 666.0, \"PTRATIO\": 20.2, \"B\": 386.73, \"LSTAT\": 18.85, \"PRICE\": 15.4}, {\"CRIM\": 12.8023, \"ZN\": 0.0, \"INDUS\": 18.1, \"CHAS\": 0.0, \"NOX\": 0.74, \"RM\": 5.854, \"AGE\": 96.6, \"DIS\": 1.8956, \"RAD\": 24.0, \"TAX\": 666.0, \"PTRATIO\": 20.2, \"B\": 240.52, \"LSTAT\": 23.79, \"PRICE\": 10.8}, {\"CRIM\": 10.6718, \"ZN\": 0.0, \"INDUS\": 18.1, \"CHAS\": 0.0, \"NOX\": 0.74, \"RM\": 6.459, \"AGE\": 94.8, \"DIS\": 1.9879, \"RAD\": 24.0, \"TAX\": 666.0, \"PTRATIO\": 20.2, \"B\": 43.06, \"LSTAT\": 23.98, \"PRICE\": 11.8}, {\"CRIM\": 6.28807, \"ZN\": 0.0, \"INDUS\": 18.1, \"CHAS\": 0.0, \"NOX\": 0.74, \"RM\": 6.341, \"AGE\": 96.4, \"DIS\": 2.072, \"RAD\": 24.0, \"TAX\": 666.0, \"PTRATIO\": 20.2, \"B\": 318.01, \"LSTAT\": 17.79, \"PRICE\": 14.9}, {\"CRIM\": 9.92485, \"ZN\": 0.0, \"INDUS\": 18.1, \"CHAS\": 0.0, \"NOX\": 0.74, \"RM\": 6.251, \"AGE\": 96.6, \"DIS\": 2.198, \"RAD\": 24.0, \"TAX\": 666.0, \"PTRATIO\": 20.2, \"B\": 388.52, \"LSTAT\": 16.44, \"PRICE\": 12.6}, {\"CRIM\": 9.32909, \"ZN\": 0.0, \"INDUS\": 18.1, \"CHAS\": 0.0, \"NOX\": 0.713, \"RM\": 6.185, \"AGE\": 98.7, \"DIS\": 2.2616, \"RAD\": 24.0, \"TAX\": 666.0, \"PTRATIO\": 20.2, \"B\": 396.9, \"LSTAT\": 18.13, \"PRICE\": 14.1}, {\"CRIM\": 7.52601, \"ZN\": 0.0, \"INDUS\": 18.1, \"CHAS\": 0.0, \"NOX\": 0.713, \"RM\": 6.417, \"AGE\": 98.3, \"DIS\": 2.185, \"RAD\": 24.0, \"TAX\": 666.0, \"PTRATIO\": 20.2, \"B\": 304.21, \"LSTAT\": 19.31, \"PRICE\": 13.0}, {\"CRIM\": 6.71772, \"ZN\": 0.0, \"INDUS\": 18.1, \"CHAS\": 0.0, \"NOX\": 0.713, \"RM\": 6.749, \"AGE\": 92.6, \"DIS\": 2.3236, \"RAD\": 24.0, \"TAX\": 666.0, \"PTRATIO\": 20.2, \"B\": 0.32, \"LSTAT\": 17.44, \"PRICE\": 13.4}, {\"CRIM\": 5.44114, \"ZN\": 0.0, \"INDUS\": 18.1, \"CHAS\": 0.0, \"NOX\": 0.713, \"RM\": 6.655, \"AGE\": 98.2, \"DIS\": 2.3552, \"RAD\": 24.0, \"TAX\": 666.0, \"PTRATIO\": 20.2, \"B\": 355.29, \"LSTAT\": 17.73, \"PRICE\": 15.2}, {\"CRIM\": 5.09017, \"ZN\": 0.0, \"INDUS\": 18.1, \"CHAS\": 0.0, \"NOX\": 0.713, \"RM\": 6.297, \"AGE\": 91.8, \"DIS\": 2.3682, \"RAD\": 24.0, \"TAX\": 666.0, \"PTRATIO\": 20.2, \"B\": 385.09, \"LSTAT\": 17.27, \"PRICE\": 16.1}, {\"CRIM\": 8.24809, \"ZN\": 0.0, \"INDUS\": 18.1, \"CHAS\": 0.0, \"NOX\": 0.713, \"RM\": 7.393, \"AGE\": 99.3, \"DIS\": 2.4527, \"RAD\": 24.0, \"TAX\": 666.0, \"PTRATIO\": 20.2, \"B\": 375.87, \"LSTAT\": 16.74, \"PRICE\": 17.8}, {\"CRIM\": 9.51363, \"ZN\": 0.0, \"INDUS\": 18.1, \"CHAS\": 0.0, \"NOX\": 0.713, \"RM\": 6.728, \"AGE\": 94.1, \"DIS\": 2.4961, \"RAD\": 24.0, \"TAX\": 666.0, \"PTRATIO\": 20.2, \"B\": 6.68, \"LSTAT\": 18.71, \"PRICE\": 14.9}, {\"CRIM\": 4.75237, \"ZN\": 0.0, \"INDUS\": 18.1, \"CHAS\": 0.0, \"NOX\": 0.713, \"RM\": 6.525, \"AGE\": 86.5, \"DIS\": 2.4358, \"RAD\": 24.0, \"TAX\": 666.0, \"PTRATIO\": 20.2, \"B\": 50.92, \"LSTAT\": 18.13, \"PRICE\": 14.1}, {\"CRIM\": 4.66883, \"ZN\": 0.0, \"INDUS\": 18.1, \"CHAS\": 0.0, \"NOX\": 0.713, \"RM\": 5.976, \"AGE\": 87.9, \"DIS\": 2.5806, \"RAD\": 24.0, \"TAX\": 666.0, \"PTRATIO\": 20.2, \"B\": 10.48, \"LSTAT\": 19.01, \"PRICE\": 12.7}, {\"CRIM\": 8.20058, \"ZN\": 0.0, \"INDUS\": 18.1, \"CHAS\": 0.0, \"NOX\": 0.713, \"RM\": 5.936, \"AGE\": 80.3, \"DIS\": 2.7792, \"RAD\": 24.0, \"TAX\": 666.0, \"PTRATIO\": 20.2, \"B\": 3.5, \"LSTAT\": 16.94, \"PRICE\": 13.5}, {\"CRIM\": 7.75223, \"ZN\": 0.0, \"INDUS\": 18.1, \"CHAS\": 0.0, \"NOX\": 0.713, \"RM\": 6.301, \"AGE\": 83.7, \"DIS\": 2.7831, \"RAD\": 24.0, \"TAX\": 666.0, \"PTRATIO\": 20.2, \"B\": 272.21, \"LSTAT\": 16.23, \"PRICE\": 14.9}, {\"CRIM\": 6.80117, \"ZN\": 0.0, \"INDUS\": 18.1, \"CHAS\": 0.0, \"NOX\": 0.713, \"RM\": 6.081, \"AGE\": 84.4, \"DIS\": 2.7175, \"RAD\": 24.0, \"TAX\": 666.0, \"PTRATIO\": 20.2, \"B\": 396.9, \"LSTAT\": 14.7, \"PRICE\": 20.0}, {\"CRIM\": 4.81213, \"ZN\": 0.0, \"INDUS\": 18.1, \"CHAS\": 0.0, \"NOX\": 0.713, \"RM\": 6.701, \"AGE\": 90.0, \"DIS\": 2.5975, \"RAD\": 24.0, \"TAX\": 666.0, \"PTRATIO\": 20.2, \"B\": 255.23, \"LSTAT\": 16.42, \"PRICE\": 16.4}, {\"CRIM\": 3.69311, \"ZN\": 0.0, \"INDUS\": 18.1, \"CHAS\": 0.0, \"NOX\": 0.713, \"RM\": 6.376, \"AGE\": 88.4, \"DIS\": 2.5671, \"RAD\": 24.0, \"TAX\": 666.0, \"PTRATIO\": 20.2, \"B\": 391.43, \"LSTAT\": 14.65, \"PRICE\": 17.7}, {\"CRIM\": 6.65492, \"ZN\": 0.0, \"INDUS\": 18.1, \"CHAS\": 0.0, \"NOX\": 0.713, \"RM\": 6.317, \"AGE\": 83.0, \"DIS\": 2.7344, \"RAD\": 24.0, \"TAX\": 666.0, \"PTRATIO\": 20.2, \"B\": 396.9, \"LSTAT\": 13.99, \"PRICE\": 19.5}, {\"CRIM\": 5.82115, \"ZN\": 0.0, \"INDUS\": 18.1, \"CHAS\": 0.0, \"NOX\": 0.713, \"RM\": 6.513, \"AGE\": 89.9, \"DIS\": 2.8016, \"RAD\": 24.0, \"TAX\": 666.0, \"PTRATIO\": 20.2, \"B\": 393.82, \"LSTAT\": 10.29, \"PRICE\": 20.2}, {\"CRIM\": 7.83932, \"ZN\": 0.0, \"INDUS\": 18.1, \"CHAS\": 0.0, \"NOX\": 0.655, \"RM\": 6.209, \"AGE\": 65.4, \"DIS\": 2.9634, \"RAD\": 24.0, \"TAX\": 666.0, \"PTRATIO\": 20.2, \"B\": 396.9, \"LSTAT\": 13.22, \"PRICE\": 21.4}, {\"CRIM\": 3.1636, \"ZN\": 0.0, \"INDUS\": 18.1, \"CHAS\": 0.0, \"NOX\": 0.655, \"RM\": 5.759, \"AGE\": 48.2, \"DIS\": 3.0665, \"RAD\": 24.0, \"TAX\": 666.0, \"PTRATIO\": 20.2, \"B\": 334.4, \"LSTAT\": 14.13, \"PRICE\": 19.9}, {\"CRIM\": 3.77498, \"ZN\": 0.0, \"INDUS\": 18.1, \"CHAS\": 0.0, \"NOX\": 0.655, \"RM\": 5.952, \"AGE\": 84.7, \"DIS\": 2.8715, \"RAD\": 24.0, \"TAX\": 666.0, \"PTRATIO\": 20.2, \"B\": 22.01, \"LSTAT\": 17.15, \"PRICE\": 19.0}, {\"CRIM\": 4.42228, \"ZN\": 0.0, \"INDUS\": 18.1, \"CHAS\": 0.0, \"NOX\": 0.584, \"RM\": 6.003, \"AGE\": 94.5, \"DIS\": 2.5403, \"RAD\": 24.0, \"TAX\": 666.0, \"PTRATIO\": 20.2, \"B\": 331.29, \"LSTAT\": 21.32, \"PRICE\": 19.1}, {\"CRIM\": 15.5757, \"ZN\": 0.0, \"INDUS\": 18.1, \"CHAS\": 0.0, \"NOX\": 0.58, \"RM\": 5.926, \"AGE\": 71.0, \"DIS\": 2.9084, \"RAD\": 24.0, \"TAX\": 666.0, \"PTRATIO\": 20.2, \"B\": 368.74, \"LSTAT\": 18.13, \"PRICE\": 19.1}, {\"CRIM\": 13.0751, \"ZN\": 0.0, \"INDUS\": 18.1, \"CHAS\": 0.0, \"NOX\": 0.58, \"RM\": 5.713, \"AGE\": 56.7, \"DIS\": 2.8237, \"RAD\": 24.0, \"TAX\": 666.0, \"PTRATIO\": 20.2, \"B\": 396.9, \"LSTAT\": 14.76, \"PRICE\": 20.1}, {\"CRIM\": 4.34879, \"ZN\": 0.0, \"INDUS\": 18.1, \"CHAS\": 0.0, \"NOX\": 0.58, \"RM\": 6.167, \"AGE\": 84.0, \"DIS\": 3.0334, \"RAD\": 24.0, \"TAX\": 666.0, \"PTRATIO\": 20.2, \"B\": 396.9, \"LSTAT\": 16.29, \"PRICE\": 19.9}, {\"CRIM\": 4.03841, \"ZN\": 0.0, \"INDUS\": 18.1, \"CHAS\": 0.0, \"NOX\": 0.532, \"RM\": 6.229, \"AGE\": 90.7, \"DIS\": 3.0993, \"RAD\": 24.0, \"TAX\": 666.0, \"PTRATIO\": 20.2, \"B\": 395.33, \"LSTAT\": 12.87, \"PRICE\": 19.6}, {\"CRIM\": 3.56868, \"ZN\": 0.0, \"INDUS\": 18.1, \"CHAS\": 0.0, \"NOX\": 0.58, \"RM\": 6.437, \"AGE\": 75.0, \"DIS\": 2.8965, \"RAD\": 24.0, \"TAX\": 666.0, \"PTRATIO\": 20.2, \"B\": 393.37, \"LSTAT\": 14.36, \"PRICE\": 23.2}, {\"CRIM\": 4.64689, \"ZN\": 0.0, \"INDUS\": 18.1, \"CHAS\": 0.0, \"NOX\": 0.614, \"RM\": 6.98, \"AGE\": 67.6, \"DIS\": 2.5329, \"RAD\": 24.0, \"TAX\": 666.0, \"PTRATIO\": 20.2, \"B\": 374.68, \"LSTAT\": 11.66, \"PRICE\": 29.8}, {\"CRIM\": 8.05579, \"ZN\": 0.0, \"INDUS\": 18.1, \"CHAS\": 0.0, \"NOX\": 0.584, \"RM\": 5.427, \"AGE\": 95.4, \"DIS\": 2.4298, \"RAD\": 24.0, \"TAX\": 666.0, \"PTRATIO\": 20.2, \"B\": 352.58, \"LSTAT\": 18.14, \"PRICE\": 13.8}, {\"CRIM\": 6.39312, \"ZN\": 0.0, \"INDUS\": 18.1, \"CHAS\": 0.0, \"NOX\": 0.584, \"RM\": 6.162, \"AGE\": 97.4, \"DIS\": 2.206, \"RAD\": 24.0, \"TAX\": 666.0, \"PTRATIO\": 20.2, \"B\": 302.76, \"LSTAT\": 24.1, \"PRICE\": 13.3}, {\"CRIM\": 4.87141, \"ZN\": 0.0, \"INDUS\": 18.1, \"CHAS\": 0.0, \"NOX\": 0.614, \"RM\": 6.484, \"AGE\": 93.6, \"DIS\": 2.3053, \"RAD\": 24.0, \"TAX\": 666.0, \"PTRATIO\": 20.2, \"B\": 396.21, \"LSTAT\": 18.68, \"PRICE\": 16.7}, {\"CRIM\": 15.0234, \"ZN\": 0.0, \"INDUS\": 18.1, \"CHAS\": 0.0, \"NOX\": 0.614, \"RM\": 5.304, \"AGE\": 97.3, \"DIS\": 2.1007, \"RAD\": 24.0, \"TAX\": 666.0, \"PTRATIO\": 20.2, \"B\": 349.48, \"LSTAT\": 24.91, \"PRICE\": 12.0}, {\"CRIM\": 10.233, \"ZN\": 0.0, \"INDUS\": 18.1, \"CHAS\": 0.0, \"NOX\": 0.614, \"RM\": 6.185, \"AGE\": 96.7, \"DIS\": 2.1705, \"RAD\": 24.0, \"TAX\": 666.0, \"PTRATIO\": 20.2, \"B\": 379.7, \"LSTAT\": 18.03, \"PRICE\": 14.6}, {\"CRIM\": 14.3337, \"ZN\": 0.0, \"INDUS\": 18.1, \"CHAS\": 0.0, \"NOX\": 0.614, \"RM\": 6.229, \"AGE\": 88.0, \"DIS\": 1.9512, \"RAD\": 24.0, \"TAX\": 666.0, \"PTRATIO\": 20.2, \"B\": 383.32, \"LSTAT\": 13.11, \"PRICE\": 21.4}, {\"CRIM\": 5.82401, \"ZN\": 0.0, \"INDUS\": 18.1, \"CHAS\": 0.0, \"NOX\": 0.532, \"RM\": 6.242, \"AGE\": 64.7, \"DIS\": 3.4242, \"RAD\": 24.0, \"TAX\": 666.0, \"PTRATIO\": 20.2, \"B\": 396.9, \"LSTAT\": 10.74, \"PRICE\": 23.0}, {\"CRIM\": 5.70818, \"ZN\": 0.0, \"INDUS\": 18.1, \"CHAS\": 0.0, \"NOX\": 0.532, \"RM\": 6.75, \"AGE\": 74.9, \"DIS\": 3.3317, \"RAD\": 24.0, \"TAX\": 666.0, \"PTRATIO\": 20.2, \"B\": 393.07, \"LSTAT\": 7.74, \"PRICE\": 23.7}, {\"CRIM\": 5.73116, \"ZN\": 0.0, \"INDUS\": 18.1, \"CHAS\": 0.0, \"NOX\": 0.532, \"RM\": 7.061, \"AGE\": 77.0, \"DIS\": 3.4106, \"RAD\": 24.0, \"TAX\": 666.0, \"PTRATIO\": 20.2, \"B\": 395.28, \"LSTAT\": 7.01, \"PRICE\": 25.0}, {\"CRIM\": 2.81838, \"ZN\": 0.0, \"INDUS\": 18.1, \"CHAS\": 0.0, \"NOX\": 0.532, \"RM\": 5.762, \"AGE\": 40.3, \"DIS\": 4.0983, \"RAD\": 24.0, \"TAX\": 666.0, \"PTRATIO\": 20.2, \"B\": 392.92, \"LSTAT\": 10.42, \"PRICE\": 21.8}, {\"CRIM\": 2.37857, \"ZN\": 0.0, \"INDUS\": 18.1, \"CHAS\": 0.0, \"NOX\": 0.583, \"RM\": 5.871, \"AGE\": 41.9, \"DIS\": 3.724, \"RAD\": 24.0, \"TAX\": 666.0, \"PTRATIO\": 20.2, \"B\": 370.73, \"LSTAT\": 13.34, \"PRICE\": 20.6}, {\"CRIM\": 3.67367, \"ZN\": 0.0, \"INDUS\": 18.1, \"CHAS\": 0.0, \"NOX\": 0.583, \"RM\": 6.312, \"AGE\": 51.9, \"DIS\": 3.9917, \"RAD\": 24.0, \"TAX\": 666.0, \"PTRATIO\": 20.2, \"B\": 388.62, \"LSTAT\": 10.58, \"PRICE\": 21.2}, {\"CRIM\": 5.69175, \"ZN\": 0.0, \"INDUS\": 18.1, \"CHAS\": 0.0, \"NOX\": 0.583, \"RM\": 6.114, \"AGE\": 79.8, \"DIS\": 3.5459, \"RAD\": 24.0, \"TAX\": 666.0, \"PTRATIO\": 20.2, \"B\": 392.68, \"LSTAT\": 14.98, \"PRICE\": 19.1}, {\"CRIM\": 4.83567, \"ZN\": 0.0, \"INDUS\": 18.1, \"CHAS\": 0.0, \"NOX\": 0.583, \"RM\": 5.905, \"AGE\": 53.2, \"DIS\": 3.1523, \"RAD\": 24.0, \"TAX\": 666.0, \"PTRATIO\": 20.2, \"B\": 388.22, \"LSTAT\": 11.45, \"PRICE\": 20.6}, {\"CRIM\": 0.15086, \"ZN\": 0.0, \"INDUS\": 27.74, \"CHAS\": 0.0, \"NOX\": 0.609, \"RM\": 5.454, \"AGE\": 92.7, \"DIS\": 1.8209, \"RAD\": 4.0, \"TAX\": 711.0, \"PTRATIO\": 20.1, \"B\": 395.09, \"LSTAT\": 18.06, \"PRICE\": 15.2}, {\"CRIM\": 0.18337, \"ZN\": 0.0, \"INDUS\": 27.74, \"CHAS\": 0.0, \"NOX\": 0.609, \"RM\": 5.414, \"AGE\": 98.3, \"DIS\": 1.7554, \"RAD\": 4.0, \"TAX\": 711.0, \"PTRATIO\": 20.1, \"B\": 344.05, \"LSTAT\": 23.97, \"PRICE\": 7.0}, {\"CRIM\": 0.20746, \"ZN\": 0.0, \"INDUS\": 27.74, \"CHAS\": 0.0, \"NOX\": 0.609, \"RM\": 5.093, \"AGE\": 98.0, \"DIS\": 1.8226, \"RAD\": 4.0, \"TAX\": 711.0, \"PTRATIO\": 20.1, \"B\": 318.43, \"LSTAT\": 29.68, \"PRICE\": 8.1}, {\"CRIM\": 0.10574, \"ZN\": 0.0, \"INDUS\": 27.74, \"CHAS\": 0.0, \"NOX\": 0.609, \"RM\": 5.983, \"AGE\": 98.8, \"DIS\": 1.8681, \"RAD\": 4.0, \"TAX\": 711.0, \"PTRATIO\": 20.1, \"B\": 390.11, \"LSTAT\": 18.07, \"PRICE\": 13.6}, {\"CRIM\": 0.11132, \"ZN\": 0.0, \"INDUS\": 27.74, \"CHAS\": 0.0, \"NOX\": 0.609, \"RM\": 5.983, \"AGE\": 83.5, \"DIS\": 2.1099, \"RAD\": 4.0, \"TAX\": 711.0, \"PTRATIO\": 20.1, \"B\": 396.9, \"LSTAT\": 13.35, \"PRICE\": 20.1}, {\"CRIM\": 0.17331, \"ZN\": 0.0, \"INDUS\": 9.69, \"CHAS\": 0.0, \"NOX\": 0.585, \"RM\": 5.707, \"AGE\": 54.0, \"DIS\": 2.3817, \"RAD\": 6.0, \"TAX\": 391.0, \"PTRATIO\": 19.2, \"B\": 396.9, \"LSTAT\": 12.01, \"PRICE\": 21.8}, {\"CRIM\": 0.27957, \"ZN\": 0.0, \"INDUS\": 9.69, \"CHAS\": 0.0, \"NOX\": 0.585, \"RM\": 5.926, \"AGE\": 42.6, \"DIS\": 2.3817, \"RAD\": 6.0, \"TAX\": 391.0, \"PTRATIO\": 19.2, \"B\": 396.9, \"LSTAT\": 13.59, \"PRICE\": 24.5}, {\"CRIM\": 0.17899, \"ZN\": 0.0, \"INDUS\": 9.69, \"CHAS\": 0.0, \"NOX\": 0.585, \"RM\": 5.67, \"AGE\": 28.8, \"DIS\": 2.7986, \"RAD\": 6.0, \"TAX\": 391.0, \"PTRATIO\": 19.2, \"B\": 393.29, \"LSTAT\": 17.6, \"PRICE\": 23.1}, {\"CRIM\": 0.2896, \"ZN\": 0.0, \"INDUS\": 9.69, \"CHAS\": 0.0, \"NOX\": 0.585, \"RM\": 5.39, \"AGE\": 72.9, \"DIS\": 2.7986, \"RAD\": 6.0, \"TAX\": 391.0, \"PTRATIO\": 19.2, \"B\": 396.9, \"LSTAT\": 21.14, \"PRICE\": 19.7}, {\"CRIM\": 0.26838, \"ZN\": 0.0, \"INDUS\": 9.69, \"CHAS\": 0.0, \"NOX\": 0.585, \"RM\": 5.794, \"AGE\": 70.6, \"DIS\": 2.8927, \"RAD\": 6.0, \"TAX\": 391.0, \"PTRATIO\": 19.2, \"B\": 396.9, \"LSTAT\": 14.1, \"PRICE\": 18.3}, {\"CRIM\": 0.23912, \"ZN\": 0.0, \"INDUS\": 9.69, \"CHAS\": 0.0, \"NOX\": 0.585, \"RM\": 6.019, \"AGE\": 65.3, \"DIS\": 2.4091, \"RAD\": 6.0, \"TAX\": 391.0, \"PTRATIO\": 19.2, \"B\": 396.9, \"LSTAT\": 12.92, \"PRICE\": 21.2}, {\"CRIM\": 0.17783, \"ZN\": 0.0, \"INDUS\": 9.69, \"CHAS\": 0.0, \"NOX\": 0.585, \"RM\": 5.569, \"AGE\": 73.5, \"DIS\": 2.3999, \"RAD\": 6.0, \"TAX\": 391.0, \"PTRATIO\": 19.2, \"B\": 395.77, \"LSTAT\": 15.1, \"PRICE\": 17.5}, {\"CRIM\": 0.22438, \"ZN\": 0.0, \"INDUS\": 9.69, \"CHAS\": 0.0, \"NOX\": 0.585, \"RM\": 6.027, \"AGE\": 79.7, \"DIS\": 2.4982, \"RAD\": 6.0, \"TAX\": 391.0, \"PTRATIO\": 19.2, \"B\": 396.9, \"LSTAT\": 14.33, \"PRICE\": 16.8}, {\"CRIM\": 0.06263, \"ZN\": 0.0, \"INDUS\": 11.93, \"CHAS\": 0.0, \"NOX\": 0.573, \"RM\": 6.593, \"AGE\": 69.1, \"DIS\": 2.4786, \"RAD\": 1.0, \"TAX\": 273.0, \"PTRATIO\": 21.0, \"B\": 391.99, \"LSTAT\": 9.67, \"PRICE\": 22.4}, {\"CRIM\": 0.04527, \"ZN\": 0.0, \"INDUS\": 11.93, \"CHAS\": 0.0, \"NOX\": 0.573, \"RM\": 6.12, \"AGE\": 76.7, \"DIS\": 2.2875, \"RAD\": 1.0, \"TAX\": 273.0, \"PTRATIO\": 21.0, \"B\": 396.9, \"LSTAT\": 9.08, \"PRICE\": 20.6}, {\"CRIM\": 0.06076, \"ZN\": 0.0, \"INDUS\": 11.93, \"CHAS\": 0.0, \"NOX\": 0.573, \"RM\": 6.976, \"AGE\": 91.0, \"DIS\": 2.1675, \"RAD\": 1.0, \"TAX\": 273.0, \"PTRATIO\": 21.0, \"B\": 396.9, \"LSTAT\": 5.64, \"PRICE\": 23.9}, {\"CRIM\": 0.10959, \"ZN\": 0.0, \"INDUS\": 11.93, \"CHAS\": 0.0, \"NOX\": 0.573, \"RM\": 6.794, \"AGE\": 89.3, \"DIS\": 2.3889, \"RAD\": 1.0, \"TAX\": 273.0, \"PTRATIO\": 21.0, \"B\": 393.45, \"LSTAT\": 6.48, \"PRICE\": 22.0}, {\"CRIM\": 0.04741, \"ZN\": 0.0, \"INDUS\": 11.93, \"CHAS\": 0.0, \"NOX\": 0.573, \"RM\": 6.03, \"AGE\": 80.8, \"DIS\": 2.505, \"RAD\": 1.0, \"TAX\": 273.0, \"PTRATIO\": 21.0, \"B\": 396.9, \"LSTAT\": 7.88, \"PRICE\": 11.9}]}}, {\"mode\": \"vega-lite\"});\n",
       "</script>"
      ],
      "text/plain": [
       "alt.RepeatChart(...)"
      ]
     },
     "execution_count": 16,
     "metadata": {},
     "output_type": "execute_result"
    }
   ],
   "source": [
    "source = bos_df\n",
    "\n",
    "alt.Chart(source).mark_circle().encode(\n",
    "    alt.X(alt.repeat(\"column\"), type='quantitative'),\n",
    "    alt.Y(alt.repeat(\"row\"), type='quantitative'),\n",
    "    color='RAD:N'\n",
    ").properties(\n",
    "    width=100,\n",
    "    height=100\n",
    ").repeat(\n",
    "    row=['CRIM', 'ZN', 'INDUS', 'RM', 'NOX'],\n",
    "    column=['AGE', 'DIS', 'TAX', 'PTRATIO','PRICE']\n",
    ").interactive()"
   ]
  },
  {
   "cell_type": "code",
   "execution_count": 17,
   "metadata": {
    "colab": {},
    "colab_type": "code",
    "id": "Rxu9iN8Rma6l",
    "outputId": "d2261ef9-bbb5-4b9d-ed38-2acab123ec7a"
   },
   "outputs": [
    {
     "data": {
      "image/png": "[encoded data removed]",
      "text/plain": [
       "<Figure size 1152x1152 with 2 Axes>"
      ]
     },
     "metadata": {},
     "output_type": "display_data"
    }
   ],
   "source": [
    "ax, fig = plt.subplots(figsize = (16,16))\n",
    "sns.set(font_scale=1)\n",
    "sns.heatmap(bos_df.corr(), annot=True, cmap = 'RdBu') \n",
    "plt.show()"
   ]
  },
  {
   "cell_type": "markdown",
   "metadata": {
    "colab_type": "text",
    "id": "tT7RFM_Hma6n"
   },
   "source": [
    "# Fitting the Full Model\n",
    "\n",
    "To establish our baseline linear model we first fit the full dataset using a 80/20 training and testing split.    "
   ]
  },
  {
   "cell_type": "code",
   "execution_count": 18,
   "metadata": {
    "colab": {},
    "colab_type": "code",
    "id": "DnVCvYCKma6o",
    "outputId": "68783dc8-d211-47be-e1f8-63db40c3192e"
   },
   "outputs": [
    {
     "data": {
      "text/plain": [
       "(506, 14)"
      ]
     },
     "execution_count": 18,
     "metadata": {},
     "output_type": "execute_result"
    }
   ],
   "source": [
    "features = boston.feature_names\n",
    "\n",
    "X_b = np.c_[np.ones((len(bos_df[features]),1)), bos_df[features].values] #X matrix\n",
    "X_b.shape"
   ]
  },
  {
   "cell_type": "code",
   "execution_count": 19,
   "metadata": {
    "colab": {},
    "colab_type": "code",
    "id": "CaPlV6oYma6q",
    "outputId": "fd2a1ca0-fb19-4275-fdb2-71763abde965"
   },
   "outputs": [
    {
     "name": "stdout",
     "output_type": "stream",
     "text": [
      "Training Set:  (404, 14)\n",
      "Testing Set:  (102, 14)\n"
     ]
    }
   ],
   "source": [
    "from sklearn.model_selection import train_test_split\n",
    "\n",
    "X = bos_df.drop('PRICE', axis = 1)\n",
    "Y = bos_df['PRICE']\n",
    "\n",
    "X_train, X_test, Y_train, Y_test = train_test_split(X_b, Y, test_size = 0.20, random_state = 123)\n",
    "\n",
    "print(\"Training Set: \",X_train.shape)\n",
    "print(\"Testing Set: \",X_test.shape)"
   ]
  },
  {
   "cell_type": "markdown",
   "metadata": {
    "colab_type": "text",
    "id": "2N9XgirWma6s"
   },
   "source": [
    "The training data is used to fit a linear regression model. The resulting regression had an R=squared value of .756 and an intercept of 31.83, the coefficients were normalized in order to properly assess which had the highest impact on the model.  "
   ]
  },
  {
   "cell_type": "code",
   "execution_count": 21,
   "metadata": {
    "colab": {},
    "colab_type": "code",
    "id": "tRizh-0bma6s",
    "outputId": "a3fedac8-4ae3-4f2d-8f64-d785a2a49b3c"
   },
   "outputs": [
    {
     "name": "stdout",
     "output_type": "stream",
     "text": [
      "R-Score:  0.7559380876016175\n",
      "Intercept:  31.835164121206397\n",
      "Coefficients:  [ 0.00000000e+00 -9.87931696e-02  4.75027102e-02  6.69491841e-02\n",
      "  1.26954150e+00 -1.54697747e+01  4.31968412e+00 -9.80167937e-04\n",
      " -1.36597953e+00  2.84521838e-01 -1.27533606e-02 -9.13487599e-01\n",
      "  7.22553507e-03 -5.43790245e-01]\n"
     ]
    }
   ],
   "source": [
    "reg = LinearRegression(normalize=True).fit(X_train, Y_train)\n",
    "print(\"R-Score: \",reg.score(X_train, Y_train))\n",
    "print(\"Intercept: \",reg.intercept_)\n",
    "print(\"Coefficients: \",reg.coef_)"
   ]
  },
  {
   "cell_type": "markdown",
   "metadata": {
    "colab_type": "text",
    "id": "3kCtudUJma6v"
   },
   "source": [
    "We find that RM, average number of rooms per dwelling, is the attribute with the highest normalized coefficient. RM also had the highest positive correlation with PRICE at .70, the only attribute with a higher absolute correlation was LSTAT, % lower status of the population, at -.74 "
   ]
  },
  {
   "cell_type": "code",
   "execution_count": 23,
   "metadata": {
    "colab": {},
    "colab_type": "code",
    "id": "_GvTDfWCma6v",
    "outputId": "cd8b1285-08e0-461d-ffa0-03045c5c53af"
   },
   "outputs": [
    {
     "name": "stdout",
     "output_type": "stream",
     "text": [
      "The abs(max) coef-value is 4.31968412495868\n",
      "The variable associated with this coef-value is RM\n"
     ]
    }
   ],
   "source": [
    "print('The abs(max) coef-value is {}'.format(max(reg.coef_)))\n",
    "max_var = max(reg.coef_, key=abs)\n",
    "var_index = reg.coef_.tolist().index(max_var)\n",
    "print('The variable associated with this coef-value is {}'.format(boston.feature_names[var_index]))"
   ]
  },
  {
   "cell_type": "markdown",
   "metadata": {
    "colab_type": "text",
    "id": "NPo7ibHJma6x"
   },
   "source": [
    "We then used the fitted model and predicted against the test set. Mean Absolute Error, Mean Squared Error, Root Mean Squared Error, and R-Squared values were calulated and recorded and would serve as the baseline scores. "
   ]
  },
  {
   "cell_type": "code",
   "execution_count": 24,
   "metadata": {
    "colab": {},
    "colab_type": "code",
    "id": "HDow5LICma6y",
    "outputId": "daa29d6f-50f7-40cc-bf3a-a30f63095991"
   },
   "outputs": [
    {
     "name": "stdout",
     "output_type": "stream",
     "text": [
      "MAE: 3.660\n",
      "MSE:  28.192\n",
      "RMSE:  5.310\n",
      "R2:  0.659\n"
     ]
    }
   ],
   "source": [
    "Y_pred = reg.predict(X_test)\n",
    "\n",
    "orig_mae = mean_absolute_error(Y_test,Y_pred)\n",
    "orig_mse = mean_squared_error(Y_test,Y_pred)\n",
    "orig_rmse_val = rmse(Y_test,Y_pred)\n",
    "orig_r2 = r2_score(Y_test,Y_pred)\n",
    "print(\"MAE: %.3f\"%orig_mae)\n",
    "print(\"MSE:  %.3f\"%orig_mse)\n",
    "print(\"RMSE:  %.3f\"%orig_rmse_val)\n",
    "print(\"R2:  %.3f\"%orig_r2)"
   ]
  },
  {
   "cell_type": "code",
   "execution_count": 25,
   "metadata": {
    "colab": {},
    "colab_type": "code",
    "id": "L6EC3XDBma60"
   },
   "outputs": [],
   "source": [
    "res_frame = pd.DataFrame({'data':'original',\n",
    "                   'imputation':'none',\n",
    "                   'mae': orig_mae, \n",
    "                   'mse': orig_mse, \n",
    "                   'rmse':orig_rmse_val, \n",
    "                   'R2':orig_r2,\n",
    "                   'mae_diff':np.nan,\n",
    "                   'mse_diff':np.nan,\n",
    "                   'rmse_diff':np.nan,\n",
    "                   'R2_diff':np.nan}, index=[0])"
   ]
  },
  {
   "cell_type": "markdown",
   "metadata": {
    "colab_type": "text",
    "id": "OWgb-gZCma61"
   },
   "source": [
    "# Missing Completely at Random (MCAR)\n",
    "\n",
    "To test the effects of random missing data we introduced missing values to one of the variables. Though LSTAT had a slighty higher absolute correlation with PRICE we decided that because the correlation between RM and PRICE was also high, RM had a higher normalized coefficient in the model, and it is intuively easier to understand; we would use the RM field to test the effects of missing data and imputation methods on the model. "
   ]
  },
  {
   "cell_type": "code",
   "execution_count": 26,
   "metadata": {
    "colab": {},
    "colab_type": "code",
    "id": "Zj_lA_fama62"
   },
   "outputs": [],
   "source": [
    "bos_na = bos_df\n",
    "\n",
    "def insert_na(x, var):\n",
    "    global bos_na\n",
    "    in_sample = bos_df.sample(frac=x, random_state=123)\n",
    "    in_sample[var] = np.nan\n",
    "    out_sample = bos_df[~bos_df.isin(in_sample)].dropna()\n",
    "    bos_na = pd.concat([in_sample, out_sample])\n",
    "    return print(\"Null values at %.2f\"%x,':' , bos_na.isnull().values.ravel().sum())"
   ]
  },
  {
   "cell_type": "code",
   "execution_count": 36,
   "metadata": {},
   "outputs": [
    {
     "data": {
      "text/html": [
       "<div>\n",
       "<style scoped>\n",
       "    .dataframe tbody tr th:only-of-type {\n",
       "        vertical-align: middle;\n",
       "    }\n",
       "\n",
       "    .dataframe tbody tr th {\n",
       "        vertical-align: top;\n",
       "    }\n",
       "\n",
       "    .dataframe thead th {\n",
       "        text-align: right;\n",
       "    }\n",
       "</style>\n",
       "<table border=\"1\" class=\"dataframe\">\n",
       "  <thead>\n",
       "    <tr style=\"text-align: right;\">\n",
       "      <th></th>\n",
       "      <th>CRIM</th>\n",
       "      <th>ZN</th>\n",
       "      <th>INDUS</th>\n",
       "      <th>CHAS</th>\n",
       "      <th>NOX</th>\n",
       "      <th>RM</th>\n",
       "      <th>AGE</th>\n",
       "      <th>DIS</th>\n",
       "      <th>RAD</th>\n",
       "      <th>TAX</th>\n",
       "      <th>PTRATIO</th>\n",
       "      <th>B</th>\n",
       "      <th>LSTAT</th>\n",
       "      <th>PRICE</th>\n",
       "    </tr>\n",
       "  </thead>\n",
       "  <tbody>\n",
       "    <tr>\n",
       "      <th>count</th>\n",
       "      <td>506.000000</td>\n",
       "      <td>506.000000</td>\n",
       "      <td>506.000000</td>\n",
       "      <td>506.000000</td>\n",
       "      <td>506.000000</td>\n",
       "      <td>506.000000</td>\n",
       "      <td>506.000000</td>\n",
       "      <td>506.000000</td>\n",
       "      <td>506.000000</td>\n",
       "      <td>506.000000</td>\n",
       "      <td>506.000000</td>\n",
       "      <td>506.000000</td>\n",
       "      <td>506.000000</td>\n",
       "      <td>506.000000</td>\n",
       "    </tr>\n",
       "    <tr>\n",
       "      <th>mean</th>\n",
       "      <td>3.613524</td>\n",
       "      <td>11.363636</td>\n",
       "      <td>11.136779</td>\n",
       "      <td>0.069170</td>\n",
       "      <td>0.554695</td>\n",
       "      <td>6.284634</td>\n",
       "      <td>68.574901</td>\n",
       "      <td>3.795043</td>\n",
       "      <td>9.549407</td>\n",
       "      <td>408.237154</td>\n",
       "      <td>18.455534</td>\n",
       "      <td>356.674032</td>\n",
       "      <td>12.653063</td>\n",
       "      <td>22.532806</td>\n",
       "    </tr>\n",
       "    <tr>\n",
       "      <th>std</th>\n",
       "      <td>8.601545</td>\n",
       "      <td>23.322453</td>\n",
       "      <td>6.860353</td>\n",
       "      <td>0.253994</td>\n",
       "      <td>0.115878</td>\n",
       "      <td>0.702617</td>\n",
       "      <td>28.148861</td>\n",
       "      <td>2.105710</td>\n",
       "      <td>8.707259</td>\n",
       "      <td>168.537116</td>\n",
       "      <td>2.164946</td>\n",
       "      <td>91.294864</td>\n",
       "      <td>7.141062</td>\n",
       "      <td>9.197104</td>\n",
       "    </tr>\n",
       "    <tr>\n",
       "      <th>min</th>\n",
       "      <td>0.006320</td>\n",
       "      <td>0.000000</td>\n",
       "      <td>0.460000</td>\n",
       "      <td>0.000000</td>\n",
       "      <td>0.385000</td>\n",
       "      <td>3.561000</td>\n",
       "      <td>2.900000</td>\n",
       "      <td>1.129600</td>\n",
       "      <td>1.000000</td>\n",
       "      <td>187.000000</td>\n",
       "      <td>12.600000</td>\n",
       "      <td>0.320000</td>\n",
       "      <td>1.730000</td>\n",
       "      <td>5.000000</td>\n",
       "    </tr>\n",
       "    <tr>\n",
       "      <th>25%</th>\n",
       "      <td>0.082045</td>\n",
       "      <td>0.000000</td>\n",
       "      <td>5.190000</td>\n",
       "      <td>0.000000</td>\n",
       "      <td>0.449000</td>\n",
       "      <td>5.885500</td>\n",
       "      <td>45.025000</td>\n",
       "      <td>2.100175</td>\n",
       "      <td>4.000000</td>\n",
       "      <td>279.000000</td>\n",
       "      <td>17.400000</td>\n",
       "      <td>375.377500</td>\n",
       "      <td>6.950000</td>\n",
       "      <td>17.025000</td>\n",
       "    </tr>\n",
       "    <tr>\n",
       "      <th>50%</th>\n",
       "      <td>0.256510</td>\n",
       "      <td>0.000000</td>\n",
       "      <td>9.690000</td>\n",
       "      <td>0.000000</td>\n",
       "      <td>0.538000</td>\n",
       "      <td>6.208500</td>\n",
       "      <td>77.500000</td>\n",
       "      <td>3.207450</td>\n",
       "      <td>5.000000</td>\n",
       "      <td>330.000000</td>\n",
       "      <td>19.050000</td>\n",
       "      <td>391.440000</td>\n",
       "      <td>11.360000</td>\n",
       "      <td>21.200000</td>\n",
       "    </tr>\n",
       "    <tr>\n",
       "      <th>75%</th>\n",
       "      <td>3.677083</td>\n",
       "      <td>12.500000</td>\n",
       "      <td>18.100000</td>\n",
       "      <td>0.000000</td>\n",
       "      <td>0.624000</td>\n",
       "      <td>6.623500</td>\n",
       "      <td>94.075000</td>\n",
       "      <td>5.188425</td>\n",
       "      <td>24.000000</td>\n",
       "      <td>666.000000</td>\n",
       "      <td>20.200000</td>\n",
       "      <td>396.225000</td>\n",
       "      <td>16.955000</td>\n",
       "      <td>25.000000</td>\n",
       "    </tr>\n",
       "    <tr>\n",
       "      <th>max</th>\n",
       "      <td>88.976200</td>\n",
       "      <td>100.000000</td>\n",
       "      <td>27.740000</td>\n",
       "      <td>1.000000</td>\n",
       "      <td>0.871000</td>\n",
       "      <td>8.780000</td>\n",
       "      <td>100.000000</td>\n",
       "      <td>12.126500</td>\n",
       "      <td>24.000000</td>\n",
       "      <td>711.000000</td>\n",
       "      <td>22.000000</td>\n",
       "      <td>396.900000</td>\n",
       "      <td>37.970000</td>\n",
       "      <td>50.000000</td>\n",
       "    </tr>\n",
       "  </tbody>\n",
       "</table>\n",
       "</div>"
      ],
      "text/plain": [
       "             CRIM          ZN       INDUS        CHAS         NOX          RM  \\\n",
       "count  506.000000  506.000000  506.000000  506.000000  506.000000  506.000000   \n",
       "mean     3.613524   11.363636   11.136779    0.069170    0.554695    6.284634   \n",
       "std      8.601545   23.322453    6.860353    0.253994    0.115878    0.702617   \n",
       "min      0.006320    0.000000    0.460000    0.000000    0.385000    3.561000   \n",
       "25%      0.082045    0.000000    5.190000    0.000000    0.449000    5.885500   \n",
       "50%      0.256510    0.000000    9.690000    0.000000    0.538000    6.208500   \n",
       "75%      3.677083   12.500000   18.100000    0.000000    0.624000    6.623500   \n",
       "max     88.976200  100.000000   27.740000    1.000000    0.871000    8.780000   \n",
       "\n",
       "              AGE         DIS         RAD         TAX     PTRATIO           B  \\\n",
       "count  506.000000  506.000000  506.000000  506.000000  506.000000  506.000000   \n",
       "mean    68.574901    3.795043    9.549407  408.237154   18.455534  356.674032   \n",
       "std     28.148861    2.105710    8.707259  168.537116    2.164946   91.294864   \n",
       "min      2.900000    1.129600    1.000000  187.000000   12.600000    0.320000   \n",
       "25%     45.025000    2.100175    4.000000  279.000000   17.400000  375.377500   \n",
       "50%     77.500000    3.207450    5.000000  330.000000   19.050000  391.440000   \n",
       "75%     94.075000    5.188425   24.000000  666.000000   20.200000  396.225000   \n",
       "max    100.000000   12.126500   24.000000  711.000000   22.000000  396.900000   \n",
       "\n",
       "            LSTAT       PRICE  \n",
       "count  506.000000  506.000000  \n",
       "mean    12.653063   22.532806  \n",
       "std      7.141062    9.197104  \n",
       "min      1.730000    5.000000  \n",
       "25%      6.950000   17.025000  \n",
       "50%     11.360000   21.200000  \n",
       "75%     16.955000   25.000000  \n",
       "max     37.970000   50.000000  "
      ]
     },
     "execution_count": 36,
     "metadata": {},
     "output_type": "execute_result"
    }
   ],
   "source": [
    "bos_df.describe()"
   ]
  },
  {
   "cell_type": "markdown",
   "metadata": {
    "colab_type": "text",
    "id": "h2yJIrgcma64"
   },
   "source": [
    "Six new datasets where created from the full set, each with a different percent of missing data ranging for 1% to 50%"
   ]
  },
  {
   "cell_type": "code",
   "execution_count": 27,
   "metadata": {
    "colab": {},
    "colab_type": "code",
    "id": "xg8J1gdima64",
    "outputId": "0ab7bef0-c469-462f-9418-5e5aa4ff392a"
   },
   "outputs": [
    {
     "name": "stdout",
     "output_type": "stream",
     "text": [
      "Null values at 0.50 : 253\n",
      "Null values at 0.33 : 167\n",
      "Null values at 0.20 : 101\n",
      "Null values at 0.10 : 51\n",
      "Null values at 0.05 : 25\n",
      "Null values at 0.01 : 5\n"
     ]
    }
   ],
   "source": [
    "insert_na(.50,\"RM\")\n",
    "bos_na50 = bos_na\n",
    "insert_na(.33,\"RM\")\n",
    "bos_na33 = bos_na\n",
    "insert_na(.20,\"RM\")\n",
    "bos_na20 = bos_na\n",
    "insert_na(.10,\"RM\")\n",
    "bos_na10 = bos_na\n",
    "insert_na(.05,\"RM\")\n",
    "bos_na05 = bos_na\n",
    "insert_na(.01,\"RM\")\n",
    "bos_na01 = bos_na"
   ]
  },
  {
   "cell_type": "markdown",
   "metadata": {
    "colab_type": "text",
    "id": "vjmELKvDma66"
   },
   "source": [
    "## Deletion\n",
    "\n",
    "The first approach is using the dropna() function to drop any observations that have missing values. Like the full set, the new sets were split into training and testing sets then fitted to a linear regression."
   ]
  },
  {
   "cell_type": "markdown",
   "metadata": {
    "colab_type": "text",
    "id": "x3DTX9ddma67"
   },
   "source": [
    "### 1% Missing Data Completely Random"
   ]
  },
  {
   "cell_type": "code",
   "execution_count": 37,
   "metadata": {
    "colab": {},
    "colab_type": "code",
    "id": "ejfON3SRma67",
    "outputId": "6efa93f2-57e6-4516-dc96-0564663a9b23"
   },
   "outputs": [
    {
     "name": "stdout",
     "output_type": "stream",
     "text": [
      "MAE: 3.380\n",
      "MSE:  20.406\n",
      "RMSE:  4.517\n",
      "R2:  0.756\n"
     ]
    }
   ],
   "source": [
    "df = bos_na01.dropna() \n",
    "\n",
    "X_b = np.c_[np.ones((len(df[features]),1)), df[features].values] \n",
    "X_b.shape\n",
    "\n",
    "X = df.drop('PRICE', axis = 1)\n",
    "Y = df['PRICE']\n",
    "\n",
    "X_train, X_test, Y_train, Y_test = train_test_split(X_b, Y, test_size = 0.20, random_state = 123)\n",
    "\n",
    "reg = LinearRegression(normalize=True).fit(X_train, Y_train)\n",
    "\n",
    "Y_pred = reg.predict(X_test)\n",
    "\n",
    "mae = mean_absolute_error(Y_test,Y_pred)\n",
    "mse = mean_squared_error(Y_test,Y_pred)\n",
    "rmse_val = rmse(Y_test,Y_pred)\n",
    "r2 = r2_score(Y_test,Y_pred)\n",
    "print(\"MAE: %.3f\"%mae)\n",
    "print(\"MSE:  %.3f\"%mse)\n",
    "print(\"RMSE:  %.3f\"%rmse_val)\n",
    "print(\"R2:  %.3f\"%r2)"
   ]
  },
  {
   "cell_type": "markdown",
   "metadata": {
    "colab_type": "text",
    "id": "NvId1aF_ma69"
   },
   "source": [
    "At 1% only 5 observations are lost. Surprisingly all measures of error for the test set with the omitted values are lower and the R-squared value is higher. Though it should be pointed out that there was no cross validation used so the effect of chance on the random selection of the missing data is should not be ignored."
   ]
  },
  {
   "cell_type": "code",
   "execution_count": 38,
   "metadata": {
    "colab": {},
    "colab_type": "code",
    "id": "_IPEL6rOma69"
   },
   "outputs": [],
   "source": [
    "temp_frame = pd.DataFrame({'data':'1% deletion',\n",
    "                   'imputation':'MCAR',\n",
    "                   'mae': mae, \n",
    "                   'mse': mse, \n",
    "                   'rmse':rmse_val,\n",
    "                   'R2':r2,\n",
    "                   'mae_diff':mae-orig_mae,\n",
    "                   'mse_diff':mse-orig_mse,\n",
    "                   'rmse_diff':rmse_val-orig_rmse_val,\n",
    "                   'R2_diff':r2-orig_r2\n",
    "                   }, index=[1])\n",
    "\n",
    "res_frame = pd.concat([res_frame, temp_frame])"
   ]
  },
  {
   "cell_type": "code",
   "execution_count": 39,
   "metadata": {
    "colab": {},
    "colab_type": "code",
    "id": "wIyAmo3Cma6_"
   },
   "outputs": [
    {
     "data": {
      "text/plain": [
       "(501, 14)"
      ]
     },
     "execution_count": 39,
     "metadata": {},
     "output_type": "execute_result"
    }
   ],
   "source": [
    "df.shape"
   ]
  },
  {
   "cell_type": "markdown",
   "metadata": {
    "colab_type": "text",
    "id": "VeKX8rO4ma7B"
   },
   "source": [
    "### 5% Missing Data Completely Random"
   ]
  },
  {
   "cell_type": "code",
   "execution_count": 40,
   "metadata": {
    "colab": {},
    "colab_type": "code",
    "id": "hwHeqgwQma7B",
    "outputId": "5588b8fd-d18f-46ac-a3e7-65dc7d4ab901"
   },
   "outputs": [
    {
     "name": "stdout",
     "output_type": "stream",
     "text": [
      "MAE: 3.190\n",
      "MSE:  27.808\n",
      "RMSE:  5.273\n",
      "R2:  0.686\n"
     ]
    }
   ],
   "source": [
    "df = bos_na05.dropna() \n",
    "\n",
    "X_b = np.c_[np.ones((len(df[features]),1)), df[features].values] \n",
    "X_b.shape\n",
    "\n",
    "X = df.drop('PRICE', axis = 1)\n",
    "Y = df['PRICE']\n",
    "\n",
    "X_train, X_test, Y_train, Y_test = train_test_split(X_b, Y, test_size = 0.20, random_state = 123)\n",
    "\n",
    "reg = LinearRegression(normalize=True).fit(X_train, Y_train)\n",
    "\n",
    "Y_pred = reg.predict(X_test)\n",
    "\n",
    "mae = mean_absolute_error(Y_test,Y_pred)\n",
    "mse = mean_squared_error(Y_test,Y_pred)\n",
    "rmse_val = rmse(Y_test,Y_pred)\n",
    "r2 = r2_score(Y_test,Y_pred)\n",
    "print(\"MAE: %.3f\"%mae)\n",
    "print(\"MSE:  %.3f\"%mse)\n",
    "print(\"RMSE:  %.3f\"%rmse_val)\n",
    "print(\"R2:  %.3f\"%r2)"
   ]
  },
  {
   "cell_type": "markdown",
   "metadata": {
    "colab": {},
    "colab_type": "code",
    "id": "ws33_Zaema7D"
   },
   "source": [
    "At 5% only 25 observations are lost. Here we begin the see the impact of the lost information, with MAE, MSE, and RMSE all higher, and R-Squared lower than the 1% missing data case. "
   ]
  },
  {
   "cell_type": "code",
   "execution_count": 41,
   "metadata": {
    "colab": {},
    "colab_type": "code",
    "id": "jdSl2tqUma7E"
   },
   "outputs": [],
   "source": [
    "temp_frame = pd.DataFrame({'data':'5% deletion',\n",
    "                   'imputation':'MCAR',\n",
    "                   'mae': mae, \n",
    "                   'mse': mse, \n",
    "                   'rmse':rmse_val,\n",
    "                   'R2':r2,\n",
    "                   'mae_diff':mae-orig_mae,\n",
    "                   'mse_diff':mse-orig_mse,\n",
    "                   'rmse_diff':rmse_val-orig_rmse_val,\n",
    "                   'R2_diff':r2-orig_r2\n",
    "                   }, index=[2])\n",
    "\n",
    "res_frame = pd.concat([res_frame, temp_frame])"
   ]
  },
  {
   "cell_type": "code",
   "execution_count": 42,
   "metadata": {
    "colab": {},
    "colab_type": "code",
    "id": "C1e8bW1Tma7G"
   },
   "outputs": [
    {
     "data": {
      "text/plain": [
       "(481, 14)"
      ]
     },
     "execution_count": 42,
     "metadata": {},
     "output_type": "execute_result"
    }
   ],
   "source": [
    "df.shape"
   ]
  },
  {
   "cell_type": "markdown",
   "metadata": {
    "colab_type": "text",
    "id": "xAeFREKcma7I"
   },
   "source": [
    "### 10% Missing Data Completely Random"
   ]
  },
  {
   "cell_type": "code",
   "execution_count": 43,
   "metadata": {
    "colab": {},
    "colab_type": "code",
    "id": "nU-21yozma7I",
    "outputId": "1e5bbaa2-9d55-4d69-d2ec-a6a1aaca693f"
   },
   "outputs": [
    {
     "name": "stdout",
     "output_type": "stream",
     "text": [
      "MAE: 3.228\n",
      "MSE:  27.419\n",
      "RMSE:  5.236\n",
      "R2:  0.726\n"
     ]
    }
   ],
   "source": [
    "df = bos_na10.dropna() \n",
    "\n",
    "X_b = np.c_[np.ones((len(df[features]),1)), df[features].values] \n",
    "X_b.shape\n",
    "\n",
    "X = df.drop('PRICE', axis = 1)\n",
    "Y = df['PRICE']\n",
    "\n",
    "X_train, X_test, Y_train, Y_test = train_test_split(X_b, Y, test_size = 0.20, random_state = 123)\n",
    "\n",
    "reg = LinearRegression(normalize=True).fit(X_train, Y_train)\n",
    "\n",
    "Y_pred = reg.predict(X_test)\n",
    "\n",
    "mae = mean_absolute_error(Y_test,Y_pred)\n",
    "mse = mean_squared_error(Y_test,Y_pred)\n",
    "rmse_val = rmse(Y_test,Y_pred)\n",
    "r2 = r2_score(Y_test,Y_pred)\n",
    "print(\"MAE: %.3f\"%mae)\n",
    "print(\"MSE:  %.3f\"%mse)\n",
    "print(\"RMSE:  %.3f\"%rmse_val)\n",
    "print(\"R2:  %.3f\"%r2)"
   ]
  },
  {
   "cell_type": "markdown",
   "metadata": {
    "colab": {},
    "colab_type": "code",
    "id": "l4u-BIB9ma7L"
   },
   "source": [
    "At 10% 51 observations for RM are lost. Metrics seem only marginally impacted, but R-Squared is again higher."
   ]
  },
  {
   "cell_type": "code",
   "execution_count": 44,
   "metadata": {
    "colab": {},
    "colab_type": "code",
    "id": "N2lgM7Iwma7M"
   },
   "outputs": [],
   "source": [
    "temp_frame = pd.DataFrame({'data':'10% deletion',\n",
    "                   'imputation':'MCAR',\n",
    "                   'mae': mae, \n",
    "                   'mse': mse, \n",
    "                   'rmse':rmse_val,\n",
    "                   'R2':r2,\n",
    "                   'mae_diff':mae-orig_mae,\n",
    "                   'mse_diff':mse-orig_mse,\n",
    "                   'rmse_diff':rmse_val-orig_rmse_val,\n",
    "                   'R2_diff':r2-orig_r2\n",
    "                   }, index=[3])\n",
    "\n",
    "res_frame = pd.concat([res_frame, temp_frame])"
   ]
  },
  {
   "cell_type": "code",
   "execution_count": 45,
   "metadata": {
    "colab": {},
    "colab_type": "code",
    "id": "X-Mh6Qm4ma7O"
   },
   "outputs": [
    {
     "data": {
      "text/plain": [
       "(455, 14)"
      ]
     },
     "execution_count": 45,
     "metadata": {},
     "output_type": "execute_result"
    }
   ],
   "source": [
    "df.shape"
   ]
  },
  {
   "cell_type": "markdown",
   "metadata": {
    "colab_type": "text",
    "id": "X-IRfU4xma7P"
   },
   "source": [
    "### 20% Missing Data Completely Random"
   ]
  },
  {
   "cell_type": "code",
   "execution_count": 46,
   "metadata": {
    "colab": {},
    "colab_type": "code",
    "id": "cZYwNQksma7S",
    "outputId": "22a66c2a-dc1f-4c93-bc35-3bc8d3e85572"
   },
   "outputs": [
    {
     "name": "stdout",
     "output_type": "stream",
     "text": [
      "MAE: 3.113\n",
      "MSE:  19.153\n",
      "RMSE:  4.376\n",
      "R2:  0.795\n"
     ]
    }
   ],
   "source": [
    "df = bos_na20.dropna() \n",
    "\n",
    "X_b = np.c_[np.ones((len(df[features]),1)), df[features].values] \n",
    "X_b.shape\n",
    "\n",
    "X = df.drop('PRICE', axis = 1)\n",
    "Y = df['PRICE']\n",
    "\n",
    "X_train, X_test, Y_train, Y_test = train_test_split(X_b, Y, test_size = 0.20, random_state = 123)\n",
    "\n",
    "reg = LinearRegression(normalize=True).fit(X_train, Y_train)\n",
    "\n",
    "Y_pred = reg.predict(X_test)\n",
    "\n",
    "mae = mean_absolute_error(Y_test,Y_pred)\n",
    "mse = mean_squared_error(Y_test,Y_pred)\n",
    "rmse_val = rmse(Y_test,Y_pred)\n",
    "r2 = r2_score(Y_test,Y_pred)\n",
    "print(\"MAE: %.3f\"%mae)\n",
    "print(\"MSE:  %.3f\"%mse)\n",
    "print(\"RMSE:  %.3f\"%rmse_val)\n",
    "print(\"R2:  %.3f\"%r2)"
   ]
  },
  {
   "cell_type": "markdown",
   "metadata": {
    "colab": {},
    "colab_type": "code",
    "id": "5yVpN1amma7U"
   },
   "source": [
    "With 20%, 101 observations for RM are lost. Error rates are lower, and R-Squared higher. Much of this implies the intuitive observation that by removing RM values we have reduced overall variation in the model. "
   ]
  },
  {
   "cell_type": "code",
   "execution_count": 47,
   "metadata": {
    "colab": {},
    "colab_type": "code",
    "id": "4Fa92z5dma7W"
   },
   "outputs": [],
   "source": [
    "temp_frame = pd.DataFrame({'data':'20% deletion',\n",
    "                   'imputation':'MCAR',\n",
    "                   'mae': mae, \n",
    "                   'mse': mse, \n",
    "                   'rmse':rmse_val,\n",
    "                   'R2':r2,\n",
    "                   'mae_diff':mae-orig_mae,\n",
    "                   'mse_diff':mse-orig_mse,\n",
    "                   'rmse_diff':rmse_val-orig_rmse_val,\n",
    "                   'R2_diff':r2-orig_r2\n",
    "                   }, index=[4])\n",
    "\n",
    "res_frame = pd.concat([res_frame, temp_frame])"
   ]
  },
  {
   "cell_type": "code",
   "execution_count": 48,
   "metadata": {
    "colab": {},
    "colab_type": "code",
    "id": "LN4a-w3Hma7X"
   },
   "outputs": [
    {
     "data": {
      "text/plain": [
       "(405, 14)"
      ]
     },
     "execution_count": 48,
     "metadata": {},
     "output_type": "execute_result"
    }
   ],
   "source": [
    "df.shape"
   ]
  },
  {
   "cell_type": "markdown",
   "metadata": {
    "colab_type": "text",
    "id": "AAIJoBTMma7Z"
   },
   "source": [
    "### 33% Missing Data Completely Random"
   ]
  },
  {
   "cell_type": "code",
   "execution_count": 49,
   "metadata": {
    "colab": {},
    "colab_type": "code",
    "id": "sja0webYma7Z",
    "outputId": "792a0c97-ecb6-4213-8120-ae6c09d60c0f"
   },
   "outputs": [
    {
     "name": "stdout",
     "output_type": "stream",
     "text": [
      "MAE: 2.941\n",
      "MSE:  15.563\n",
      "RMSE:  3.945\n",
      "R2:  0.814\n"
     ]
    }
   ],
   "source": [
    "df = bos_na33.dropna() \n",
    "\n",
    "X_b = np.c_[np.ones((len(df[features]),1)), df[features].values] \n",
    "X_b.shape\n",
    "\n",
    "X = df.drop('PRICE', axis = 1)\n",
    "Y = df['PRICE']\n",
    "\n",
    "X_train, X_test, Y_train, Y_test = train_test_split(X_b, Y, test_size = 0.20, random_state = 123)\n",
    "\n",
    "reg = LinearRegression(normalize=True).fit(X_train, Y_train)\n",
    "\n",
    "Y_pred = reg.predict(X_test)\n",
    "\n",
    "mae = mean_absolute_error(Y_test,Y_pred)\n",
    "mse = mean_squared_error(Y_test,Y_pred)\n",
    "rmse_val = rmse(Y_test,Y_pred)\n",
    "r2 = r2_score(Y_test,Y_pred)\n",
    "print(\"MAE: %.3f\"%mae)\n",
    "print(\"MSE:  %.3f\"%mse)\n",
    "print(\"RMSE:  %.3f\"%rmse_val)\n",
    "print(\"R2:  %.3f\"%r2)"
   ]
  },
  {
   "cell_type": "markdown",
   "metadata": {
    "colab": {},
    "colab_type": "code",
    "id": "TBO9Xf8Ama7b"
   },
   "source": [
    "With 33%, 167 RM observations are lost. We continue the trend of lower error rates and an increased R-Squared."
   ]
  },
  {
   "cell_type": "code",
   "execution_count": 50,
   "metadata": {
    "colab": {},
    "colab_type": "code",
    "id": "vLfQMssmma7c"
   },
   "outputs": [],
   "source": [
    "temp_frame = pd.DataFrame({'data':'33% deletion',\n",
    "                   'imputation':'MAR',\n",
    "                   'mae': mae, \n",
    "                   'mse': mse, \n",
    "                   'rmse':rmse_val,\n",
    "                   'R2':r2,\n",
    "                   'mae_diff':mae-orig_mae,\n",
    "                   'mse_diff':mse-orig_mse,\n",
    "                   'rmse_diff':rmse_val-orig_rmse_val,\n",
    "                   'R2_diff':r2-orig_r2\n",
    "                   }, index=[5])\n",
    "\n",
    "res_frame = pd.concat([res_frame, temp_frame])"
   ]
  },
  {
   "cell_type": "code",
   "execution_count": 51,
   "metadata": {
    "colab": {},
    "colab_type": "code",
    "id": "GhFzh_yFma7e"
   },
   "outputs": [
    {
     "data": {
      "text/plain": [
       "(339, 14)"
      ]
     },
     "execution_count": 51,
     "metadata": {},
     "output_type": "execute_result"
    }
   ],
   "source": [
    "df.shape"
   ]
  },
  {
   "cell_type": "markdown",
   "metadata": {
    "colab_type": "text",
    "id": "3S1dm4vcma7g"
   },
   "source": [
    "### 50% Missing Data Completely Random"
   ]
  },
  {
   "cell_type": "code",
   "execution_count": 52,
   "metadata": {
    "colab": {},
    "colab_type": "code",
    "id": "-3Q0nP-dma7g",
    "outputId": "56e6a619-2484-4a1c-c4cd-2f24dd081989"
   },
   "outputs": [
    {
     "name": "stdout",
     "output_type": "stream",
     "text": [
      "MAE: 3.607\n",
      "MSE:  24.515\n",
      "RMSE:  4.951\n",
      "R2:  0.583\n"
     ]
    }
   ],
   "source": [
    "df = bos_na50.dropna() \n",
    "\n",
    "X_b = np.c_[np.ones((len(df[features]),1)), df[features].values] \n",
    "X_b.shape\n",
    "\n",
    "X = df.drop('PRICE', axis = 1)\n",
    "Y = df['PRICE']\n",
    "\n",
    "X_train, X_test, Y_train, Y_test = train_test_split(X_b, Y, test_size = 0.20, random_state = 123)\n",
    "\n",
    "reg = LinearRegression(normalize=True).fit(X_train, Y_train)\n",
    "\n",
    "Y_pred = reg.predict(X_test)\n",
    "\n",
    "mae = mean_absolute_error(Y_test,Y_pred)\n",
    "mse = mean_squared_error(Y_test,Y_pred)\n",
    "rmse_val = rmse(Y_test,Y_pred)\n",
    "r2 = r2_score(Y_test,Y_pred)\n",
    "print(\"MAE: %.3f\"%mae)\n",
    "print(\"MSE:  %.3f\"%mse)\n",
    "print(\"RMSE:  %.3f\"%rmse_val)\n",
    "print(\"R2:  %.3f\"%r2)"
   ]
  },
  {
   "cell_type": "markdown",
   "metadata": {
    "colab": {},
    "colab_type": "code",
    "id": "8kjq_Thsma7i"
   },
   "source": [
    "With 50% 253 observations are lost. Interestingly, we see error rates now rise markedly, and we note a severe degredation of R-Squared. \n",
    "\n",
    "These various iterations are summarized in the table below."
   ]
  },
  {
   "cell_type": "code",
   "execution_count": 53,
   "metadata": {
    "colab": {},
    "colab_type": "code",
    "id": "bdT436joma7k"
   },
   "outputs": [],
   "source": [
    "temp_frame = pd.DataFrame({'data':'50% deletion',\n",
    "                   'imputation':'MAR',\n",
    "                   'mae': mae, \n",
    "                   'mse': mse, \n",
    "                   'rmse':rmse_val,\n",
    "                   'R2':r2,\n",
    "                   'mae_diff':mae-orig_mae,\n",
    "                   'mse_diff':mse-orig_mse,\n",
    "                   'rmse_diff':rmse_val-orig_rmse_val,\n",
    "                   'R2_diff':r2-orig_r2\n",
    "                   }, index=[6])\n",
    "\n",
    "res_frame = pd.concat([res_frame, temp_frame])"
   ]
  },
  {
   "cell_type": "code",
   "execution_count": 54,
   "metadata": {
    "colab": {},
    "colab_type": "code",
    "id": "c-0zGlUHma7m"
   },
   "outputs": [
    {
     "data": {
      "text/plain": [
       "(253, 14)"
      ]
     },
     "execution_count": 54,
     "metadata": {},
     "output_type": "execute_result"
    }
   ],
   "source": [
    "df.shape"
   ]
  },
  {
   "cell_type": "code",
   "execution_count": 55,
   "metadata": {
    "colab": {},
    "colab_type": "code",
    "id": "J2QwKM9tma7o",
    "outputId": "980e2bd9-bb35-427b-e323-87ed462aeb42"
   },
   "outputs": [
    {
     "data": {
      "text/html": [
       "<div>\n",
       "<style scoped>\n",
       "    .dataframe tbody tr th:only-of-type {\n",
       "        vertical-align: middle;\n",
       "    }\n",
       "\n",
       "    .dataframe tbody tr th {\n",
       "        vertical-align: top;\n",
       "    }\n",
       "\n",
       "    .dataframe thead th {\n",
       "        text-align: right;\n",
       "    }\n",
       "</style>\n",
       "<table border=\"1\" class=\"dataframe\">\n",
       "  <thead>\n",
       "    <tr style=\"text-align: right;\">\n",
       "      <th></th>\n",
       "      <th>data</th>\n",
       "      <th>imputation</th>\n",
       "      <th>mae</th>\n",
       "      <th>mse</th>\n",
       "      <th>rmse</th>\n",
       "      <th>R2</th>\n",
       "      <th>mae_diff</th>\n",
       "      <th>mse_diff</th>\n",
       "      <th>rmse_diff</th>\n",
       "      <th>R2_diff</th>\n",
       "    </tr>\n",
       "  </thead>\n",
       "  <tbody>\n",
       "    <tr>\n",
       "      <th>0</th>\n",
       "      <td>original</td>\n",
       "      <td>none</td>\n",
       "      <td>3.660153</td>\n",
       "      <td>28.192486</td>\n",
       "      <td>5.309660</td>\n",
       "      <td>0.659247</td>\n",
       "      <td>NaN</td>\n",
       "      <td>NaN</td>\n",
       "      <td>NaN</td>\n",
       "      <td>NaN</td>\n",
       "    </tr>\n",
       "    <tr>\n",
       "      <th>1</th>\n",
       "      <td>1% deletion</td>\n",
       "      <td>MCAR</td>\n",
       "      <td>3.380100</td>\n",
       "      <td>20.406120</td>\n",
       "      <td>4.517313</td>\n",
       "      <td>0.755851</td>\n",
       "      <td>-0.280052</td>\n",
       "      <td>-7.786365</td>\n",
       "      <td>-0.792346</td>\n",
       "      <td>0.096604</td>\n",
       "    </tr>\n",
       "    <tr>\n",
       "      <th>2</th>\n",
       "      <td>5% deletion</td>\n",
       "      <td>MCAR</td>\n",
       "      <td>3.190474</td>\n",
       "      <td>27.808308</td>\n",
       "      <td>5.273358</td>\n",
       "      <td>0.685634</td>\n",
       "      <td>-0.469679</td>\n",
       "      <td>-0.384178</td>\n",
       "      <td>-0.036301</td>\n",
       "      <td>0.026387</td>\n",
       "    </tr>\n",
       "    <tr>\n",
       "      <th>3</th>\n",
       "      <td>10% deletion</td>\n",
       "      <td>MCAR</td>\n",
       "      <td>3.227581</td>\n",
       "      <td>27.418913</td>\n",
       "      <td>5.236307</td>\n",
       "      <td>0.726436</td>\n",
       "      <td>-0.432572</td>\n",
       "      <td>-0.773573</td>\n",
       "      <td>-0.073352</td>\n",
       "      <td>0.067189</td>\n",
       "    </tr>\n",
       "    <tr>\n",
       "      <th>4</th>\n",
       "      <td>20% deletion</td>\n",
       "      <td>MCAR</td>\n",
       "      <td>3.112742</td>\n",
       "      <td>19.153151</td>\n",
       "      <td>4.376431</td>\n",
       "      <td>0.794744</td>\n",
       "      <td>-0.547410</td>\n",
       "      <td>-9.039335</td>\n",
       "      <td>-0.933228</td>\n",
       "      <td>0.135498</td>\n",
       "    </tr>\n",
       "    <tr>\n",
       "      <th>5</th>\n",
       "      <td>33% deletion</td>\n",
       "      <td>MAR</td>\n",
       "      <td>2.940917</td>\n",
       "      <td>15.563245</td>\n",
       "      <td>3.945028</td>\n",
       "      <td>0.813610</td>\n",
       "      <td>-0.719236</td>\n",
       "      <td>-12.629240</td>\n",
       "      <td>-1.364632</td>\n",
       "      <td>0.154363</td>\n",
       "    </tr>\n",
       "    <tr>\n",
       "      <th>6</th>\n",
       "      <td>50% deletion</td>\n",
       "      <td>MAR</td>\n",
       "      <td>3.607327</td>\n",
       "      <td>24.514905</td>\n",
       "      <td>4.951253</td>\n",
       "      <td>0.583272</td>\n",
       "      <td>-0.052825</td>\n",
       "      <td>-3.677581</td>\n",
       "      <td>-0.358407</td>\n",
       "      <td>-0.075975</td>\n",
       "    </tr>\n",
       "  </tbody>\n",
       "</table>\n",
       "</div>"
      ],
      "text/plain": [
       "           data imputation       mae        mse      rmse        R2  mae_diff  \\\n",
       "0      original       none  3.660153  28.192486  5.309660  0.659247       NaN   \n",
       "1   1% deletion       MCAR  3.380100  20.406120  4.517313  0.755851 -0.280052   \n",
       "2   5% deletion       MCAR  3.190474  27.808308  5.273358  0.685634 -0.469679   \n",
       "3  10% deletion       MCAR  3.227581  27.418913  5.236307  0.726436 -0.432572   \n",
       "4  20% deletion       MCAR  3.112742  19.153151  4.376431  0.794744 -0.547410   \n",
       "5  33% deletion        MAR  2.940917  15.563245  3.945028  0.813610 -0.719236   \n",
       "6  50% deletion        MAR  3.607327  24.514905  4.951253  0.583272 -0.052825   \n",
       "\n",
       "    mse_diff  rmse_diff   R2_diff  \n",
       "0        NaN        NaN       NaN  \n",
       "1  -7.786365  -0.792346  0.096604  \n",
       "2  -0.384178  -0.036301  0.026387  \n",
       "3  -0.773573  -0.073352  0.067189  \n",
       "4  -9.039335  -0.933228  0.135498  \n",
       "5 -12.629240  -1.364632  0.154363  \n",
       "6  -3.677581  -0.358407 -0.075975  "
      ]
     },
     "execution_count": 55,
     "metadata": {},
     "output_type": "execute_result"
    }
   ],
   "source": [
    "res_frame"
   ]
  },
  {
   "cell_type": "code",
   "execution_count": 56,
   "metadata": {
    "colab": {},
    "colab_type": "code",
    "id": "BrCt-PLzma7q",
    "outputId": "ce517055-d320-43fc-be74-6e50232f3e1a"
   },
   "outputs": [
    {
     "data": {
      "text/plain": [
       "(253, 14)"
      ]
     },
     "execution_count": 56,
     "metadata": {},
     "output_type": "execute_result"
    }
   ],
   "source": [
    "df.shape"
   ]
  },
  {
   "cell_type": "markdown",
   "metadata": {
    "colab_type": "text",
    "id": "_lG7Dvroma7s"
   },
   "source": [
    "## Imputation\n",
    "\n",
    "The next approach to dealing with values missing at random is imputation. We chose mean imputation and again generated 6 new datasets with missing values. Like the full set, the new sets were split into training and testing sets then fitted to a linear regression."
   ]
  },
  {
   "cell_type": "code",
   "execution_count": 65,
   "metadata": {
    "colab": {},
    "colab_type": "code",
    "id": "AU0H9aikma7t",
    "outputId": "b5ed5199-b75f-44b4-c225-b1080c899a0b"
   },
   "outputs": [
    {
     "name": "stdout",
     "output_type": "stream",
     "text": [
      "Null values at 0.50 : 253\n",
      "Null values at 0.33 : 167\n",
      "Null values at 0.20 : 101\n",
      "Null values at 0.10 : 51\n",
      "Null values at 0.05 : 25\n",
      "Null values at 0.01 : 5\n"
     ]
    }
   ],
   "source": [
    "insert_na(.50,\"RM\")\n",
    "bos_na50 = bos_na\n",
    "bos_na50.name = \"50% Imputed\"\n",
    "insert_na(.33,\"RM\")\n",
    "bos_na33 = bos_na\n",
    "bos_na33.name = \"33% Imputed\"\n",
    "insert_na(.20,\"RM\")\n",
    "bos_na20 = bos_na\n",
    "bos_na20.name = \"20% Imputed\"\n",
    "insert_na(.10,\"RM\")\n",
    "bos_na10 = bos_na\n",
    "bos_na10.name = \"10% Imputed\"\n",
    "insert_na(.05,\"RM\")\n",
    "bos_na05 = bos_na\n",
    "bos_na05.name = \"5% Imputed\"\n",
    "insert_na(.01,\"RM\")\n",
    "bos_na01 = bos_na\n",
    "bos_na01.name = \"1% Imputed\""
   ]
  },
  {
   "cell_type": "markdown",
   "metadata": {
    "colab_type": "text",
    "id": "5U794WJRma7u"
   },
   "source": [
    "### 1% Missing Data Completely Random"
   ]
  },
  {
   "cell_type": "code",
   "execution_count": 66,
   "metadata": {},
   "outputs": [
    {
     "name": "stdout",
     "output_type": "stream",
     "text": [
      "=======================\n",
      "1% Imputed\n",
      "MAE: 3.729\n",
      "MSE:  30.147\n",
      "RMSE:  5.491\n",
      "R2:  0.706\n",
      "=======================\n",
      "=======================\n",
      "5% Imputed\n",
      "MAE: 3.353\n",
      "MSE:  27.802\n",
      "RMSE:  5.273\n",
      "R2:  0.636\n",
      "=======================\n",
      "=======================\n",
      "10% Imputed\n",
      "MAE: 3.874\n",
      "MSE:  31.168\n",
      "RMSE:  5.583\n",
      "R2:  0.697\n",
      "=======================\n",
      "=======================\n",
      "20% Imputed\n",
      "MAE: 3.338\n",
      "MSE:  18.125\n",
      "RMSE:  4.257\n",
      "R2:  0.682\n",
      "=======================\n",
      "=======================\n",
      "33% Imputed\n",
      "MAE: 3.744\n",
      "MSE:  22.958\n",
      "RMSE:  4.791\n",
      "R2:  0.735\n",
      "=======================\n",
      "=======================\n",
      "50% Imputed\n",
      "MAE: 3.923\n",
      "MSE:  30.818\n",
      "RMSE:  5.551\n",
      "R2:  0.606\n",
      "=======================\n"
     ]
    }
   ],
   "source": [
    "frames = [bos_na01, bos_na05, bos_na10, bos_na20, bos_na33, bos_na50]\n",
    "\n",
    "for frame in frames:\n",
    "    df = frame\n",
    "\n",
    "    # impute nan values with mean\n",
    "    df = df.apply(lambda x: x.fillna(x.mean()),axis=0)\n",
    "\n",
    "    X_b = np.c_[np.ones((len(df[features]),1)), df[features].values] \n",
    "    X_b.shape\n",
    "\n",
    "    X = df.drop('PRICE', axis = 1)\n",
    "    Y = df['PRICE']\n",
    "\n",
    "    X_train, X_test, Y_train, Y_test = train_test_split(X_b, Y, test_size = 0.20, random_state = 123)\n",
    "\n",
    "    reg = LinearRegression(normalize=True).fit(X_train, Y_train)\n",
    "\n",
    "    Y_pred = reg.predict(X_test)\n",
    "\n",
    "    mae = mean_absolute_error(Y_test,Y_pred)\n",
    "    mse = mean_squared_error(Y_test,Y_pred)\n",
    "    rmse_val = rmse(Y_test,Y_pred)\n",
    "    r2 = r2_score(Y_test,Y_pred)\n",
    "    print('=======================')\n",
    "    print(str(frame.name))\n",
    "    print(\"MAE: %.3f\"%mae)\n",
    "    print(\"MSE:  %.3f\"%mse)\n",
    "    print(\"RMSE:  %.3f\"%rmse_val)\n",
    "    print(\"R2:  %.3f\"%r2)\n",
    "    print('=======================')\n",
    "    \n",
    "    temp_frame = pd.DataFrame({'data':frame.name,\n",
    "                   'imputation':'MCAR',\n",
    "                   'mae': mae, \n",
    "                   'mse': mse, \n",
    "                   'rmse':rmse_val,\n",
    "                   'R2':r2,\n",
    "                   'mae_diff':mae-orig_mae,\n",
    "                   'mse_diff':mse-orig_mse,\n",
    "                   'rmse_diff':rmse_val-orig_rmse_val,\n",
    "                   'R2_diff':r2-orig_r2\n",
    "                   }, index=[7])\n",
    "\n",
    "    res_frame = pd.concat([res_frame, temp_frame])"
   ]
  },
  {
   "cell_type": "code",
   "execution_count": 340,
   "metadata": {
    "colab": {},
    "colab_type": "code",
    "id": "gBGEQdL6ma7v",
    "outputId": "03b82df8-6e5f-4590-bf44-f504c5c32578"
   },
   "outputs": [
    {
     "name": "stdout",
     "output_type": "stream",
     "text": [
      "MAE: 3.729\n",
      "MSE:  30.147\n",
      "RMSE:  5.491\n",
      "R2:  0.706\n"
     ]
    }
   ],
   "source": [
    "df = bos_na01\n",
    "\n",
    "# impute nan values with mean\n",
    "df = df.apply(lambda x: x.fillna(x.mean()),axis=0)\n",
    "\n",
    "X_b = np.c_[np.ones((len(df[features]),1)), df[features].values] \n",
    "X_b.shape\n",
    "\n",
    "X = df.drop('PRICE', axis = 1)\n",
    "Y = df['PRICE']\n",
    "\n",
    "X_train, X_test, Y_train, Y_test = train_test_split(X_b, Y, test_size = 0.20, random_state = 123)\n",
    "\n",
    "reg = LinearRegression(normalize=True).fit(X_train, Y_train)\n",
    "\n",
    "Y_pred = reg.predict(X_test)\n",
    "\n",
    "mae = mean_absolute_error(Y_test,Y_pred)\n",
    "mse = mean_squared_error(Y_test,Y_pred)\n",
    "rmse_val = rmse(Y_test,Y_pred)\n",
    "r2 = r2_score(Y_test,Y_pred)\n",
    "print(\"MAE: %.3f\"%mae)\n",
    "print(\"MSE:  %.3f\"%mse)\n",
    "print(\"RMSE:  %.3f\"%rmse_val)\n",
    "print(\"R2:  %.3f\"%r2)"
   ]
  },
  {
   "cell_type": "code",
   "execution_count": null,
   "metadata": {
    "colab": {},
    "colab_type": "code",
    "id": "u1FZP4zama7x"
   },
   "outputs": [],
   "source": []
  },
  {
   "cell_type": "code",
   "execution_count": 341,
   "metadata": {
    "colab": {},
    "colab_type": "code",
    "id": "F7YiqnPSma7z"
   },
   "outputs": [],
   "source": [
    "temp_frame = pd.DataFrame({'data':'1% imputed',\n",
    "                   'imputation':'MCAR',\n",
    "                   'mae': mae, \n",
    "                   'mse': mse, \n",
    "                   'rmse':rmse_val,\n",
    "                   'R2':r2,\n",
    "                   'mae_diff':mae-orig_mae,\n",
    "                   'mse_diff':mse-orig_mse,\n",
    "                   'rmse_diff':rmse_val-orig_rmse_val,\n",
    "                   'R2_diff':r2-orig_r2\n",
    "                   }, index=[7])\n",
    "\n",
    "res_frame = pd.concat([res_frame, temp_frame])"
   ]
  },
  {
   "cell_type": "code",
   "execution_count": 342,
   "metadata": {
    "colab": {},
    "colab_type": "code",
    "id": "myZGNLpIma70",
    "outputId": "1e148ede-902d-4c65-9f12-e18c952a23ad"
   },
   "outputs": [
    {
     "name": "stdout",
     "output_type": "stream",
     "text": [
      "Null Values:  0\n"
     ]
    }
   ],
   "source": [
    "print(\"Null Values: \",df.isnull().values.ravel().sum())"
   ]
  },
  {
   "cell_type": "markdown",
   "metadata": {
    "colab_type": "text",
    "id": "TliVcMVLma72"
   },
   "source": [
    "### 5% Missing Data Completely Random"
   ]
  },
  {
   "cell_type": "code",
   "execution_count": 343,
   "metadata": {
    "colab": {},
    "colab_type": "code",
    "id": "mVdAy7Lhma72",
    "outputId": "791e6ed4-73ff-4d89-9530-3b521c1b856f"
   },
   "outputs": [
    {
     "name": "stdout",
     "output_type": "stream",
     "text": [
      "MAE: 3.353\n",
      "MSE:  27.802\n",
      "RMSE:  5.273\n",
      "R2:  0.636\n"
     ]
    }
   ],
   "source": [
    "df = bos_na05\n",
    "\n",
    "# impute nan values with mean\n",
    "df = df.apply(lambda x: x.fillna(x.mean()),axis=0)\n",
    "\n",
    "X_b = np.c_[np.ones((len(df[features]),1)), df[features].values] \n",
    "X_b.shape\n",
    "\n",
    "X = df.drop('PRICE', axis = 1)\n",
    "Y = df['PRICE']\n",
    "\n",
    "X_train, X_test, Y_train, Y_test = train_test_split(X_b, Y, test_size = 0.20, random_state = 123)\n",
    "\n",
    "reg = LinearRegression(normalize=True).fit(X_train, Y_train)\n",
    "\n",
    "Y_pred = reg.predict(X_test)\n",
    "\n",
    "mae = mean_absolute_error(Y_test,Y_pred)\n",
    "mse = mean_squared_error(Y_test,Y_pred)\n",
    "rmse_val = rmse(Y_test,Y_pred)\n",
    "r2 = r2_score(Y_test,Y_pred)\n",
    "print(\"MAE: %.3f\"%mae)\n",
    "print(\"MSE:  %.3f\"%mse)\n",
    "print(\"RMSE:  %.3f\"%rmse_val)\n",
    "print(\"R2:  %.3f\"%r2)"
   ]
  },
  {
   "cell_type": "code",
   "execution_count": null,
   "metadata": {
    "colab": {},
    "colab_type": "code",
    "id": "rKmEOEHHma74"
   },
   "outputs": [],
   "source": []
  },
  {
   "cell_type": "code",
   "execution_count": 344,
   "metadata": {
    "colab": {},
    "colab_type": "code",
    "id": "SOlrnPLqma76"
   },
   "outputs": [],
   "source": [
    "temp_frame = pd.DataFrame({'data':'5% imputed',\n",
    "                   'imputation':'MCAR',\n",
    "                   'mae': mae, \n",
    "                   'mse': mse, \n",
    "                   'rmse':rmse_val,\n",
    "                   'R2':r2,\n",
    "                   'mae_diff':mae-orig_mae,\n",
    "                   'mse_diff':mse-orig_mse,\n",
    "                   'rmse_diff':rmse_val-orig_rmse_val,\n",
    "                   'R2_diff':r2-orig_r2\n",
    "                   }, index=[8])\n",
    "\n",
    "res_frame = pd.concat([res_frame, temp_frame])"
   ]
  },
  {
   "cell_type": "code",
   "execution_count": 345,
   "metadata": {
    "colab": {},
    "colab_type": "code",
    "id": "r_r7YtXima78"
   },
   "outputs": [
    {
     "name": "stdout",
     "output_type": "stream",
     "text": [
      "Null Values:  0\n"
     ]
    }
   ],
   "source": [
    "print(\"Null Values: \",df.isnull().values.ravel().sum())"
   ]
  },
  {
   "cell_type": "markdown",
   "metadata": {
    "colab_type": "text",
    "id": "YJe27Zo8ma79"
   },
   "source": [
    "### 10% Missing Data Completely Random"
   ]
  },
  {
   "cell_type": "code",
   "execution_count": 346,
   "metadata": {
    "colab": {},
    "colab_type": "code",
    "id": "9uwcOFEZma79",
    "outputId": "736ec8d6-3066-4fde-a09e-7481d51edbb1"
   },
   "outputs": [
    {
     "name": "stdout",
     "output_type": "stream",
     "text": [
      "MAE: 3.874\n",
      "MSE:  31.168\n",
      "RMSE:  5.583\n",
      "R2:  0.697\n"
     ]
    }
   ],
   "source": [
    "df = bos_na10\n",
    "\n",
    "# impute nan values with mean\n",
    "df = df.apply(lambda x: x.fillna(x.mean()),axis=0)\n",
    "\n",
    "X_b = np.c_[np.ones((len(df[features]),1)), df[features].values] \n",
    "X_b.shape\n",
    "\n",
    "X = df.drop('PRICE', axis = 1)\n",
    "Y = df['PRICE']\n",
    "\n",
    "X_train, X_test, Y_train, Y_test = train_test_split(X_b, Y, test_size = 0.20, random_state = 123)\n",
    "\n",
    "reg = LinearRegression(normalize=True).fit(X_train, Y_train)\n",
    "\n",
    "Y_pred = reg.predict(X_test)\n",
    "\n",
    "mae = mean_absolute_error(Y_test,Y_pred)\n",
    "mse = mean_squared_error(Y_test,Y_pred)\n",
    "rmse_val = rmse(Y_test,Y_pred)\n",
    "r2 = r2_score(Y_test,Y_pred)\n",
    "print(\"MAE: %.3f\"%mae)\n",
    "print(\"MSE:  %.3f\"%mse)\n",
    "print(\"RMSE:  %.3f\"%rmse_val)\n",
    "print(\"R2:  %.3f\"%r2)"
   ]
  },
  {
   "cell_type": "code",
   "execution_count": null,
   "metadata": {
    "colab": {},
    "colab_type": "code",
    "id": "Rmxsg2YKma8B"
   },
   "outputs": [],
   "source": []
  },
  {
   "cell_type": "code",
   "execution_count": 347,
   "metadata": {
    "colab": {},
    "colab_type": "code",
    "id": "2I2_g_goma8C"
   },
   "outputs": [],
   "source": [
    "temp_frame = pd.DataFrame({'data':'10% imputed',\n",
    "                   'imputation':'MCAR',\n",
    "                   'mae': mae, \n",
    "                   'mse': mse, \n",
    "                   'rmse':rmse_val,\n",
    "                   'R2':r2,\n",
    "                   'mae_diff':mae-orig_mae,\n",
    "                   'mse_diff':mse-orig_mse,\n",
    "                   'rmse_diff':rmse_val-orig_rmse_val,\n",
    "                   'R2_diff':r2-orig_r2\n",
    "                   }, index=[9])\n",
    "\n",
    "res_frame = pd.concat([res_frame, temp_frame])"
   ]
  },
  {
   "cell_type": "code",
   "execution_count": 348,
   "metadata": {
    "colab": {},
    "colab_type": "code",
    "id": "Fak7LV01ma8F",
    "outputId": "9b926cc4-3de2-4e8b-8abe-2679e478316d"
   },
   "outputs": [
    {
     "name": "stdout",
     "output_type": "stream",
     "text": [
      "Null Values:  0\n"
     ]
    }
   ],
   "source": [
    "print(\"Null Values: \",df.isnull().values.ravel().sum())"
   ]
  },
  {
   "cell_type": "markdown",
   "metadata": {
    "colab_type": "text",
    "id": "254sIVrsma8G"
   },
   "source": [
    "### 20% Missing Data Completely Random"
   ]
  },
  {
   "cell_type": "code",
   "execution_count": 349,
   "metadata": {
    "colab": {},
    "colab_type": "code",
    "id": "pFWJol3Cma8H",
    "outputId": "cfad9103-ce10-4b99-ad69-19794bf19060"
   },
   "outputs": [
    {
     "name": "stdout",
     "output_type": "stream",
     "text": [
      "MAE: 3.338\n",
      "MSE:  18.125\n",
      "RMSE:  4.257\n",
      "R2:  0.682\n"
     ]
    }
   ],
   "source": [
    "df = bos_na20\n",
    "\n",
    "# impute nan values with mean\n",
    "df = df.apply(lambda x: x.fillna(x.mean()),axis=0)\n",
    "\n",
    "X_b = np.c_[np.ones((len(df[features]),1)), df[features].values] \n",
    "X_b.shape\n",
    "\n",
    "X = df.drop('PRICE', axis = 1)\n",
    "Y = df['PRICE']\n",
    "\n",
    "X_train, X_test, Y_train, Y_test = train_test_split(X_b, Y, test_size = 0.20, random_state = 123)\n",
    "\n",
    "reg = LinearRegression(normalize=True).fit(X_train, Y_train)\n",
    "\n",
    "Y_pred = reg.predict(X_test)\n",
    "\n",
    "mae = mean_absolute_error(Y_test,Y_pred)\n",
    "mse = mean_squared_error(Y_test,Y_pred)\n",
    "rmse_val = rmse(Y_test,Y_pred)\n",
    "r2 = r2_score(Y_test,Y_pred)\n",
    "print(\"MAE: %.3f\"%mae)\n",
    "print(\"MSE:  %.3f\"%mse)\n",
    "print(\"RMSE:  %.3f\"%rmse_val)\n",
    "print(\"R2:  %.3f\"%r2)"
   ]
  },
  {
   "cell_type": "code",
   "execution_count": null,
   "metadata": {
    "colab": {},
    "colab_type": "code",
    "id": "_Fq-vx-oma8I"
   },
   "outputs": [],
   "source": []
  },
  {
   "cell_type": "code",
   "execution_count": 350,
   "metadata": {
    "colab": {},
    "colab_type": "code",
    "id": "kZd9TGHSma8K"
   },
   "outputs": [],
   "source": [
    "temp_frame = pd.DataFrame({'data':'20% imputed',\n",
    "                   'imputation':'MCAR',\n",
    "                   'mae': mae, \n",
    "                   'mse': mse, \n",
    "                   'rmse':rmse_val,\n",
    "                   'R2':r2,\n",
    "                   'mae_diff':mae-orig_mae,\n",
    "                   'mse_diff':mse-orig_mse,\n",
    "                   'rmse_diff':rmse_val-orig_rmse_val,\n",
    "                   'R2_diff':r2-orig_r2\n",
    "                   }, index=[10])\n",
    "\n",
    "res_frame = pd.concat([res_frame, temp_frame])"
   ]
  },
  {
   "cell_type": "code",
   "execution_count": 351,
   "metadata": {
    "colab": {},
    "colab_type": "code",
    "id": "RP-V1beBma8L",
    "outputId": "c86cdd2d-d24a-4c39-d40a-a13d3e344f71"
   },
   "outputs": [
    {
     "name": "stdout",
     "output_type": "stream",
     "text": [
      "Null Values:  0\n"
     ]
    }
   ],
   "source": [
    "print(\"Null Values: \",df.isnull().values.ravel().sum())"
   ]
  },
  {
   "cell_type": "markdown",
   "metadata": {
    "colab_type": "text",
    "id": "8SPv2DkLma8N"
   },
   "source": [
    "### 33% Missing Data Completely Random"
   ]
  },
  {
   "cell_type": "code",
   "execution_count": 352,
   "metadata": {
    "colab": {},
    "colab_type": "code",
    "id": "7a2Hso2yma8O",
    "outputId": "fea9e8ab-d3a0-4b5a-ca3c-74c10d37e995"
   },
   "outputs": [
    {
     "name": "stdout",
     "output_type": "stream",
     "text": [
      "MAE: 3.744\n",
      "MSE:  22.958\n",
      "RMSE:  4.791\n",
      "R2:  0.735\n"
     ]
    }
   ],
   "source": [
    "df = bos_na33\n",
    "\n",
    "# impute nan values with mean\n",
    "df = df.apply(lambda x: x.fillna(x.mean()),axis=0)\n",
    "\n",
    "X_b = np.c_[np.ones((len(df[features]),1)), df[features].values] \n",
    "X_b.shape\n",
    "\n",
    "X = df.drop('PRICE', axis = 1)\n",
    "Y = df['PRICE']\n",
    "\n",
    "X_train, X_test, Y_train, Y_test = train_test_split(X_b, Y, test_size = 0.20, random_state = 123)\n",
    "\n",
    "reg = LinearRegression(normalize=True).fit(X_train, Y_train)\n",
    "\n",
    "Y_pred = reg.predict(X_test)\n",
    "\n",
    "mae = mean_absolute_error(Y_test,Y_pred)\n",
    "mse = mean_squared_error(Y_test,Y_pred)\n",
    "rmse_val = rmse(Y_test,Y_pred)\n",
    "r2 = r2_score(Y_test,Y_pred)\n",
    "print(\"MAE: %.3f\"%mae)\n",
    "print(\"MSE:  %.3f\"%mse)\n",
    "print(\"RMSE:  %.3f\"%rmse_val)\n",
    "print(\"R2:  %.3f\"%r2)"
   ]
  },
  {
   "cell_type": "code",
   "execution_count": null,
   "metadata": {
    "colab": {},
    "colab_type": "code",
    "id": "KWZb7ZZgma8P"
   },
   "outputs": [],
   "source": []
  },
  {
   "cell_type": "code",
   "execution_count": 353,
   "metadata": {
    "colab": {},
    "colab_type": "code",
    "id": "ZRxH_tLmma8Q"
   },
   "outputs": [],
   "source": [
    "temp_frame = pd.DataFrame({'data':'33% imputed',\n",
    "                   'imputation':'MCAR',\n",
    "                   'mae': mae, \n",
    "                   'mse': mse, \n",
    "                   'rmse':rmse_val,\n",
    "                   'R2':r2,\n",
    "                   'mae_diff':mae-orig_mae,\n",
    "                   'mse_diff':mse-orig_mse,\n",
    "                   'rmse_diff':rmse_val-orig_rmse_val,\n",
    "                   'R2_diff':r2-orig_r2\n",
    "                   }, index=[11])\n",
    "\n",
    "res_frame = pd.concat([res_frame, temp_frame])"
   ]
  },
  {
   "cell_type": "code",
   "execution_count": 354,
   "metadata": {
    "colab": {},
    "colab_type": "code",
    "id": "_XlIMEaYma8S",
    "outputId": "c5d76ed5-91d5-485b-a998-95478606df96"
   },
   "outputs": [
    {
     "name": "stdout",
     "output_type": "stream",
     "text": [
      "Null Values:  0\n"
     ]
    }
   ],
   "source": [
    "print(\"Null Values: \",df.isnull().values.ravel().sum())"
   ]
  },
  {
   "cell_type": "markdown",
   "metadata": {
    "colab_type": "text",
    "id": "z8dRBt-_ma8U"
   },
   "source": [
    "### 50% Missing Data Completely Random"
   ]
  },
  {
   "cell_type": "code",
   "execution_count": 355,
   "metadata": {
    "colab": {},
    "colab_type": "code",
    "id": "EEerUYoIma8U",
    "outputId": "e664563d-6169-4ec1-b597-0b3b5be0d987"
   },
   "outputs": [
    {
     "name": "stdout",
     "output_type": "stream",
     "text": [
      "MAE: 3.923\n",
      "MSE:  30.818\n",
      "RMSE:  5.551\n",
      "R2:  0.606\n"
     ]
    }
   ],
   "source": [
    "df = bos_na50\n",
    "\n",
    "# impute nan values with mean\n",
    "df = df.apply(lambda x: x.fillna(x.mean()),axis=0)\n",
    "\n",
    "X_b = np.c_[np.ones((len(df[features]),1)), df[features].values] \n",
    "X_b.shape\n",
    "\n",
    "X = df.drop('PRICE', axis = 1)\n",
    "Y = df['PRICE']\n",
    "\n",
    "X_train, X_test, Y_train, Y_test = train_test_split(X_b, Y, test_size = 0.20, random_state = 123)\n",
    "\n",
    "reg = LinearRegression(normalize=True).fit(X_train, Y_train)\n",
    "\n",
    "Y_pred = reg.predict(X_test)\n",
    "\n",
    "mae = mean_absolute_error(Y_test,Y_pred)\n",
    "mse = mean_squared_error(Y_test,Y_pred)\n",
    "rmse_val = rmse(Y_test,Y_pred)\n",
    "r2 = r2_score(Y_test,Y_pred)\n",
    "print(\"MAE: %.3f\"%mae)\n",
    "print(\"MSE:  %.3f\"%mse)\n",
    "print(\"RMSE:  %.3f\"%rmse_val)\n",
    "print(\"R2:  %.3f\"%r2)"
   ]
  },
  {
   "cell_type": "code",
   "execution_count": null,
   "metadata": {
    "colab": {},
    "colab_type": "code",
    "id": "McsWTlqama8V"
   },
   "outputs": [],
   "source": []
  },
  {
   "cell_type": "code",
   "execution_count": 356,
   "metadata": {
    "colab": {},
    "colab_type": "code",
    "id": "NXP0BY2hma8X"
   },
   "outputs": [],
   "source": [
    "temp_frame = pd.DataFrame({'data':'50% imputed',\n",
    "                   'imputation':'MCAR',\n",
    "                   'mae': mae, \n",
    "                   'mse': mse, \n",
    "                   'rmse':rmse_val,\n",
    "                   'R2':r2,\n",
    "                   'mae_diff':mae-orig_mae,\n",
    "                   'mse_diff':mse-orig_mse,\n",
    "                   'rmse_diff':rmse_val-orig_rmse_val,\n",
    "                   'R2_diff':r2-orig_r2\n",
    "                   }, index=[12])\n",
    "\n",
    "res_frame = pd.concat([res_frame, temp_frame])"
   ]
  },
  {
   "cell_type": "code",
   "execution_count": 357,
   "metadata": {
    "colab": {},
    "colab_type": "code",
    "id": "5sqSHslnma8Y",
    "outputId": "d89e2097-abb6-4fec-9f5f-fff3a2322466"
   },
   "outputs": [
    {
     "name": "stdout",
     "output_type": "stream",
     "text": [
      "Null Values:  0\n"
     ]
    }
   ],
   "source": [
    "print(\"Null Values: \",df.isnull().values.ravel().sum())"
   ]
  },
  {
   "cell_type": "code",
   "execution_count": 358,
   "metadata": {
    "colab": {},
    "colab_type": "code",
    "id": "e2nspRPVma8Z",
    "outputId": "7f764e0b-a5bb-455c-efc6-fab2b9c2be23"
   },
   "outputs": [
    {
     "data": {
      "text/html": [
       "<div>\n",
       "<style scoped>\n",
       "    .dataframe tbody tr th:only-of-type {\n",
       "        vertical-align: middle;\n",
       "    }\n",
       "\n",
       "    .dataframe tbody tr th {\n",
       "        vertical-align: top;\n",
       "    }\n",
       "\n",
       "    .dataframe thead th {\n",
       "        text-align: right;\n",
       "    }\n",
       "</style>\n",
       "<table border=\"1\" class=\"dataframe\">\n",
       "  <thead>\n",
       "    <tr style=\"text-align: right;\">\n",
       "      <th></th>\n",
       "      <th>data</th>\n",
       "      <th>imputation</th>\n",
       "      <th>mae</th>\n",
       "      <th>mse</th>\n",
       "      <th>rmse</th>\n",
       "      <th>R2</th>\n",
       "      <th>mae_diff</th>\n",
       "      <th>mse_diff</th>\n",
       "      <th>rmse_diff</th>\n",
       "      <th>R2_diff</th>\n",
       "    </tr>\n",
       "  </thead>\n",
       "  <tbody>\n",
       "    <tr>\n",
       "      <td>0</td>\n",
       "      <td>original</td>\n",
       "      <td>none</td>\n",
       "      <td>3.660153</td>\n",
       "      <td>28.192486</td>\n",
       "      <td>5.309660</td>\n",
       "      <td>0.659247</td>\n",
       "      <td>NaN</td>\n",
       "      <td>NaN</td>\n",
       "      <td>NaN</td>\n",
       "      <td>NaN</td>\n",
       "    </tr>\n",
       "    <tr>\n",
       "      <td>1</td>\n",
       "      <td>1% deletion</td>\n",
       "      <td>MCAR</td>\n",
       "      <td>3.380100</td>\n",
       "      <td>20.406120</td>\n",
       "      <td>4.517313</td>\n",
       "      <td>0.755851</td>\n",
       "      <td>-0.280052</td>\n",
       "      <td>-7.786365</td>\n",
       "      <td>-0.792346</td>\n",
       "      <td>0.096604</td>\n",
       "    </tr>\n",
       "    <tr>\n",
       "      <td>2</td>\n",
       "      <td>5% deletion</td>\n",
       "      <td>MCAR</td>\n",
       "      <td>3.190474</td>\n",
       "      <td>27.808308</td>\n",
       "      <td>5.273358</td>\n",
       "      <td>0.685634</td>\n",
       "      <td>-0.469679</td>\n",
       "      <td>-0.384178</td>\n",
       "      <td>-0.036301</td>\n",
       "      <td>0.026387</td>\n",
       "    </tr>\n",
       "    <tr>\n",
       "      <td>3</td>\n",
       "      <td>10% deletion</td>\n",
       "      <td>MCAR</td>\n",
       "      <td>3.227581</td>\n",
       "      <td>27.418913</td>\n",
       "      <td>5.236307</td>\n",
       "      <td>0.726436</td>\n",
       "      <td>-0.432572</td>\n",
       "      <td>-0.773573</td>\n",
       "      <td>-0.073352</td>\n",
       "      <td>0.067189</td>\n",
       "    </tr>\n",
       "    <tr>\n",
       "      <td>4</td>\n",
       "      <td>20% deletion</td>\n",
       "      <td>MCAR</td>\n",
       "      <td>3.112742</td>\n",
       "      <td>19.153151</td>\n",
       "      <td>4.376431</td>\n",
       "      <td>0.794744</td>\n",
       "      <td>-0.547410</td>\n",
       "      <td>-9.039335</td>\n",
       "      <td>-0.933228</td>\n",
       "      <td>0.135498</td>\n",
       "    </tr>\n",
       "    <tr>\n",
       "      <td>5</td>\n",
       "      <td>33% deletion</td>\n",
       "      <td>MAR</td>\n",
       "      <td>2.940917</td>\n",
       "      <td>15.563245</td>\n",
       "      <td>3.945028</td>\n",
       "      <td>0.813610</td>\n",
       "      <td>-0.719236</td>\n",
       "      <td>-12.629240</td>\n",
       "      <td>-1.364632</td>\n",
       "      <td>0.154363</td>\n",
       "    </tr>\n",
       "    <tr>\n",
       "      <td>6</td>\n",
       "      <td>50% deletion</td>\n",
       "      <td>MAR</td>\n",
       "      <td>3.607327</td>\n",
       "      <td>24.514905</td>\n",
       "      <td>4.951253</td>\n",
       "      <td>0.583272</td>\n",
       "      <td>-0.052825</td>\n",
       "      <td>-3.677581</td>\n",
       "      <td>-0.358407</td>\n",
       "      <td>-0.075975</td>\n",
       "    </tr>\n",
       "    <tr>\n",
       "      <td>7</td>\n",
       "      <td>1% imputed</td>\n",
       "      <td>MCAR</td>\n",
       "      <td>3.728962</td>\n",
       "      <td>30.146872</td>\n",
       "      <td>5.490617</td>\n",
       "      <td>0.706390</td>\n",
       "      <td>0.068810</td>\n",
       "      <td>1.954386</td>\n",
       "      <td>0.180957</td>\n",
       "      <td>0.047144</td>\n",
       "    </tr>\n",
       "    <tr>\n",
       "      <td>8</td>\n",
       "      <td>5% imputed</td>\n",
       "      <td>MCAR</td>\n",
       "      <td>3.353372</td>\n",
       "      <td>27.801646</td>\n",
       "      <td>5.272727</td>\n",
       "      <td>0.636389</td>\n",
       "      <td>-0.306781</td>\n",
       "      <td>-0.390840</td>\n",
       "      <td>-0.036933</td>\n",
       "      <td>-0.022858</td>\n",
       "    </tr>\n",
       "    <tr>\n",
       "      <td>9</td>\n",
       "      <td>10% imputed</td>\n",
       "      <td>MCAR</td>\n",
       "      <td>3.874012</td>\n",
       "      <td>31.167590</td>\n",
       "      <td>5.582794</td>\n",
       "      <td>0.696815</td>\n",
       "      <td>0.213859</td>\n",
       "      <td>2.975104</td>\n",
       "      <td>0.273134</td>\n",
       "      <td>0.037568</td>\n",
       "    </tr>\n",
       "    <tr>\n",
       "      <td>10</td>\n",
       "      <td>20% imputed</td>\n",
       "      <td>MCAR</td>\n",
       "      <td>3.337885</td>\n",
       "      <td>18.125006</td>\n",
       "      <td>4.257347</td>\n",
       "      <td>0.681980</td>\n",
       "      <td>-0.322267</td>\n",
       "      <td>-10.067480</td>\n",
       "      <td>-1.052312</td>\n",
       "      <td>0.022733</td>\n",
       "    </tr>\n",
       "    <tr>\n",
       "      <td>11</td>\n",
       "      <td>33% imputed</td>\n",
       "      <td>MCAR</td>\n",
       "      <td>3.743807</td>\n",
       "      <td>22.958105</td>\n",
       "      <td>4.791462</td>\n",
       "      <td>0.734632</td>\n",
       "      <td>0.083654</td>\n",
       "      <td>-5.234381</td>\n",
       "      <td>-0.518198</td>\n",
       "      <td>0.075385</td>\n",
       "    </tr>\n",
       "    <tr>\n",
       "      <td>12</td>\n",
       "      <td>50% imputed</td>\n",
       "      <td>MCAR</td>\n",
       "      <td>3.923074</td>\n",
       "      <td>30.818409</td>\n",
       "      <td>5.551433</td>\n",
       "      <td>0.605623</td>\n",
       "      <td>0.262921</td>\n",
       "      <td>2.625924</td>\n",
       "      <td>0.241773</td>\n",
       "      <td>-0.053624</td>\n",
       "    </tr>\n",
       "  </tbody>\n",
       "</table>\n",
       "</div>"
      ],
      "text/plain": [
       "            data imputation       mae        mse      rmse        R2  \\\n",
       "0       original       none  3.660153  28.192486  5.309660  0.659247   \n",
       "1    1% deletion       MCAR  3.380100  20.406120  4.517313  0.755851   \n",
       "2    5% deletion       MCAR  3.190474  27.808308  5.273358  0.685634   \n",
       "3   10% deletion       MCAR  3.227581  27.418913  5.236307  0.726436   \n",
       "4   20% deletion       MCAR  3.112742  19.153151  4.376431  0.794744   \n",
       "5   33% deletion        MAR  2.940917  15.563245  3.945028  0.813610   \n",
       "6   50% deletion        MAR  3.607327  24.514905  4.951253  0.583272   \n",
       "7     1% imputed       MCAR  3.728962  30.146872  5.490617  0.706390   \n",
       "8     5% imputed       MCAR  3.353372  27.801646  5.272727  0.636389   \n",
       "9    10% imputed       MCAR  3.874012  31.167590  5.582794  0.696815   \n",
       "10   20% imputed       MCAR  3.337885  18.125006  4.257347  0.681980   \n",
       "11   33% imputed       MCAR  3.743807  22.958105  4.791462  0.734632   \n",
       "12   50% imputed       MCAR  3.923074  30.818409  5.551433  0.605623   \n",
       "\n",
       "    mae_diff   mse_diff  rmse_diff   R2_diff  \n",
       "0        NaN        NaN        NaN       NaN  \n",
       "1  -0.280052  -7.786365  -0.792346  0.096604  \n",
       "2  -0.469679  -0.384178  -0.036301  0.026387  \n",
       "3  -0.432572  -0.773573  -0.073352  0.067189  \n",
       "4  -0.547410  -9.039335  -0.933228  0.135498  \n",
       "5  -0.719236 -12.629240  -1.364632  0.154363  \n",
       "6  -0.052825  -3.677581  -0.358407 -0.075975  \n",
       "7   0.068810   1.954386   0.180957  0.047144  \n",
       "8  -0.306781  -0.390840  -0.036933 -0.022858  \n",
       "9   0.213859   2.975104   0.273134  0.037568  \n",
       "10 -0.322267 -10.067480  -1.052312  0.022733  \n",
       "11  0.083654  -5.234381  -0.518198  0.075385  \n",
       "12  0.262921   2.625924   0.241773 -0.053624  "
      ]
     },
     "execution_count": 358,
     "metadata": {},
     "output_type": "execute_result"
    }
   ],
   "source": [
    "res_frame"
   ]
  },
  {
   "cell_type": "code",
   "execution_count": null,
   "metadata": {
    "colab": {},
    "colab_type": "code",
    "id": "UHb3so60ma8f"
   },
   "outputs": [],
   "source": []
  },
  {
   "cell_type": "code",
   "execution_count": null,
   "metadata": {
    "colab": {},
    "colab_type": "code",
    "id": "ZYxFpz_2ma8g"
   },
   "outputs": [],
   "source": []
  },
  {
   "cell_type": "code",
   "execution_count": null,
   "metadata": {
    "colab": {},
    "colab_type": "code",
    "id": "2B6bn7_Qma8h"
   },
   "outputs": [],
   "source": []
  },
  {
   "cell_type": "code",
   "execution_count": null,
   "metadata": {
    "colab": {},
    "colab_type": "code",
    "id": "REquZPssma8j"
   },
   "outputs": [],
   "source": []
  },
  {
   "cell_type": "markdown",
   "metadata": {
    "colab_type": "text",
    "id": "GVc4lu4fma8k"
   },
   "source": [
    "# Missing at Random (MAR)"
   ]
  },
  {
   "cell_type": "code",
   "execution_count": 361,
   "metadata": {
    "colab": {},
    "colab_type": "code",
    "id": "wBMPEZQ8ma8k"
   },
   "outputs": [],
   "source": [
    "bos = bos_df"
   ]
  },
  {
   "cell_type": "markdown",
   "metadata": {},
   "source": [
    "Lets say that the records are spotty for Crime and Nitrous Oxide Concentaration for neighborhoods with older houses. So for instances with houses with a proportion of homes built before 1940 at over 77, we will randomly be missing data for the CRIM and NOX variables. "
   ]
  },
  {
   "cell_type": "code",
   "execution_count": 367,
   "metadata": {},
   "outputs": [
    {
     "name": "stdout",
     "output_type": "stream",
     "text": [
      "405\n",
      "101\n"
     ]
    }
   ],
   "source": [
    "# Create training and testing sets (cross-validation not needed)\n",
    "train_set = bos.sample(frac=0.8, random_state=100)\n",
    "test_set = bos[~bos.isin(train_set)].dropna()\n",
    "print(train_set.shape[0])\n",
    "print(test_set.shape[0])"
   ]
  },
  {
   "cell_type": "code",
   "execution_count": 368,
   "metadata": {},
   "outputs": [
    {
     "data": {
      "text/plain": [
       "count    506.000000\n",
       "mean      68.574901\n",
       "std       28.148861\n",
       "min        2.900000\n",
       "25%       45.025000\n",
       "50%       77.500000\n",
       "75%       94.075000\n",
       "max      100.000000\n",
       "Name: AGE, dtype: float64"
      ]
     },
     "execution_count": 368,
     "metadata": {},
     "output_type": "execute_result"
    }
   ],
   "source": [
    "bos['AGE'].describe()    "
   ]
  },
  {
   "cell_type": "code",
   "execution_count": 369,
   "metadata": {},
   "outputs": [],
   "source": [
    "def imputeValuesQ3(imputePercent):\n",
    "    if 77 > bos['AGE'].all():   #this sets the conditional.  Note the use of \"series.all()\".  Need to apply that for order of ops in numpy.\n",
    "        in_sample = bos.sample(frac=imputePercent, random_state=99)\n",
    "        in_sample.shape\n",
    "        out_sample = bos[~bos.isin(in_sample)].dropna()\n",
    "        out_sample.shape\n",
    "        print(out_sample.shape[0] + in_sample.shape[0])\n",
    "        print(bos.shape[0])\n",
    "        in_sample.head()\n",
    "        in_sample['RM'] = np.nan\n",
    "        in_sample['NOX'] = np.nan  #this is the second selected variable for application of the random application of NaN\n",
    "        in_sample.head()\n",
    "        out_sample['RM'].median()\n",
    "        out_sample['NOX'].median()\n",
    "        in_sample['RM'] = in_sample['RM'].fillna(out_sample['RM'].median())\n",
    "        in_sample['NOX'] = in_sample['NOX'].fillna(out_sample['NOX'].median())\n",
    "        in_sample.head()\n",
    "        imputed_data = pd.concat([in_sample, out_sample])\n",
    "        imputed_data = imputed_data.sort_index()\n",
    "        imputed_data.head()\n",
    "        train_set = imputed_data.iloc[train_index]\n",
    "        test_set = imputed_data.iloc[test_index]\n",
    "        train_set.head()\n",
    "        X_train = train_set.iloc[:, :-1].values\n",
    "        Y_train = train_set.iloc[:, -1].values\n",
    "        X_test = test_set.iloc[:, :-1].values\n",
    "        Y_test = test_set.iloc[:, -1].values\n",
    "        reg2 = LinearRegression().fit(X_train, Y_train)\n",
    "        print(reg2.score(X_train, Y_train))\n",
    "        print(reg2.coef_)\n",
    "        print(reg2.intercept_)\n",
    "        print(reg2.get_params())\n",
    "        Y_pred = reg2.predict(X_test)\n",
    "        \n",
    "        mae = mean_absolute_error(Y_test,Y_pred)\n",
    "        mse = mean_squared_error(Y_test,Y_pred)\n",
    "        rmse_val = sqrt(mean_squared_error(Y_test,Y_pred))\n",
    "        r2 = r2_score(Y_test,Y_pred)\n",
    "        print(\"MAE: %.3f\"%mae)\n",
    "        print(\"MSE:  %.3f\"%mse)\n",
    "        print(\"RMSE:  %.3f\"%rmse_val)\n",
    "        print(\"R2:  %.3f\"%r2)\n",
    "    \n",
    "        temp_data_frame = pd.DataFrame({'data': str(imputePercent*100) + '% imputed',\n",
    "                   'imputation':'MAR',\n",
    "                   'mae': mae, \n",
    "                   'mse': mse, \n",
    "                   'rmse':rmse_val,\n",
    "                   'R2':r2,\n",
    "                   'mae_diff':mae-orig_mae,\n",
    "                   'mse_diff':mse-orig_mse,\n",
    "                   'rmse_diff':rmse_val-orig_rmse_val,\n",
    "                   'R2_diff':r2-orig_r2\n",
    "                   }, index=[0])\n",
    "    \n",
    "        print(temp_data_frame)\n",
    "        return temp_data_frame\n",
    "    \n",
    "    else:\n",
    "        pass    #this sets the false to, effectively, \"do nothing\""
   ]
  },
  {
   "cell_type": "code",
   "execution_count": null,
   "metadata": {},
   "outputs": [],
   "source": []
  },
  {
   "cell_type": "code",
   "execution_count": 370,
   "metadata": {},
   "outputs": [],
   "source": [
    "train_index = train_set.index.values.astype(int)\n",
    "test_index = test_set.index.values.astype(int)"
   ]
  },
  {
   "cell_type": "code",
   "execution_count": 373,
   "metadata": {},
   "outputs": [
    {
     "name": "stdout",
     "output_type": "stream",
     "text": [
      "506\n",
      "506\n",
      "0.7362241343228925\n",
      "[-1.25531399e-01  5.37413608e-02  2.55089870e-02  2.75357772e+00\n",
      " -9.01238464e+00  4.53597264e+00 -1.44355806e-02 -1.38117018e+00\n",
      "  2.57596781e-01 -1.14635129e-02 -7.67448857e-01  5.92785045e-03\n",
      " -5.83389669e-01]\n",
      "26.166891215384958\n",
      "{'copy_X': True, 'fit_intercept': True, 'n_jobs': None, 'normalize': False}\n",
      "MAE: 3.913\n",
      "MSE:  28.451\n",
      "RMSE:  5.334\n",
      "R2:  0.672\n",
      "            data imputation       mae        mse      rmse        R2  \\\n",
      "0  10.0% imputed        MAR  3.913479  28.450974  5.333945  0.672372   \n",
      "\n",
      "   mae_diff  mse_diff  rmse_diff   R2_diff  \n",
      "0  0.253326  0.258488   0.024286  0.013126  \n",
      "506\n",
      "506\n",
      "0.7196686654725415\n",
      "[-1.26388592e-01  6.03985697e-02 -1.20270208e-02  2.53678195e+00\n",
      " -6.25322709e+00  4.04083990e+00 -5.68844957e-03 -1.38042705e+00\n",
      "  2.73860593e-01 -1.20619853e-02 -7.64618178e-01  6.03832216e-03\n",
      " -6.61242320e-01]\n",
      "28.560005935606238\n",
      "{'copy_X': True, 'fit_intercept': True, 'n_jobs': None, 'normalize': False}\n",
      "MAE: 3.745\n",
      "MSE:  25.538\n",
      "RMSE:  5.053\n",
      "R2:  0.706\n",
      "            data imputation       mae        mse      rmse        R2  \\\n",
      "0  20.0% imputed        MAR  3.745425  25.537781  5.053492  0.705919   \n",
      "\n",
      "   mae_diff  mse_diff  rmse_diff   R2_diff  \n",
      "0  0.085272 -2.654705  -0.256168  0.046673  \n",
      "506\n",
      "506\n",
      "0.7074700029074372\n",
      "[-0.13221483  0.06473154 -0.04716688  2.60342339 -1.73695762  3.66937979\n",
      " -0.00542396 -1.33945432  0.28628521 -0.01274829 -0.72370292  0.00627311\n",
      " -0.69826788]\n",
      "28.45151663215532\n",
      "{'copy_X': True, 'fit_intercept': True, 'n_jobs': None, 'normalize': False}\n",
      "MAE: 3.798\n",
      "MSE:  24.838\n",
      "RMSE:  4.984\n",
      "R2:  0.714\n",
      "            data imputation       mae        mse      rmse        R2  \\\n",
      "0  30.0% imputed        MAR  3.798269  24.838299  4.983804  0.713974   \n",
      "\n",
      "   mae_diff  mse_diff  rmse_diff   R2_diff  \n",
      "0  0.138116 -3.354187  -0.325856  0.054727  \n"
     ]
    }
   ],
   "source": [
    "\n",
    "tenPercentImputeq3 = imputeValuesQ3(.10)\n",
    "twentyPercentImputeq3 = imputeValuesQ3(.20)\n",
    "thirtyPercentImputeq3 = imputeValuesQ3(.30)"
   ]
  },
  {
   "cell_type": "code",
   "execution_count": 374,
   "metadata": {},
   "outputs": [
    {
     "data": {
      "text/html": [
       "<div>\n",
       "<style scoped>\n",
       "    .dataframe tbody tr th:only-of-type {\n",
       "        vertical-align: middle;\n",
       "    }\n",
       "\n",
       "    .dataframe tbody tr th {\n",
       "        vertical-align: top;\n",
       "    }\n",
       "\n",
       "    .dataframe thead th {\n",
       "        text-align: right;\n",
       "    }\n",
       "</style>\n",
       "<table border=\"1\" class=\"dataframe\">\n",
       "  <thead>\n",
       "    <tr style=\"text-align: right;\">\n",
       "      <th></th>\n",
       "      <th>data</th>\n",
       "      <th>imputation</th>\n",
       "      <th>mae</th>\n",
       "      <th>mse</th>\n",
       "      <th>rmse</th>\n",
       "      <th>R2</th>\n",
       "      <th>mae_diff</th>\n",
       "      <th>mse_diff</th>\n",
       "      <th>rmse_diff</th>\n",
       "      <th>R2_diff</th>\n",
       "    </tr>\n",
       "  </thead>\n",
       "  <tbody>\n",
       "    <tr>\n",
       "      <td>0</td>\n",
       "      <td>original</td>\n",
       "      <td>none</td>\n",
       "      <td>3.660153</td>\n",
       "      <td>28.192486</td>\n",
       "      <td>5.309660</td>\n",
       "      <td>0.659247</td>\n",
       "      <td>NaN</td>\n",
       "      <td>NaN</td>\n",
       "      <td>NaN</td>\n",
       "      <td>NaN</td>\n",
       "    </tr>\n",
       "    <tr>\n",
       "      <td>1</td>\n",
       "      <td>1% deletion</td>\n",
       "      <td>MCAR</td>\n",
       "      <td>3.380100</td>\n",
       "      <td>20.406120</td>\n",
       "      <td>4.517313</td>\n",
       "      <td>0.755851</td>\n",
       "      <td>-0.280052</td>\n",
       "      <td>-7.786365</td>\n",
       "      <td>-0.792346</td>\n",
       "      <td>0.096604</td>\n",
       "    </tr>\n",
       "    <tr>\n",
       "      <td>2</td>\n",
       "      <td>5% deletion</td>\n",
       "      <td>MCAR</td>\n",
       "      <td>3.190474</td>\n",
       "      <td>27.808308</td>\n",
       "      <td>5.273358</td>\n",
       "      <td>0.685634</td>\n",
       "      <td>-0.469679</td>\n",
       "      <td>-0.384178</td>\n",
       "      <td>-0.036301</td>\n",
       "      <td>0.026387</td>\n",
       "    </tr>\n",
       "    <tr>\n",
       "      <td>3</td>\n",
       "      <td>10% deletion</td>\n",
       "      <td>MCAR</td>\n",
       "      <td>3.227581</td>\n",
       "      <td>27.418913</td>\n",
       "      <td>5.236307</td>\n",
       "      <td>0.726436</td>\n",
       "      <td>-0.432572</td>\n",
       "      <td>-0.773573</td>\n",
       "      <td>-0.073352</td>\n",
       "      <td>0.067189</td>\n",
       "    </tr>\n",
       "    <tr>\n",
       "      <td>4</td>\n",
       "      <td>20% deletion</td>\n",
       "      <td>MCAR</td>\n",
       "      <td>3.112742</td>\n",
       "      <td>19.153151</td>\n",
       "      <td>4.376431</td>\n",
       "      <td>0.794744</td>\n",
       "      <td>-0.547410</td>\n",
       "      <td>-9.039335</td>\n",
       "      <td>-0.933228</td>\n",
       "      <td>0.135498</td>\n",
       "    </tr>\n",
       "    <tr>\n",
       "      <td>5</td>\n",
       "      <td>33% deletion</td>\n",
       "      <td>MAR</td>\n",
       "      <td>2.940917</td>\n",
       "      <td>15.563245</td>\n",
       "      <td>3.945028</td>\n",
       "      <td>0.813610</td>\n",
       "      <td>-0.719236</td>\n",
       "      <td>-12.629240</td>\n",
       "      <td>-1.364632</td>\n",
       "      <td>0.154363</td>\n",
       "    </tr>\n",
       "    <tr>\n",
       "      <td>6</td>\n",
       "      <td>50% deletion</td>\n",
       "      <td>MAR</td>\n",
       "      <td>3.607327</td>\n",
       "      <td>24.514905</td>\n",
       "      <td>4.951253</td>\n",
       "      <td>0.583272</td>\n",
       "      <td>-0.052825</td>\n",
       "      <td>-3.677581</td>\n",
       "      <td>-0.358407</td>\n",
       "      <td>-0.075975</td>\n",
       "    </tr>\n",
       "    <tr>\n",
       "      <td>7</td>\n",
       "      <td>1% imputed</td>\n",
       "      <td>MCAR</td>\n",
       "      <td>3.728962</td>\n",
       "      <td>30.146872</td>\n",
       "      <td>5.490617</td>\n",
       "      <td>0.706390</td>\n",
       "      <td>0.068810</td>\n",
       "      <td>1.954386</td>\n",
       "      <td>0.180957</td>\n",
       "      <td>0.047144</td>\n",
       "    </tr>\n",
       "    <tr>\n",
       "      <td>8</td>\n",
       "      <td>5% imputed</td>\n",
       "      <td>MCAR</td>\n",
       "      <td>3.353372</td>\n",
       "      <td>27.801646</td>\n",
       "      <td>5.272727</td>\n",
       "      <td>0.636389</td>\n",
       "      <td>-0.306781</td>\n",
       "      <td>-0.390840</td>\n",
       "      <td>-0.036933</td>\n",
       "      <td>-0.022858</td>\n",
       "    </tr>\n",
       "    <tr>\n",
       "      <td>9</td>\n",
       "      <td>10% imputed</td>\n",
       "      <td>MCAR</td>\n",
       "      <td>3.874012</td>\n",
       "      <td>31.167590</td>\n",
       "      <td>5.582794</td>\n",
       "      <td>0.696815</td>\n",
       "      <td>0.213859</td>\n",
       "      <td>2.975104</td>\n",
       "      <td>0.273134</td>\n",
       "      <td>0.037568</td>\n",
       "    </tr>\n",
       "    <tr>\n",
       "      <td>10</td>\n",
       "      <td>20% imputed</td>\n",
       "      <td>MCAR</td>\n",
       "      <td>3.337885</td>\n",
       "      <td>18.125006</td>\n",
       "      <td>4.257347</td>\n",
       "      <td>0.681980</td>\n",
       "      <td>-0.322267</td>\n",
       "      <td>-10.067480</td>\n",
       "      <td>-1.052312</td>\n",
       "      <td>0.022733</td>\n",
       "    </tr>\n",
       "    <tr>\n",
       "      <td>11</td>\n",
       "      <td>33% imputed</td>\n",
       "      <td>MCAR</td>\n",
       "      <td>3.743807</td>\n",
       "      <td>22.958105</td>\n",
       "      <td>4.791462</td>\n",
       "      <td>0.734632</td>\n",
       "      <td>0.083654</td>\n",
       "      <td>-5.234381</td>\n",
       "      <td>-0.518198</td>\n",
       "      <td>0.075385</td>\n",
       "    </tr>\n",
       "    <tr>\n",
       "      <td>12</td>\n",
       "      <td>50% imputed</td>\n",
       "      <td>MCAR</td>\n",
       "      <td>3.923074</td>\n",
       "      <td>30.818409</td>\n",
       "      <td>5.551433</td>\n",
       "      <td>0.605623</td>\n",
       "      <td>0.262921</td>\n",
       "      <td>2.625924</td>\n",
       "      <td>0.241773</td>\n",
       "      <td>-0.053624</td>\n",
       "    </tr>\n",
       "    <tr>\n",
       "      <td>0</td>\n",
       "      <td>10.0% imputed</td>\n",
       "      <td>MAR</td>\n",
       "      <td>3.913479</td>\n",
       "      <td>28.450974</td>\n",
       "      <td>5.333945</td>\n",
       "      <td>0.672372</td>\n",
       "      <td>0.253326</td>\n",
       "      <td>0.258488</td>\n",
       "      <td>0.024286</td>\n",
       "      <td>0.013126</td>\n",
       "    </tr>\n",
       "    <tr>\n",
       "      <td>0</td>\n",
       "      <td>20.0% imputed</td>\n",
       "      <td>MAR</td>\n",
       "      <td>3.745425</td>\n",
       "      <td>25.537781</td>\n",
       "      <td>5.053492</td>\n",
       "      <td>0.705919</td>\n",
       "      <td>0.085272</td>\n",
       "      <td>-2.654705</td>\n",
       "      <td>-0.256168</td>\n",
       "      <td>0.046673</td>\n",
       "    </tr>\n",
       "    <tr>\n",
       "      <td>0</td>\n",
       "      <td>30.0% imputed</td>\n",
       "      <td>MAR</td>\n",
       "      <td>3.798269</td>\n",
       "      <td>24.838299</td>\n",
       "      <td>4.983804</td>\n",
       "      <td>0.713974</td>\n",
       "      <td>0.138116</td>\n",
       "      <td>-3.354187</td>\n",
       "      <td>-0.325856</td>\n",
       "      <td>0.054727</td>\n",
       "    </tr>\n",
       "  </tbody>\n",
       "</table>\n",
       "</div>"
      ],
      "text/plain": [
       "             data imputation       mae        mse      rmse        R2  \\\n",
       "0        original       none  3.660153  28.192486  5.309660  0.659247   \n",
       "1     1% deletion       MCAR  3.380100  20.406120  4.517313  0.755851   \n",
       "2     5% deletion       MCAR  3.190474  27.808308  5.273358  0.685634   \n",
       "3    10% deletion       MCAR  3.227581  27.418913  5.236307  0.726436   \n",
       "4    20% deletion       MCAR  3.112742  19.153151  4.376431  0.794744   \n",
       "5    33% deletion        MAR  2.940917  15.563245  3.945028  0.813610   \n",
       "6    50% deletion        MAR  3.607327  24.514905  4.951253  0.583272   \n",
       "7      1% imputed       MCAR  3.728962  30.146872  5.490617  0.706390   \n",
       "8      5% imputed       MCAR  3.353372  27.801646  5.272727  0.636389   \n",
       "9     10% imputed       MCAR  3.874012  31.167590  5.582794  0.696815   \n",
       "10    20% imputed       MCAR  3.337885  18.125006  4.257347  0.681980   \n",
       "11    33% imputed       MCAR  3.743807  22.958105  4.791462  0.734632   \n",
       "12    50% imputed       MCAR  3.923074  30.818409  5.551433  0.605623   \n",
       "0   10.0% imputed        MAR  3.913479  28.450974  5.333945  0.672372   \n",
       "0   20.0% imputed        MAR  3.745425  25.537781  5.053492  0.705919   \n",
       "0   30.0% imputed        MAR  3.798269  24.838299  4.983804  0.713974   \n",
       "\n",
       "    mae_diff   mse_diff  rmse_diff   R2_diff  \n",
       "0        NaN        NaN        NaN       NaN  \n",
       "1  -0.280052  -7.786365  -0.792346  0.096604  \n",
       "2  -0.469679  -0.384178  -0.036301  0.026387  \n",
       "3  -0.432572  -0.773573  -0.073352  0.067189  \n",
       "4  -0.547410  -9.039335  -0.933228  0.135498  \n",
       "5  -0.719236 -12.629240  -1.364632  0.154363  \n",
       "6  -0.052825  -3.677581  -0.358407 -0.075975  \n",
       "7   0.068810   1.954386   0.180957  0.047144  \n",
       "8  -0.306781  -0.390840  -0.036933 -0.022858  \n",
       "9   0.213859   2.975104   0.273134  0.037568  \n",
       "10 -0.322267 -10.067480  -1.052312  0.022733  \n",
       "11  0.083654  -5.234381  -0.518198  0.075385  \n",
       "12  0.262921   2.625924   0.241773 -0.053624  \n",
       "0   0.253326   0.258488   0.024286  0.013126  \n",
       "0   0.085272  -2.654705  -0.256168  0.046673  \n",
       "0   0.138116  -3.354187  -0.325856  0.054727  "
      ]
     },
     "execution_count": 374,
     "metadata": {},
     "output_type": "execute_result"
    }
   ],
   "source": [
    "\n",
    "res_frameq3 = pd.concat([res_frame,tenPercentImputeq3, twentyPercentImputeq3, thirtyPercentImputeq3])\n",
    "res_frameq3"
   ]
  },
  {
   "cell_type": "code",
   "execution_count": 375,
   "metadata": {},
   "outputs": [
    {
     "data": {
      "text/html": [
       "<div>\n",
       "<style scoped>\n",
       "    .dataframe tbody tr th:only-of-type {\n",
       "        vertical-align: middle;\n",
       "    }\n",
       "\n",
       "    .dataframe tbody tr th {\n",
       "        vertical-align: top;\n",
       "    }\n",
       "\n",
       "    .dataframe thead th {\n",
       "        text-align: right;\n",
       "    }\n",
       "</style>\n",
       "<table border=\"1\" class=\"dataframe\">\n",
       "  <thead>\n",
       "    <tr style=\"text-align: right;\">\n",
       "      <th></th>\n",
       "      <th>CRIM</th>\n",
       "      <th>ZN</th>\n",
       "      <th>INDUS</th>\n",
       "      <th>CHAS</th>\n",
       "      <th>NOX</th>\n",
       "      <th>RM</th>\n",
       "      <th>AGE</th>\n",
       "      <th>DIS</th>\n",
       "      <th>RAD</th>\n",
       "      <th>TAX</th>\n",
       "      <th>PTRATIO</th>\n",
       "      <th>B</th>\n",
       "      <th>LSTAT</th>\n",
       "      <th>PRICE</th>\n",
       "    </tr>\n",
       "  </thead>\n",
       "  <tbody>\n",
       "    <tr>\n",
       "      <td>CRIM</td>\n",
       "      <td>1.000000</td>\n",
       "      <td>-0.200469</td>\n",
       "      <td>0.406583</td>\n",
       "      <td>-0.055892</td>\n",
       "      <td>0.420972</td>\n",
       "      <td>-0.219247</td>\n",
       "      <td>0.352734</td>\n",
       "      <td>-0.379670</td>\n",
       "      <td>0.625505</td>\n",
       "      <td>0.582764</td>\n",
       "      <td>0.289946</td>\n",
       "      <td>-0.385064</td>\n",
       "      <td>0.455621</td>\n",
       "      <td>-0.388305</td>\n",
       "    </tr>\n",
       "    <tr>\n",
       "      <td>ZN</td>\n",
       "      <td>-0.200469</td>\n",
       "      <td>1.000000</td>\n",
       "      <td>-0.533828</td>\n",
       "      <td>-0.042697</td>\n",
       "      <td>-0.516604</td>\n",
       "      <td>0.311991</td>\n",
       "      <td>-0.569537</td>\n",
       "      <td>0.664408</td>\n",
       "      <td>-0.311948</td>\n",
       "      <td>-0.314563</td>\n",
       "      <td>-0.391679</td>\n",
       "      <td>0.175520</td>\n",
       "      <td>-0.412995</td>\n",
       "      <td>0.360445</td>\n",
       "    </tr>\n",
       "    <tr>\n",
       "      <td>INDUS</td>\n",
       "      <td>0.406583</td>\n",
       "      <td>-0.533828</td>\n",
       "      <td>1.000000</td>\n",
       "      <td>0.062938</td>\n",
       "      <td>0.763651</td>\n",
       "      <td>-0.391676</td>\n",
       "      <td>0.644779</td>\n",
       "      <td>-0.708027</td>\n",
       "      <td>0.595129</td>\n",
       "      <td>0.720760</td>\n",
       "      <td>0.383248</td>\n",
       "      <td>-0.356977</td>\n",
       "      <td>0.603800</td>\n",
       "      <td>-0.483725</td>\n",
       "    </tr>\n",
       "    <tr>\n",
       "      <td>CHAS</td>\n",
       "      <td>-0.055892</td>\n",
       "      <td>-0.042697</td>\n",
       "      <td>0.062938</td>\n",
       "      <td>1.000000</td>\n",
       "      <td>0.091203</td>\n",
       "      <td>0.091251</td>\n",
       "      <td>0.086518</td>\n",
       "      <td>-0.099176</td>\n",
       "      <td>-0.007368</td>\n",
       "      <td>-0.035587</td>\n",
       "      <td>-0.121515</td>\n",
       "      <td>0.048788</td>\n",
       "      <td>-0.053929</td>\n",
       "      <td>0.175260</td>\n",
       "    </tr>\n",
       "    <tr>\n",
       "      <td>NOX</td>\n",
       "      <td>0.420972</td>\n",
       "      <td>-0.516604</td>\n",
       "      <td>0.763651</td>\n",
       "      <td>0.091203</td>\n",
       "      <td>1.000000</td>\n",
       "      <td>-0.302188</td>\n",
       "      <td>0.731470</td>\n",
       "      <td>-0.769230</td>\n",
       "      <td>0.611441</td>\n",
       "      <td>0.668023</td>\n",
       "      <td>0.188933</td>\n",
       "      <td>-0.380051</td>\n",
       "      <td>0.590879</td>\n",
       "      <td>-0.427321</td>\n",
       "    </tr>\n",
       "    <tr>\n",
       "      <td>RM</td>\n",
       "      <td>-0.219247</td>\n",
       "      <td>0.311991</td>\n",
       "      <td>-0.391676</td>\n",
       "      <td>0.091251</td>\n",
       "      <td>-0.302188</td>\n",
       "      <td>1.000000</td>\n",
       "      <td>-0.240265</td>\n",
       "      <td>0.205246</td>\n",
       "      <td>-0.209847</td>\n",
       "      <td>-0.292048</td>\n",
       "      <td>-0.355501</td>\n",
       "      <td>0.128069</td>\n",
       "      <td>-0.613808</td>\n",
       "      <td>0.695360</td>\n",
       "    </tr>\n",
       "    <tr>\n",
       "      <td>AGE</td>\n",
       "      <td>0.352734</td>\n",
       "      <td>-0.569537</td>\n",
       "      <td>0.644779</td>\n",
       "      <td>0.086518</td>\n",
       "      <td>0.731470</td>\n",
       "      <td>-0.240265</td>\n",
       "      <td>1.000000</td>\n",
       "      <td>-0.747881</td>\n",
       "      <td>0.456022</td>\n",
       "      <td>0.506456</td>\n",
       "      <td>0.261515</td>\n",
       "      <td>-0.273534</td>\n",
       "      <td>0.602339</td>\n",
       "      <td>-0.376955</td>\n",
       "    </tr>\n",
       "    <tr>\n",
       "      <td>DIS</td>\n",
       "      <td>-0.379670</td>\n",
       "      <td>0.664408</td>\n",
       "      <td>-0.708027</td>\n",
       "      <td>-0.099176</td>\n",
       "      <td>-0.769230</td>\n",
       "      <td>0.205246</td>\n",
       "      <td>-0.747881</td>\n",
       "      <td>1.000000</td>\n",
       "      <td>-0.494588</td>\n",
       "      <td>-0.534432</td>\n",
       "      <td>-0.232471</td>\n",
       "      <td>0.291512</td>\n",
       "      <td>-0.496996</td>\n",
       "      <td>0.249929</td>\n",
       "    </tr>\n",
       "    <tr>\n",
       "      <td>RAD</td>\n",
       "      <td>0.625505</td>\n",
       "      <td>-0.311948</td>\n",
       "      <td>0.595129</td>\n",
       "      <td>-0.007368</td>\n",
       "      <td>0.611441</td>\n",
       "      <td>-0.209847</td>\n",
       "      <td>0.456022</td>\n",
       "      <td>-0.494588</td>\n",
       "      <td>1.000000</td>\n",
       "      <td>0.910228</td>\n",
       "      <td>0.464741</td>\n",
       "      <td>-0.444413</td>\n",
       "      <td>0.488676</td>\n",
       "      <td>-0.381626</td>\n",
       "    </tr>\n",
       "    <tr>\n",
       "      <td>TAX</td>\n",
       "      <td>0.582764</td>\n",
       "      <td>-0.314563</td>\n",
       "      <td>0.720760</td>\n",
       "      <td>-0.035587</td>\n",
       "      <td>0.668023</td>\n",
       "      <td>-0.292048</td>\n",
       "      <td>0.506456</td>\n",
       "      <td>-0.534432</td>\n",
       "      <td>0.910228</td>\n",
       "      <td>1.000000</td>\n",
       "      <td>0.460853</td>\n",
       "      <td>-0.441808</td>\n",
       "      <td>0.543993</td>\n",
       "      <td>-0.468536</td>\n",
       "    </tr>\n",
       "    <tr>\n",
       "      <td>PTRATIO</td>\n",
       "      <td>0.289946</td>\n",
       "      <td>-0.391679</td>\n",
       "      <td>0.383248</td>\n",
       "      <td>-0.121515</td>\n",
       "      <td>0.188933</td>\n",
       "      <td>-0.355501</td>\n",
       "      <td>0.261515</td>\n",
       "      <td>-0.232471</td>\n",
       "      <td>0.464741</td>\n",
       "      <td>0.460853</td>\n",
       "      <td>1.000000</td>\n",
       "      <td>-0.177383</td>\n",
       "      <td>0.374044</td>\n",
       "      <td>-0.507787</td>\n",
       "    </tr>\n",
       "    <tr>\n",
       "      <td>B</td>\n",
       "      <td>-0.385064</td>\n",
       "      <td>0.175520</td>\n",
       "      <td>-0.356977</td>\n",
       "      <td>0.048788</td>\n",
       "      <td>-0.380051</td>\n",
       "      <td>0.128069</td>\n",
       "      <td>-0.273534</td>\n",
       "      <td>0.291512</td>\n",
       "      <td>-0.444413</td>\n",
       "      <td>-0.441808</td>\n",
       "      <td>-0.177383</td>\n",
       "      <td>1.000000</td>\n",
       "      <td>-0.366087</td>\n",
       "      <td>0.333461</td>\n",
       "    </tr>\n",
       "    <tr>\n",
       "      <td>LSTAT</td>\n",
       "      <td>0.455621</td>\n",
       "      <td>-0.412995</td>\n",
       "      <td>0.603800</td>\n",
       "      <td>-0.053929</td>\n",
       "      <td>0.590879</td>\n",
       "      <td>-0.613808</td>\n",
       "      <td>0.602339</td>\n",
       "      <td>-0.496996</td>\n",
       "      <td>0.488676</td>\n",
       "      <td>0.543993</td>\n",
       "      <td>0.374044</td>\n",
       "      <td>-0.366087</td>\n",
       "      <td>1.000000</td>\n",
       "      <td>-0.737663</td>\n",
       "    </tr>\n",
       "    <tr>\n",
       "      <td>PRICE</td>\n",
       "      <td>-0.388305</td>\n",
       "      <td>0.360445</td>\n",
       "      <td>-0.483725</td>\n",
       "      <td>0.175260</td>\n",
       "      <td>-0.427321</td>\n",
       "      <td>0.695360</td>\n",
       "      <td>-0.376955</td>\n",
       "      <td>0.249929</td>\n",
       "      <td>-0.381626</td>\n",
       "      <td>-0.468536</td>\n",
       "      <td>-0.507787</td>\n",
       "      <td>0.333461</td>\n",
       "      <td>-0.737663</td>\n",
       "      <td>1.000000</td>\n",
       "    </tr>\n",
       "  </tbody>\n",
       "</table>\n",
       "</div>"
      ],
      "text/plain": [
       "             CRIM        ZN     INDUS      CHAS       NOX        RM       AGE  \\\n",
       "CRIM     1.000000 -0.200469  0.406583 -0.055892  0.420972 -0.219247  0.352734   \n",
       "ZN      -0.200469  1.000000 -0.533828 -0.042697 -0.516604  0.311991 -0.569537   \n",
       "INDUS    0.406583 -0.533828  1.000000  0.062938  0.763651 -0.391676  0.644779   \n",
       "CHAS    -0.055892 -0.042697  0.062938  1.000000  0.091203  0.091251  0.086518   \n",
       "NOX      0.420972 -0.516604  0.763651  0.091203  1.000000 -0.302188  0.731470   \n",
       "RM      -0.219247  0.311991 -0.391676  0.091251 -0.302188  1.000000 -0.240265   \n",
       "AGE      0.352734 -0.569537  0.644779  0.086518  0.731470 -0.240265  1.000000   \n",
       "DIS     -0.379670  0.664408 -0.708027 -0.099176 -0.769230  0.205246 -0.747881   \n",
       "RAD      0.625505 -0.311948  0.595129 -0.007368  0.611441 -0.209847  0.456022   \n",
       "TAX      0.582764 -0.314563  0.720760 -0.035587  0.668023 -0.292048  0.506456   \n",
       "PTRATIO  0.289946 -0.391679  0.383248 -0.121515  0.188933 -0.355501  0.261515   \n",
       "B       -0.385064  0.175520 -0.356977  0.048788 -0.380051  0.128069 -0.273534   \n",
       "LSTAT    0.455621 -0.412995  0.603800 -0.053929  0.590879 -0.613808  0.602339   \n",
       "PRICE   -0.388305  0.360445 -0.483725  0.175260 -0.427321  0.695360 -0.376955   \n",
       "\n",
       "              DIS       RAD       TAX   PTRATIO         B     LSTAT     PRICE  \n",
       "CRIM    -0.379670  0.625505  0.582764  0.289946 -0.385064  0.455621 -0.388305  \n",
       "ZN       0.664408 -0.311948 -0.314563 -0.391679  0.175520 -0.412995  0.360445  \n",
       "INDUS   -0.708027  0.595129  0.720760  0.383248 -0.356977  0.603800 -0.483725  \n",
       "CHAS    -0.099176 -0.007368 -0.035587 -0.121515  0.048788 -0.053929  0.175260  \n",
       "NOX     -0.769230  0.611441  0.668023  0.188933 -0.380051  0.590879 -0.427321  \n",
       "RM       0.205246 -0.209847 -0.292048 -0.355501  0.128069 -0.613808  0.695360  \n",
       "AGE     -0.747881  0.456022  0.506456  0.261515 -0.273534  0.602339 -0.376955  \n",
       "DIS      1.000000 -0.494588 -0.534432 -0.232471  0.291512 -0.496996  0.249929  \n",
       "RAD     -0.494588  1.000000  0.910228  0.464741 -0.444413  0.488676 -0.381626  \n",
       "TAX     -0.534432  0.910228  1.000000  0.460853 -0.441808  0.543993 -0.468536  \n",
       "PTRATIO -0.232471  0.464741  0.460853  1.000000 -0.177383  0.374044 -0.507787  \n",
       "B        0.291512 -0.444413 -0.441808 -0.177383  1.000000 -0.366087  0.333461  \n",
       "LSTAT   -0.496996  0.488676  0.543993  0.374044 -0.366087  1.000000 -0.737663  \n",
       "PRICE    0.249929 -0.381626 -0.468536 -0.507787  0.333461 -0.737663  1.000000  "
      ]
     },
     "execution_count": 375,
     "metadata": {},
     "output_type": "execute_result"
    }
   ],
   "source": [
    "bos.corr()"
   ]
  },
  {
   "cell_type": "code",
   "execution_count": null,
   "metadata": {},
   "outputs": [],
   "source": []
  },
  {
   "cell_type": "markdown",
   "metadata": {
    "colab_type": "text",
    "id": "WZl0jZIZma8o"
   },
   "source": [
    "# Missing Not at Random"
   ]
  },
  {
   "cell_type": "code",
   "execution_count": 380,
   "metadata": {
    "colab": {},
    "colab_type": "code",
    "id": "m2lQiOhjma8o"
   },
   "outputs": [
    {
     "name": "stdout",
     "output_type": "stream",
     "text": [
      "0.7315847494239631\n",
      "[-1.23952815e-01  5.47361057e-02  3.16732970e-02  2.92303253e+00\n",
      " -1.69286634e+01  4.02706259e+00 -5.35776825e-03 -1.56157712e+00\n",
      "  2.93111145e-01 -1.02638381e-02 -8.93890453e-01  7.03543537e-03\n",
      " -5.84753049e-01]\n",
      "34.90777250632957\n",
      "{'copy_X': True, 'fit_intercept': True, 'n_jobs': None, 'normalize': False}\n",
      "MAE: 3.761\n",
      "MSE:  25.987\n",
      "RMSE:  5.098\n",
      "R2:  0.701\n"
     ]
    }
   ],
   "source": [
    "dfImputeQ4 = bos_df\n",
    "rmMedian = dfImputeQ4['RM'].median()\n",
    "\n",
    "dfImputeQ4['RM'][0:125] = np.nan\n",
    "dfImputeQ4['RM'].fillna(rmMedian, inplace=True)  \n",
    "\n",
    "imputed_data1 = dfImputeQ4      \n",
    "train_set = imputed_data1.iloc[train_index]\n",
    "test_set = imputed_data1.iloc[test_index]        \n",
    "X_train = train_set.iloc[:, :-1].values\n",
    "Y_train = train_set.iloc[:, -1].values\n",
    "X_test = test_set.iloc[:, :-1].values\n",
    "Y_test = test_set.iloc[:, -1].values\n",
    "reg2 = LinearRegression().fit(X_train, Y_train)\n",
    "\n",
    "print(reg2.score(X_train, Y_train))\n",
    "print(reg2.coef_)\n",
    "print(reg2.intercept_)\n",
    "print(reg2.get_params())\n",
    "\n",
    "Y_pred = reg2.predict(X_test)\n",
    "mae = mean_absolute_error(Y_test,Y_pred)\n",
    "mse = mean_squared_error(Y_test,Y_pred)\n",
    "rmse_val = sqrt(mean_squared_error(Y_test,Y_pred))\n",
    "r2 = r2_score(Y_test,Y_pred)\n",
    "print(\"MAE: %.3f\"%mae)\n",
    "print(\"MSE:  %.3f\"%mse)\n",
    "print(\"RMSE:  %.3f\"%rmse_val)\n",
    "print(\"R2:  %.3f\"%r2)\n",
    "    \n",
    "Q4_data_frame = pd.DataFrame({'data': '-25% imputed',   #here is the new df containing the loss & goodness of fit metrics\n",
    "                   'imputation':'MNAR',\n",
    "                   'mae': mae, \n",
    "                   'mse': mse, \n",
    "                   'rmse':rmse_val,\n",
    "                   'R2':r2,\n",
    "                   'mae_diff':mae-orig_mae,\n",
    "                   'mse_diff':mse-orig_mse,\n",
    "                   'rmse_diff':rmse_val-orig_rmse_val,\n",
    "                   'R2_diff':r2-orig_r2\n",
    "                   }, index=[0])"
   ]
  },
  {
   "cell_type": "code",
   "execution_count": 381,
   "metadata": {
    "colab": {},
    "colab_type": "code",
    "id": "ke2CvaZama8p"
   },
   "outputs": [
    {
     "data": {
      "text/html": [
       "<div>\n",
       "<style scoped>\n",
       "    .dataframe tbody tr th:only-of-type {\n",
       "        vertical-align: middle;\n",
       "    }\n",
       "\n",
       "    .dataframe tbody tr th {\n",
       "        vertical-align: top;\n",
       "    }\n",
       "\n",
       "    .dataframe thead th {\n",
       "        text-align: right;\n",
       "    }\n",
       "</style>\n",
       "<table border=\"1\" class=\"dataframe\">\n",
       "  <thead>\n",
       "    <tr style=\"text-align: right;\">\n",
       "      <th></th>\n",
       "      <th>data</th>\n",
       "      <th>imputation</th>\n",
       "      <th>mae</th>\n",
       "      <th>mse</th>\n",
       "      <th>rmse</th>\n",
       "      <th>R2</th>\n",
       "      <th>mae_diff</th>\n",
       "      <th>mse_diff</th>\n",
       "      <th>rmse_diff</th>\n",
       "      <th>R2_diff</th>\n",
       "    </tr>\n",
       "  </thead>\n",
       "  <tbody>\n",
       "    <tr>\n",
       "      <td>0</td>\n",
       "      <td>original</td>\n",
       "      <td>none</td>\n",
       "      <td>3.660153</td>\n",
       "      <td>28.192486</td>\n",
       "      <td>5.309660</td>\n",
       "      <td>0.659247</td>\n",
       "      <td>NaN</td>\n",
       "      <td>NaN</td>\n",
       "      <td>NaN</td>\n",
       "      <td>NaN</td>\n",
       "    </tr>\n",
       "    <tr>\n",
       "      <td>1</td>\n",
       "      <td>1% deletion</td>\n",
       "      <td>MCAR</td>\n",
       "      <td>3.380100</td>\n",
       "      <td>20.406120</td>\n",
       "      <td>4.517313</td>\n",
       "      <td>0.755851</td>\n",
       "      <td>-0.280052</td>\n",
       "      <td>-7.786365</td>\n",
       "      <td>-0.792346</td>\n",
       "      <td>0.096604</td>\n",
       "    </tr>\n",
       "    <tr>\n",
       "      <td>2</td>\n",
       "      <td>5% deletion</td>\n",
       "      <td>MCAR</td>\n",
       "      <td>3.190474</td>\n",
       "      <td>27.808308</td>\n",
       "      <td>5.273358</td>\n",
       "      <td>0.685634</td>\n",
       "      <td>-0.469679</td>\n",
       "      <td>-0.384178</td>\n",
       "      <td>-0.036301</td>\n",
       "      <td>0.026387</td>\n",
       "    </tr>\n",
       "    <tr>\n",
       "      <td>3</td>\n",
       "      <td>10% deletion</td>\n",
       "      <td>MCAR</td>\n",
       "      <td>3.227581</td>\n",
       "      <td>27.418913</td>\n",
       "      <td>5.236307</td>\n",
       "      <td>0.726436</td>\n",
       "      <td>-0.432572</td>\n",
       "      <td>-0.773573</td>\n",
       "      <td>-0.073352</td>\n",
       "      <td>0.067189</td>\n",
       "    </tr>\n",
       "    <tr>\n",
       "      <td>4</td>\n",
       "      <td>20% deletion</td>\n",
       "      <td>MCAR</td>\n",
       "      <td>3.112742</td>\n",
       "      <td>19.153151</td>\n",
       "      <td>4.376431</td>\n",
       "      <td>0.794744</td>\n",
       "      <td>-0.547410</td>\n",
       "      <td>-9.039335</td>\n",
       "      <td>-0.933228</td>\n",
       "      <td>0.135498</td>\n",
       "    </tr>\n",
       "    <tr>\n",
       "      <td>5</td>\n",
       "      <td>33% deletion</td>\n",
       "      <td>MAR</td>\n",
       "      <td>2.940917</td>\n",
       "      <td>15.563245</td>\n",
       "      <td>3.945028</td>\n",
       "      <td>0.813610</td>\n",
       "      <td>-0.719236</td>\n",
       "      <td>-12.629240</td>\n",
       "      <td>-1.364632</td>\n",
       "      <td>0.154363</td>\n",
       "    </tr>\n",
       "    <tr>\n",
       "      <td>6</td>\n",
       "      <td>50% deletion</td>\n",
       "      <td>MAR</td>\n",
       "      <td>3.607327</td>\n",
       "      <td>24.514905</td>\n",
       "      <td>4.951253</td>\n",
       "      <td>0.583272</td>\n",
       "      <td>-0.052825</td>\n",
       "      <td>-3.677581</td>\n",
       "      <td>-0.358407</td>\n",
       "      <td>-0.075975</td>\n",
       "    </tr>\n",
       "    <tr>\n",
       "      <td>7</td>\n",
       "      <td>1% imputed</td>\n",
       "      <td>MCAR</td>\n",
       "      <td>3.728962</td>\n",
       "      <td>30.146872</td>\n",
       "      <td>5.490617</td>\n",
       "      <td>0.706390</td>\n",
       "      <td>0.068810</td>\n",
       "      <td>1.954386</td>\n",
       "      <td>0.180957</td>\n",
       "      <td>0.047144</td>\n",
       "    </tr>\n",
       "    <tr>\n",
       "      <td>8</td>\n",
       "      <td>5% imputed</td>\n",
       "      <td>MCAR</td>\n",
       "      <td>3.353372</td>\n",
       "      <td>27.801646</td>\n",
       "      <td>5.272727</td>\n",
       "      <td>0.636389</td>\n",
       "      <td>-0.306781</td>\n",
       "      <td>-0.390840</td>\n",
       "      <td>-0.036933</td>\n",
       "      <td>-0.022858</td>\n",
       "    </tr>\n",
       "    <tr>\n",
       "      <td>9</td>\n",
       "      <td>10% imputed</td>\n",
       "      <td>MCAR</td>\n",
       "      <td>3.874012</td>\n",
       "      <td>31.167590</td>\n",
       "      <td>5.582794</td>\n",
       "      <td>0.696815</td>\n",
       "      <td>0.213859</td>\n",
       "      <td>2.975104</td>\n",
       "      <td>0.273134</td>\n",
       "      <td>0.037568</td>\n",
       "    </tr>\n",
       "    <tr>\n",
       "      <td>10</td>\n",
       "      <td>20% imputed</td>\n",
       "      <td>MCAR</td>\n",
       "      <td>3.337885</td>\n",
       "      <td>18.125006</td>\n",
       "      <td>4.257347</td>\n",
       "      <td>0.681980</td>\n",
       "      <td>-0.322267</td>\n",
       "      <td>-10.067480</td>\n",
       "      <td>-1.052312</td>\n",
       "      <td>0.022733</td>\n",
       "    </tr>\n",
       "    <tr>\n",
       "      <td>11</td>\n",
       "      <td>33% imputed</td>\n",
       "      <td>MCAR</td>\n",
       "      <td>3.743807</td>\n",
       "      <td>22.958105</td>\n",
       "      <td>4.791462</td>\n",
       "      <td>0.734632</td>\n",
       "      <td>0.083654</td>\n",
       "      <td>-5.234381</td>\n",
       "      <td>-0.518198</td>\n",
       "      <td>0.075385</td>\n",
       "    </tr>\n",
       "    <tr>\n",
       "      <td>12</td>\n",
       "      <td>50% imputed</td>\n",
       "      <td>MCAR</td>\n",
       "      <td>3.923074</td>\n",
       "      <td>30.818409</td>\n",
       "      <td>5.551433</td>\n",
       "      <td>0.605623</td>\n",
       "      <td>0.262921</td>\n",
       "      <td>2.625924</td>\n",
       "      <td>0.241773</td>\n",
       "      <td>-0.053624</td>\n",
       "    </tr>\n",
       "    <tr>\n",
       "      <td>0</td>\n",
       "      <td>10.0% imputed</td>\n",
       "      <td>MAR</td>\n",
       "      <td>3.913479</td>\n",
       "      <td>28.450974</td>\n",
       "      <td>5.333945</td>\n",
       "      <td>0.672372</td>\n",
       "      <td>0.253326</td>\n",
       "      <td>0.258488</td>\n",
       "      <td>0.024286</td>\n",
       "      <td>0.013126</td>\n",
       "    </tr>\n",
       "    <tr>\n",
       "      <td>0</td>\n",
       "      <td>20.0% imputed</td>\n",
       "      <td>MAR</td>\n",
       "      <td>3.745425</td>\n",
       "      <td>25.537781</td>\n",
       "      <td>5.053492</td>\n",
       "      <td>0.705919</td>\n",
       "      <td>0.085272</td>\n",
       "      <td>-2.654705</td>\n",
       "      <td>-0.256168</td>\n",
       "      <td>0.046673</td>\n",
       "    </tr>\n",
       "    <tr>\n",
       "      <td>0</td>\n",
       "      <td>30.0% imputed</td>\n",
       "      <td>MAR</td>\n",
       "      <td>3.798269</td>\n",
       "      <td>24.838299</td>\n",
       "      <td>4.983804</td>\n",
       "      <td>0.713974</td>\n",
       "      <td>0.138116</td>\n",
       "      <td>-3.354187</td>\n",
       "      <td>-0.325856</td>\n",
       "      <td>0.054727</td>\n",
       "    </tr>\n",
       "    <tr>\n",
       "      <td>0</td>\n",
       "      <td>-25% imputed</td>\n",
       "      <td>MNAR</td>\n",
       "      <td>3.761299</td>\n",
       "      <td>25.986616</td>\n",
       "      <td>5.097707</td>\n",
       "      <td>0.700751</td>\n",
       "      <td>0.101146</td>\n",
       "      <td>-2.205870</td>\n",
       "      <td>-0.211953</td>\n",
       "      <td>0.041504</td>\n",
       "    </tr>\n",
       "  </tbody>\n",
       "</table>\n",
       "</div>"
      ],
      "text/plain": [
       "             data imputation       mae        mse      rmse        R2  \\\n",
       "0        original       none  3.660153  28.192486  5.309660  0.659247   \n",
       "1     1% deletion       MCAR  3.380100  20.406120  4.517313  0.755851   \n",
       "2     5% deletion       MCAR  3.190474  27.808308  5.273358  0.685634   \n",
       "3    10% deletion       MCAR  3.227581  27.418913  5.236307  0.726436   \n",
       "4    20% deletion       MCAR  3.112742  19.153151  4.376431  0.794744   \n",
       "5    33% deletion        MAR  2.940917  15.563245  3.945028  0.813610   \n",
       "6    50% deletion        MAR  3.607327  24.514905  4.951253  0.583272   \n",
       "7      1% imputed       MCAR  3.728962  30.146872  5.490617  0.706390   \n",
       "8      5% imputed       MCAR  3.353372  27.801646  5.272727  0.636389   \n",
       "9     10% imputed       MCAR  3.874012  31.167590  5.582794  0.696815   \n",
       "10    20% imputed       MCAR  3.337885  18.125006  4.257347  0.681980   \n",
       "11    33% imputed       MCAR  3.743807  22.958105  4.791462  0.734632   \n",
       "12    50% imputed       MCAR  3.923074  30.818409  5.551433  0.605623   \n",
       "0   10.0% imputed        MAR  3.913479  28.450974  5.333945  0.672372   \n",
       "0   20.0% imputed        MAR  3.745425  25.537781  5.053492  0.705919   \n",
       "0   30.0% imputed        MAR  3.798269  24.838299  4.983804  0.713974   \n",
       "0    -25% imputed       MNAR  3.761299  25.986616  5.097707  0.700751   \n",
       "\n",
       "    mae_diff   mse_diff  rmse_diff   R2_diff  \n",
       "0        NaN        NaN        NaN       NaN  \n",
       "1  -0.280052  -7.786365  -0.792346  0.096604  \n",
       "2  -0.469679  -0.384178  -0.036301  0.026387  \n",
       "3  -0.432572  -0.773573  -0.073352  0.067189  \n",
       "4  -0.547410  -9.039335  -0.933228  0.135498  \n",
       "5  -0.719236 -12.629240  -1.364632  0.154363  \n",
       "6  -0.052825  -3.677581  -0.358407 -0.075975  \n",
       "7   0.068810   1.954386   0.180957  0.047144  \n",
       "8  -0.306781  -0.390840  -0.036933 -0.022858  \n",
       "9   0.213859   2.975104   0.273134  0.037568  \n",
       "10 -0.322267 -10.067480  -1.052312  0.022733  \n",
       "11  0.083654  -5.234381  -0.518198  0.075385  \n",
       "12  0.262921   2.625924   0.241773 -0.053624  \n",
       "0   0.253326   0.258488   0.024286  0.013126  \n",
       "0   0.085272  -2.654705  -0.256168  0.046673  \n",
       "0   0.138116  -3.354187  -0.325856  0.054727  \n",
       "0   0.101146  -2.205870  -0.211953  0.041504  "
      ]
     },
     "execution_count": 381,
     "metadata": {},
     "output_type": "execute_result"
    }
   ],
   "source": [
    "res_frameq4 = pd.concat([res_frameq3,Q4_data_frame])\n",
    "res_frameq4"
   ]
  },
  {
   "cell_type": "code",
   "execution_count": null,
   "metadata": {
    "colab": {},
    "colab_type": "code",
    "id": "gBPFSZ0kma8q"
   },
   "outputs": [],
   "source": []
  },
  {
   "cell_type": "code",
   "execution_count": null,
   "metadata": {
    "colab": {},
    "colab_type": "code",
    "id": "necIaO-Oma8r"
   },
   "outputs": [],
   "source": []
  },
  {
   "cell_type": "code",
   "execution_count": null,
   "metadata": {
    "colab": {},
    "colab_type": "code",
    "id": "oqt9H2gKma8t"
   },
   "outputs": [],
   "source": []
  },
  {
   "cell_type": "code",
   "execution_count": null,
   "metadata": {
    "colab": {},
    "colab_type": "code",
    "id": "XXspaijXma8u"
   },
   "outputs": [],
   "source": []
  },
  {
   "cell_type": "code",
   "execution_count": null,
   "metadata": {
    "colab": {},
    "colab_type": "code",
    "id": "fuddKT5Mma8v",
    "outputId": "29e0b3be-f3ab-4148-f6c3-5751152e8d42"
   },
   "outputs": [
    {
     "data": {
      "text/plain": [
       "array([ 3.65330514e+01, -1.28180656e-01,  6.31981786e-02, -7.57627602e-03,\n",
       "        1.97451452e+00, -1.62719890e+01,  3.10845625e+00,  1.62922153e-02,\n",
       "       -1.48301360e+00,  3.03988206e-01, -1.20820710e-02, -8.20305699e-01,\n",
       "        1.14189890e-02, -5.81626431e-01])"
      ]
     },
     "execution_count": 46,
     "metadata": {
      "tags": []
     },
     "output_type": "execute_result"
    }
   ],
   "source": [
    "def normal_equation(x,y):\n",
    "    return np.matmul(np.matmul(np.linalg.inv(np.matmul(x.T, x)), x.T),y)\n",
    "\n",
    "theta1 = normal_equation(X_train1, Y_train1)\n",
    "theta1"
   ]
  },
  {
   "cell_type": "code",
   "execution_count": null,
   "metadata": {
    "colab": {},
    "colab_type": "code",
    "id": "4u63280Ima8x"
   },
   "outputs": [],
   "source": [
    "pred1 = np.dot(X_train1, theta1)"
   ]
  },
  {
   "cell_type": "code",
   "execution_count": null,
   "metadata": {
    "colab": {},
    "colab_type": "code",
    "id": "issDT8Wkma8y",
    "outputId": "bbc45e8f-82b1-48b2-d881-a0180a1220e2"
   },
   "outputs": [
    {
     "data": {
      "image/png": "[encoded data removed]",
      "text/plain": [
       "<Figure size 720x576 with 1 Axes>"
      ]
     },
     "metadata": {
      "tags": []
     },
     "output_type": "display_data"
    }
   ],
   "source": [
    "ax, fig = plt.subplots(figsize = (10,8))\n",
    "plt.plot(pred1, 'g.', marker = '*')\n",
    "plt.plot(Y_train1, 'y.')\n",
    "plt.legend(['Prediction', 'True'])\n",
    "plt.show()"
   ]
  },
  {
   "cell_type": "code",
   "execution_count": null,
   "metadata": {
    "colab": {},
    "colab_type": "code",
    "id": "BXUyJ7gDma80",
    "outputId": "fe098a21-c3df-457c-f0e1-e59009386b0d"
   },
   "outputs": [
    {
     "name": "stdout",
     "output_type": "stream",
     "text": [
      "27.987941185479475\n"
     ]
    }
   ],
   "source": [
    "from sklearn.metrics import mean_squared_error\n",
    "mse_train = sklearn.metrics.mean_squared_error(pred1, Y_train1)\n",
    "print(mse_train)"
   ]
  },
  {
   "cell_type": "code",
   "execution_count": null,
   "metadata": {
    "colab": {},
    "colab_type": "code",
    "id": "jshEIlC6ma81"
   },
   "outputs": [],
   "source": [
    "test_pred1 = np.dot(X_test1, theta1)"
   ]
  },
  {
   "cell_type": "code",
   "execution_count": null,
   "metadata": {
    "colab": {},
    "colab_type": "code",
    "id": "CbTJkEX3ma82",
    "outputId": "3191fbb1-b72c-4742-8966-b32413270ff7"
   },
   "outputs": [
    {
     "data": {
      "image/png": "[encoded data removed]",
      "text/plain": [
       "<Figure size 720x576 with 1 Axes>"
      ]
     },
     "metadata": {
      "tags": []
     },
     "output_type": "display_data"
    }
   ],
   "source": [
    "ax, fig = plt.subplots(figsize = (10,8))\n",
    "plt.plot(test_pred1, 'g.', marker = '*')\n",
    "plt.plot(Y_test1, 'y.')\n",
    "plt.legend(['Test Prediction', 'True'])\n",
    "plt.show()"
   ]
  },
  {
   "cell_type": "code",
   "execution_count": null,
   "metadata": {
    "colab": {},
    "colab_type": "code",
    "id": "t8Qe67jxma83",
    "outputId": "15182b66-ba9d-48a7-f3b2-7957c014b9f1"
   },
   "outputs": [
    {
     "name": "stdout",
     "output_type": "stream",
     "text": [
      "41.40202341152446\n"
     ]
    }
   ],
   "source": [
    "mse_test = sklearn.metrics.mean_squared_error(test_pred1, Y_test1)\n",
    "print(mse_test)"
   ]
  },
  {
   "cell_type": "code",
   "execution_count": null,
   "metadata": {
    "colab": {},
    "colab_type": "code",
    "id": "03JRJwfGma85"
   },
   "outputs": [],
   "source": [
    "lm = LinearRegression()\n",
    "lm.fit(X_train1, Y_train1)\n",
    "\n",
    "Y_pred1 = lm.predict(X_test1)"
   ]
  },
  {
   "cell_type": "code",
   "execution_count": null,
   "metadata": {
    "colab": {},
    "colab_type": "code",
    "id": "pSoGJlFEma86",
    "outputId": "0252d327-c0aa-451b-a78d-425414947913"
   },
   "outputs": [
    {
     "name": "stdout",
     "output_type": "stream",
     "text": [
      "41.402023411523814\n"
     ]
    }
   ],
   "source": [
    "mse = sklearn.metrics.mean_squared_error(Y_test1, Y_pred1)\n",
    "print(mse)"
   ]
  },
  {
   "cell_type": "code",
   "execution_count": null,
   "metadata": {
    "colab": {},
    "colab_type": "code",
    "id": "J2ua8sAWma87"
   },
   "outputs": [],
   "source": []
  },
  {
   "cell_type": "code",
   "execution_count": null,
   "metadata": {
    "colab": {},
    "colab_type": "code",
    "id": "OYjStHLEma88",
    "outputId": "de57fc6e-8062-4aef-a522-937ec69f8194"
   },
   "outputs": [
    {
     "name": "stdout",
     "output_type": "stream",
     "text": [
      "(102,)\n"
     ]
    }
   ],
   "source": [
    "#X_train, X_test, Y_train, Y_test = train_test_split(X_b, Y, test_size = 0.30, random_state = 10)\n",
    "\n",
    "#print(X_train.shape)\n",
    "#print(X_test.shape)\n",
    "#print(Y_train.shape)\n",
    "#print(Y_test.shape)\n",
    "\n",
    "#X_train, X_test, Y_train, Y_test = train_test_split(X_b, Y, test_size = 0.55, random_state = 25)\n",
    "\n",
    "#print(X_train.shape)\n",
    "#print(X_test.shape)\n",
    "#print(Y_train.shape)\n",
    "#print(Y_test.shape)\n",
    "\n",
    "#X_train, X_test, Y_train, Y_test = train_test_split(X_b, Y, test_size = 0.15, random_state = 50)\n",
    "\n",
    "#print(X_train.shape)\n",
    "#print(X_test.shape)\n",
    "#print(Y_train.shape)\n",
    "#print(Y_test.shape)\n",
    "\n",
    "#X_train, X_test, Y_train, Y_test = train_test_split(X_b, Y, test_size = 0.05, random_state = 50)\n",
    "\n",
    "#print(X_train.shape)\n",
    "#print(X_test.shape)\n",
    "#print(Y_train.shape)\n",
    "#print(Y_test.shape)\n",
    "\n",
    "#X_train, X_test, Y_train, Y_test = train_test_split(X_b, Y, test_size = 0.01, random_state = 50)\n",
    "\n",
    "#print(X_train.shape)\n",
    "#print(X_test.shape)\n",
    "#print(Y_train.shape)\n",
    "#print(Y_test.shape)"
   ]
  }
 ],
 "metadata": {
  "colab": {
   "name": "Case10_Imputation_v1.ipynb",
   "provenance": []
  },
  "kernelspec": {
   "display_name": "Python 3",
   "language": "python",
   "name": "python3"
  },
  "language_info": {
   "codemirror_mode": {
    "name": "ipython",
    "version": 3
   },
   "file_extension": ".py",
   "mimetype": "text/x-python",
   "name": "python",
   "nbconvert_exporter": "python",
   "pygments_lexer": "ipython3",
   "version": "3.7.4"
  }
 },
 "nbformat": 4,
 "nbformat_minor": 4
}
